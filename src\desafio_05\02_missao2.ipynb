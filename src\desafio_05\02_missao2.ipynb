{
  "nbformat": 4,
  "nbformat_minor": 0,
  "metadata": {
    "colab": {
      "name": "02_missao2.ipynb",
      "provenance": [],
      "collapsed_sections": [],
      "include_colab_link": true
    },
    "kernelspec": {
      "name": "python3",
      "display_name": "Python 3"
    }
  },
  "cells": [
    {
      "cell_type": "markdown",
      "metadata": {
        "id": "view-in-github",
        "colab_type": "text"
      },
      "source": [
        "<a href=\"https://colab.research.google.com/github/ralsouza/python_fundamentos/blob/master/src%5Cdesafio_05%5C02_missao2.ipynb\" target=\"_parent\"><img src=\"https://colab.research.google.com/assets/colab-badge.svg\" alt=\"Open In Colab\"/></a>"
      ]
    },
    {
      "cell_type": "markdown",
      "metadata": {
        "id": "0y0LGr62LcPE",
        "colab_type": "text"
      },
      "source": [
        "## Missão: Gerar uma lista de números primos.\n",
        "Um número primo é um número inteiro positivo que é dividido apenas por ele mesmo e 1.\n",
        "\n",
        "```\n",
        "Prime number: Only divisible by itself and 1\n",
        "              (2, 3, 5, 7, 11, 13, 17, 19...)\n",
        "```\n",
        "#### Regra:\n",
        "O número é primo se as divisões sucessivas por números primos resultarem resto diferente de zero até o dividor ser maior que ou igual ao quociente.\n",
        "\n",
        "## Nível de Dificuldade: Médio\n",
        "\n",
        "### Premissas:\n",
        "*   É correto que 1 não seja considerado um número primo? * Sim\n",
        "*   Podemos assumir que as entradas são válidas? * Não\n",
        "*   Podemos supor que isso se encaixa na memória? * Sim\n",
        "\n",
        "### Teste Cases:\n",
        "*   None -> Exception\n",
        "*   Not an int -> Exception\n",
        "*    20 -> [False, False, True, True, False, True, False, True, False, False, False, True, False, True, False, False, False, True, False, True]\n",
        "\n",
        "### Algoritimo:\n",
        "Para um número ser primo, ele deve ser 2 ou maior, não pode ser divisível por outro número diferente de si mesmo e 1.\n",
        "\n",
        "Todos os números não-primos são divisíveis por um número primo.\n",
        "*   Use uma matriz (array) para manter o controle de cada número inteiro até o máximo;\n",
        "*   Comece em 2, termine em sqrt (max)      Podemos usar o sqrt (max) em vez do max porque: Para cada valor que divide o número de entrada uniformemente, há um complemento b onde a b = n Se a> sqrt (n) então b < sqrt (n) porque sqrt (n ^ 2) = n * \"Cross off\" todos os números divisíveis por 2, 3, 5, 7, ... configurando array `[index]` para False\n",
        "\n",
        "### Animação do Wikipedia:\n",
        "![](https://camo.githubusercontent.com/4bd3c6f72a9268ae6251884051788571a2b5d55b/68747470733a2f2f75706c6f61642e77696b696d656469612e6f72672f77696b6970656469612f636f6d6d6f6e732f622f62392f53696576655f6f665f457261746f737468656e65735f616e696d6174696f6e2e676966)\n",
        "\n",
        "\n",
        "\n",
        "\n",
        "\n",
        "\n",
        "\n",
        "\n",
        "\n",
        "\n",
        "\n",
        "\n",
        "\n"
      ]
    },
    {
      "cell_type": "markdown",
      "metadata": {
        "id": "EZ7KclFpNMRl",
        "colab_type": "text"
      },
      "source": [
        "# Solução"
      ]
    },
    {
      "cell_type": "code",
      "metadata": {
        "id": "K62MC70vJaAA",
        "colab_type": "code",
        "colab": {}
      },
      "source": [
        "# V1) Test all divisors from 2 through n-1. (skip 1 and n)\n",
        "def is_prime_v1(n):\n",
        "  \"\"\" Return 'True' if 'n' is a prime number. False otherwise. \"\"\"\n",
        "  if n == 1:\n",
        "    return False # 1 is not prime\n",
        "\n",
        "  for d in range(2, n): \n",
        "    # We skip 1 and n sice every number is divisible by itself and 1, if we get\n",
        "    # a remaninder of zero, then n has a divisor other than itself and 1.\n",
        "    # Obs: The number 2 will return True, because range(2,2) which is empty, \n",
        "    # in this way will return True directly.\n",
        "    if n % d == 0:\n",
        "      return False # Is not prime\n",
        "      \n",
        "  return True\n",
        "\n",
        "# ===== Test Function =====\n",
        "for n in range(1, 21):\n",
        "  print(n, is_prime_v1(n))"
      ],
      "execution_count": 0,
      "outputs": []
    },
    {
      "cell_type": "code",
      "metadata": {
        "id": "-unBfg5WL3sT",
        "colab_type": "code",
        "colab": {}
      },
      "source": [
        "# Version 3 that eliminate half of calculations\n",
        "\n",
        "import math\n",
        "\n",
        "def is_prime_v2(n):\n",
        "  \"\"\" Return 'True' if 'n' is a prime number. False otherwise. \"\"\"\n",
        "\n",
        "  # Check if n is None or float\n",
        "  if n is None:\n",
        "    raise TypeError('None value is not allowed.')\n",
        "  elif n is int:\n",
        "    raise TypeError('Only integer values are allowed.')\n",
        "\n",
        "  # If it's even and not 2, then it's not prime\n",
        "  if n == 2:\n",
        "    return True\n",
        "  if n > 2 and n % 2 == 0:\n",
        "    return False\n",
        "\n",
        "  max_divisor = math.floor(math.sqrt(n))\n",
        "\n",
        "  for d in range(3, 1 + max_divisor, 2):\n",
        "    if n % d == 0:\n",
        "      return False\n",
        "\n",
        "  return True\n",
        "\n",
        "\n",
        "# ===== Test Function =====\n",
        "# for n in range(0,20):\n",
        "#   print(n, is_prime_v2(n))\n",
        "is_prime_v2(20)"
      ],
      "execution_count": 0,
      "outputs": []
    },
    {
      "cell_type": "code",
      "metadata": {
        "id": "enWNqXWIKfUr",
        "colab_type": "code",
        "colab": {}
      },
      "source": [
        "import math\n",
        "\n",
        "class PrimeGenerator(object):\n",
        "    # Esta não é a solução ideal e mais otimizada\n",
        "    # Ver opções em: https://www.geeksforgeeks.org/analysis-different-methods-find-prime-number-python/\n",
        "    def generate_primes(self, n): \n",
        "      arr = [True] * n\n",
        "      arr[0] = False\n",
        "      arr[1] = False\n",
        "\n",
        "      for i in range(2,n):\n",
        "\n",
        "          for d in range(2, i):\n",
        "              if i % d == 0:\n",
        "                  arr[i] = False\n",
        "      return arr\n",
        "\n",
        "    def _cross_off(self, array, prime):\n",
        "      pass\n",
        "       # Implemente aqui sua solução\n",
        "\n",
        "    def _next_prime(self, array, prime):\n",
        "      pass\n",
        "        # Implemente aqui sua solução"
      ],
      "execution_count": 0,
      "outputs": []
    },
    {
      "cell_type": "markdown",
      "metadata": {
        "id": "HMznAVhMNUrA",
        "colab_type": "text"
      },
      "source": [
        "# Teste da Solução"
      ]
    },
    {
      "cell_type": "code",
      "metadata": {
        "id": "vY_V8RxPN0jD",
        "colab_type": "code",
        "colab": {}
      },
      "source": [
        "!pip install nose"
      ],
      "execution_count": 0,
      "outputs": []
    },
    {
      "cell_type": "code",
      "metadata": {
        "id": "zBDflB55NTQM",
        "colab_type": "code",
        "outputId": "81f08289-91ef-4be8-9fd4-f49ca88134c2",
        "colab": {
          "base_uri": "https://localhost:8080/",
          "height": 74
        }
      },
      "source": [
        "%%writefile missao2.py\n",
        "from nose.tools import assert_equal, assert_raises\n",
        "\n",
        "\n",
        "class TestMath(object):\n",
        "\n",
        "    def test_generate_primes(self):\n",
        "        prime_generator = PrimeGenerator()\n",
        "        assert_raises(TypeError, prime_generator.generate_primes, None)\n",
        "        assert_raises(TypeError, prime_generator.generate_primes, 98.6)\n",
        "        assert_equal(prime_generator.generate_primes(20), [False, False, True, True, False, True, False, True, False, False, False, True, False, True, False, False, False, True, False, True])\n",
        "        \n",
        "        print('Sua solução foi executada com sucesso! Parabéns!')\n",
        "\n",
        "def main():\n",
        "    test = TestMath()\n",
        "    test.test_generate_primes()\n",
        "\n",
        "\n",
        "if __name__ == '__main__':\n",
        "    main()"
      ],
      "execution_count": 6,
      "outputs": [
        {
          "output_type": "stream",
          "text": [
            "Overwriting missao2.py\n"
          ],
          "name": "stdout"
        }
      ]
    },
    {
      "cell_type": "code",
      "metadata": {
        "id": "GfwdFTMHZSTF",
        "colab_type": "code",
        "outputId": "88f0ea81-993f-4ced-f4c2-19b06906a709",
        "colab": {
          "base_uri": "https://localhost:8080/",
          "height": 74
        }
      },
      "source": [
        "%run -i missao2.py"
      ],
      "execution_count": 7,
      "outputs": [
        {
          "output_type": "stream",
          "text": [
            "Sua solução foi executada com sucesso! Parabéns!\n"
          ],
          "name": "stdout"
        }
      ]
    }
  ]
}