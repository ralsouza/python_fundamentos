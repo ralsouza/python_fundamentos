{
  "nbformat": 4,
  "nbformat_minor": 0,
  "metadata": {
    "colab": {
      "name": "04_metodos_especiais.ipynb",
      "provenance": [],
      "collapsed_sections": [],
      "include_colab_link": true
    },
    "kernelspec": {
      "name": "python3",
      "display_name": "Python 3"
    }
  },
  "cells": [
    {
      "cell_type": "markdown",
      "metadata": {
        "id": "view-in-github",
        "colab_type": "text"
      },
      "source": [
        "<a href=\"https://colab.research.google.com/github/ralsouza/python_fundamentos/blob/master/src/04_orientacao_objetos/04_metodos_especiais.ipynb\" target=\"_parent\"><img src=\"https://colab.research.google.com/assets/colab-badge.svg\" alt=\"Open In Colab\"/></a>"
      ]
    },
    {
      "cell_type": "markdown",
      "metadata": {
        "id": "q2bvxkqmED99",
        "colab_type": "text"
      },
      "source": [
        "# Métodos Especiais\n",
        "Classes em Python podem implementar determinadas operações com métodos especiais. Ao usar os métodos especiais, a classe poderá ter um comportamento semelhante a um dicionário, uma função ou mesmo um número.\n",
        "\n",
        "O método especial `__init__` é usado para inicializar uma classe.\n",
        "\n",
        "Por exemplo, ao usar a função `del` para remover um atributo de um objeto, o método especial `__delattr__` é invocado.\n",
        "\n",
        "Quando digitamos `del obj.myAttrib`, o Python executa `obj.__delattr__(\"my attrib\")`. Ou seja, não é preciso fazer uma chamada diretamente ao método, pois o Python oferece vários métodos especiais.\n",
        "\n",
        "Recomenda-se fortemente checar se na documentação oficial existe algum método especial antes de criar novos métodos."
      ]
    },
    {
      "cell_type": "code",
      "metadata": {
        "id": "pZjYbttgEDVd",
        "colab_type": "code",
        "colab": {}
      },
      "source": [
        "# Criar uma classe Livro\n",
        "\n",
        "class Livro():\n",
        "  \n",
        "  # Método Construtor\n",
        "  def __init__(self, titulo, autor, paginas):\n",
        "    print('Livro criado')\n",
        "    self.titulo = titulo\n",
        "    self.autor = autor\n",
        "    self.paginas = paginas\n",
        "\n",
        "  def __str__(self):\n",
        "    return 'Título: {}, autor: {}, páginas {}'.format(self.titulo, self.autor, self.paginas)\n",
        "\n",
        "  def __len__(self):\n",
        "    return self.paginas\n",
        "\n",
        "  def len(self):\n",
        "    return print('Páginas do livro com método comum: {}'.format(self.paginas))"
      ],
      "execution_count": 0,
      "outputs": []
    },
    {
      "cell_type": "code",
      "metadata": {
        "id": "1mQykMquIGrU",
        "colab_type": "code",
        "colab": {
          "base_uri": "https://localhost:8080/",
          "height": 54
        },
        "outputId": "1fe4414a-07e1-47b6-aa08-ed028ecad380"
      },
      "source": [
        "# Instanciar objeto\n",
        "\n",
        "livro1 = Livro('Guerra dos Mundos', 'Herbert George Wells', 303)"
      ],
      "execution_count": 4,
      "outputs": [
        {
          "output_type": "stream",
          "text": [
            "Livro criado\n"
          ],
          "name": "stdout"
        }
      ]
    },
    {
      "cell_type": "code",
      "metadata": {
        "id": "MAbaCzRZI5vE",
        "colab_type": "code",
        "colab": {
          "base_uri": "https://localhost:8080/",
          "height": 54
        },
        "outputId": "e2713c7d-df61-4f57-d9dd-3d22356d9f60"
      },
      "source": [
        "# Métodos Especiais - Imprimir o livro1\n",
        "\n",
        "print( livro1 )\n",
        "\n",
        "# Porque o Python retornou o retorno do método __str__? Porque internamente o Python invoca o método especial __str__\n",
        "# quando o comando a função print é submetida"
      ],
      "execution_count": 5,
      "outputs": [
        {
          "output_type": "stream",
          "text": [
            "Título: Guerra dos Mundos, autor: Herbert George Wells, páginas 303\n"
          ],
          "name": "stdout"
        }
      ]
    },
    {
      "cell_type": "code",
      "metadata": {
        "id": "Lee2I8JBJQ0r",
        "colab_type": "code",
        "colab": {
          "base_uri": "https://localhost:8080/",
          "height": 54
        },
        "outputId": "affe7c6b-97ee-433a-c985-1939ae2983b6"
      },
      "source": [
        "# Ou passar explicitamente o método\n",
        "str( livro1 )"
      ],
      "execution_count": 6,
      "outputs": [
        {
          "output_type": "execute_result",
          "data": {
            "text/plain": [
              "'Título: Guerra dos Mundos, autor: Herbert George Wells, páginas 303'"
            ]
          },
          "metadata": {
            "tags": []
          },
          "execution_count": 6
        }
      ]
    },
    {
      "cell_type": "code",
      "metadata": {
        "id": "uwOCt6kUJ_tj",
        "colab_type": "code",
        "colab": {
          "base_uri": "https://localhost:8080/",
          "height": 54
        },
        "outputId": "8ffec985-b27e-41e0-d5eb-c7720741a6c2"
      },
      "source": [
        "# Também é possível chamar explicitamente o método len() para invocar o método especial __len__ dentro do objeto\n",
        "\n",
        "len(livro1)"
      ],
      "execution_count": 7,
      "outputs": [
        {
          "output_type": "execute_result",
          "data": {
            "text/plain": [
              "303"
            ]
          },
          "metadata": {
            "tags": []
          },
          "execution_count": 7
        }
      ]
    },
    {
      "cell_type": "code",
      "metadata": {
        "id": "oTvVxDY-KXCx",
        "colab_type": "code",
        "colab": {
          "base_uri": "https://localhost:8080/",
          "height": 54
        },
        "outputId": "6f197c63-3d39-4bbf-e274-722af32fa820"
      },
      "source": [
        "# Chamar o método len() dentro da classe\n",
        "livro1.len()"
      ],
      "execution_count": 8,
      "outputs": [
        {
          "output_type": "stream",
          "text": [
            "Páginas do livro com método comum: 303\n"
          ],
          "name": "stdout"
        }
      ]
    },
    {
      "cell_type": "code",
      "metadata": {
        "id": "VRtUvccVKptJ",
        "colab_type": "code",
        "colab": {}
      },
      "source": [
        "# Ao invocar a função del() para remover um atributo, o Python executa:\n",
        "# livro1.__delattr__(\"paginas\")\n",
        "\n",
        "del livro1.paginas"
      ],
      "execution_count": 0,
      "outputs": []
    },
    {
      "cell_type": "code",
      "metadata": {
        "id": "iVi-2AGILLpY",
        "colab_type": "code",
        "colab": {
          "base_uri": "https://localhost:8080/",
          "height": 54
        },
        "outputId": "90c24f60-33a9-4298-c60d-9401cca2af97"
      },
      "source": [
        "# Checar se o atributo páginas ainda existe\n",
        "\n",
        "hasattr(livro1, 'paginas')\n",
        "\n",
        "# Foi removido"
      ],
      "execution_count": 10,
      "outputs": [
        {
          "output_type": "execute_result",
          "data": {
            "text/plain": [
              "False"
            ]
          },
          "metadata": {
            "tags": []
          },
          "execution_count": 10
        }
      ]
    }
  ]
}