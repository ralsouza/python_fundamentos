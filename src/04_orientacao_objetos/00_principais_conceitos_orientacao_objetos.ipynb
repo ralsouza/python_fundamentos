{
  "nbformat": 4,
  "nbformat_minor": 0,
  "metadata": {
    "colab": {
      "name": "00_principais_conceitos_orientacao_objetos.ipynb",
      "provenance": [],
      "collapsed_sections": [],
      "include_colab_link": true
    },
    "kernelspec": {
      "name": "python3",
      "display_name": "Python 3"
    }
  },
  "cells": [
    {
      "cell_type": "markdown",
      "metadata": {
        "id": "view-in-github",
        "colab_type": "text"
      },
      "source": [
        "<a href=\"https://colab.research.google.com/github/ralsouza/python_fundamentos/blob/master/src/04_orientacao_objetos/00_principais_conceitos_orientacao_objetos.ipynb\" target=\"_parent\"><img src=\"https://colab.research.google.com/assets/colab-badge.svg\" alt=\"Open In Colab\"/></a>"
      ]
    },
    {
      "cell_type": "markdown",
      "metadata": {
        "id": "XrOB0H_4uTOj",
        "colab_type": "text"
      },
      "source": [
        "# Principais Conceitos de Programação Orientação a objetos (POO)\n",
        "\n",
        "## Classes\n",
        "As classes são abstrações computacionais que reprensentam entidades do mundo real. A `classe` nada mais é do que um `template` e cada instância de uma `classe` é um `objeto`.\n",
        "\n",
        "## Objeto\n",
        "Um `objeto` é portanto uma instância de uma `classe`, por sua vez possui `atributos` que possuem características ou propriedades do `objeto`.\n",
        "\n",
        "## Atributos\n",
        "São propriedades ou características que ajudam a identificar os `objetos`.\n",
        "\n",
        "## Métodos\n",
        "São ações do `objeto`, os `métodos` nada mais são do que `funções` dentro de uma `classe`.\n",
        "\n",
        "## Mensagem\n",
        "É uma chamada a um `objeto` para invocar um de seus `métodos`.\n",
        "\n",
        "## Herança\n",
        "É o mecanismo pelo qual uma `classe` chamada `subclasse` pode `extende` outra `classe`, chamada de super classe, aproventando seus `atributo` e `métodos`. Ou seja, a `subclasse` herda `atributos` e `métodos` da `superclasse`, a `herança` possibilida que as `classes` compartilhem seus `atributos`, `métodos` e outros membros dentro da classe superior, chamada de `superclasse`, aproventando seus `atributos` e `métodos`. Ou seja, a `subclasse` herda `atributos` e `métodos` da `superclasse`, a `herança` possibilida que as `classes` compartilhem seus `atributos`, `métodos` e outros membros dentro da `classe` em si.\n",
        "\n",
        "## Polimorfismo\n",
        "É definido como um princípio do qual as `classes` derivadas de uma única `classe` base são capazes de invocar `métodos` que embora apresentem a mesma definição, comportam-se de maneira diferente para cada uma das `classes` derivadas. Com `polimorfimos`, os mesmos `atributos` e `métodos` podem ser usados em `objetos` distintos, porém com implementações lógicas diferentes.\n",
        "\n",
        "## Encapsulamento\n",
        "É uma técnica que faz com que detalhes internos do funcionamento dos `métodos` de uma `classe` permaneçam ocultos para uma `classe`. Inclusive é uma característica importante quando criamos aplicações orientadas a objetos, principalmente `APIs`.\n",
        "\n",
        "Por conta desta técnica, o conhecimento a respeito da implementação interna desta `classe` é desnecessária do ponto de vista do `objeto`, uma vez que isso passa a ser responsabilidade dos `métodos` internos daquela `classe`.\n",
        "\n",
        "\n",
        "\n"
      ]
    }
  ]
}