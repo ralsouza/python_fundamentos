{
  "nbformat": 4,
  "nbformat_minor": 0,
  "metadata": {
    "colab": {
      "name": "03_heranca.ipynb",
      "provenance": [],
      "collapsed_sections": [],
      "include_colab_link": true
    },
    "kernelspec": {
      "name": "python3",
      "display_name": "Python 3"
    }
  },
  "cells": [
    {
      "cell_type": "markdown",
      "metadata": {
        "id": "view-in-github",
        "colab_type": "text"
      },
      "source": [
        "<a href=\"https://colab.research.google.com/github/ralsouza/python_fundamentos/blob/master/src/04_orientacao_objetos/03_heranca.ipynb\" target=\"_parent\"><img src=\"https://colab.research.google.com/assets/colab-badge.svg\" alt=\"Open In Colab\"/></a>"
      ]
    },
    {
      "cell_type": "markdown",
      "metadata": {
        "id": "4ENI2EyLvisE",
        "colab_type": "text"
      },
      "source": [
        "# Herança\n",
        "É uma forma de gerar novas classes usando classes que foram definidas previamente. Estas novas classes formadas, são chamadas classes derivadas ou sub-classes e a classe que deu origem a sub-classe, é chamada de super-classe ou classe base.\n",
        "\n",
        "Um dos principais benefícios da herança é a reutilização de código e a redução da complexidade dos programas, as classes derivadas estendem as funcionalidades das classes base.\n",
        "\n"
      ]
    },
    {
      "cell_type": "code",
      "metadata": {
        "id": "bekclcxYvgUq",
        "colab_type": "code",
        "colab": {}
      },
      "source": [
        "# Criação da super-classe Animal\n",
        "\n",
        "class Animal():\n",
        "\n",
        "  def __init__(self):\n",
        "    print('Objeto Animal criado')\n",
        "\n",
        "  def identif(self):\n",
        "    print('Animal')\n",
        "\n",
        "  def comer(self):\n",
        "    print('Comendo')\n"
      ],
      "execution_count": 0,
      "outputs": []
    },
    {
      "cell_type": "code",
      "metadata": {
        "id": "7iDQB7a8yowd",
        "colab_type": "code",
        "colab": {}
      },
      "source": [
        "# Criação da sub-classe Cachorro\n",
        "\n",
        "class Cachorro(Animal):\n",
        "\n",
        "  def __init__(self):\n",
        "    ''' Herdar objeto Animal '''\n",
        "    Animal.__init__(self)\n",
        "    print('Objeto Cachorro criado')\n",
        "\n",
        "  def identif(self):\n",
        "    ''' \n",
        "      Aqui há um conflito de nome com a super-classe,\n",
        "      logo será usado o método da classe mais específica\n",
        "    '''\n",
        "    print('Cachorro')\n",
        "\n",
        "  def latir(self):\n",
        "    print('Au Au!')"
      ],
      "execution_count": 0,
      "outputs": []
    },
    {
      "cell_type": "code",
      "metadata": {
        "id": "Bhlh6A-wzfuw",
        "colab_type": "code",
        "colab": {
          "base_uri": "https://localhost:8080/",
          "height": 71
        },
        "outputId": "3e6383d6-3eb6-4dca-d68f-b8b4aa250217"
      },
      "source": [
        "# Instanciar o objeto Cachorro, a sub-classe\n",
        "\n",
        "rex = Cachorro()"
      ],
      "execution_count": 3,
      "outputs": [
        {
          "output_type": "stream",
          "text": [
            "Objeto Animal criado\n",
            "Objeto Cachorro criado\n"
          ],
          "name": "stdout"
        }
      ]
    },
    {
      "cell_type": "code",
      "metadata": {
        "id": "EmhUklx_zpIj",
        "colab_type": "code",
        "colab": {
          "base_uri": "https://localhost:8080/",
          "height": 54
        },
        "outputId": "d25ad79e-6f48-4794-e07d-cbb5724f9fb2"
      },
      "source": [
        "# Executar o método da classe Cachorro (sub-classe)\n",
        "\n",
        "rex.identif()"
      ],
      "execution_count": 4,
      "outputs": [
        {
          "output_type": "stream",
          "text": [
            "Cachorro\n"
          ],
          "name": "stdout"
        }
      ]
    },
    {
      "cell_type": "code",
      "metadata": {
        "id": "U57ru8at0QsS",
        "colab_type": "code",
        "colab": {
          "base_uri": "https://localhost:8080/",
          "height": 54
        },
        "outputId": "3febcbbe-dd08-4234-ded5-9227bb32cc12"
      },
      "source": [
        "# Invocar o método na super-classe\n",
        "\n",
        "rex.comer()"
      ],
      "execution_count": 5,
      "outputs": [
        {
          "output_type": "stream",
          "text": [
            "Comendo\n"
          ],
          "name": "stdout"
        }
      ]
    },
    {
      "cell_type": "code",
      "metadata": {
        "id": "vxLZpt_P0VSc",
        "colab_type": "code",
        "colab": {
          "base_uri": "https://localhost:8080/",
          "height": 54
        },
        "outputId": "6d0ad608-4372-4b0a-8bd5-4bde3ee8b6fe"
      },
      "source": [
        "# Invicar o método na sub-classe \n",
        "\n",
        "rex.latir()"
      ],
      "execution_count": 6,
      "outputs": [
        {
          "output_type": "stream",
          "text": [
            "Au Au!\n"
          ],
          "name": "stdout"
        }
      ]
    }
  ]
}