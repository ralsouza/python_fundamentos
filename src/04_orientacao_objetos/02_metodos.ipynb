{
  "nbformat": 4,
  "nbformat_minor": 0,
  "metadata": {
    "colab": {
      "name": "02_metodos.ipynb",
      "provenance": [],
      "collapsed_sections": [],
      "include_colab_link": true
    },
    "kernelspec": {
      "name": "python3",
      "display_name": "Python 3"
    }
  },
  "cells": [
    {
      "cell_type": "markdown",
      "metadata": {
        "id": "view-in-github",
        "colab_type": "text"
      },
      "source": [
        "<a href=\"https://colab.research.google.com/github/ralsouza/python_fundamentos/blob/master/src/04_orientacao_objetos/02_metodos.ipynb\" target=\"_parent\"><img src=\"https://colab.research.google.com/assets/colab-badge.svg\" alt=\"Open In Colab\"/></a>"
      ]
    },
    {
      "cell_type": "markdown",
      "metadata": {
        "id": "TTSD_KMsX5h_",
        "colab_type": "text"
      },
      "source": [
        "# Métodos\n",
        "São funções definidas no corpo de uma classe, são utilizados para realizar operações com os atributos dos nossos objetos. Ou seja, são o encapsulamento, do paradigma de Programação Orientada a Objetos.\n",
        "\n",
        "Os métodos são basicamente funções definidas dentro de uma classe, para manipular os objetos criados a partir da classe.\n",
        "\n",
        "Utiliza-se a palavra reservada `def` para criar métodos, da mesma forma que se cria funções. Podemos criar classes para nossas atividades de análise de dados e criar métodos específicos para cada tarefa, encapsulando nossa lógica de programação."
      ]
    },
    {
      "cell_type": "code",
      "metadata": {
        "id": "tDHU0yC1Xp2s",
        "colab_type": "code",
        "colab": {}
      },
      "source": [
        ""
      ],
      "execution_count": 0,
      "outputs": []
    }
  ]
}