{
  "nbformat": 4,
  "nbformat_minor": 0,
  "metadata": {
    "colab": {
      "name": "02_metodos.ipynb",
      "provenance": [],
      "collapsed_sections": [],
      "include_colab_link": true
    },
    "kernelspec": {
      "name": "python3",
      "display_name": "Python 3"
    }
  },
  "cells": [
    {
      "cell_type": "markdown",
      "metadata": {
        "id": "view-in-github",
        "colab_type": "text"
      },
      "source": [
        "<a href=\"https://colab.research.google.com/github/ralsouza/python_fundamentos/blob/master/src/04_orientacao_objetos/02_metodos.ipynb\" target=\"_parent\"><img src=\"https://colab.research.google.com/assets/colab-badge.svg\" alt=\"Open In Colab\"/></a>"
      ]
    },
    {
      "cell_type": "markdown",
      "metadata": {
        "id": "TTSD_KMsX5h_",
        "colab_type": "text"
      },
      "source": [
        "# Métodos\n",
        "São funções definidas no corpo de uma classe, são utilizados para realizar operações com os atributos dos nossos objetos. Ou seja, são o encapsulamento, do paradigma de Programação Orientada a Objetos.\n",
        "\n",
        "Os métodos são basicamente funções definidas dentro de uma classe, para manipular os objetos criados a partir da classe.\n",
        "\n",
        "Utiliza-se a palavra reservada `def` para criar métodos, da mesma forma que se cria funções. Podemos criar classes para nossas atividades de análise de dados e criar métodos específicos para cada tarefa, encapsulando nossa lógica de programação."
      ]
    },
    {
      "cell_type": "code",
      "metadata": {
        "id": "tDHU0yC1Xp2s",
        "colab_type": "code",
        "colab": {}
      },
      "source": [
        "# Criar uma classe chamada círculo\n",
        "\n",
        "class Circulo():\n",
        "\n",
        "  # Definir o valor de pi como uma constante\n",
        "  pi = 3.14\n",
        "\n",
        "  # O construtor será executado com um valor default do raio sendo 5\n",
        "  # Se outro valor for declarado pelo usuário, o valor default será sobrescrito\n",
        "  def __init__(self, raio = 5):\n",
        "    self.raio = raio\n",
        "\n",
        "  # Este método calcula a área do círculo, o self utiliza os atributos deste mesmo objeto\n",
        "  def area(self):\n",
        "    return (self.raio * self.raio) * Circulo.pi\n",
        "\n",
        "  # Método para criar um novo raio\n",
        "  def setRaio(self, novoRaio):\n",
        "    self.raio = novoRaio\n",
        "\n",
        "  # Método para objter um novo raio\n",
        "  def getRaio(self):\n",
        "    return self.raio"
      ],
      "execution_count": 0,
      "outputs": []
    },
    {
      "cell_type": "code",
      "metadata": {
        "id": "KyEGmRNGL0rw",
        "colab_type": "code",
        "colab": {}
      },
      "source": [
        "# Instanciar um objeto \n",
        "circ = Circulo()"
      ],
      "execution_count": 0,
      "outputs": []
    },
    {
      "cell_type": "code",
      "metadata": {
        "id": "VX0862IVL-4S",
        "colab_type": "code",
        "colab": {
          "base_uri": "https://localhost:8080/",
          "height": 54
        },
        "outputId": "b6e96c74-05e2-4ce1-f8eb-bafd954f77ad"
      },
      "source": [
        "# Obter o raio do objeto, como não foi passado um valor, obteremos o valor default que foi definido na class\n",
        "circ.getRaio()"
      ],
      "execution_count": 3,
      "outputs": [
        {
          "output_type": "execute_result",
          "data": {
            "text/plain": [
              "5"
            ]
          },
          "metadata": {
            "tags": []
          },
          "execution_count": 3
        }
      ]
    },
    {
      "cell_type": "code",
      "metadata": {
        "id": "Hfb0bUYJMM31",
        "colab_type": "code",
        "colab": {}
      },
      "source": [
        "# Definir o valor 7 no argumento do raio\n",
        "circ1 = Circulo(7)"
      ],
      "execution_count": 0,
      "outputs": []
    },
    {
      "cell_type": "code",
      "metadata": {
        "id": "A00iqjV1MYhK",
        "colab_type": "code",
        "colab": {
          "base_uri": "https://localhost:8080/",
          "height": 54
        },
        "outputId": "67e25bad-34b6-44f2-fbfd-d4d2e68549ad"
      },
      "source": [
        "# Checar o novo valor\n",
        "circ1.getRaio()"
      ],
      "execution_count": 5,
      "outputs": [
        {
          "output_type": "execute_result",
          "data": {
            "text/plain": [
              "7"
            ]
          },
          "metadata": {
            "tags": []
          },
          "execution_count": 5
        }
      ]
    },
    {
      "cell_type": "code",
      "metadata": {
        "id": "1bqXk0feMcqs",
        "colab_type": "code",
        "colab": {
          "base_uri": "https://localhost:8080/",
          "height": 74
        },
        "outputId": "d1d18bcf-076d-42d6-d202-16126b63706c"
      },
      "source": [
        "# Imprimir o valor do raio do objeto circ\n",
        "print('O valor do raio é: {}'.format(circ.getRaio()))"
      ],
      "execution_count": 7,
      "outputs": [
        {
          "output_type": "stream",
          "text": [
            "O valor do raio é: 5\n"
          ],
          "name": "stdout"
        }
      ]
    },
    {
      "cell_type": "code",
      "metadata": {
        "id": "tqz9Qnw7MzhN",
        "colab_type": "code",
        "colab": {
          "base_uri": "https://localhost:8080/",
          "height": 318
        },
        "outputId": "35fd4b7a-8a33-4789-9061-0e592a0e12c4"
      },
      "source": [
        "# Imprimir a area do círculo\n",
        "print('Area do círculo é: {}'.format(circ.area()))"
      ],
      "execution_count": 17,
      "outputs": [
        {
          "output_type": "error",
          "ename": "NameError",
          "evalue": "ignored",
          "traceback": [
            "\u001b[0;31m---------------------------------------------------------------------------\u001b[0m",
            "\u001b[0;31mNameError\u001b[0m                                 Traceback (most recent call last)",
            "\u001b[0;32m<ipython-input-17-0b11f1c6b96f>\u001b[0m in \u001b[0;36m<module>\u001b[0;34m()\u001b[0m\n\u001b[0;32m----> 1\u001b[0;31m \u001b[0mprint\u001b[0m\u001b[0;34m(\u001b[0m\u001b[0;34m'Area do círculo é: {}'\u001b[0m\u001b[0;34m.\u001b[0m\u001b[0mformat\u001b[0m\u001b[0;34m(\u001b[0m\u001b[0mcirc\u001b[0m\u001b[0;34m.\u001b[0m\u001b[0marea\u001b[0m\u001b[0;34m(\u001b[0m\u001b[0;34m)\u001b[0m\u001b[0;34m)\u001b[0m\u001b[0;34m)\u001b[0m\u001b[0;34m\u001b[0m\u001b[0;34m\u001b[0m\u001b[0m\n\u001b[0m",
            "\u001b[0;32m<ipython-input-1-e454225c017d>\u001b[0m in \u001b[0;36marea\u001b[0;34m(self)\u001b[0m\n\u001b[1;32m     12\u001b[0m   \u001b[0;31m# Este método calcula a área do círculo, o self utiliza os atributos deste mesmo objeto\u001b[0m\u001b[0;34m\u001b[0m\u001b[0;34m\u001b[0m\u001b[0;34m\u001b[0m\u001b[0m\n\u001b[1;32m     13\u001b[0m   \u001b[0;32mdef\u001b[0m \u001b[0marea\u001b[0m\u001b[0;34m(\u001b[0m\u001b[0mself\u001b[0m\u001b[0;34m)\u001b[0m\u001b[0;34m:\u001b[0m\u001b[0;34m\u001b[0m\u001b[0;34m\u001b[0m\u001b[0m\n\u001b[0;32m---> 14\u001b[0;31m     \u001b[0;32mreturn\u001b[0m \u001b[0;34m(\u001b[0m\u001b[0mself\u001b[0m\u001b[0;34m.\u001b[0m\u001b[0mraio\u001b[0m \u001b[0;34m*\u001b[0m \u001b[0msalf\u001b[0m\u001b[0;34m.\u001b[0m\u001b[0mraio\u001b[0m\u001b[0;34m)\u001b[0m \u001b[0;34m*\u001b[0m \u001b[0mCirculo\u001b[0m\u001b[0;34m.\u001b[0m\u001b[0mpi\u001b[0m\u001b[0;34m\u001b[0m\u001b[0;34m\u001b[0m\u001b[0m\n\u001b[0m\u001b[1;32m     15\u001b[0m \u001b[0;34m\u001b[0m\u001b[0m\n\u001b[1;32m     16\u001b[0m   \u001b[0;31m# Método para criar um novo raio\u001b[0m\u001b[0;34m\u001b[0m\u001b[0;34m\u001b[0m\u001b[0;34m\u001b[0m\u001b[0m\n",
            "\u001b[0;31mNameError\u001b[0m: name 'salf' is not defined"
          ]
        }
      ]
    },
    {
      "cell_type": "code",
      "metadata": {
        "id": "buX7RgeVNAg7",
        "colab_type": "code",
        "colab": {}
      },
      "source": [
        "# Gerar um novo valor para o círculo\n",
        "circ.setRaio(8)"
      ],
      "execution_count": 0,
      "outputs": []
    },
    {
      "cell_type": "code",
      "metadata": {
        "id": "4F4_MLdWNVEO",
        "colab_type": "code",
        "colab": {
          "base_uri": "https://localhost:8080/",
          "height": 74
        },
        "outputId": "248269b8-963d-4c5c-9ffc-d4a1fab68993"
      },
      "source": [
        "# Checar o novo valor\n",
        "print('O novo valor do raio é: {}'.format(circ.getRaio()))"
      ],
      "execution_count": 16,
      "outputs": [
        {
          "output_type": "stream",
          "text": [
            "O novo valor do raio é: 8\n"
          ],
          "name": "stdout"
        }
      ]
    }
  ]
}