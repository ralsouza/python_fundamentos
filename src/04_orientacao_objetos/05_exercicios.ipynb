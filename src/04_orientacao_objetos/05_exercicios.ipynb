{
  "nbformat": 4,
  "nbformat_minor": 0,
  "metadata": {
    "colab": {
      "name": "05_exercicios.ipynb",
      "provenance": [],
      "collapsed_sections": [],
      "include_colab_link": true
    },
    "kernelspec": {
      "name": "python3",
      "display_name": "Python 3"
    }
  },
  "cells": [
    {
      "cell_type": "markdown",
      "metadata": {
        "id": "view-in-github",
        "colab_type": "text"
      },
      "source": [
        "<a href=\"https://colab.research.google.com/github/ralsouza/python_fundamentos/blob/master/src/04_orientacao_objetos/05_exercicios.ipynb\" target=\"_parent\"><img src=\"https://colab.research.google.com/assets/colab-badge.svg\" alt=\"Open In Colab\"/></a>"
      ]
    },
    {
      "cell_type": "markdown",
      "metadata": {
        "id": "82XuX24oNZg-",
        "colab_type": "text"
      },
      "source": [
        "1) Make an object from the below class, called `roc1`, passing two parameters and after do a call to their attributes and methods.\n",
        "```\n",
        "class Rocket():\n",
        "     \n",
        "    def __init__(self, x=0, y=0):\n",
        "        self.x = x\n",
        "        self.y = y\n",
        "        \n",
        "    def move_rocket(self, x_increment=0, y_increment=1):\n",
        "        self.x += x_increment\n",
        "        self.y += y_increment\n",
        "        \n",
        "    def print_rocket(self):\n",
        "        print(self.x, self.y)\n",
        "```"
      ]
    },
    {
      "cell_type": "code",
      "metadata": {
        "id": "nLUxlhTHNhcB",
        "colab_type": "code",
        "colab": {}
      },
      "source": [
        "class Rocket():\n",
        " \n",
        "    def __init__(self, x = 0, y = 0):\n",
        "        self.x = x\n",
        "        self.y = y\n",
        " \n",
        "    def move_rocket(self, x_increment = 0, y_increment = 1):\n",
        "        self.x += x_increment\n",
        "        self.y += y_increment\n",
        " \n",
        "    def print_rocket(self):\n",
        "        print(self.x, self.y)"
      ],
      "execution_count": 0,
      "outputs": []
    },
    {
      "cell_type": "code",
      "metadata": {
        "id": "e3xovIFgA-ac",
        "colab_type": "code",
        "colab": {}
      },
      "source": [
        "roc1 = Rocket(3,5)"
      ],
      "execution_count": 0,
      "outputs": []
    },
    {
      "cell_type": "code",
      "metadata": {
        "id": "SfmBGYFbEbHR",
        "colab_type": "code",
        "outputId": "8a6ecca4-a88c-48fa-c220-576deb4bdaf6",
        "colab": {
          "base_uri": "https://localhost:8080/",
          "height": 34
        }
      },
      "source": [
        "roc1.x"
      ],
      "execution_count": 0,
      "outputs": [
        {
          "output_type": "execute_result",
          "data": {
            "text/plain": [
              "3"
            ]
          },
          "metadata": {
            "tags": []
          },
          "execution_count": 6
        }
      ]
    },
    {
      "cell_type": "code",
      "metadata": {
        "id": "fqXRokIrH2C7",
        "colab_type": "code",
        "outputId": "5dd23588-8c12-4b70-e4ac-f7e0be0ce28d",
        "colab": {
          "base_uri": "https://localhost:8080/",
          "height": 34
        }
      },
      "source": [
        "roc1.y"
      ],
      "execution_count": 0,
      "outputs": [
        {
          "output_type": "execute_result",
          "data": {
            "text/plain": [
              "5"
            ]
          },
          "metadata": {
            "tags": []
          },
          "execution_count": 7
        }
      ]
    },
    {
      "cell_type": "code",
      "metadata": {
        "id": "wJE7W0t3H6Qo",
        "colab_type": "code",
        "colab": {}
      },
      "source": [
        "roc1.move_rocket(10,20)"
      ],
      "execution_count": 0,
      "outputs": []
    },
    {
      "cell_type": "code",
      "metadata": {
        "id": "yx2gEBH2H6oi",
        "colab_type": "code",
        "outputId": "f74100eb-3ee9-45c8-c63d-37efe05c6865",
        "colab": {
          "base_uri": "https://localhost:8080/",
          "height": 34
        }
      },
      "source": [
        "roc1.print_rocket()"
      ],
      "execution_count": 0,
      "outputs": [
        {
          "output_type": "stream",
          "text": [
            "13 25\n"
          ],
          "name": "stdout"
        }
      ]
    },
    {
      "cell_type": "markdown",
      "metadata": {
        "id": "Age5L2NFNiHw",
        "colab_type": "text"
      },
      "source": [
        "2) Make a class called `Person()` with the attributes: `name`, `city`, `telephone`, and `e-mail`. Use at least two special methods in your class. Make an object of your class and do a call at least to one of your special methods."
      ]
    },
    {
      "cell_type": "code",
      "metadata": {
        "id": "zUoxAs3fNpke",
        "colab_type": "code",
        "colab": {}
      },
      "source": [
        "class Person():\n",
        "\n",
        "  def __init__(self, name, city, telephone, email):\n",
        "    ''' Contructor of class '''\n",
        "    print('My Test: Object created!')\n",
        "    self.name = name\n",
        "    self.city = city\n",
        "    self.telephone = telephone\n",
        "    self.email = email\n",
        "\n",
        "  def __call__(self):\n",
        "    ''' Make this object callable '''\n",
        "    print('My name is {} and my city is {}'.format(self.name, self.city))\n",
        "\n",
        "  def __str__(self):\n",
        "    ''' Print data to user '''\n",
        "    return 'Name: {}, City: {}, Telephone: {}, Email: {}'.format(self.name, self.city, self.telephone, self.email)\n",
        "  "
      ],
      "execution_count": 0,
      "outputs": []
    },
    {
      "cell_type": "code",
      "metadata": {
        "id": "p5SU4gOCN7HJ",
        "colab_type": "code",
        "outputId": "1672318e-c832-4443-f275-c5d4903de885",
        "colab": {
          "base_uri": "https://localhost:8080/",
          "height": 34
        }
      },
      "source": [
        "me = Person('Rafael', 'Porto Alegre', '3333.4444', 'my.email@email.com')"
      ],
      "execution_count": 31,
      "outputs": [
        {
          "output_type": "stream",
          "text": [
            "My Test: Object created!\n"
          ],
          "name": "stdout"
        }
      ]
    },
    {
      "cell_type": "code",
      "metadata": {
        "id": "EAqyPveBOJAP",
        "colab_type": "code",
        "outputId": "9cb5e605-52a8-4197-c1bd-cbc84a56f01b",
        "colab": {
          "base_uri": "https://localhost:8080/",
          "height": 34
        }
      },
      "source": [
        "print(me)"
      ],
      "execution_count": 32,
      "outputs": [
        {
          "output_type": "stream",
          "text": [
            "Name: Rafael, City: Porto Alegre, Telephone: 3333.4444, Email: my.email@email.com\n"
          ],
          "name": "stdout"
        }
      ]
    },
    {
      "cell_type": "code",
      "metadata": {
        "id": "VkQLUD6XP9s-",
        "colab_type": "code",
        "outputId": "dc726516-a91a-4976-dfa9-38e86fdd0bdb",
        "colab": {
          "base_uri": "https://localhost:8080/",
          "height": 34
        }
      },
      "source": [
        "# Call __str__ directly by function \n",
        "str(me)"
      ],
      "execution_count": 33,
      "outputs": [
        {
          "output_type": "execute_result",
          "data": {
            "text/plain": [
              "'Name: Rafael, City: Porto Alegre, Telephone: 3333.4444, Email: my.email@email.com'"
            ]
          },
          "metadata": {
            "tags": []
          },
          "execution_count": 33
        }
      ]
    },
    {
      "cell_type": "code",
      "metadata": {
        "id": "vSEBoVujkrDG",
        "colab_type": "code",
        "colab": {
          "base_uri": "https://localhost:8080/",
          "height": 34
        },
        "outputId": "90585ab6-afcf-45ed-e05f-cbfc988cc89d"
      },
      "source": [
        "me()"
      ],
      "execution_count": 34,
      "outputs": [
        {
          "output_type": "stream",
          "text": [
            "My name is Rafael and my city is Porto Alegre\n"
          ],
          "name": "stdout"
        }
      ]
    },
    {
      "cell_type": "markdown",
      "metadata": {
        "id": "euMF9KVWNqSe",
        "colab_type": "text"
      },
      "source": [
        "3) Make a class called `Smartphone()` with two attributes, `size` and `interface` and make another class `MP3Player()` with the attribute `capacity`. The class `MP3Player` need to inherit the attributes of class `Smartphone()`."
      ]
    },
    {
      "cell_type": "code",
      "metadata": {
        "id": "1GNqeKIPla74",
        "colab_type": "code",
        "colab": {}
      },
      "source": [
        ""
      ],
      "execution_count": 0,
      "outputs": []
    }
  ]
}