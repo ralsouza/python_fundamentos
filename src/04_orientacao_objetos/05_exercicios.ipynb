{
  "nbformat": 4,
  "nbformat_minor": 0,
  "metadata": {
    "colab": {
      "name": "05_exercicios.ipynb",
      "provenance": [],
      "collapsed_sections": [],
      "include_colab_link": true
    },
    "kernelspec": {
      "name": "python3",
      "display_name": "Python 3"
    }
  },
  "cells": [
    {
      "cell_type": "markdown",
      "metadata": {
        "id": "view-in-github",
        "colab_type": "text"
      },
      "source": [
        "<a href=\"https://colab.research.google.com/github/ralsouza/python_fundamentos/blob/master/src/04_orientacao_objetos/05_exercicios.ipynb\" target=\"_parent\"><img src=\"https://colab.research.google.com/assets/colab-badge.svg\" alt=\"Open In Colab\"/></a>"
      ]
    },
    {
      "cell_type": "markdown",
      "metadata": {
        "id": "82XuX24oNZg-",
        "colab_type": "text"
      },
      "source": [
        "1) Make an object from the below class, called `roc1`, passing two parameters and after do a call to their attributes and methods.\n",
        "```\n",
        "class Rocket():\n",
        "     \n",
        "    def __init__(self, x=0, y=0):\n",
        "        self.x = x\n",
        "        self.y = y\n",
        "        \n",
        "    def move_rocket(self, x_increment=0, y_increment=1):\n",
        "        self.x += x_increment\n",
        "        self.y += y_increment\n",
        "        \n",
        "    def print_rocket(self):\n",
        "        print(self.x, self.y)\n",
        "```"
      ]
    },
    {
      "cell_type": "code",
      "metadata": {
        "id": "nLUxlhTHNhcB",
        "colab_type": "code",
        "colab": {}
      },
      "source": [
        "class Rocket():\n",
        " \n",
        "    def __init__(self, x=0, y=0):\n",
        "        self.x = x\n",
        "        self.y = y\n",
        " \n",
        "    def move_rocket(self, x_increment=0, y_increment=1):\n",
        "        self.x += x_increment\n",
        "        self.y += y_increment\n",
        " \n",
        "    def print_rocket(self):\n",
        "        print(self.x, self.y)"
      ],
      "execution_count": 0,
      "outputs": []
    },
    {
      "cell_type": "code",
      "metadata": {
        "id": "e3xovIFgA-ac",
        "colab_type": "code",
        "colab": {}
      },
      "source": [
        "roc1 = Rocket(3,5)"
      ],
      "execution_count": 0,
      "outputs": []
    },
    {
      "cell_type": "code",
      "metadata": {
        "id": "SfmBGYFbEbHR",
        "colab_type": "code",
        "colab": {
          "base_uri": "https://localhost:8080/",
          "height": 34
        },
        "outputId": "8a6ecca4-a88c-48fa-c220-576deb4bdaf6"
      },
      "source": [
        "roc1.x"
      ],
      "execution_count": 6,
      "outputs": [
        {
          "output_type": "execute_result",
          "data": {
            "text/plain": [
              "3"
            ]
          },
          "metadata": {
            "tags": []
          },
          "execution_count": 6
        }
      ]
    },
    {
      "cell_type": "code",
      "metadata": {
        "id": "fqXRokIrH2C7",
        "colab_type": "code",
        "colab": {
          "base_uri": "https://localhost:8080/",
          "height": 34
        },
        "outputId": "5dd23588-8c12-4b70-e4ac-f7e0be0ce28d"
      },
      "source": [
        "roc1.y"
      ],
      "execution_count": 7,
      "outputs": [
        {
          "output_type": "execute_result",
          "data": {
            "text/plain": [
              "5"
            ]
          },
          "metadata": {
            "tags": []
          },
          "execution_count": 7
        }
      ]
    },
    {
      "cell_type": "code",
      "metadata": {
        "id": "wJE7W0t3H6Qo",
        "colab_type": "code",
        "colab": {}
      },
      "source": [
        "roc1.move_rocket(10,20)"
      ],
      "execution_count": 0,
      "outputs": []
    },
    {
      "cell_type": "code",
      "metadata": {
        "id": "yx2gEBH2H6oi",
        "colab_type": "code",
        "colab": {
          "base_uri": "https://localhost:8080/",
          "height": 34
        },
        "outputId": "f74100eb-3ee9-45c8-c63d-37efe05c6865"
      },
      "source": [
        "roc1.print_rocket()"
      ],
      "execution_count": 10,
      "outputs": [
        {
          "output_type": "stream",
          "text": [
            "13 25\n"
          ],
          "name": "stdout"
        }
      ]
    },
    {
      "cell_type": "markdown",
      "metadata": {
        "id": "Age5L2NFNiHw",
        "colab_type": "text"
      },
      "source": [
        "2) Make a class called `Person()` with the attributes: `name`, `city`, `telephone`, and `e-mail`. Use at least two special methods in your class. Make an object of your class and do a call at least to one of your special methods."
      ]
    },
    {
      "cell_type": "code",
      "metadata": {
        "id": "zUoxAs3fNpke",
        "colab_type": "code",
        "colab": {}
      },
      "source": [
        "class Person():\n",
        "\n",
        "  def __init__(self, name, city, telephone, email):\n",
        "    self.name = name\n",
        "    self.city = city\n",
        "    self.telephone = telephone\n",
        "    self.email = email\n",
        "    print('My Test: Object created!')\n",
        "\n",
        "  def __str__(self):\n",
        "    return 'Name: {}, City: {}, Telephone: {}, Email: {}'.format(self.name, self.city, self.telephone, self.email)\n",
        "  "
      ],
      "execution_count": 0,
      "outputs": []
    },
    {
      "cell_type": "code",
      "metadata": {
        "id": "p5SU4gOCN7HJ",
        "colab_type": "code",
        "colab": {
          "base_uri": "https://localhost:8080/",
          "height": 34
        },
        "outputId": "c52eed40-f3b3-4725-f07a-d54d3d225865"
      },
      "source": [
        "me = Person('Rafael', 'Porto Alegre', '3333.4444', 'my.email@email.com')"
      ],
      "execution_count": 35,
      "outputs": [
        {
          "output_type": "stream",
          "text": [
            "My Test: Object created!\n"
          ],
          "name": "stdout"
        }
      ]
    },
    {
      "cell_type": "code",
      "metadata": {
        "id": "EAqyPveBOJAP",
        "colab_type": "code",
        "colab": {
          "base_uri": "https://localhost:8080/",
          "height": 34
        },
        "outputId": "653dd285-b5fe-4c17-a27b-9b9db42dd1ca"
      },
      "source": [
        "print(me)"
      ],
      "execution_count": 36,
      "outputs": [
        {
          "output_type": "stream",
          "text": [
            "Name: Rafael, City: Porto Alegre, Telephone: 3333.4444, Email: my.email@email.com\n"
          ],
          "name": "stdout"
        }
      ]
    },
    {
      "cell_type": "code",
      "metadata": {
        "id": "VkQLUD6XP9s-",
        "colab_type": "code",
        "colab": {
          "base_uri": "https://localhost:8080/",
          "height": 34
        },
        "outputId": "8a5eed05-155c-4a4a-c55c-1cf9f583a79e"
      },
      "source": [
        "# Call __str__ directly by function \n",
        "str(me)"
      ],
      "execution_count": 37,
      "outputs": [
        {
          "output_type": "execute_result",
          "data": {
            "text/plain": [
              "'Name: Rafael, City: Porto Alegre, Telephone: 3333.4444, Email: my.email@email.com'"
            ]
          },
          "metadata": {
            "tags": []
          },
          "execution_count": 37
        }
      ]
    },
    {
      "cell_type": "markdown",
      "metadata": {
        "id": "euMF9KVWNqSe",
        "colab_type": "text"
      },
      "source": [
        "3) Make a class called `Smartphone()` with two attributes, `size` and `interface` and make another class `MP3Player()` with the attribute `capacity`. The class `MP3Player` need to inherit the attributes of class `Smartphone()`."
      ]
    },
    {
      "cell_type": "code",
      "metadata": {
        "id": "R-bf0P0YNv9q",
        "colab_type": "code",
        "colab": {}
      },
      "source": [
        ""
      ],
      "execution_count": 0,
      "outputs": []
    },
    {
      "cell_type": "code",
      "metadata": {
        "id": "BkelpD6nDvHX",
        "colab_type": "code",
        "colab": {}
      },
      "source": [
        ""
      ],
      "execution_count": 0,
      "outputs": []
    }
  ]
}