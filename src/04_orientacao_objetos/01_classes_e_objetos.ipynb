{
  "nbformat": 4,
  "nbformat_minor": 0,
  "metadata": {
    "colab": {
      "name": "01_classes_e_objetos.ipynb",
      "provenance": [],
      "collapsed_sections": [],
      "include_colab_link": true
    },
    "kernelspec": {
      "name": "python3",
      "display_name": "Python 3"
    }
  },
  "cells": [
    {
      "cell_type": "markdown",
      "metadata": {
        "id": "view-in-github",
        "colab_type": "text"
      },
      "source": [
        "<a href=\"https://colab.research.google.com/github/ralsouza/python_fundamentos/blob/master/src/04_orientacao_objetos/01_classes_e_objetos.ipynb\" target=\"_parent\"><img src=\"https://colab.research.google.com/assets/colab-badge.svg\" alt=\"Open In Colab\"/></a>"
      ]
    },
    {
      "cell_type": "markdown",
      "metadata": {
        "id": "pLttG_6I2T7g",
        "colab_type": "text"
      },
      "source": [
        "# Resumo\n",
        "\n",
        "## Classes\n",
        "A classe é a estrutura básica do paradigma da orientação a objetos, que representa o tipo do objeto, um modelo a partir do qual os objetos serão criados.\n",
        "\n",
        "A classe é apenas um molde. Uma especificação que define o que um objeto desse tipo deverá ter como atributo e como ele deve se comportar.\n",
        "\n",
        "A classe é uma espécie de template que define a natureza de um futuro objeto. A partir de classes, contruímos instâncias. Cada instância, é um objeto. Uma instância, é um objeto específico, criado a partir de uma classe.\n",
        "\n",
        "## Objetos \n",
        "Os objetos representam entidades, com suas qualidades (atributos) e ações (métodos) que estas podem realizar. Em Python, tudo é um objeto.\n",
        "\n",
        "### Como criar nossos próprios objetos em Python?\n",
        "Objetos definidos pelo usuário em Python são criados a partir de instâncias de classes criadas usando a palavra reservada `class`.\n",
        "\n",
        "Na prática é feito o seguinte: Criamos uma classe (que é um template), então instanciamos os objetos que são criados a partir da classe. \n",
        "\n",
        "Por convenção, o nome das classes começam com letra maíuscula.\n",
        "\n",
        "![alt text](https://i.imgur.com/uugNPGk.png)\n",
        "\n",
        "Em Python, novos objetos são criados a partir das classes. O objeto é uma instância de uma classe, que possui características próprias."
      ]
    },
    {
      "cell_type": "markdown",
      "metadata": {
        "id": "ioZMLsy4-WDu",
        "colab_type": "text"
      },
      "source": [
        "## Classes\n",
        "Para criar uma classe, utiliza-se a palavra reservada `class`. O nome da classe segue a mesma convenção de nomes para a criação de `funções` e `variáveis`, mas normalmente se usa a primeira letra maiúscula em cada palavra no nome da classe."
      ]
    },
    {
      "cell_type": "code",
      "metadata": {
        "id": "SrolCGzq_Bri",
        "colab_type": "code",
        "colab": {}
      },
      "source": [
        "# Criação de uma classe\n",
        "\n",
        "class Livro():\n",
        "\n",
        "  # Este método chama-se contrutor, ele vai inicializar cada objeto criado a partir desta classe\n",
        "  # O nome deste método é __init__ \n",
        "  # (self) é a referência a cada atributo de um objeto criado a partir desta classe\n",
        "\n",
        "  def __init__(self):\n",
        "\n",
        "    # Atributos de cada objeto criado a partir desta classe\n",
        "    # O (self) indica que estes são atributos dos objetos\n",
        "\n",
        "    self.titulo = 'O Monge e o Executivo'\n",
        "    self.isbn = 998888\n",
        "    print('Construtor chamado para criar um objeto desta classe.')\n",
        "\n",
        "  # Métodos são funções, que recebem como parâmetro atributos do objeto criado\n",
        "  def imprime(self):\n",
        "    print('Foi criado um livro {} e ISBN {}'.format(self.titulo, self.isbn))"
      ],
      "execution_count": 0,
      "outputs": []
    },
    {
      "cell_type": "code",
      "metadata": {
        "id": "eGQzOlq1BtmK",
        "colab_type": "code",
        "outputId": "01f4debd-394d-42ed-e642-21a1d736d5d2",
        "colab": {
          "base_uri": "https://localhost:8080/",
          "height": 74
        }
      },
      "source": [
        "# Instanciar um objeto da classe livro, ou seja, criar um objeto\n",
        "livro1 = Livro()"
      ],
      "execution_count": 0,
      "outputs": [
        {
          "output_type": "stream",
          "text": [
            "Construtor chamado para criar um objeto desta classe.\n"
          ],
          "name": "stdout"
        }
      ]
    },
    {
      "cell_type": "code",
      "metadata": {
        "id": "lyIKjin6B6ww",
        "colab_type": "code",
        "outputId": "f0d68422-6106-41dd-ae63-592fbf25f752",
        "colab": {
          "base_uri": "https://localhost:8080/",
          "height": 74
        }
      },
      "source": [
        "# Checar o tipo do objeto livro1\n",
        "type(livro1)"
      ],
      "execution_count": 0,
      "outputs": [
        {
          "output_type": "execute_result",
          "data": {
            "text/plain": [
              "__main__.Livro"
            ]
          },
          "metadata": {
            "tags": []
          },
          "execution_count": 6
        }
      ]
    },
    {
      "cell_type": "code",
      "metadata": {
        "id": "9vmXDqB_CUAf",
        "colab_type": "code",
        "outputId": "75e5c848-3399-4a1d-d5bc-8f1ef7243715",
        "colab": {
          "base_uri": "https://localhost:8080/",
          "height": 74
        }
      },
      "source": [
        "# Imprimir os atributos do objeto criado, não precisa adicionar () ao final\n",
        "livro1.titulo"
      ],
      "execution_count": 0,
      "outputs": [
        {
          "output_type": "execute_result",
          "data": {
            "text/plain": [
              "'O Monge e o Executivo'"
            ]
          },
          "metadata": {
            "tags": []
          },
          "execution_count": 8
        }
      ]
    },
    {
      "cell_type": "code",
      "metadata": {
        "id": "1XYEvFi-Cw6i",
        "colab_type": "code",
        "outputId": "cc165d6a-750d-4223-e75e-c750f81422d0",
        "colab": {
          "base_uri": "https://localhost:8080/",
          "height": 54
        }
      },
      "source": [
        "livro1.isbn"
      ],
      "execution_count": 0,
      "outputs": [
        {
          "output_type": "execute_result",
          "data": {
            "text/plain": [
              "998888"
            ]
          },
          "metadata": {
            "tags": []
          },
          "execution_count": 9
        }
      ]
    },
    {
      "cell_type": "code",
      "metadata": {
        "id": "3W3ZfPU6C1GF",
        "colab_type": "code",
        "outputId": "088bc424-e70d-44ac-c7da-ab11f0fe8a0d",
        "colab": {
          "base_uri": "https://localhost:8080/",
          "height": 54
        }
      },
      "source": [
        "# Invocar o método do objeto, é preciso adicionao ()\n",
        "livro1.imprime()"
      ],
      "execution_count": 0,
      "outputs": [
        {
          "output_type": "stream",
          "text": [
            "Foi criado um livro O Monge e o Executivo e ISBN 998888\n"
          ],
          "name": "stdout"
        }
      ]
    },
    {
      "cell_type": "markdown",
      "metadata": {
        "id": "a30jHGJfDuCg",
        "colab_type": "text"
      },
      "source": [
        "#### Reescrever a classe livro, com novas especificações, agora recebendo argumentos"
      ]
    },
    {
      "cell_type": "code",
      "metadata": {
        "id": "RTWO3WMPDLan",
        "colab_type": "code",
        "colab": {}
      },
      "source": [
        "# Recriar a classe Livro com parâmetros no método contrutor\n",
        "class Livro():\n",
        "\n",
        "  # Definir no argumento do contrutor, os parâmetros de entrada\n",
        "  def __init__(self, titulo, isbn):\n",
        "\n",
        "    # Definição dos atributos\n",
        "    self.titulo = titulo\n",
        "    self.isbn = isbn\n",
        "    print('Contrutor chamado para instanciar um objeto desta classe')\n",
        "\n",
        "  # Definição dos métodos \n",
        "  def imprime(self):\n",
        "    print('Este é o livro {} e ISBN {}.'.format(titulo, isbn))"
      ],
      "execution_count": 0,
      "outputs": []
    },
    {
      "cell_type": "code",
      "metadata": {
        "id": "oj67yB7sFaIu",
        "colab_type": "code",
        "outputId": "72a4b724-2198-4c09-ade1-714ff4346c25",
        "colab": {
          "base_uri": "https://localhost:8080/",
          "height": 74
        }
      },
      "source": [
        "# Instanciar um objeto da classe livro, passando os dados de entrada para o contrutor\n",
        "livro2 = Livro('A Menina que Roubava Livros', 789999)"
      ],
      "execution_count": 0,
      "outputs": [
        {
          "output_type": "stream",
          "text": [
            "Contrutor chamado para instanciar um objeto desta classe\n"
          ],
          "name": "stdout"
        }
      ]
    },
    {
      "cell_type": "code",
      "metadata": {
        "id": "VbyysvvaF3Ov",
        "colab_type": "code",
        "outputId": "11fb5f06-67fd-4c13-b8bb-776088ba37f4",
        "colab": {
          "base_uri": "https://localhost:8080/",
          "height": 74
        }
      },
      "source": [
        "# Checar os atributos\n",
        "livro2.titulo"
      ],
      "execution_count": 0,
      "outputs": [
        {
          "output_type": "execute_result",
          "data": {
            "text/plain": [
              "'A Menina que Roubava Livros'"
            ]
          },
          "metadata": {
            "tags": []
          },
          "execution_count": 21
        }
      ]
    },
    {
      "cell_type": "code",
      "metadata": {
        "id": "RZONeiy5GFLl",
        "colab_type": "code",
        "outputId": "808cfd27-d9f8-4bba-fcc5-2fe173e6bc4a",
        "colab": {
          "base_uri": "https://localhost:8080/",
          "height": 74
        }
      },
      "source": [
        "livro2.isbn"
      ],
      "execution_count": 0,
      "outputs": [
        {
          "output_type": "execute_result",
          "data": {
            "text/plain": [
              "789999"
            ]
          },
          "metadata": {
            "tags": []
          },
          "execution_count": 22
        }
      ]
    },
    {
      "cell_type": "code",
      "metadata": {
        "id": "Hdwnm2jGGM_x",
        "colab_type": "code",
        "colab": {}
      },
      "source": [
        "# Criar a classe cachorro\n",
        "class Cachorro():\n",
        "  def __init__(self, raca):\n",
        "    self.raca = raca\n",
        "    print('Contrutor invocado para instanciar um objeto desta classe')"
      ],
      "execution_count": 0,
      "outputs": []
    },
    {
      "cell_type": "code",
      "metadata": {
        "id": "BkJHqD1vHS-U",
        "colab_type": "code",
        "outputId": "1ceb27e3-cbaf-47bc-8a01-865125d46eba",
        "colab": {
          "base_uri": "https://localhost:8080/",
          "height": 54
        }
      },
      "source": [
        "# Agora instanciar um objeto da classe cachorro\n",
        "rex = Cachorro(raca = 'bull-dog')"
      ],
      "execution_count": 0,
      "outputs": [
        {
          "output_type": "stream",
          "text": [
            "Contrutor invocado para instanciar um objeto desta classe\n"
          ],
          "name": "stdout"
        }
      ]
    },
    {
      "cell_type": "code",
      "metadata": {
        "id": "E7vGKoueHfyS",
        "colab_type": "code",
        "outputId": "83b0468c-45de-4930-d1f6-04a104c35794",
        "colab": {
          "base_uri": "https://localhost:8080/",
          "height": 54
        }
      },
      "source": [
        "# Instanciar outro objeto\n",
        "golias = Cachorro(raca = 'Pit-bull')"
      ],
      "execution_count": 0,
      "outputs": [
        {
          "output_type": "stream",
          "text": [
            "Contrutor invocado para instanciar um objeto desta classe\n"
          ],
          "name": "stdout"
        }
      ]
    },
    {
      "cell_type": "code",
      "metadata": {
        "id": "FNpt4LEnHxPw",
        "colab_type": "code",
        "outputId": "676a1c89-795f-4294-c0a9-bfb618cbaebf",
        "colab": {
          "base_uri": "https://localhost:8080/",
          "height": 54
        }
      },
      "source": [
        "# Invocar os atributos dos objetos\n",
        "rex.raca"
      ],
      "execution_count": 0,
      "outputs": [
        {
          "output_type": "execute_result",
          "data": {
            "text/plain": [
              "'bull-dog'"
            ]
          },
          "metadata": {
            "tags": []
          },
          "execution_count": 27
        }
      ]
    },
    {
      "cell_type": "code",
      "metadata": {
        "id": "nSq6mWifH4gG",
        "colab_type": "code",
        "outputId": "bb2384c1-e3f7-4d34-87a2-24e606ae8149",
        "colab": {
          "base_uri": "https://localhost:8080/",
          "height": 54
        }
      },
      "source": [
        "golias.raca"
      ],
      "execution_count": 0,
      "outputs": [
        {
          "output_type": "execute_result",
          "data": {
            "text/plain": [
              "'Pit-bull'"
            ]
          },
          "metadata": {
            "tags": []
          },
          "execution_count": 28
        }
      ]
    },
    {
      "cell_type": "code",
      "metadata": {
        "id": "jr-um_rbH6yl",
        "colab_type": "code",
        "colab": {}
      },
      "source": [
        "# Criação de uma classe para estudantes\n",
        "\n",
        "class Estudante():\n",
        "  def __init__(self, nome, idade, nota):\n",
        "    self.nome = nome\n",
        "    self.idade = idade\n",
        "    self.nota = nota"
      ],
      "execution_count": 0,
      "outputs": []
    },
    {
      "cell_type": "code",
      "metadata": {
        "id": "hvERY7aRT3XA",
        "colab_type": "code",
        "colab": {}
      },
      "source": [
        "# Instanciar a classe em um objeto\n",
        "estudante1 = Estudante('Rafael', 36, 87)"
      ],
      "execution_count": 0,
      "outputs": []
    },
    {
      "cell_type": "code",
      "metadata": {
        "id": "Yk1i0fZAT_-h",
        "colab_type": "code",
        "colab": {
          "base_uri": "https://localhost:8080/",
          "height": 54
        },
        "outputId": "897d68fe-f0e2-4b5b-a412-6f52a603561c"
      },
      "source": [
        "estudante1.nome"
      ],
      "execution_count": 3,
      "outputs": [
        {
          "output_type": "execute_result",
          "data": {
            "text/plain": [
              "'Rafael'"
            ]
          },
          "metadata": {
            "tags": []
          },
          "execution_count": 3
        }
      ]
    },
    {
      "cell_type": "code",
      "metadata": {
        "id": "HHTo0VnnUC2v",
        "colab_type": "code",
        "colab": {
          "base_uri": "https://localhost:8080/",
          "height": 54
        },
        "outputId": "f34425fc-c6c9-427b-b1e3-a5a67e8215c3"
      },
      "source": [
        "estudante1.idade"
      ],
      "execution_count": 4,
      "outputs": [
        {
          "output_type": "execute_result",
          "data": {
            "text/plain": [
              "36"
            ]
          },
          "metadata": {
            "tags": []
          },
          "execution_count": 4
        }
      ]
    },
    {
      "cell_type": "code",
      "metadata": {
        "id": "9MtujyxXUFKK",
        "colab_type": "code",
        "colab": {
          "base_uri": "https://localhost:8080/",
          "height": 54
        },
        "outputId": "f0ba6e6f-3c6e-4024-a549-5eba5fd2bce9"
      },
      "source": [
        "estudante1.nota"
      ],
      "execution_count": 5,
      "outputs": [
        {
          "output_type": "execute_result",
          "data": {
            "text/plain": [
              "87"
            ]
          },
          "metadata": {
            "tags": []
          },
          "execution_count": 5
        }
      ]
    },
    {
      "cell_type": "code",
      "metadata": {
        "id": "lLNAyH9XUGyO",
        "colab_type": "code",
        "colab": {}
      },
      "source": [
        "# Criação de uma classe para funcionários\n",
        "\n",
        "class Funcionario:\n",
        "  def __init__(self, nome, salario):\n",
        "    self.nome = nome\n",
        "    self.salario = salario\n",
        "\n",
        "  def listFunc(self):\n",
        "    print('O nome do funcionário é {} e o salário é R$ {}'.format( self.nome, self.salario))"
      ],
      "execution_count": 0,
      "outputs": []
    },
    {
      "cell_type": "code",
      "metadata": {
        "id": "AYPuuCJWUx7P",
        "colab_type": "code",
        "colab": {}
      },
      "source": [
        "# Instanciar a classe em um objeto \n",
        "\n",
        "func1 = Funcionario('Rafael Lima', 1000)"
      ],
      "execution_count": 0,
      "outputs": []
    },
    {
      "cell_type": "code",
      "metadata": {
        "id": "ox77tLCHU7Zn",
        "colab_type": "code",
        "colab": {
          "base_uri": "https://localhost:8080/",
          "height": 74
        },
        "outputId": "fcdb9f9d-fd6c-45df-da25-9b99b61b0d5b"
      },
      "source": [
        "func1.nome"
      ],
      "execution_count": 26,
      "outputs": [
        {
          "output_type": "execute_result",
          "data": {
            "text/plain": [
              "'Rafael Lima'"
            ]
          },
          "metadata": {
            "tags": []
          },
          "execution_count": 26
        }
      ]
    },
    {
      "cell_type": "code",
      "metadata": {
        "id": "OLpYPc9vVAZV",
        "colab_type": "code",
        "colab": {
          "base_uri": "https://localhost:8080/",
          "height": 74
        },
        "outputId": "0ff9e916-1603-4b90-f99e-12c14a58862d"
      },
      "source": [
        "func1.salario"
      ],
      "execution_count": 27,
      "outputs": [
        {
          "output_type": "execute_result",
          "data": {
            "text/plain": [
              "1000"
            ]
          },
          "metadata": {
            "tags": []
          },
          "execution_count": 27
        }
      ]
    },
    {
      "cell_type": "code",
      "metadata": {
        "id": "m66MLwbtVCBX",
        "colab_type": "code",
        "colab": {
          "base_uri": "https://localhost:8080/",
          "height": 74
        },
        "outputId": "5266a5f7-6e85-4f2e-ffa0-205122a47b98"
      },
      "source": [
        "func1.listFunc()"
      ],
      "execution_count": 28,
      "outputs": [
        {
          "output_type": "stream",
          "text": [
            "O nome do funcionário é Rafael Lima e o salário é R$ 1000\n"
          ],
          "name": "stdout"
        }
      ]
    },
    {
      "cell_type": "markdown",
      "metadata": {
        "id": "tfeq4GrxV8hy",
        "colab_type": "text"
      },
      "source": [
        "Existem funções especiais, que permitem manipular os atributos de um objeto."
      ]
    },
    {
      "cell_type": "code",
      "metadata": {
        "id": "2GTqIFSmVElr",
        "colab_type": "code",
        "colab": {
          "base_uri": "https://localhost:8080/",
          "height": 54
        },
        "outputId": "d44889e7-8139-4537-8f3a-f2d074347fb9"
      },
      "source": [
        "# Perguntar o Python se o objeto tem determinado atributo\n",
        "\n",
        "hasattr(func1, 'nome')"
      ],
      "execution_count": 29,
      "outputs": [
        {
          "output_type": "execute_result",
          "data": {
            "text/plain": [
              "True"
            ]
          },
          "metadata": {
            "tags": []
          },
          "execution_count": 29
        }
      ]
    },
    {
      "cell_type": "code",
      "metadata": {
        "id": "exzNT3xYWTwB",
        "colab_type": "code",
        "colab": {
          "base_uri": "https://localhost:8080/",
          "height": 54
        },
        "outputId": "17434581-c83a-41fb-c1fd-2dd819654e2d"
      },
      "source": [
        "hasattr(func1, 'salario')"
      ],
      "execution_count": 30,
      "outputs": [
        {
          "output_type": "execute_result",
          "data": {
            "text/plain": [
              "True"
            ]
          },
          "metadata": {
            "tags": []
          },
          "execution_count": 30
        }
      ]
    },
    {
      "cell_type": "code",
      "metadata": {
        "id": "1X3XgEGVWYmZ",
        "colab_type": "code",
        "colab": {
          "base_uri": "https://localhost:8080/",
          "height": 54
        },
        "outputId": "af2111b5-e356-44da-e81c-31ab721a5717"
      },
      "source": [
        "hasattr(func1, 'umaFuncao')"
      ],
      "execution_count": 31,
      "outputs": [
        {
          "output_type": "execute_result",
          "data": {
            "text/plain": [
              "False"
            ]
          },
          "metadata": {
            "tags": []
          },
          "execution_count": 31
        }
      ]
    },
    {
      "cell_type": "code",
      "metadata": {
        "id": "7ioj_YZaWc_O",
        "colab_type": "code",
        "colab": {}
      },
      "source": [
        "# Indicar ao Python para configurar um novo valor de atributo\n",
        "\n",
        "setattr(func1, 'Mickey Mouse', 3.500)"
      ],
      "execution_count": 0,
      "outputs": []
    },
    {
      "cell_type": "code",
      "metadata": {
        "id": "ur-CKRVSWyrp",
        "colab_type": "code",
        "colab": {
          "base_uri": "https://localhost:8080/",
          "height": 54
        },
        "outputId": "e47ac30f-e227-4b37-e7bd-670a6757204b"
      },
      "source": [
        "# Checar os valores dos atributos\n",
        "getattr(func1, 'nome')"
      ],
      "execution_count": 33,
      "outputs": [
        {
          "output_type": "execute_result",
          "data": {
            "text/plain": [
              "'Rafael Lima'"
            ]
          },
          "metadata": {
            "tags": []
          },
          "execution_count": 33
        }
      ]
    },
    {
      "cell_type": "code",
      "metadata": {
        "id": "dAOMie3JW_yB",
        "colab_type": "code",
        "colab": {}
      },
      "source": [
        "# Deletar um atributo\n",
        "\n",
        "delattr(func1, 'salario')"
      ],
      "execution_count": 0,
      "outputs": []
    },
    {
      "cell_type": "code",
      "metadata": {
        "id": "L8RAmLefXLPa",
        "colab_type": "code",
        "colab": {
          "base_uri": "https://localhost:8080/",
          "height": 201
        },
        "outputId": "ec00ff66-3aa8-45f4-d668-65bf13c7e921"
      },
      "source": [
        "getattr(func1, 'salario')"
      ],
      "execution_count": 36,
      "outputs": [
        {
          "output_type": "error",
          "ename": "AttributeError",
          "evalue": "ignored",
          "traceback": [
            "\u001b[0;31m---------------------------------------------------------------------------\u001b[0m",
            "\u001b[0;31mAttributeError\u001b[0m                            Traceback (most recent call last)",
            "\u001b[0;32m<ipython-input-36-e21616e05dc8>\u001b[0m in \u001b[0;36m<module>\u001b[0;34m()\u001b[0m\n\u001b[0;32m----> 1\u001b[0;31m \u001b[0mgetattr\u001b[0m\u001b[0;34m(\u001b[0m\u001b[0mfunc1\u001b[0m\u001b[0;34m,\u001b[0m \u001b[0;34m'salario'\u001b[0m\u001b[0;34m)\u001b[0m\u001b[0;34m\u001b[0m\u001b[0;34m\u001b[0m\u001b[0m\n\u001b[0m",
            "\u001b[0;31mAttributeError\u001b[0m: 'Funcionario' object has no attribute 'salario'"
          ]
        }
      ]
    },
    {
      "cell_type": "code",
      "metadata": {
        "id": "j6bJPTMuXSI7",
        "colab_type": "code",
        "colab": {
          "base_uri": "https://localhost:8080/",
          "height": 54
        },
        "outputId": "0f98a466-afac-4871-999e-7d84db0bd44d"
      },
      "source": [
        "hasattr(func1, 'salario')"
      ],
      "execution_count": 37,
      "outputs": [
        {
          "output_type": "execute_result",
          "data": {
            "text/plain": [
              "False"
            ]
          },
          "metadata": {
            "tags": []
          },
          "execution_count": 37
        }
      ]
    }
  ]
}