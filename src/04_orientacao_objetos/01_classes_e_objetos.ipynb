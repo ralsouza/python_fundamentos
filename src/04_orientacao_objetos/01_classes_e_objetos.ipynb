{
  "nbformat": 4,
  "nbformat_minor": 0,
  "metadata": {
    "colab": {
      "name": "01_classes_e_objetos.ipynb",
      "provenance": [],
      "collapsed_sections": [],
      "include_colab_link": true
    },
    "kernelspec": {
      "name": "python3",
      "display_name": "Python 3"
    }
  },
  "cells": [
    {
      "cell_type": "markdown",
      "metadata": {
        "id": "view-in-github",
        "colab_type": "text"
      },
      "source": [
        "<a href=\"https://colab.research.google.com/github/ralsouza/python_fundamentos/blob/master/src/04_orientacao_objetos/01_classes_e_objetos.ipynb\" target=\"_parent\"><img src=\"https://colab.research.google.com/assets/colab-badge.svg\" alt=\"Open In Colab\"/></a>"
      ]
    },
    {
      "cell_type": "markdown",
      "metadata": {
        "id": "pLttG_6I2T7g",
        "colab_type": "text"
      },
      "source": [
        "# Resumo\n",
        "\n",
        "## Classes\n",
        "A classe é a estrutura básica do paradigma da orientação a objetos, que representa o tipo do objeto, um modelo a partir do qual os objetos serão criados.\n",
        "\n",
        "A classe é apenas um molde. Uma especificação que define o que um objeto desse tipo deverá ter como atributo e como ele deve se comportar.\n",
        "\n",
        "A classe é uma espécie de template que define a natureza de um futuro objeto. A partir de classes, contruímos instâncias. Cada instância, é um objeto. Uma instância, é um objeto específico, criado a partir de uma classe.\n",
        "\n",
        "## Objetos \n",
        "Os objetos representam entidades, com suas qualidades (atributos) e ações (métodos) que estas podem realizar. Em Python, tudo é um objeto.\n",
        "\n",
        "### Como criar nossos próprios objetos em Python?\n",
        "Objetos definidos pelo usuário em Python são criados a partir de instâncias de classes criadas usando a palavra reservada `class`.\n",
        "\n",
        "Na prática é feito o seguinte: Criamos uma classe (que é um template), então instanciamos os objetos que são criados a partir da classe. \n",
        "\n",
        "Por convenção, o nome das classes começam com letra maíuscula.\n",
        "\n",
        "![alt text](https://i.imgur.com/uugNPGk.png)\n",
        "\n",
        "Em Python, novos objetos são criados a partir das classes. O objeto é uma instância de uma classe, que possui características próprias."
      ]
    },
    {
      "cell_type": "markdown",
      "metadata": {
        "id": "ioZMLsy4-WDu",
        "colab_type": "text"
      },
      "source": [
        "## Classes\n",
        "Para criar uma classe, utiliza-se a palavra reservada `class`. O nome da classe segue a mesma convenção de nomes para a criação de `funções` e `variáveis`, mas normalmente se usa a primeira letra maiúscula em cada palavra no nome da classe."
      ]
    },
    {
      "cell_type": "code",
      "metadata": {
        "id": "SrolCGzq_Bri",
        "colab_type": "code",
        "colab": {}
      },
      "source": [
        "# Criação de uma classe\n",
        "\n",
        "class Livro():\n",
        "\n",
        "  # Este método chama-se contrutor, ele vai inicializar cada objeto criado a partir desta classe\n",
        "  # O nome deste método é __init__ \n",
        "  # (self) é a referência a cada atributo de um objeto criado a partir desta classe\n",
        "\n",
        "  def __init__(self):\n",
        "\n",
        "    # Atributos de cada objeto criado a partir desta classe\n",
        "    # O (self) indica que estes são atributos dos objetos\n",
        "\n",
        "    self.titulo = 'O Monge e o Executivo'\n",
        "    self.isbn = 998888\n",
        "    print('Construtor chamado para criar um objeto desta classe.')\n",
        "\n",
        "  # Métodos são funções, que recebem como parâmetro atributos do objeto criado\n",
        "  def imprime(self):\n",
        "    print('Foi criado um livro {} e ISBN {}'.format(self.titulo, self.isbn))"
      ],
      "execution_count": 0,
      "outputs": []
    },
    {
      "cell_type": "code",
      "metadata": {
        "id": "eGQzOlq1BtmK",
        "colab_type": "code",
        "colab": {
          "base_uri": "https://localhost:8080/",
          "height": 74
        },
        "outputId": "01f4debd-394d-42ed-e642-21a1d736d5d2"
      },
      "source": [
        "# Instanciar um objeto da classe livro, ou seja, criar um objeto\n",
        "livro1 = Livro()"
      ],
      "execution_count": 5,
      "outputs": [
        {
          "output_type": "stream",
          "text": [
            "Construtor chamado para criar um objeto desta classe.\n"
          ],
          "name": "stdout"
        }
      ]
    },
    {
      "cell_type": "code",
      "metadata": {
        "id": "lyIKjin6B6ww",
        "colab_type": "code",
        "colab": {
          "base_uri": "https://localhost:8080/",
          "height": 74
        },
        "outputId": "f0d68422-6106-41dd-ae63-592fbf25f752"
      },
      "source": [
        "# Checar o tipo do objeto livro1\n",
        "type(livro1)"
      ],
      "execution_count": 6,
      "outputs": [
        {
          "output_type": "execute_result",
          "data": {
            "text/plain": [
              "__main__.Livro"
            ]
          },
          "metadata": {
            "tags": []
          },
          "execution_count": 6
        }
      ]
    },
    {
      "cell_type": "code",
      "metadata": {
        "id": "9vmXDqB_CUAf",
        "colab_type": "code",
        "colab": {
          "base_uri": "https://localhost:8080/",
          "height": 74
        },
        "outputId": "75e5c848-3399-4a1d-d5bc-8f1ef7243715"
      },
      "source": [
        "# Imprimir os atributos do objeto criado, não precisa adicionar () ao final\n",
        "livro1.titulo"
      ],
      "execution_count": 8,
      "outputs": [
        {
          "output_type": "execute_result",
          "data": {
            "text/plain": [
              "'O Monge e o Executivo'"
            ]
          },
          "metadata": {
            "tags": []
          },
          "execution_count": 8
        }
      ]
    },
    {
      "cell_type": "code",
      "metadata": {
        "id": "1XYEvFi-Cw6i",
        "colab_type": "code",
        "colab": {
          "base_uri": "https://localhost:8080/",
          "height": 54
        },
        "outputId": "cc165d6a-750d-4223-e75e-c750f81422d0"
      },
      "source": [
        "livro1.isbn"
      ],
      "execution_count": 9,
      "outputs": [
        {
          "output_type": "execute_result",
          "data": {
            "text/plain": [
              "998888"
            ]
          },
          "metadata": {
            "tags": []
          },
          "execution_count": 9
        }
      ]
    },
    {
      "cell_type": "code",
      "metadata": {
        "id": "3W3ZfPU6C1GF",
        "colab_type": "code",
        "colab": {
          "base_uri": "https://localhost:8080/",
          "height": 54
        },
        "outputId": "088bc424-e70d-44ac-c7da-ab11f0fe8a0d"
      },
      "source": [
        "# Invocar o método do objeto, é preciso adicionao ()\n",
        "livro1.imprime()"
      ],
      "execution_count": 11,
      "outputs": [
        {
          "output_type": "stream",
          "text": [
            "Foi criado um livro O Monge e o Executivo e ISBN 998888\n"
          ],
          "name": "stdout"
        }
      ]
    },
    {
      "cell_type": "markdown",
      "metadata": {
        "id": "a30jHGJfDuCg",
        "colab_type": "text"
      },
      "source": [
        "#### Reescrever a classe livro, com novas especificações, agora recebendo argumentos"
      ]
    },
    {
      "cell_type": "code",
      "metadata": {
        "id": "RTWO3WMPDLan",
        "colab_type": "code",
        "colab": {}
      },
      "source": [
        "# Recriar a classe Livro com parâmetros no método contrutor\n",
        "class Livro():\n",
        "\n",
        "  # Definir no argumento do contrutor, os parâmetros de entrada\n",
        "  def __init__(self, titulo, isbn):\n",
        "\n",
        "    # Definição dos atributos\n",
        "    self.titulo = titulo\n",
        "    self.isbn = isbn\n",
        "    print('Contrutor chamado para instanciar um objeto desta classe')\n",
        "\n",
        "  # Definição dos métodos \n",
        "  def imprime(self):\n",
        "    print('Este é o livro {} e ISBN {}.'.format(titulo, isbn))"
      ],
      "execution_count": 0,
      "outputs": []
    },
    {
      "cell_type": "code",
      "metadata": {
        "id": "oj67yB7sFaIu",
        "colab_type": "code",
        "colab": {
          "base_uri": "https://localhost:8080/",
          "height": 74
        },
        "outputId": "72a4b724-2198-4c09-ade1-714ff4346c25"
      },
      "source": [
        "# Instanciar um objeto da classe livro, passando os dados de entrada para o contrutor\n",
        "livro2 = Livro('A Menina que Roubava Livros', 789999)"
      ],
      "execution_count": 20,
      "outputs": [
        {
          "output_type": "stream",
          "text": [
            "Contrutor chamado para instanciar um objeto desta classe\n"
          ],
          "name": "stdout"
        }
      ]
    },
    {
      "cell_type": "code",
      "metadata": {
        "id": "VbyysvvaF3Ov",
        "colab_type": "code",
        "colab": {
          "base_uri": "https://localhost:8080/",
          "height": 74
        },
        "outputId": "11fb5f06-67fd-4c13-b8bb-776088ba37f4"
      },
      "source": [
        "# Checar os atributos\n",
        "livro2.titulo"
      ],
      "execution_count": 21,
      "outputs": [
        {
          "output_type": "execute_result",
          "data": {
            "text/plain": [
              "'A Menina que Roubava Livros'"
            ]
          },
          "metadata": {
            "tags": []
          },
          "execution_count": 21
        }
      ]
    },
    {
      "cell_type": "code",
      "metadata": {
        "id": "RZONeiy5GFLl",
        "colab_type": "code",
        "colab": {
          "base_uri": "https://localhost:8080/",
          "height": 74
        },
        "outputId": "808cfd27-d9f8-4bba-fcc5-2fe173e6bc4a"
      },
      "source": [
        "livro2.isbn"
      ],
      "execution_count": 22,
      "outputs": [
        {
          "output_type": "execute_result",
          "data": {
            "text/plain": [
              "789999"
            ]
          },
          "metadata": {
            "tags": []
          },
          "execution_count": 22
        }
      ]
    },
    {
      "cell_type": "code",
      "metadata": {
        "id": "Hdwnm2jGGM_x",
        "colab_type": "code",
        "colab": {}
      },
      "source": [
        "# Criar a classe cachorro\n",
        "class Cachorro():\n",
        "  def __init__(self, raca):\n",
        "    self.raca = raca\n",
        "    print('Contrutor invocado para instanciar um objeto desta classe')"
      ],
      "execution_count": 0,
      "outputs": []
    },
    {
      "cell_type": "code",
      "metadata": {
        "id": "BkJHqD1vHS-U",
        "colab_type": "code",
        "colab": {
          "base_uri": "https://localhost:8080/",
          "height": 54
        },
        "outputId": "1ceb27e3-cbaf-47bc-8a01-865125d46eba"
      },
      "source": [
        "# Agora instanciar um objeto da classe cachorro\n",
        "rex = Cachorro(raca = 'bull-dog')"
      ],
      "execution_count": 25,
      "outputs": [
        {
          "output_type": "stream",
          "text": [
            "Contrutor invocado para instanciar um objeto desta classe\n"
          ],
          "name": "stdout"
        }
      ]
    },
    {
      "cell_type": "code",
      "metadata": {
        "id": "E7vGKoueHfyS",
        "colab_type": "code",
        "colab": {
          "base_uri": "https://localhost:8080/",
          "height": 54
        },
        "outputId": "83b0468c-45de-4930-d1f6-04a104c35794"
      },
      "source": [
        "# Instanciar outro objeto\n",
        "golias = Cachorro(raca = 'Pit-bull')"
      ],
      "execution_count": 26,
      "outputs": [
        {
          "output_type": "stream",
          "text": [
            "Contrutor invocado para instanciar um objeto desta classe\n"
          ],
          "name": "stdout"
        }
      ]
    },
    {
      "cell_type": "code",
      "metadata": {
        "id": "FNpt4LEnHxPw",
        "colab_type": "code",
        "colab": {
          "base_uri": "https://localhost:8080/",
          "height": 54
        },
        "outputId": "676a1c89-795f-4294-c0a9-bfb618cbaebf"
      },
      "source": [
        "# Invocar os atributos dos objetos\n",
        "rex.raca"
      ],
      "execution_count": 27,
      "outputs": [
        {
          "output_type": "execute_result",
          "data": {
            "text/plain": [
              "'bull-dog'"
            ]
          },
          "metadata": {
            "tags": []
          },
          "execution_count": 27
        }
      ]
    },
    {
      "cell_type": "code",
      "metadata": {
        "id": "nSq6mWifH4gG",
        "colab_type": "code",
        "colab": {
          "base_uri": "https://localhost:8080/",
          "height": 54
        },
        "outputId": "bb2384c1-e3f7-4d34-87a2-24e606ae8149"
      },
      "source": [
        "golias.raca"
      ],
      "execution_count": 28,
      "outputs": [
        {
          "output_type": "execute_result",
          "data": {
            "text/plain": [
              "'Pit-bull'"
            ]
          },
          "metadata": {
            "tags": []
          },
          "execution_count": 28
        }
      ]
    },
    {
      "cell_type": "code",
      "metadata": {
        "id": "jr-um_rbH6yl",
        "colab_type": "code",
        "colab": {}
      },
      "source": [
        ""
      ],
      "execution_count": 0,
      "outputs": []
    }
  ]
}