{
  "nbformat": 4,
  "nbformat_minor": 0,
  "metadata": {
    "colab": {
      "name": "06_funcoes_zip_e_enumerate.ipynb",
      "version": "0.3.2",
      "provenance": [],
      "collapsed_sections": [],
      "include_colab_link": true
    },
    "kernelspec": {
      "name": "python3",
      "display_name": "Python 3"
    }
  },
  "cells": [
    {
      "cell_type": "markdown",
      "metadata": {
        "id": "view-in-github",
        "colab_type": "text"
      },
      "source": [
        "<a href=\"https://colab.research.google.com/github/ralsouza/python_fundamentos/blob/master/src/03_tratamento_arquivos_modulos_pacotes_funcoes_buildin/06_funcoes_zip_e_enumerate.ipynb\" target=\"_parent\"><img src=\"https://colab.research.google.com/assets/colab-badge.svg\" alt=\"Open In Colab\"/></a>"
      ]
    },
    {
      "cell_type": "markdown",
      "metadata": {
        "id": "voVkGNRxEmuN",
        "colab_type": "text"
      },
      "source": [
        "# Funções ZIP e Enumerate\n",
        "## Função ZIP\n",
        "A função `zip()`agrega os valores de duas sequências e retorna uma tupla. \n",
        "\n",
        "Sintaxe: `zip( sequência, sequência )`\n",
        "\n",
        "Pode ser quando o número de elementos for diferente em cada sequência. Mas o objeto retornado terá a mesma quantidade de elementos da sequência menor.\n",
        "\n",
        "Ou seja:\n",
        "\n",
        "```\n",
        "zip( [1,2,3,4], [1,2,3] )\n",
        "(1,1)(2,2)(3,3)\n",
        "```\n",
        "\n",
        "Observação: O quarto valor da primeira lista não será retornado, pois não existe seu correspondente na lista menor.\n",
        "\n",
        "## Função Enumerate\n",
        "Permite retornar o índice de cada valor em uma sequência, à medida que a sequência é percorrida. `Enumerate` retorna uma tupla no formato `tupla( índice, valor )`.\n",
        "\n"
      ]
    },
    {
      "cell_type": "markdown",
      "metadata": {
        "id": "w_5FhKk2HK_D",
        "colab_type": "text"
      },
      "source": [
        "# 1. Função ZIP"
      ]
    },
    {
      "cell_type": "code",
      "metadata": {
        "id": "nn0aDc2NEZOI",
        "colab_type": "code",
        "colab": {}
      },
      "source": [
        "# Criação de duas listas\n",
        "x = [ 1, 2, 3 ]\n",
        "y = [ 4, 5, 6 ]"
      ],
      "execution_count": 0,
      "outputs": []
    },
    {
      "cell_type": "code",
      "metadata": {
        "id": "dRum9kCdHYrM",
        "colab_type": "code",
        "colab": {
          "base_uri": "https://localhost:8080/",
          "height": 54
        },
        "outputId": "135634ce-5584-47a8-be1e-ac3324a9b394"
      },
      "source": [
        "# Unir as listas com a função zip()\n",
        "zip(x, y)"
      ],
      "execution_count": 2,
      "outputs": [
        {
          "output_type": "execute_result",
          "data": {
            "text/plain": [
              "<zip at 0x7fa522954548>"
            ]
          },
          "metadata": {
            "tags": []
          },
          "execution_count": 2
        }
      ]
    },
    {
      "cell_type": "code",
      "metadata": {
        "id": "fNddusJwHzp2",
        "colab_type": "code",
        "colab": {
          "base_uri": "https://localhost:8080/",
          "height": 54
        },
        "outputId": "6b720e8c-c759-4437-9e1c-dc13d78a198a"
      },
      "source": [
        "# A função zip() também retorna um iterator, que deve ser convervido em uma lista para que seja possível visualizas as tuplas\n",
        "# Nota-se que os valores nos índices correspondentes entre as listas, foram unidas\n",
        "list( zip( x, y) )"
      ],
      "execution_count": 3,
      "outputs": [
        {
          "output_type": "execute_result",
          "data": {
            "text/plain": [
              "[(1, 4), (2, 5), (3, 6)]"
            ]
          },
          "metadata": {
            "tags": []
          },
          "execution_count": 3
        }
      ]
    },
    {
      "cell_type": "code",
      "metadata": {
        "id": "lPLLOubcIENz",
        "colab_type": "code",
        "colab": {
          "base_uri": "https://localhost:8080/",
          "height": 54
        },
        "outputId": "8860a3e7-194d-4e74-94d0-810fcc3faaf3"
      },
      "source": [
        "# Testando com quantidades diferentes de valores\n",
        "# Apenas duas tuplas serão retornadas, pois será retornado o tamanho da menor tupla\n",
        "list( zip( 'ABC', 'xy' ) )"
      ],
      "execution_count": 4,
      "outputs": [
        {
          "output_type": "execute_result",
          "data": {
            "text/plain": [
              "[('A', 'x'), ('B', 'y')]"
            ]
          },
          "metadata": {
            "tags": []
          },
          "execution_count": 4
        }
      ]
    },
    {
      "cell_type": "code",
      "metadata": {
        "id": "F5ijX9HpIkGR",
        "colab_type": "code",
        "colab": {}
      },
      "source": [
        "# Criar outras duas listas\n",
        "a = [1,2,3]\n",
        "b = [4,5,6,7,8]"
      ],
      "execution_count": 0,
      "outputs": []
    },
    {
      "cell_type": "code",
      "metadata": {
        "id": "JuGjtHzjI0FI",
        "colab_type": "code",
        "colab": {
          "base_uri": "https://localhost:8080/",
          "height": 74
        },
        "outputId": "683473d4-0905-45fb-f66e-f36f3e99e3e5"
      },
      "source": [
        "list( zip( a, b) )"
      ],
      "execution_count": 7,
      "outputs": [
        {
          "output_type": "execute_result",
          "data": {
            "text/plain": [
              "[(1, 4), (2, 5), (3, 6)]"
            ]
          },
          "metadata": {
            "tags": []
          },
          "execution_count": 7
        }
      ]
    },
    {
      "cell_type": "code",
      "metadata": {
        "id": "XN6eDqYqI59p",
        "colab_type": "code",
        "colab": {}
      },
      "source": [
        "# Dicionários em Python também são sequências\n",
        "d1 = { 'a': 1, 'b': 2 }\n",
        "d2 = { 'c': 4, 'd': 5 }"
      ],
      "execution_count": 0,
      "outputs": []
    },
    {
      "cell_type": "code",
      "metadata": {
        "id": "UGJp-gN2JP1a",
        "colab_type": "code",
        "colab": {
          "base_uri": "https://localhost:8080/",
          "height": 54
        },
        "outputId": "ee59b5c1-eb98-48ba-f8e8-4425e8388d01"
      },
      "source": [
        "# A função zip() unirá as chaves, desconsiderando os valores\n",
        "list( zip( d1, d2 ) )"
      ],
      "execution_count": 9,
      "outputs": [
        {
          "output_type": "execute_result",
          "data": {
            "text/plain": [
              "[('a', 'c'), ('b', 'd')]"
            ]
          },
          "metadata": {
            "tags": []
          },
          "execution_count": 9
        }
      ]
    },
    {
      "cell_type": "code",
      "metadata": {
        "id": "nN5Jq-jEJYyC",
        "colab_type": "code",
        "colab": {
          "base_uri": "https://localhost:8080/",
          "height": 74
        },
        "outputId": "37a66a73-fcc6-4741-9437-16b4e044339f"
      },
      "source": [
        "# Unindo as chaves\n",
        "list( zip( d1.values(), d2.values() ) )"
      ],
      "execution_count": 11,
      "outputs": [
        {
          "output_type": "execute_result",
          "data": {
            "text/plain": [
              "[(1, 4), (2, 5)]"
            ]
          },
          "metadata": {
            "tags": []
          },
          "execution_count": 11
        }
      ]
    },
    {
      "cell_type": "code",
      "metadata": {
        "id": "xtYnoXjuJwmE",
        "colab_type": "code",
        "colab": {
          "base_uri": "https://localhost:8080/",
          "height": 54
        },
        "outputId": "b2b57d81-699f-4076-a569-15cac4b8de68"
      },
      "source": [
        "# Ou apenas o valor de uma das chaves\n",
        "list( zip( d1, d2.values() ) )"
      ],
      "execution_count": 12,
      "outputs": [
        {
          "output_type": "execute_result",
          "data": {
            "text/plain": [
              "[('a', 4), ('b', 5)]"
            ]
          },
          "metadata": {
            "tags": []
          },
          "execution_count": 12
        }
      ]
    },
    {
      "cell_type": "code",
      "metadata": {
        "id": "TgdzcYEmKiWo",
        "colab_type": "code",
        "colab": {}
      },
      "source": [
        "# Criar uma função para trocar os valores entre os dois dicionários\n",
        "def trocaValores( d1, d2 ):\n",
        "  \n",
        "  dicTemp = {}\n",
        "  \n",
        "  for d1key, d2val in zip( d1, d2.values() ):\n",
        "    \n",
        "    dicTemp[ d1key ] = d2val\n",
        "    \n",
        "    return dicTemp"
      ],
      "execution_count": 0,
      "outputs": []
    },
    {
      "cell_type": "code",
      "metadata": {
        "id": "ewsB1fUgLSOc",
        "colab_type": "code",
        "colab": {
          "base_uri": "https://localhost:8080/",
          "height": 74
        },
        "outputId": "81f60b9a-27e1-4c03-8e52-d72c295e851c"
      },
      "source": [
        "trocaValores( d1, d2 )"
      ],
      "execution_count": 17,
      "outputs": [
        {
          "output_type": "execute_result",
          "data": {
            "text/plain": [
              "{'a': 4}"
            ]
          },
          "metadata": {
            "tags": []
          },
          "execution_count": 17
        }
      ]
    },
    {
      "cell_type": "markdown",
      "metadata": {
        "id": "pjnJ_xdzKcaZ",
        "colab_type": "text"
      },
      "source": [
        "# 2. Função Enumerate"
      ]
    },
    {
      "cell_type": "code",
      "metadata": {
        "id": "Ul_iuboEKfsV",
        "colab_type": "code",
        "colab": {}
      },
      "source": [
        "# Criar uma lista com três caracteres\n",
        "seq = [ 'a', 'b', 'c' ]"
      ],
      "execution_count": 0,
      "outputs": []
    },
    {
      "cell_type": "code",
      "metadata": {
        "id": "vDz8hZUrMIAZ",
        "colab_type": "code",
        "colab": {
          "base_uri": "https://localhost:8080/",
          "height": 54
        },
        "outputId": "bbb5215a-a07c-4e17-f2ce-53f59a2908b1"
      },
      "source": [
        "# Será retornado um iterator\n",
        "enumerate( seq )"
      ],
      "execution_count": 19,
      "outputs": [
        {
          "output_type": "execute_result",
          "data": {
            "text/plain": [
              "<enumerate at 0x7fa5220ba288>"
            ]
          },
          "metadata": {
            "tags": []
          },
          "execution_count": 19
        }
      ]
    },
    {
      "cell_type": "code",
      "metadata": {
        "id": "cdWqFVAfMOKp",
        "colab_type": "code",
        "colab": {
          "base_uri": "https://localhost:8080/",
          "height": 74
        },
        "outputId": "cc67f4dc-0a9d-4c8c-9b16-bfe86c891a64"
      },
      "source": [
        "# Novamente precisamos converter para uma lista para obtermos os valores\n",
        "# Nota-se que o primeiro elemento de cada tupla é um índice\n",
        "list( enumerate( seq ) )"
      ],
      "execution_count": 21,
      "outputs": [
        {
          "output_type": "execute_result",
          "data": {
            "text/plain": [
              "[(0, 'a'), (1, 'b'), (2, 'c')]"
            ]
          },
          "metadata": {
            "tags": []
          },
          "execution_count": 21
        }
      ]
    },
    {
      "cell_type": "code",
      "metadata": {
        "id": "JeSov7AHMWkg",
        "colab_type": "code",
        "colab": {
          "base_uri": "https://localhost:8080/",
          "height": 87
        },
        "outputId": "9b66ab45-ad5d-40ff-e3e3-86503677e676"
      },
      "source": [
        "# Imprimir os valores de uma lista com a função enumerate() e seus respectivos índices\n",
        "for indice, valor in enumerate( seq ): \n",
        "  print( indice, valor )"
      ],
      "execution_count": 22,
      "outputs": [
        {
          "output_type": "stream",
          "text": [
            "0 a\n",
            "1 b\n",
            "2 c\n"
          ],
          "name": "stdout"
        }
      ]
    },
    {
      "cell_type": "code",
      "metadata": {
        "id": "Xz1px9qZNCj7",
        "colab_type": "code",
        "colab": {
          "base_uri": "https://localhost:8080/",
          "height": 92
        },
        "outputId": "1ed61907-2c01-4715-eb0e-72335dc236ba"
      },
      "source": [
        "# Percorrer os elementos dentro da lista com seus respectivos índices\n",
        "# Se o índice for maior ou igual à dois parar a execução\n",
        "# Isto é útil para retornar parte valores em função do índice\n",
        "for indice, valor in enumerate( seq ):\n",
        "  if( indice >= 2):\n",
        "    break\n",
        "  else:\n",
        "    print( valor )"
      ],
      "execution_count": 24,
      "outputs": [
        {
          "output_type": "stream",
          "text": [
            "a\n",
            "b\n"
          ],
          "name": "stdout"
        }
      ]
    },
    {
      "cell_type": "code",
      "metadata": {
        "id": "m47gZP5rODva",
        "colab_type": "code",
        "colab": {}
      },
      "source": [
        "# Criar uma lista de strings\n",
        "lst = [ 'Marketing', 'Tecnologia', 'Business' ]"
      ],
      "execution_count": 0,
      "outputs": []
    },
    {
      "cell_type": "code",
      "metadata": {
        "id": "sHvzE1VGN7lo",
        "colab_type": "code",
        "colab": {
          "base_uri": "https://localhost:8080/",
          "height": 107
        },
        "outputId": "4809ea60-9188-4d2c-c2c2-2c3334556d6e"
      },
      "source": [
        "# Imprimir os índices e seus valores respectivos\n",
        "for i, item in enumerate( lst ):\n",
        "  print( i, item )"
      ],
      "execution_count": 28,
      "outputs": [
        {
          "output_type": "stream",
          "text": [
            "0 Marketing\n",
            "1 Tecnologia\n",
            "2 Business\n"
          ],
          "name": "stdout"
        }
      ]
    },
    {
      "cell_type": "code",
      "metadata": {
        "id": "DG69dAwDOV8a",
        "colab_type": "code",
        "colab": {
          "base_uri": "https://localhost:8080/",
          "height": 319
        },
        "outputId": "255d7e3e-c84a-4a1a-f560-7ad971a95dab"
      },
      "source": [
        "# A sequência de elementos pode ser qualquer coisa, inclusive uma string\n",
        "for i, itens in enumerate( 'Isso é uma string' ):\n",
        "  print( i, itens)\n"
      ],
      "execution_count": 29,
      "outputs": [
        {
          "output_type": "stream",
          "text": [
            "0 I\n",
            "1 s\n",
            "2 s\n",
            "3 o\n",
            "4  \n",
            "5 é\n",
            "6  \n",
            "7 u\n",
            "8 m\n",
            "9 a\n",
            "10  \n",
            "11 s\n",
            "12 t\n",
            "13 r\n",
            "14 i\n",
            "15 n\n",
            "16 g\n"
          ],
          "name": "stdout"
        }
      ]
    },
    {
      "cell_type": "code",
      "metadata": {
        "id": "_K5oEKZ3OuAU",
        "colab_type": "code",
        "colab": {
          "base_uri": "https://localhost:8080/",
          "height": 223
        },
        "outputId": "57bd21c1-a8d7-419a-dd22-a0db4cf4072c"
      },
      "source": [
        "# E também fazer o mesmo com um range de elementos\n",
        "for i, itens in enumerate( range( 10 ) ):\n",
        "  print( i, itens )"
      ],
      "execution_count": 31,
      "outputs": [
        {
          "output_type": "stream",
          "text": [
            "0 0\n",
            "1 1\n",
            "2 2\n",
            "3 3\n",
            "4 4\n",
            "5 5\n",
            "6 6\n",
            "7 7\n",
            "8 8\n",
            "9 9\n"
          ],
          "name": "stdout"
        }
      ]
    }
  ]
}