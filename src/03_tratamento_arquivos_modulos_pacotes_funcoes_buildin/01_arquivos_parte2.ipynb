{
  "nbformat": 4,
  "nbformat_minor": 0,
  "metadata": {
    "colab": {
      "name": "01_arquivos_parte2.ipynb",
      "version": "0.3.2",
      "provenance": [],
      "collapsed_sections": [],
      "include_colab_link": true
    },
    "kernelspec": {
      "name": "python3",
      "display_name": "Python 3"
    }
  },
  "cells": [
    {
      "cell_type": "markdown",
      "metadata": {
        "id": "view-in-github",
        "colab_type": "text"
      },
      "source": [
        "<a href=\"https://colab.research.google.com/github/ralsouza/python_fundamentos/blob/master/src/03_tratamento_arquivos_modulos_pacotes_funcoes_buildin/01_arquivos_parte2.ipynb\" target=\"_parent\"><img src=\"https://colab.research.google.com/assets/colab-badge.svg\" alt=\"Open In Colab\"/></a>"
      ]
    },
    {
      "cell_type": "markdown",
      "metadata": {
        "id": "pcWb2EZKxneQ",
        "colab_type": "text"
      },
      "source": [
        "# Manipulação de Arquivos\n",
        "*   Arquivos TXT\n",
        "*   Arquivos CSV\n",
        "*   Arquivos JSON\n",
        "\n"
      ]
    },
    {
      "cell_type": "markdown",
      "metadata": {
        "id": "NI3EWI5IxuxU",
        "colab_type": "text"
      },
      "source": [
        "## 1. Arquivos TXT"
      ]
    },
    {
      "cell_type": "code",
      "metadata": {
        "id": "T6G9jdlcxXMB",
        "colab_type": "code",
        "colab": {}
      },
      "source": [
        "texto = 'Cientista de Dados é a profissão que mais tem crescido em todo o mundo.\\n'\n",
        "texto = texto + 'Estes profissionais precisam se especializar em programação, estatística e machine learning.\\n'\n",
        "texto += 'E claro em big data.'"
      ],
      "execution_count": 0,
      "outputs": []
    },
    {
      "cell_type": "code",
      "metadata": {
        "id": "7G5IdjLwyV4I",
        "colab_type": "code",
        "outputId": "8b9593fe-7a9f-40cd-ea3f-1bb664d9a414",
        "colab": {
          "base_uri": "https://localhost:8080/",
          "height": 367
        }
      },
      "source": [
        "print (texto)"
      ],
      "execution_count": 0,
      "outputs": [
        {
          "output_type": "stream",
          "text": [
            "Cientista de Dados é a profissão que mais tem crescido em todo o mundo.\n",
            "Estes profissionais precisam se especializar em programação, estatística e machine learning.\n",
            "E claro em big data.\n"
          ],
          "name": "stdout"
        }
      ]
    },
    {
      "cell_type": "code",
      "metadata": {
        "id": "C2cqoKMsyW_w",
        "colab_type": "code",
        "colab": {}
      },
      "source": [
        "# Importar o módulo OS\n",
        "import os"
      ],
      "execution_count": 0,
      "outputs": []
    },
    {
      "cell_type": "code",
      "metadata": {
        "id": "T-73jL4KytQ6",
        "colab_type": "code",
        "colab": {}
      },
      "source": [
        "# Criar um novo arquivo no file system\n",
        "# Se o arquivo não existir, o Python criará um novo arquivo com o nome especificado\n",
        "arquivo = open(os.path.join('/content/cientista.txt'), 'w')"
      ],
      "execution_count": 0,
      "outputs": []
    },
    {
      "cell_type": "code",
      "metadata": {
        "id": "WUtw9KWBzJeF",
        "colab_type": "code",
        "colab": {}
      },
      "source": [
        "# Efetuar a gravação no texto, baseado nos espaços em branco com a função split()\n",
        "for palavra in texto.split():\n",
        "  arquivo.write(palavra + ' ')"
      ],
      "execution_count": 0,
      "outputs": []
    },
    {
      "cell_type": "code",
      "metadata": {
        "id": "uesPmzq22Akm",
        "colab_type": "code",
        "colab": {}
      },
      "source": [
        "arquivo.close()"
      ],
      "execution_count": 0,
      "outputs": []
    },
    {
      "cell_type": "code",
      "metadata": {
        "id": "tus1Zy8p2DKB",
        "colab_type": "code",
        "outputId": "88a03ab6-e43e-4edc-9adb-199a03447a24",
        "colab": {
          "base_uri": "https://localhost:8080/",
          "height": 74
        }
      },
      "source": [
        "# Ler conteúdo do arquivo\n",
        "arquivo = open('/content/cientista.txt', 'r')\n",
        "conteudo = arquivo.read()\n",
        "arquivo.close()\n",
        "\n",
        "print(conteudo)"
      ],
      "execution_count": 0,
      "outputs": [
        {
          "output_type": "stream",
          "text": [
            "Cientista de Dados é a profissão que mais tem crescido em todo o mundo. Estes profissionais precisam se especializar em programação, estatística e machine learning. E claro em big data. \n"
          ],
          "name": "stdout"
        }
      ]
    },
    {
      "cell_type": "markdown",
      "metadata": {
        "id": "s6YCPnY33HZU",
        "colab_type": "text"
      },
      "source": [
        "## 2. Expressão *with*\n",
        "O método *close()* é executado automaticamente."
      ]
    },
    {
      "cell_type": "code",
      "metadata": {
        "id": "GtbF3Lt62Vdz",
        "colab_type": "code",
        "colab": {}
      },
      "source": [
        "with open('/content/cientista.txt', 'r') as arquivo:\n",
        "  conteudo = arquivo.read()"
      ],
      "execution_count": 0,
      "outputs": []
    },
    {
      "cell_type": "code",
      "metadata": {
        "id": "lr50UNTw3l41",
        "colab_type": "code",
        "outputId": "6b3bf6a4-e04c-43ed-eb8c-ffe11a0208ec",
        "colab": {
          "base_uri": "https://localhost:8080/",
          "height": 54
        }
      },
      "source": [
        "print(len(conteudo))"
      ],
      "execution_count": 0,
      "outputs": [
        {
          "output_type": "stream",
          "text": [
            "186\n"
          ],
          "name": "stdout"
        }
      ]
    },
    {
      "cell_type": "code",
      "metadata": {
        "id": "N1zfknZx36PO",
        "colab_type": "code",
        "outputId": "7d74936b-5c8c-4f56-999d-5a869ee5695b",
        "colab": {
          "base_uri": "https://localhost:8080/",
          "height": 54
        }
      },
      "source": [
        "print(conteudo)"
      ],
      "execution_count": 0,
      "outputs": [
        {
          "output_type": "stream",
          "text": [
            "Cientista de Dados é a profissão que mais tem crescido em todo o mundo. Estes profissionais precisam se especializar em programação, estatística e machine learning. E claro em big data. \n"
          ],
          "name": "stdout"
        }
      ]
    },
    {
      "cell_type": "code",
      "metadata": {
        "id": "rvjnCVs43-lq",
        "colab_type": "code",
        "colab": {}
      },
      "source": [
        "# Usar notações de slicing\n",
        "with open('/content/sample_data/cientista.txt', 'w') as arquivo:\n",
        "  # Imprimir os dados da posição 0 à 21\n",
        "  arquivo.write(texto[ :21])\n",
        "  # Quebrar a linha\n",
        "  arquivo.write('\\n')\n",
        "  # Imprimir os dados de 0 à 33\n",
        "  arquivo.write(texto[ :33])"
      ],
      "execution_count": 0,
      "outputs": []
    },
    {
      "cell_type": "code",
      "metadata": {
        "id": "_DdK995_4s8r",
        "colab_type": "code",
        "outputId": "8e7ba167-985e-4156-8f85-991a19cf8fde",
        "colab": {
          "base_uri": "https://localhost:8080/",
          "height": 373
        }
      },
      "source": [
        "# Ler o arquivo\n",
        "arquivo = open('/content/sample_data/cientista.txt', 'r')\n",
        "conteudo = arquivo.read()\n",
        "arquivo.close()\n",
        "\n",
        "print(conteudo)"
      ],
      "execution_count": 0,
      "outputs": [
        {
          "output_type": "stream",
          "text": [
            "Cientista de Dados é \n",
            "Cientista de Dados é a profissão \n"
          ],
          "name": "stdout"
        }
      ]
    },
    {
      "cell_type": "markdown",
      "metadata": {
        "id": "d_1HGe8usKi3",
        "colab_type": "text"
      },
      "source": [
        "## 3. Arquivos CSV"
      ]
    },
    {
      "cell_type": "code",
      "metadata": {
        "id": "BbM9VkhcsPLP",
        "colab_type": "code",
        "colab": {}
      },
      "source": [
        "# Importar módulo csv\n",
        "import csv"
      ],
      "execution_count": 0,
      "outputs": []
    },
    {
      "cell_type": "code",
      "metadata": {
        "id": "1zUOu50FtEX0",
        "colab_type": "code",
        "colab": {}
      },
      "source": [
        "# Escrever no arquivo\n",
        "with open('/content/sample_data/numeros.csv', 'w') as arquivo:\n",
        "  writer = csv.writer(arquivo)\n",
        "  writer.writerow(('primeira', 'segunda', 'terceira'))\n",
        "  writer.writerow((55,93,76))\n",
        "  writer.writerow((62,14,86))"
      ],
      "execution_count": 0,
      "outputs": []
    },
    {
      "cell_type": "code",
      "metadata": {
        "id": "z7szgSFqxGgf",
        "colab_type": "code",
        "outputId": "a4682573-fd65-41d3-d3b5-c757da6d14e7",
        "colab": {
          "base_uri": "https://localhost:8080/",
          "height": 260
        }
      },
      "source": [
        "# Ler o arquivo gravado anteriormente\n",
        "with open('/content/sample_data/numeros.csv', 'r') as arquivo:\n",
        "  leitor = csv.reader(arquivo)\n",
        "  for i in leitor:\n",
        "    print('Número de colunas', len(i))\n",
        "    print(i)\n"
      ],
      "execution_count": 0,
      "outputs": [
        {
          "output_type": "stream",
          "text": [
            "Número de colunas 3\n",
            "['primeira', 'segunda', 'terceira']\n",
            "Número de colunas 3\n",
            "['55', '93', '76']\n",
            "Número de colunas 3\n",
            "['62', '14', '86']\n"
          ],
          "name": "stdout"
        }
      ]
    },
    {
      "cell_type": "code",
      "metadata": {
        "id": "o2lMhnAWx3Sc",
        "colab_type": "code",
        "outputId": "cc4d581f-6e68-436b-a6ea-4c5772ce20a4",
        "colab": {
          "base_uri": "https://localhost:8080/",
          "height": 174
        }
      },
      "source": [
        "# Transferir o conteúdo do arquivo para uma lista na memória\n",
        "with open('/content/sample_data/numeros.csv', 'r') as arquivo:\n",
        "  leitor = csv.reader(arquivo)\n",
        "  dados = list(leitor)\n",
        "  \n",
        "print(dados)"
      ],
      "execution_count": 0,
      "outputs": [
        {
          "output_type": "stream",
          "text": [
            "[['primeira', 'segunda', 'terceira'], ['55', '93', '76'], ['62', '14', '86']]\n"
          ],
          "name": "stdout"
        }
      ]
    },
    {
      "cell_type": "code",
      "metadata": {
        "id": "S-QATvaIybgA",
        "colab_type": "code",
        "outputId": "c1454714-a918-487b-8341-c6747b94f5a9",
        "colab": {
          "base_uri": "https://localhost:8080/",
          "height": 213
        }
      },
      "source": [
        "# Imprimir a partir da segunda linha, removendo o cabeçalho\n",
        "for linha in dados[1: ]:\n",
        "  print(linha)"
      ],
      "execution_count": 0,
      "outputs": [
        {
          "output_type": "stream",
          "text": [
            "['55', '93', '76']\n",
            "['62', '14', '86']\n"
          ],
          "name": "stdout"
        }
      ]
    },
    {
      "cell_type": "code",
      "metadata": {
        "id": "nLJPz9JHzQ0v",
        "colab_type": "code",
        "outputId": "346c857b-b9b3-421d-dfb8-084a34c4246e",
        "colab": {
          "base_uri": "https://localhost:8080/",
          "height": 227
        }
      },
      "source": [
        "# Imprimir todas as linhas\n",
        "for linha in dados[0:]:\n",
        "  print(linha)"
      ],
      "execution_count": 0,
      "outputs": [
        {
          "output_type": "stream",
          "text": [
            "['primeira', 'segunda', 'terceira']\n",
            "['55', '93', '76']\n",
            "['62', '14', '86']\n"
          ],
          "name": "stdout"
        }
      ]
    },
    {
      "cell_type": "markdown",
      "metadata": {
        "id": "N9htGcoPzj5n",
        "colab_type": "text"
      },
      "source": [
        "## 4. Arquivos JSON (JavaScript Object Notation)"
      ]
    },
    {
      "cell_type": "code",
      "metadata": {
        "id": "x7Sma8GVziNB",
        "colab_type": "code",
        "colab": {}
      },
      "source": [
        "# Criação de um dicionário\n",
        "dict = {'nome': 'Guido Van Rossum',\n",
        "        'linguagem': 'Python',\n",
        "        'similar': ['c','Modula-3','Lisp'],\n",
        "        'users': 1000000}"
      ],
      "execution_count": 0,
      "outputs": []
    },
    {
      "cell_type": "code",
      "metadata": {
        "id": "NmrMzFFC0qcE",
        "colab_type": "code",
        "outputId": "8b7a392c-7a78-4ddd-a997-ce0daec1ecce",
        "colab": {
          "base_uri": "https://localhost:8080/",
          "height": 226
        }
      },
      "source": [
        "# Impressão do dicionário por chave e valor\n",
        "for k,v in dict.items():\n",
        "  print(k,v)"
      ],
      "execution_count": 0,
      "outputs": [
        {
          "output_type": "stream",
          "text": [
            "nome Guido Van Rossum\n",
            "linguagem Python\n",
            "similar ['c', 'Modula-3', 'Lisp']\n",
            "users 1000000\n"
          ],
          "name": "stdout"
        }
      ]
    },
    {
      "cell_type": "code",
      "metadata": {
        "id": "1AjV5T5r1Drl",
        "colab_type": "code",
        "colab": {}
      },
      "source": [
        "# Importação do módulo JSON\n",
        "import json"
      ],
      "execution_count": 0,
      "outputs": []
    },
    {
      "cell_type": "code",
      "metadata": {
        "id": "TXfvmMJx1Nxt",
        "colab_type": "code",
        "outputId": "5bf5eb82-92d5-45f0-c14e-5daa5cc3767a",
        "colab": {
          "base_uri": "https://localhost:8080/",
          "height": 74
        }
      },
      "source": [
        "# Conversão de um dicionário em um json\n",
        "json.dumps(dict)"
      ],
      "execution_count": 0,
      "outputs": [
        {
          "output_type": "execute_result",
          "data": {
            "text/plain": [
              "'{\"nome\": \"Guido Van Rossum\", \"linguagem\": \"Python\", \"similar\": [\"c\", \"Modula-3\", \"Lisp\"], \"users\": 1000000}'"
            ]
          },
          "metadata": {
            "tags": []
          },
          "execution_count": 25
        }
      ]
    },
    {
      "cell_type": "code",
      "metadata": {
        "id": "fbFBwyWA1S6l",
        "colab_type": "code",
        "colab": {}
      },
      "source": [
        "# Abrir um arquivo json, se o arquivo não existir, um novo será criado\n",
        "# E gravar os dados do dicionário dict no arquivo\n",
        "with open('/content/sample_data/dados.json', 'w') as arquivo:\n",
        "  arquivo.write(json.dumps(dict))"
      ],
      "execution_count": 0,
      "outputs": []
    },
    {
      "cell_type": "code",
      "metadata": {
        "id": "WfUTjbJI2YRa",
        "colab_type": "code",
        "outputId": "9fb38507-3c91-4cb1-fd65-6646201fc3dd",
        "colab": {
          "base_uri": "https://localhost:8080/",
          "height": 74
        }
      },
      "source": [
        "# Leitura do arquivo e impressão do conteúdo\n",
        "with open('/content/sample_data/dados.json', 'r') as arquivo:\n",
        "  content = arquivo.read()\n",
        "  data = json.loads(content)\n",
        "  \n",
        "print(data)"
      ],
      "execution_count": 0,
      "outputs": [
        {
          "output_type": "stream",
          "text": [
            "{'nome': 'Guido Van Rossum', 'linguagem': 'Python', 'similar': ['c', 'Modula-3', 'Lisp'], 'users': 1000000}\n"
          ],
          "name": "stdout"
        }
      ]
    },
    {
      "cell_type": "code",
      "metadata": {
        "id": "xfDjvoem29WM",
        "colab_type": "code",
        "outputId": "e648c3e2-33f9-4615-9252-9b541a7af662",
        "colab": {
          "base_uri": "https://localhost:8080/",
          "height": 54
        }
      },
      "source": [
        "# Como um arquivo json é um dicionário em Python\n",
        "# é possível acessar o valor através da chave do objeto\n",
        "print(data['nome'])"
      ],
      "execution_count": 0,
      "outputs": [
        {
          "output_type": "stream",
          "text": [
            "Guido Van Rossum\n"
          ],
          "name": "stdout"
        }
      ]
    },
    {
      "cell_type": "code",
      "metadata": {
        "id": "4h3VdvR-3XmO",
        "colab_type": "code",
        "outputId": "e1298fc9-2373-4321-c18b-55abc9c3b349",
        "colab": {
          "base_uri": "https://localhost:8080/",
          "height": 573
        }
      },
      "source": [
        "# Buscar um json na internet\n",
        "from urllib.request import urlopen\n",
        "\n",
        "response = urlopen('http://vimeo.com/api/v2/video/57733101.json').read().decode('utf8')\n",
        "data = json.loads(response)[0]\n",
        "\n",
        "# Formatar o arquivo json para estrutura legível\n",
        "pretty_json = json.dumps(data, indent = 4, sort_keys = True)\n",
        "\n",
        "print(pretty_json)"
      ],
      "execution_count": 41,
      "outputs": [
        {
          "output_type": "stream",
          "text": [
            "{\n",
            "    \"description\": \"Trailer for the Manifesto Films production, The Good Man, now available in UK/Ireland/US/Canada/Australia/New Zealand on iTunes (https://itunes.apple.com/us/movie/the-good-man/id873130906) and DVD (http://www.amazon.co.uk/The-Good-Man-Aiden-Gillen/dp/B00IIK6CGU/). Co-production with Jet Black Entertainment (South Africa). Starring Aidan Gillen, Thabang Sidloyi, Kelly Campbell, Lunathi Mampofu. Written & directed by Phil Harrison. More info at www.thegoodmanfilm.com<br />\\r\\n<br />\\r\\nCheck out the Variety Magazine review here: http://www.variety.com/review/VE1117947909/\",\n",
            "    \"duration\": 143,\n",
            "    \"embed_privacy\": \"anywhere\",\n",
            "    \"height\": 360,\n",
            "    \"id\": 57733101,\n",
            "    \"stats_number_of_comments\": 0,\n",
            "    \"stats_number_of_likes\": 17,\n",
            "    \"stats_number_of_plays\": 5791,\n",
            "    \"tags\": \"film, ireland, africa, cape town, belfast\",\n",
            "    \"thumbnail_large\": \"http://i.vimeocdn.com/video/436057121_640.jpg\",\n",
            "    \"thumbnail_medium\": \"http://i.vimeocdn.com/video/436057121_200x150.jpg\",\n",
            "    \"thumbnail_small\": \"http://i.vimeocdn.com/video/436057121_100x75.jpg\",\n",
            "    \"title\": \"The Good Man trailer\",\n",
            "    \"upload_date\": \"2013-01-19 04:01:15\",\n",
            "    \"url\": \"https://vimeo.com/57733101\",\n",
            "    \"user_id\": 1334563,\n",
            "    \"user_name\": \"Manifesto Films\",\n",
            "    \"user_portrait_huge\": \"http://i.vimeocdn.com/portrait/4778306_300x300\",\n",
            "    \"user_portrait_large\": \"http://i.vimeocdn.com/portrait/4778306_100x100\",\n",
            "    \"user_portrait_medium\": \"http://i.vimeocdn.com/portrait/4778306_75x75\",\n",
            "    \"user_portrait_small\": \"http://i.vimeocdn.com/portrait/4778306_30x30\",\n",
            "    \"user_url\": \"https://vimeo.com/manifestofilms\",\n",
            "    \"width\": 640\n",
            "}\n"
          ],
          "name": "stdout"
        }
      ]
    },
    {
      "cell_type": "code",
      "metadata": {
        "id": "YZDJj3xl4hzM",
        "colab_type": "code",
        "outputId": "bb65e2e7-9d4c-492b-a9af-e6cd98933e90",
        "colab": {
          "base_uri": "https://localhost:8080/",
          "height": 326
        }
      },
      "source": [
        "# Impressão dos dados do arquivo baixado\n",
        "print('Título: ', data['title'])\n",
        "print('URL: ', data['url'])\n",
        "print('Duração: ', data['duration'])\n",
        "print('Nro de Visualizações: ', data['stats_number_of_plays'])"
      ],
      "execution_count": 33,
      "outputs": [
        {
          "output_type": "stream",
          "text": [
            "Título:  The Good Man trailer\n",
            "URL:  https://vimeo.com/57733101\n",
            "Duração:  143\n",
            "Nro de Visualizações:  5791\n"
          ],
          "name": "stdout"
        }
      ]
    },
    {
      "cell_type": "code",
      "metadata": {
        "id": "x9tu-Fu45TKU",
        "colab_type": "code",
        "colab": {}
      },
      "source": [
        "# Copiar os dados no json para outro arquivo no sistema de arquivos\n",
        "# Primeiramente baixar o módulo os\n",
        "import os\n",
        "arquivo_fonte = '/content/sample_data/dados.json'\n",
        "arquivo_destino = '/content/sample_data/json_data.txt'"
      ],
      "execution_count": 0,
      "outputs": []
    },
    {
      "cell_type": "code",
      "metadata": {
        "id": "idzDz-Da78Nm",
        "colab_type": "code",
        "colab": {}
      },
      "source": [
        "# Método 1\n",
        "with open(arquivo_fonte, 'r') as origem:\n",
        "  text = origem.read()\n",
        "  with open(arquivo_destino, 'w') as destino:\n",
        "    destino.write(text)    "
      ],
      "execution_count": 0,
      "outputs": []
    },
    {
      "cell_type": "code",
      "metadata": {
        "id": "04KxDgR38h1a",
        "colab_type": "code",
        "colab": {
          "base_uri": "https://localhost:8080/",
          "height": 194
        },
        "outputId": "b4351b4b-b7be-4f14-fcfc-2f67cbb1e432"
      },
      "source": [
        "# Método 2 - Unindo tudo em uma única linha\n",
        "open(arquivo_destino, 'w').write(open(arquivo_fonte, 'r').read())"
      ],
      "execution_count": 37,
      "outputs": [
        {
          "output_type": "execute_result",
          "data": {
            "text/plain": [
              "107"
            ]
          },
          "metadata": {
            "tags": []
          },
          "execution_count": 37
        }
      ]
    },
    {
      "cell_type": "code",
      "metadata": {
        "id": "sOAl1Dpj9EEs",
        "colab_type": "code",
        "colab": {}
      },
      "source": [
        "# Ler o arquivo txt criado\n",
        "with open('/content/sample_data/json_data.txt') as arquivo:\n",
        "  texto = arquivo.read()\n",
        "  data = json.loads(texto)"
      ],
      "execution_count": 0,
      "outputs": []
    },
    {
      "cell_type": "code",
      "metadata": {
        "id": "8ZvJ_FT195HC",
        "colab_type": "code",
        "colab": {
          "base_uri": "https://localhost:8080/",
          "height": 303
        },
        "outputId": "3cd63ed7-984a-4724-c2f8-40a7d1ddc03e"
      },
      "source": [
        "# Formatar o arquivo json para estrutura legível\n",
        "pretty_json = json.dumps(data, indent = 4, sort_keys = True)\n",
        "\n",
        "print(pretty_json)"
      ],
      "execution_count": 40,
      "outputs": [
        {
          "output_type": "stream",
          "text": [
            "{\n",
            "    \"linguagem\": \"Python\",\n",
            "    \"nome\": \"Guido Van Rossum\",\n",
            "    \"similar\": [\n",
            "        \"c\",\n",
            "        \"Modula-3\",\n",
            "        \"Lisp\"\n",
            "    ],\n",
            "    \"users\": 1000000\n",
            "}\n"
          ],
          "name": "stdout"
        }
      ]
    },
    {
      "cell_type": "code",
      "metadata": {
        "id": "BINXGVDg96zI",
        "colab_type": "code",
        "colab": {}
      },
      "source": [
        ""
      ],
      "execution_count": 0,
      "outputs": []
    }
  ]
}