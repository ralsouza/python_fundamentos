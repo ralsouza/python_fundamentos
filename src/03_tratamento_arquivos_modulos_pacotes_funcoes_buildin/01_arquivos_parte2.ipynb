{
  "nbformat": 4,
  "nbformat_minor": 0,
  "metadata": {
    "colab": {
      "name": "01_arquivos_parte2.ipynb",
      "version": "0.3.2",
      "provenance": [],
      "toc_visible": true,
      "include_colab_link": true
    },
    "kernelspec": {
      "name": "python3",
      "display_name": "Python 3"
    }
  },
  "cells": [
    {
      "cell_type": "markdown",
      "metadata": {
        "id": "view-in-github",
        "colab_type": "text"
      },
      "source": [
        "<a href=\"https://colab.research.google.com/github/ralsouza/python_fundamentos/blob/master/src/03_tratamento_arquivos_modulos_pacotes_funcoes_buildin/01_arquivos_parte2.ipynb\" target=\"_parent\"><img src=\"https://colab.research.google.com/assets/colab-badge.svg\" alt=\"Open In Colab\"/></a>"
      ]
    },
    {
      "cell_type": "markdown",
      "metadata": {
        "id": "pcWb2EZKxneQ",
        "colab_type": "text"
      },
      "source": [
        "# Manipulação de Arquivos\n",
        "*   Arquivos TXT\n",
        "*   Arquivos CSV\n",
        "*   Arquivos JSON\n",
        "\n"
      ]
    },
    {
      "cell_type": "markdown",
      "metadata": {
        "id": "NI3EWI5IxuxU",
        "colab_type": "text"
      },
      "source": [
        "## 1. Arquivos TXT"
      ]
    },
    {
      "cell_type": "code",
      "metadata": {
        "id": "T6G9jdlcxXMB",
        "colab_type": "code",
        "colab": {}
      },
      "source": [
        "texto = 'Cientista de Dados é a profissão que mais tem crescido em todo o mundo.\\n'\n",
        "texto = texto + 'Estes profissionais precisam se especializar em programação, estatística e machine learning.\\n'\n",
        "texto += 'E claro em big data.'"
      ],
      "execution_count": 0,
      "outputs": []
    },
    {
      "cell_type": "code",
      "metadata": {
        "id": "7G5IdjLwyV4I",
        "colab_type": "code",
        "colab": {
          "base_uri": "https://localhost:8080/",
          "height": 367
        },
        "outputId": "8b9593fe-7a9f-40cd-ea3f-1bb664d9a414"
      },
      "source": [
        "print (texto)"
      ],
      "execution_count": 6,
      "outputs": [
        {
          "output_type": "stream",
          "text": [
            "Cientista de Dados é a profissão que mais tem crescido em todo o mundo.\n",
            "Estes profissionais precisam se especializar em programação, estatística e machine learning.\n",
            "E claro em big data.\n"
          ],
          "name": "stdout"
        }
      ]
    },
    {
      "cell_type": "code",
      "metadata": {
        "id": "C2cqoKMsyW_w",
        "colab_type": "code",
        "colab": {}
      },
      "source": [
        "# Importar o módulo OS\n",
        "import os"
      ],
      "execution_count": 0,
      "outputs": []
    },
    {
      "cell_type": "code",
      "metadata": {
        "id": "T-73jL4KytQ6",
        "colab_type": "code",
        "colab": {}
      },
      "source": [
        "# Criar um novo arquivo no file system\n",
        "# Se o arquivo não existir, o Python criará um novo arquivo com o nome especificado\n",
        "arquivo = open(os.path.join('/content/cientista.txt'), 'w')"
      ],
      "execution_count": 0,
      "outputs": []
    },
    {
      "cell_type": "code",
      "metadata": {
        "id": "WUtw9KWBzJeF",
        "colab_type": "code",
        "colab": {}
      },
      "source": [
        "# Efetuar a gravação no texto, baseado nos espaços em branco com a função split()\n",
        "for palavra in texto.split():\n",
        "  arquivo.write(palavra+' ')"
      ],
      "execution_count": 0,
      "outputs": []
    },
    {
      "cell_type": "code",
      "metadata": {
        "id": "uesPmzq22Akm",
        "colab_type": "code",
        "colab": {}
      },
      "source": [
        "arquivo.close()"
      ],
      "execution_count": 0,
      "outputs": []
    },
    {
      "cell_type": "code",
      "metadata": {
        "id": "tus1Zy8p2DKB",
        "colab_type": "code",
        "colab": {
          "base_uri": "https://localhost:8080/",
          "height": 74
        },
        "outputId": "88a03ab6-e43e-4edc-9adb-199a03447a24"
      },
      "source": [
        "# Ler conteúdo do arquivo\n",
        "arquivo = open('/content/cientista.txt', 'r')\n",
        "conteudo = arquivo.read()\n",
        "arquivo.close()\n",
        "\n",
        "print(conteudo)"
      ],
      "execution_count": 14,
      "outputs": [
        {
          "output_type": "stream",
          "text": [
            "Cientista de Dados é a profissão que mais tem crescido em todo o mundo. Estes profissionais precisam se especializar em programação, estatística e machine learning. E claro em big data. \n"
          ],
          "name": "stdout"
        }
      ]
    },
    {
      "cell_type": "markdown",
      "metadata": {
        "id": "s6YCPnY33HZU",
        "colab_type": "text"
      },
      "source": [
        "## 2. Expressão *with*\n",
        "O método *close()* é executado automaticamente."
      ]
    },
    {
      "cell_type": "code",
      "metadata": {
        "id": "GtbF3Lt62Vdz",
        "colab_type": "code",
        "colab": {}
      },
      "source": [
        "with open('/content/cientista.txt', 'r') as arquivo:\n",
        "  conteudo = arquivo.read()"
      ],
      "execution_count": 0,
      "outputs": []
    },
    {
      "cell_type": "code",
      "metadata": {
        "id": "lr50UNTw3l41",
        "colab_type": "code",
        "colab": {
          "base_uri": "https://localhost:8080/",
          "height": 54
        },
        "outputId": "6b3bf6a4-e04c-43ed-eb8c-ffe11a0208ec"
      },
      "source": [
        "print(len(conteudo))"
      ],
      "execution_count": 19,
      "outputs": [
        {
          "output_type": "stream",
          "text": [
            "186\n"
          ],
          "name": "stdout"
        }
      ]
    },
    {
      "cell_type": "code",
      "metadata": {
        "id": "N1zfknZx36PO",
        "colab_type": "code",
        "colab": {
          "base_uri": "https://localhost:8080/",
          "height": 54
        },
        "outputId": "7d74936b-5c8c-4f56-999d-5a869ee5695b"
      },
      "source": [
        "print(conteudo)"
      ],
      "execution_count": 20,
      "outputs": [
        {
          "output_type": "stream",
          "text": [
            "Cientista de Dados é a profissão que mais tem crescido em todo o mundo. Estes profissionais precisam se especializar em programação, estatística e machine learning. E claro em big data. \n"
          ],
          "name": "stdout"
        }
      ]
    },
    {
      "cell_type": "code",
      "metadata": {
        "id": "rvjnCVs43-lq",
        "colab_type": "code",
        "colab": {}
      },
      "source": [
        "# Usar notações de slicing\n",
        "with open('/content/cientista.txt', 'w') as arquivo:\n",
        "  # Imprimir os dados da posição 0 à 21\n",
        "  arquivo.write(texto[ :21])\n",
        "  # Quebrar a linha\n",
        "  arquivo.write('\\n')\n",
        "  # Imprimir os dados de 0 à 33\n",
        "  arquivo.write(texto[ :33])"
      ],
      "execution_count": 0,
      "outputs": []
    },
    {
      "cell_type": "code",
      "metadata": {
        "id": "_DdK995_4s8r",
        "colab_type": "code",
        "colab": {
          "base_uri": "https://localhost:8080/",
          "height": 92
        },
        "outputId": "bd2207be-beef-4e56-bbbc-d79ffabe1cc8"
      },
      "source": [
        "# Ler o arquivo\n",
        "arquivo = open('/content/cientista.txt', 'r')\n",
        "conteudo = arquivo.read()\n",
        "arquivo.close()\n",
        "\n",
        "print(conteudo)"
      ],
      "execution_count": 25,
      "outputs": [
        {
          "output_type": "stream",
          "text": [
            "Cientista de Dados é \n",
            "Cientista de Dados é a profissão \n"
          ],
          "name": "stdout"
        }
      ]
    },
    {
      "cell_type": "code",
      "metadata": {
        "id": "StdEMivZ5Ixr",
        "colab_type": "code",
        "colab": {}
      },
      "source": [
        ""
      ],
      "execution_count": 0,
      "outputs": []
    }
  ]
}