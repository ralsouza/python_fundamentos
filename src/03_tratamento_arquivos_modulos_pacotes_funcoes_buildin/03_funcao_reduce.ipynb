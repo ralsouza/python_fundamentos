{
  "nbformat": 4,
  "nbformat_minor": 0,
  "metadata": {
    "colab": {
      "name": "03_funcao_reduce.ipynb",
      "version": "0.3.2",
      "provenance": [],
      "collapsed_sections": [],
      "include_colab_link": true
    },
    "kernelspec": {
      "name": "python3",
      "display_name": "Python 3"
    }
  },
  "cells": [
    {
      "cell_type": "markdown",
      "metadata": {
        "id": "view-in-github",
        "colab_type": "text"
      },
      "source": [
        "<a href=\"https://colab.research.google.com/github/ralsouza/python_fundamentos/blob/master/src/03_tratamento_arquivos_modulos_pacotes_funcoes_buildin/03_funcao_reduce.ipynb\" target=\"_parent\"><img src=\"https://colab.research.google.com/assets/colab-badge.svg\" alt=\"Open In Colab\"/></a>"
      ]
    },
    {
      "cell_type": "markdown",
      "metadata": {
        "id": "TL4AeV7Z1GTD",
        "colab_type": "text"
      },
      "source": [
        "# Função Reduce\n",
        "\n",
        "Recebe dois argumentos:\n",
        "\n",
        "*   Uma função;\n",
        "*   Uma sequência.\n",
        "\n",
        "Ao contrário ca função `map(`), a função `reduce()` aplica a função passada como parâmetro aos elementos da sequência, até que reste apenas um elemento.\n",
        "\n",
        "![alt text](https://www.python-course.eu/images/reduce_diagram.png)\n",
        "\n",
        "Ao contrário da função `map()`, a função `reduce()` precisa ser importada do pacote `functools`. Apenas de estar em outro pacote, a função `reduce()` é `\n",
        "built-in`.\n",
        "\n"
      ]
    },
    {
      "cell_type": "code",
      "metadata": {
        "id": "CMLg_WN2094l",
        "colab_type": "code",
        "colab": {}
      },
      "source": [
        "# importar a função reduce()\n",
        "from functools import reduce"
      ],
      "execution_count": 0,
      "outputs": []
    },
    {
      "cell_type": "code",
      "metadata": {
        "id": "3N3lxu1l5Gtm",
        "colab_type": "code",
        "colab": {}
      },
      "source": [
        "# Criação da lista, com os mesmos números da imagem acima\n",
        "list = [ 47, 11, 42, 13 ]"
      ],
      "execution_count": 0,
      "outputs": []
    },
    {
      "cell_type": "code",
      "metadata": {
        "id": "9w_dyEBB5TGs",
        "colab_type": "code",
        "colab": {}
      },
      "source": [
        "# Criação de uma função simples que soma dois valores\n",
        "\n",
        "def soma( x, y ):\n",
        "  \n",
        "  z = x + y\n",
        "  \n",
        "  return z"
      ],
      "execution_count": 0,
      "outputs": []
    },
    {
      "cell_type": "code",
      "metadata": {
        "id": "z92C8x545jzS",
        "colab_type": "code",
        "colab": {
          "base_uri": "https://localhost:8080/",
          "height": 54
        },
        "outputId": "649e66a5-fa79-4117-a067-e071a0a507ea"
      },
      "source": [
        "# Aplicar a função soma() para somar os valores da lista\n",
        "\n",
        "reduce( soma, list )"
      ],
      "execution_count": 6,
      "outputs": [
        {
          "output_type": "execute_result",
          "data": {
            "text/plain": [
              "113"
            ]
          },
          "metadata": {
            "tags": []
          },
          "execution_count": 6
        }
      ]
    },
    {
      "cell_type": "code",
      "metadata": {
        "id": "lcaT4qtq5-pM",
        "colab_type": "code",
        "colab": {
          "base_uri": "https://localhost:8080/",
          "height": 74
        },
        "outputId": "9135bbd3-2301-464e-c846-d484d3d13322"
      },
      "source": [
        "# Aplicar uma expressão Lambda, ao invés de criar uma função\n",
        "\n",
        "reduce( lambda x, y: x + y, list )"
      ],
      "execution_count": 8,
      "outputs": [
        {
          "output_type": "execute_result",
          "data": {
            "text/plain": [
              "113"
            ]
          },
          "metadata": {
            "tags": []
          },
          "execution_count": 8
        }
      ]
    },
    {
      "cell_type": "code",
      "metadata": {
        "id": "5s2ECIMm6WHN",
        "colab_type": "code",
        "colab": {}
      },
      "source": [
        "# Atribuir uma expressão Lambda a uma variável\n",
        "# Retornar a se a for maior que b, senão retorna b\n",
        "\n",
        "find_max_lamb = lambda a, b: a if ( a > b ) else b"
      ],
      "execution_count": 0,
      "outputs": []
    },
    {
      "cell_type": "code",
      "metadata": {
        "id": "r7o8HPtP7wh-",
        "colab_type": "code",
        "colab": {
          "base_uri": "https://localhost:8080/",
          "height": 54
        },
        "outputId": "860c8cd5-d592-438f-f40a-f9ba82fb016d"
      },
      "source": [
        "# Checar o tipo da variável find_max_lamb\n",
        "\n",
        "type( find_max_lamb )"
      ],
      "execution_count": 10,
      "outputs": [
        {
          "output_type": "execute_result",
          "data": {
            "text/plain": [
              "function"
            ]
          },
          "metadata": {
            "tags": []
          },
          "execution_count": 10
        }
      ]
    },
    {
      "cell_type": "code",
      "metadata": {
        "id": "msxbrVbU73Xr",
        "colab_type": "code",
        "colab": {
          "base_uri": "https://localhost:8080/",
          "height": 54
        },
        "outputId": "69335c60-2ac7-49e9-e9c3-d823b428403d"
      },
      "source": [
        "# Reduzir a lista até o valor máximo, através da função criada com a expressão Lambda\n",
        "\n",
        "reduce( find_max_lamb, list )"
      ],
      "execution_count": 11,
      "outputs": [
        {
          "output_type": "execute_result",
          "data": {
            "text/plain": [
              "47"
            ]
          },
          "metadata": {
            "tags": []
          },
          "execution_count": 11
        }
      ]
    }
  ]
}