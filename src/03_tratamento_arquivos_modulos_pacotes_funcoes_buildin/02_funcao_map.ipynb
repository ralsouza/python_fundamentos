{
  "nbformat": 4,
  "nbformat_minor": 0,
  "metadata": {
    "colab": {
      "name": "02_funcao_map.ipynb",
      "version": "0.3.2",
      "provenance": [],
      "collapsed_sections": [],
      "include_colab_link": true
    },
    "kernelspec": {
      "name": "python3",
      "display_name": "Python 3"
    }
  },
  "cells": [
    {
      "cell_type": "markdown",
      "metadata": {
        "id": "view-in-github",
        "colab_type": "text"
      },
      "source": [
        "<a href=\"https://colab.research.google.com/github/ralsouza/python_fundamentos/blob/master/src/03_tratamento_arquivos_modulos_pacotes_funcoes_buildin/02_funcao_map.ipynb\" target=\"_parent\"><img src=\"https://colab.research.google.com/assets/colab-badge.svg\" alt=\"Open In Colab\"/></a>"
      ]
    },
    {
      "cell_type": "markdown",
      "metadata": {
        "id": "NgO7Hj27jOpi",
        "colab_type": "text"
      },
      "source": [
        "# Função MAP\n",
        "Map é uma função que recebe 2 argumentos:\n",
        "\n",
        "\n",
        "*   Uma função;\n",
        "*   Uma sequência.\n",
        "\n",
        "Sintaxe: \n",
        "> `map( função, sequência )`\n",
        "\n",
        "Aplica uma função a todos os elementos da sequência.\n",
        "\n",
        "Uma nova lista com os elementos alterados pela função é retornado.\n",
        "\n",
        "O objetivo é reduzir o uso de loops.\n",
        "\n"
      ]
    },
    {
      "cell_type": "code",
      "metadata": {
        "id": "8AryjHOmjHep",
        "colab_type": "code",
        "colab": {}
      },
      "source": [
        "# Criar duas funções para converter temperaturas\n",
        "\n",
        "def fahrenheit( tempCelsius ):\n",
        "  \n",
        "  ''' Converter uma temperatura de Celsius para Fahrenheit. '''\n",
        "  \n",
        "  return ( ( float(9) / 5 ) * tempCelsius + 32 )\n",
        "\n",
        "\n",
        "\n",
        "def celsius( tempFahrenheit ):\n",
        "  \n",
        "  ''' Converter uma temperatura de Fahrenheit para Celsius. '''\n",
        "  \n",
        "  return ( float(5) / 9 ) * ( tempFagrenheit - 32)\n",
        "\n"
      ],
      "execution_count": 0,
      "outputs": []
    },
    {
      "cell_type": "code",
      "metadata": {
        "id": "ZcaHM-6DmPPt",
        "colab_type": "code",
        "colab": {}
      },
      "source": [
        "# Criação de uma lista de valores\n",
        "\n",
        "temp = [ 0, 22.5, 40, 100 ]"
      ],
      "execution_count": 0,
      "outputs": []
    },
    {
      "cell_type": "code",
      "metadata": {
        "id": "89SzI-tXmknp",
        "colab_type": "code",
        "colab": {
          "base_uri": "https://localhost:8080/",
          "height": 74
        },
        "outputId": "9f57d71b-e694-4fec-a943-724658160ddf"
      },
      "source": [
        "# Aplicar a função fahrenheit a cada elemento da lista temp\n",
        "# Em Python 3, a função map() retorna um iterator. É necessário converter o retorno para uma lista\n",
        "map( fahrenheit, temp )"
      ],
      "execution_count": 5,
      "outputs": [
        {
          "output_type": "execute_result",
          "data": {
            "text/plain": [
              "<map at 0x7f823c084f28>"
            ]
          },
          "metadata": {
            "tags": []
          },
          "execution_count": 5
        }
      ]
    },
    {
      "cell_type": "code",
      "metadata": {
        "id": "TD8aM__XnM7U",
        "colab_type": "code",
        "colab": {
          "base_uri": "https://localhost:8080/",
          "height": 74
        },
        "outputId": "7ace6dde-7495-447d-a2f4-23c1ca57fa62"
      },
      "source": [
        "list( map( fahrenheit, temp ) )"
      ],
      "execution_count": 7,
      "outputs": [
        {
          "output_type": "execute_result",
          "data": {
            "text/plain": [
              "[32.0, 72.5, 104.0, 212.0]"
            ]
          },
          "metadata": {
            "tags": []
          },
          "execution_count": 7
        }
      ]
    },
    {
      "cell_type": "code",
      "metadata": {
        "id": "tXYEPUsVnVV0",
        "colab_type": "code",
        "colab": {
          "base_uri": "https://localhost:8080/",
          "height": 74
        },
        "outputId": "305a26b4-cd10-46de-f8cd-647dda2a17ec"
      },
      "source": [
        "# Para evitar ter que criar uma função, podemos usar expressões Lambda dentro do map()\n",
        "\n",
        "# Converter uma temperatura de Fahrenheit para Celsius\n",
        "map( lambda x: ( 5.0 / 9 ) * ( x - 32), temp )"
      ],
      "execution_count": 9,
      "outputs": [
        {
          "output_type": "execute_result",
          "data": {
            "text/plain": [
              "<map at 0x7f823c092358>"
            ]
          },
          "metadata": {
            "tags": []
          },
          "execution_count": 9
        }
      ]
    },
    {
      "cell_type": "code",
      "metadata": {
        "id": "-T2Ug6HFogKH",
        "colab_type": "code",
        "colab": {
          "base_uri": "https://localhost:8080/",
          "height": 74
        },
        "outputId": "745f8ed1-e185-4328-a35e-f7a483bdb028"
      },
      "source": [
        "list( map( lambda x: ( 5.0 / 9 ) * ( x - 32), temp ) )"
      ],
      "execution_count": 11,
      "outputs": [
        {
          "output_type": "execute_result",
          "data": {
            "text/plain": [
              "[-17.77777777777778, -5.277777777777778, 4.444444444444445, 37.77777777777778]"
            ]
          },
          "metadata": {
            "tags": []
          },
          "execution_count": 11
        }
      ]
    },
    {
      "cell_type": "code",
      "metadata": {
        "id": "tLOqj5zsojjD",
        "colab_type": "code",
        "colab": {}
      },
      "source": [
        "# Somar os elementos correspondentes de duas listas\n",
        "\n",
        "a = [ 1, 2, 3, 4 ]\n",
        "b = [ 5, 6, 7, 8 ]"
      ],
      "execution_count": 0,
      "outputs": []
    },
    {
      "cell_type": "code",
      "metadata": {
        "id": "AhVwfDLXo8Yr",
        "colab_type": "code",
        "colab": {
          "base_uri": "https://localhost:8080/",
          "height": 54
        },
        "outputId": "89a30647-512f-49c1-e5bd-ed879da39d7f"
      },
      "source": [
        "list( map( lambda x, y: x + y , a, b ) )"
      ],
      "execution_count": 13,
      "outputs": [
        {
          "output_type": "execute_result",
          "data": {
            "text/plain": [
              "[6, 8, 10, 12]"
            ]
          },
          "metadata": {
            "tags": []
          },
          "execution_count": 13
        }
      ]
    },
    {
      "cell_type": "code",
      "metadata": {
        "id": "PTr9BGxppPqZ",
        "colab_type": "code",
        "colab": {}
      },
      "source": [
        "# Agora somando três listas\n",
        "\n",
        "x = [ 1,  2,  3,  4 ]\n",
        "y = [ 5,  6,  7,  8 ]\n",
        "z = [ 9, 10, 11, 12 ]"
      ],
      "execution_count": 0,
      "outputs": []
    },
    {
      "cell_type": "code",
      "metadata": {
        "id": "SOMfnMczpkkX",
        "colab_type": "code",
        "colab": {
          "base_uri": "https://localhost:8080/",
          "height": 74
        },
        "outputId": "aa5654f7-8bd9-495e-bd01-b4412a982d57"
      },
      "source": [
        "list ( map( lambda x, y, z: x + y + z, x, y, z ) )"
      ],
      "execution_count": 17,
      "outputs": [
        {
          "output_type": "execute_result",
          "data": {
            "text/plain": [
              "[15, 18, 21, 24]"
            ]
          },
          "metadata": {
            "tags": []
          },
          "execution_count": 17
        }
      ]
    }
  ]
}