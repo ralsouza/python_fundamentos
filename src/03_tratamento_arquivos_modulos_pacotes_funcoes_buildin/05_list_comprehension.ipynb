{
  "nbformat": 4,
  "nbformat_minor": 0,
  "metadata": {
    "colab": {
      "name": "05_list_comprehension.ipynb",
      "version": "0.3.2",
      "provenance": [],
      "collapsed_sections": [],
      "include_colab_link": true
    },
    "kernelspec": {
      "name": "python3",
      "display_name": "Python 3"
    }
  },
  "cells": [
    {
      "cell_type": "markdown",
      "metadata": {
        "id": "view-in-github",
        "colab_type": "text"
      },
      "source": [
        "<a href=\"https://colab.research.google.com/github/ralsouza/python_fundamentos/blob/master/src/03_tratamento_arquivos_modulos_pacotes_funcoes_buildin/05_list_comprehension.ipynb\" target=\"_parent\"><img src=\"https://colab.research.google.com/assets/colab-badge.svg\" alt=\"Open In Colab\"/></a>"
      ]
    },
    {
      "cell_type": "markdown",
      "metadata": {
        "id": "DUvcwT97FyV0",
        "colab_type": "text"
      },
      "source": [
        "# List Comprehension\n",
        "\n",
        "List comprehensions provide a concise way to create lists.\n",
        "\n",
        "It's a very important structure to work with big data sets, because presents a superior performance than others data structures in `Python`.\n",
        "\n",
        "The basic sintax is: \n",
        "      `new_list = [expression for_loop_one_or_more conditions]`\n",
        "\n",
        "![](https://miro.medium.com/max/741/1*RVER0yOoFmmhohOjP8oGNg.png)\n",
        "\n",
        "References:\n",
        "\n",
        "*   [Medium - List Comprehension in Python](https://medium.com/better-programming/list-comprehension-in-python-8895a785550b)\n",
        "*   [Medium - Python Basics: List Comprehensions](https://towardsdatascience.com/python-basics-list-comprehensions-631278f22c40)\n",
        "\n",
        "\n",
        "\n",
        "\n",
        "\n",
        "\n",
        "\n",
        "\n",
        "\n"
      ]
    },
    {
      "cell_type": "code",
      "metadata": {
        "id": "G9fBXLwpFsqG",
        "colab_type": "code",
        "outputId": "b6d73dac-6a73-46bc-c5d3-41095dcd7169",
        "colab": {
          "base_uri": "https://localhost:8080/",
          "height": 54
        }
      },
      "source": [
        "# Retornar cada caractér em uma sequência de caractéres\n",
        "\n",
        "lst = [ x for x in 'python' ]\n",
        "\n",
        "print( lst )"
      ],
      "execution_count": 0,
      "outputs": [
        {
          "output_type": "stream",
          "text": [
            "['p', 'y', 't', 'h', 'o', 'n']\n"
          ],
          "name": "stdout"
        }
      ]
    },
    {
      "cell_type": "code",
      "metadata": {
        "id": "JZrSYy-KG46o",
        "colab_type": "code",
        "outputId": "7db3512b-9a6d-47fc-b5e6-2f486127dff8",
        "colab": {
          "base_uri": "https://localhost:8080/",
          "height": 54
        }
      },
      "source": [
        "# Checar o tipo do objeto\n",
        "\n",
        "type( lst )"
      ],
      "execution_count": 0,
      "outputs": [
        {
          "output_type": "execute_result",
          "data": {
            "text/plain": [
              "list"
            ]
          },
          "metadata": {
            "tags": []
          },
          "execution_count": 3
        }
      ]
    },
    {
      "cell_type": "code",
      "metadata": {
        "id": "qQmUucDZHFXQ",
        "colab_type": "code",
        "outputId": "daf3fe47-56d7-4ab7-b11d-833cf9fac76c",
        "colab": {
          "base_uri": "https://localhost:8080/",
          "height": 54
        }
      },
      "source": [
        "# Retornar uma sequência de números elevados ao quadrado\n",
        "\n",
        "lst = [ x**2 for x in range( 0, 11 ) ]\n",
        "\n",
        "print( lst )"
      ],
      "execution_count": 0,
      "outputs": [
        {
          "output_type": "stream",
          "text": [
            "[0, 1, 4, 9, 16, 25, 36, 49, 64, 81, 100]\n"
          ],
          "name": "stdout"
        }
      ]
    },
    {
      "cell_type": "code",
      "metadata": {
        "id": "VmtxlKRDHgWs",
        "colab_type": "code",
        "outputId": "619c86c0-a198-4acf-950a-7335025c8b58",
        "colab": {
          "base_uri": "https://localhost:8080/",
          "height": 74
        }
      },
      "source": [
        "# Retonar apenas números pares em uma sequência de 11 números\n",
        "\n",
        "lst = [ x for x in range( 11 ) if x % 2  == 0 ]\n",
        "\n",
        "print( lst )"
      ],
      "execution_count": 0,
      "outputs": [
        {
          "output_type": "stream",
          "text": [
            "[0, 2, 4, 6, 8, 10]\n"
          ],
          "name": "stdout"
        }
      ]
    },
    {
      "cell_type": "code",
      "metadata": {
        "id": "f0MinCr_IXGA",
        "colab_type": "code",
        "outputId": "69d649e8-4c58-4d50-c48b-cec467f75fe1",
        "colab": {
          "base_uri": "https://localhost:8080/",
          "height": 74
        }
      },
      "source": [
        "# Converter um conjunto de temperaturas\n",
        "\n",
        "celsius = [ 0, 10, 20.1, 34.5 ]\n",
        "\n",
        "fahrenheit = [ ( ( float( 9 ) / 5 ) * temp + 32 ) for temp in celsius ]\n",
        "\n",
        "fahrenheit"
      ],
      "execution_count": 0,
      "outputs": [
        {
          "output_type": "execute_result",
          "data": {
            "text/plain": [
              "[32.0, 50.0, 68.18, 94.1]"
            ]
          },
          "metadata": {
            "tags": []
          },
          "execution_count": 10
        }
      ]
    },
    {
      "cell_type": "code",
      "metadata": {
        "id": "j3IO5OX1LR6Y",
        "colab_type": "code",
        "outputId": "0f53e795-411e-44f8-e1f3-6c99b6206d54",
        "colab": {
          "base_uri": "https://localhost:8080/",
          "height": 54
        }
      },
      "source": [
        "# Operações aninhadas\n",
        "\n",
        "lst = [ x ** 2 for x in [ x ** 2 for x in range( 11 ) ] ]\n",
        "\n",
        "print( lst )"
      ],
      "execution_count": 0,
      "outputs": [
        {
          "output_type": "stream",
          "text": [
            "[0, 1, 16, 81, 256, 625, 1296, 2401, 4096, 6561, 10000]\n"
          ],
          "name": "stdout"
        }
      ]
    }
  ]
}