{
  "nbformat": 4,
  "nbformat_minor": 0,
  "metadata": {
    "colab": {
      "name": "04_funcao_filter.ipynb",
      "version": "0.3.2",
      "provenance": [],
      "collapsed_sections": [],
      "include_colab_link": true
    },
    "kernelspec": {
      "name": "python3",
      "display_name": "Python 3"
    }
  },
  "cells": [
    {
      "cell_type": "markdown",
      "metadata": {
        "id": "view-in-github",
        "colab_type": "text"
      },
      "source": [
        "<a href=\"https://colab.research.google.com/github/ralsouza/python_fundamentos/blob/master/src/03_tratamento_arquivos_modulos_pacotes_funcoes_buildin/04_funcao_filter.ipynb\" target=\"_parent\"><img src=\"https://colab.research.google.com/assets/colab-badge.svg\" alt=\"Open In Colab\"/></a>"
      ]
    },
    {
      "cell_type": "markdown",
      "metadata": {
        "id": "4Yrcz45c8oaT",
        "colab_type": "text"
      },
      "source": [
        "# Função Filter\n",
        "\n",
        "Oferece uma maneira conveniente para filtrar todos os elementos de uma sequência, para os quais a função retorne `True`.\n",
        "\n",
        "A função passada como parâmetro para `filter()`, deve retornar um valor `boolean`, `True` ou `False`.\n",
        "\n",
        "Logo a função será aplicada a todos os valores de uma sequência e os valores serão retornados, apenas se retornarem `True` para a função.\n",
        "\n",
        "\n",
        "Sintaxa: `filter(função, sequência)`"
      ]
    },
    {
      "cell_type": "code",
      "metadata": {
        "id": "cLnU7q_c8iib",
        "colab_type": "code",
        "colab": {}
      },
      "source": [
        "# Função que checa se o número é par\n",
        "\n",
        "def checkEven( num ):\n",
        "  if ( num % 2 ) == 0:\n",
        "    return True\n",
        "  else:\n",
        "    return False"
      ],
      "execution_count": 0,
      "outputs": []
    },
    {
      "cell_type": "code",
      "metadata": {
        "id": "6kndib59On7W",
        "colab_type": "code",
        "colab": {
          "base_uri": "https://localhost:8080/",
          "height": 74
        },
        "outputId": "94698a33-76bd-477b-d5bc-10e011fdc2cc"
      },
      "source": [
        "# Teste da função\n",
        "\n",
        "checkEven(35)"
      ],
      "execution_count": 2,
      "outputs": [
        {
          "output_type": "execute_result",
          "data": {
            "text/plain": [
              "False"
            ]
          },
          "metadata": {
            "tags": []
          },
          "execution_count": 2
        }
      ]
    },
    {
      "cell_type": "code",
      "metadata": {
        "id": "jCkURmwKO3Fv",
        "colab_type": "code",
        "colab": {}
      },
      "source": [
        "nums = [ 0,1,2,3,4,5,6,7,8,9,10,11,12,13,14,15,16,17,18,19,20 ]"
      ],
      "execution_count": 0,
      "outputs": []
    },
    {
      "cell_type": "code",
      "metadata": {
        "id": "5h7srPv4O_84",
        "colab_type": "code",
        "colab": {
          "base_uri": "https://localhost:8080/",
          "height": 74
        },
        "outputId": "b228345e-aefa-4a3d-cd44-a7c477766100"
      },
      "source": [
        "# Checar os números da lista, o retorno será um iterator\n",
        "# Devemos converter o resultado para uma lista\n",
        "\n",
        "filter( checkEven, nums )"
      ],
      "execution_count": 4,
      "outputs": [
        {
          "output_type": "execute_result",
          "data": {
            "text/plain": [
              "<filter at 0x7fbe4be3a7b8>"
            ]
          },
          "metadata": {
            "tags": []
          },
          "execution_count": 4
        }
      ]
    },
    {
      "cell_type": "code",
      "metadata": {
        "id": "y9s0nuTkPNgX",
        "colab_type": "code",
        "colab": {
          "base_uri": "https://localhost:8080/",
          "height": 74
        },
        "outputId": "c722ae1c-8bdf-4988-9938-eacfcae89141"
      },
      "source": [
        "# Retornará apenas os números que retornaram como True\n",
        "list( filter( checkEven, nums ) )"
      ],
      "execution_count": 7,
      "outputs": [
        {
          "output_type": "execute_result",
          "data": {
            "text/plain": [
              "[0, 2, 4, 6, 8, 10, 12, 14, 16, 18, 20]"
            ]
          },
          "metadata": {
            "tags": []
          },
          "execution_count": 7
        }
      ]
    },
    {
      "cell_type": "code",
      "metadata": {
        "id": "yJBUYd3TPfPU",
        "colab_type": "code",
        "colab": {
          "base_uri": "https://localhost:8080/",
          "height": 54
        },
        "outputId": "3a4f8df2-6d8b-4391-bdea-38c2f2d5ce40"
      },
      "source": [
        "# Usando com expressões Lambda\n",
        "\n",
        "list( filter( lambda x: x % 2 == 0, nums ) )"
      ],
      "execution_count": 8,
      "outputs": [
        {
          "output_type": "execute_result",
          "data": {
            "text/plain": [
              "[0, 2, 4, 6, 8, 10, 12, 14, 16, 18, 20]"
            ]
          },
          "metadata": {
            "tags": []
          },
          "execution_count": 8
        }
      ]
    },
    {
      "cell_type": "code",
      "metadata": {
        "id": "YR23wilSQ3VT",
        "colab_type": "code",
        "colab": {
          "base_uri": "https://localhost:8080/",
          "height": 54
        },
        "outputId": "b654ab6f-c377-4c99-fccd-b411a50922e2"
      },
      "source": [
        "# Retornar os números que forem maiores que 8, ou seja, que a condição retornar como True\n",
        "\n",
        "list( filter( lambda x: x > 8, nums ) )"
      ],
      "execution_count": 9,
      "outputs": [
        {
          "output_type": "execute_result",
          "data": {
            "text/plain": [
              "[9, 10, 11, 12, 13, 14, 15, 16, 17, 18, 19, 20]"
            ]
          },
          "metadata": {
            "tags": []
          },
          "execution_count": 9
        }
      ]
    }
  ]
}