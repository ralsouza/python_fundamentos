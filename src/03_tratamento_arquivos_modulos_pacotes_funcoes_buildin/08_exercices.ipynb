{
  "nbformat": 4,
  "nbformat_minor": 0,
  "metadata": {
    "colab": {
      "name": "08_exercices.ipynb",
      "version": "0.3.2",
      "provenance": [],
      "collapsed_sections": [],
      "include_colab_link": true
    },
    "kernelspec": {
      "name": "python3",
      "display_name": "Python 3"
    }
  },
  "cells": [
    {
      "cell_type": "markdown",
      "metadata": {
        "id": "view-in-github",
        "colab_type": "text"
      },
      "source": [
        "<a href=\"https://colab.research.google.com/github/ralsouza/python_fundamentos/blob/master/src/03_tratamento_arquivos_modulos_pacotes_funcoes_buildin/08_exercices.ipynb\" target=\"_parent\"><img src=\"https://colab.research.google.com/assets/colab-badge.svg\" alt=\"Open In Colab\"/></a>"
      ]
    },
    {
      "cell_type": "markdown",
      "metadata": {
        "id": "B4HzaAUscHr-",
        "colab_type": "text"
      },
      "source": [
        "# Exercices"
      ]
    },
    {
      "cell_type": "markdown",
      "metadata": {
        "id": "LM54eYMzcM8j",
        "colab_type": "text"
      },
      "source": [
        "1) Crie uma lista de 3 elementos e calcule a terceira potência de cada elemento"
      ]
    },
    {
      "cell_type": "code",
      "metadata": {
        "id": "LQMCu6H6cAVI",
        "colab_type": "code",
        "colab": {}
      },
      "source": [
        "lst = [ 4, 7, 9 ]"
      ],
      "execution_count": 0,
      "outputs": []
    },
    {
      "cell_type": "code",
      "metadata": {
        "id": "OTy4Vj_ddIpE",
        "colab_type": "code",
        "outputId": "d58c23fe-943d-46f3-8f54-32664cc2369d",
        "colab": {
          "base_uri": "https://localhost:8080/",
          "height": 74
        }
      },
      "source": [
        "lst2 = [ x**3 for x in lst ]\n",
        "\n",
        "print( lst2 )"
      ],
      "execution_count": 0,
      "outputs": [
        {
          "output_type": "stream",
          "text": [
            "[64, 343, 729]\n"
          ],
          "name": "stdout"
        }
      ]
    },
    {
      "cell_type": "markdown",
      "metadata": {
        "id": "tKQLKTZmMZSe",
        "colab_type": "text"
      },
      "source": [
        "2) Reescreva o código abaixo, usando a função `map()`. O resultado final deve ser o mesmo!\n",
        "\n",
        "```\n",
        "palavras = 'A Data Science Academy oferce os melhores cursos de análise de dados do Brasil'.split()\n",
        "\n",
        "resultado = [[w.upper(), w.lower(), len(w)] for w in palavras]\n",
        "\n",
        "for i in resultado:\n",
        "    print (i)\n",
        "```\n",
        "\n"
      ]
    },
    {
      "cell_type": "code",
      "metadata": {
        "id": "0YJEgvxCL-nK",
        "colab_type": "code",
        "outputId": "a22e75ab-a91d-498f-b9a5-f16e828846af",
        "colab": {
          "base_uri": "https://localhost:8080/",
          "height": 74
        }
      },
      "source": [
        "palavras = 'A Data Science Academy oferce os melhores cursos de análise de dados do Brasil'.split()\n",
        "\n",
        "print( palavras)"
      ],
      "execution_count": 0,
      "outputs": [
        {
          "output_type": "stream",
          "text": [
            "['A', 'Data', 'Science', 'Academy', 'oferce', 'os', 'melhores', 'cursos', 'de', 'análise', 'de', 'dados', 'do', 'Brasil']\n"
          ],
          "name": "stdout"
        }
      ]
    },
    {
      "cell_type": "code",
      "metadata": {
        "id": "C5EbPqo5M-OC",
        "colab_type": "code",
        "outputId": "945e5b1d-a158-44aa-bc3e-f77d75d0f1c2",
        "colab": {
          "base_uri": "https://localhost:8080/",
          "height": 54
        }
      },
      "source": [
        "resultado = [ [w.upper(), w.lower(), len(w)] for w in palavras ]\n",
        "\n",
        "print( resultado )"
      ],
      "execution_count": 0,
      "outputs": [
        {
          "output_type": "stream",
          "text": [
            "[['A', 'a', 1], ['DATA', 'data', 4], ['SCIENCE', 'science', 7], ['ACADEMY', 'academy', 7], ['OFERCE', 'oferce', 6], ['OS', 'os', 2], ['MELHORES', 'melhores', 8], ['CURSOS', 'cursos', 6], ['DE', 'de', 2], ['ANÁLISE', 'análise', 7], ['DE', 'de', 2], ['DADOS', 'dados', 5], ['DO', 'do', 2], ['BRASIL', 'brasil', 6]]\n"
          ],
          "name": "stdout"
        }
      ]
    },
    {
      "cell_type": "code",
      "metadata": {
        "id": "43MuPCLoOFz6",
        "colab_type": "code",
        "outputId": "b3cd3474-53a1-405c-f7aa-b0056ce016f7",
        "colab": {
          "base_uri": "https://localhost:8080/",
          "height": 269
        }
      },
      "source": [
        "for i in resultado:\n",
        "    print (i)"
      ],
      "execution_count": 0,
      "outputs": [
        {
          "output_type": "stream",
          "text": [
            "['A', 'a', 1]\n",
            "['DATA', 'data', 4]\n",
            "['SCIENCE', 'science', 7]\n",
            "['ACADEMY', 'academy', 7]\n",
            "['OFERCE', 'oferce', 6]\n",
            "['OS', 'os', 2]\n",
            "['MELHORES', 'melhores', 8]\n",
            "['CURSOS', 'cursos', 6]\n",
            "['DE', 'de', 2]\n",
            "['ANÁLISE', 'análise', 7]\n",
            "['DE', 'de', 2]\n",
            "['DADOS', 'dados', 5]\n",
            "['DO', 'do', 2]\n",
            "['BRASIL', 'brasil', 6]\n"
          ],
          "name": "stdout"
        }
      ]
    },
    {
      "cell_type": "code",
      "metadata": {
        "id": "mLteVe6QOMO1",
        "colab_type": "code",
        "outputId": "46900440-8548-4c31-9dd3-a0f67ad5956e",
        "colab": {
          "base_uri": "https://localhost:8080/",
          "height": 289
        }
      },
      "source": [
        "list( map( lambda p: [ p.upper(), p.lower(), len(p) ], palavras ) )"
      ],
      "execution_count": 0,
      "outputs": [
        {
          "output_type": "execute_result",
          "data": {
            "text/plain": [
              "[['A', 'a', 1],\n",
              " ['DATA', 'data', 4],\n",
              " ['SCIENCE', 'science', 7],\n",
              " ['ACADEMY', 'academy', 7],\n",
              " ['OFERCE', 'oferce', 6],\n",
              " ['OS', 'os', 2],\n",
              " ['MELHORES', 'melhores', 8],\n",
              " ['CURSOS', 'cursos', 6],\n",
              " ['DE', 'de', 2],\n",
              " ['ANÁLISE', 'análise', 7],\n",
              " ['DE', 'de', 2],\n",
              " ['DADOS', 'dados', 5],\n",
              " ['DO', 'do', 2],\n",
              " ['BRASIL', 'brasil', 6]]"
            ]
          },
          "metadata": {
            "tags": []
          },
          "execution_count": 13
        }
      ]
    },
    {
      "cell_type": "markdown",
      "metadata": {
        "id": "P11BRzkmRCDQ",
        "colab_type": "text"
      },
      "source": [
        "3) Calcule a matriz transposta da matriz abaixo.\n",
        "\n",
        "`matrix = [ [1,2], [3,4], [5,6], [7,8] ]`\n",
        "\n",
        "Matriz transposta é um conceito fundamental na construção de redes neurais artificiais, base de sistemas de IA."
      ]
    },
    {
      "cell_type": "code",
      "metadata": {
        "id": "4ZupRXgmQnTy",
        "colab_type": "code",
        "colab": {}
      },
      "source": [
        "matrix = [ [1,2], \n",
        "           [3,4], \n",
        "           [5,6], \n",
        "           [7,8] ]"
      ],
      "execution_count": 0,
      "outputs": []
    },
    {
      "cell_type": "code",
      "metadata": {
        "id": "emnM0pBZVukM",
        "colab_type": "code",
        "outputId": "0673ff6d-b466-4b1a-c5db-ef40e1924551",
        "colab": {
          "base_uri": "https://localhost:8080/",
          "height": 176
        }
      },
      "source": [
        "# Com List Comprehension para retornar uma lista\n",
        "\n",
        "[ list( x ) for x in zip( *matrix ) ]"
      ],
      "execution_count": 0,
      "outputs": [
        {
          "output_type": "execute_result",
          "data": {
            "text/plain": [
              "[[1, 3, 5, 7], [2, 4, 6, 8]]"
            ]
          },
          "metadata": {
            "tags": []
          },
          "execution_count": 7
        }
      ]
    },
    {
      "cell_type": "markdown",
      "metadata": {
        "id": "8Ss7TwkHmDEQ",
        "colab_type": "text"
      },
      "source": [
        "4) Crie duas funções, uma para elevar um número ao quadrado e outra para elevar ao cubo. \n",
        "Aplique as duas funções aos elementos da lista abaixo. \n",
        "\n",
        "Obs: as duas funções devem ser aplicadas simultaneamente.\n",
        "\n",
        "`lista = [0, 1, 2, 3, 4]`"
      ]
    },
    {
      "cell_type": "code",
      "metadata": {
        "id": "4t_lxtXHGy-O",
        "colab_type": "code",
        "colab": {}
      },
      "source": [
        "lista = [0,1,2,3,4]"
      ],
      "execution_count": 0,
      "outputs": []
    },
    {
      "cell_type": "code",
      "metadata": {
        "id": "MtSe9KJ1mVuN",
        "colab_type": "code",
        "colab": {}
      },
      "source": [
        "def squareNumber( num ):\n",
        "  return ( num**2 )\n",
        "\n",
        "def cubeNumber( num ):\n",
        "  return ( num**3 )"
      ],
      "execution_count": 0,
      "outputs": []
    },
    {
      "cell_type": "code",
      "metadata": {
        "id": "USuo3Uma2kWV",
        "colab_type": "code",
        "colab": {}
      },
      "source": [
        "funcs = [ squareNumber, cubeNumber ]"
      ],
      "execution_count": 0,
      "outputs": []
    },
    {
      "cell_type": "code",
      "metadata": {
        "id": "4SDUS48852RQ",
        "colab_type": "code",
        "outputId": "3ceaa4a4-d1d1-44e6-a014-ed8e9a6095f5",
        "colab": {
          "base_uri": "https://localhost:8080/",
          "height": 145
        }
      },
      "source": [
        "# This is insane!!!\n",
        "for i in lista:\n",
        "  value = list( map( lambda x: x( i ), funcs) )\n",
        "  print( value )\n"
      ],
      "execution_count": 0,
      "outputs": [
        {
          "output_type": "stream",
          "text": [
            "[0, 0]\n",
            "[1, 1]\n",
            "[4, 8]\n",
            "[9, 27]\n",
            "[16, 64]\n"
          ],
          "name": "stdout"
        }
      ]
    },
    {
      "cell_type": "code",
      "metadata": {
        "id": "AIzFgmXEzMni",
        "colab_type": "code",
        "colab": {}
      },
      "source": [
        ""
      ],
      "execution_count": 0,
      "outputs": []
    },
    {
      "cell_type": "code",
      "metadata": {
        "id": "pXJI1t1wwXPO",
        "colab_type": "code",
        "outputId": "c1ff71b9-8c39-48a8-e743-f3042b40effc",
        "colab": {
          "base_uri": "https://localhost:8080/",
          "height": 34
        }
      },
      "source": [
        "# Outra opção, mais interessante com List Comprehension\n",
        "\n",
        "[ [ x**2, x**3 ] for x in lista ]"
      ],
      "execution_count": 0,
      "outputs": [
        {
          "output_type": "execute_result",
          "data": {
            "text/plain": [
              "[[0, 0], [1, 1], [4, 8], [9, 27], [16, 64]]"
            ]
          },
          "metadata": {
            "tags": []
          },
          "execution_count": 2
        }
      ]
    },
    {
      "cell_type": "markdown",
      "metadata": {
        "id": "A2KUijIwv5i8",
        "colab_type": "text"
      },
      "source": [
        "5) Abaixo você encontra duas listas. Faça com que cada elemento da `listaA` seja elevado ao elemento correspondente na `listaB`.\n",
        "\n",
        "`listaA = [2, 3, 4]`\n",
        "\n",
        "`listaB = [10, 11, 12]`"
      ]
    },
    {
      "cell_type": "code",
      "metadata": {
        "id": "RmNMF8tOdYOM",
        "colab_type": "code",
        "colab": {}
      },
      "source": [
        "listaA = [2, 3, 4]\n",
        "listaB = [10, 11, 12]"
      ],
      "execution_count": 0,
      "outputs": []
    },
    {
      "cell_type": "code",
      "metadata": {
        "id": "D49yQkRcClsu",
        "colab_type": "code",
        "outputId": "fddaaa05-1266-4aad-e324-e7bb488f1b95",
        "colab": {
          "base_uri": "https://localhost:8080/",
          "height": 76
        }
      },
      "source": [
        "[ x**y for x, y in zip( listaA, listaB ) ]"
      ],
      "execution_count": 3,
      "outputs": [
        {
          "output_type": "execute_result",
          "data": {
            "text/plain": [
              "[1024, 177147, 16777216]"
            ]
          },
          "metadata": {
            "tags": []
          },
          "execution_count": 3
        }
      ]
    },
    {
      "cell_type": "markdown",
      "metadata": {
        "id": "32u5VfYOpYSI",
        "colab_type": "text"
      },
      "source": [
        "6) Considerando o range de valores abaixo, use a função filter() para retornar apenas os valores negativos.\n",
        "\n",
        "`range(-5, 5)`"
      ]
    },
    {
      "cell_type": "code",
      "metadata": {
        "id": "jxirvOt5puut",
        "colab_type": "code",
        "colab": {
          "base_uri": "https://localhost:8080/",
          "height": 76
        },
        "outputId": "b73a217b-092b-4bcb-b50c-6c494359c19e"
      },
      "source": [
        "list( filter( lambda x: x < 0, range( -5, 5 ) ) )"
      ],
      "execution_count": 6,
      "outputs": [
        {
          "output_type": "execute_result",
          "data": {
            "text/plain": [
              "[-5, -4, -3, -2, -1]"
            ]
          },
          "metadata": {
            "tags": []
          },
          "execution_count": 6
        }
      ]
    },
    {
      "cell_type": "markdown",
      "metadata": {
        "id": "5g0EM0a2qPw5",
        "colab_type": "text"
      },
      "source": [
        "8) Considere o código abaixo. Obtenha o mesmo resultado usando o pacote time. \n",
        "Não conhece o pacote time? Pesquise!\n",
        "```\n",
        "import datetime\n",
        "print (datetime.datetime.now().strftime(\"%d/%m/%Y %H:%M\"))\n",
        "```\n",
        "\n"
      ]
    },
    {
      "cell_type": "code",
      "metadata": {
        "id": "G-waWK5lqf2n",
        "colab_type": "code",
        "colab": {
          "base_uri": "https://localhost:8080/",
          "height": 76
        },
        "outputId": "328369fa-8d63-4c6d-db54-7a53e587de25"
      },
      "source": [
        "import datetime\n",
        "print (datetime.datetime.now().strftime(\"%d/%m/%Y %H:%M\"))"
      ],
      "execution_count": 8,
      "outputs": [
        {
          "output_type": "stream",
          "text": [
            "17/09/2019 00:49\n"
          ],
          "name": "stdout"
        }
      ]
    },
    {
      "cell_type": "code",
      "metadata": {
        "id": "b2AP1pXCscL2",
        "colab_type": "code",
        "colab": {}
      },
      "source": [
        "import time"
      ],
      "execution_count": 0,
      "outputs": []
    },
    {
      "cell_type": "code",
      "metadata": {
        "id": "gF5nNiDuszjj",
        "colab_type": "code",
        "colab": {
          "base_uri": "https://localhost:8080/",
          "height": 76
        },
        "outputId": "1375e1c3-c8a4-4770-b92a-ab09c818628e"
      },
      "source": [
        "time.strftime( '%d/%m/%Y %H:%M' )"
      ],
      "execution_count": 33,
      "outputs": [
        {
          "output_type": "execute_result",
          "data": {
            "text/plain": [
              "'17/09/2019 01:05'"
            ]
          },
          "metadata": {
            "tags": []
          },
          "execution_count": 33
        }
      ]
    },
    {
      "cell_type": "markdown",
      "metadata": {
        "id": "QNzSxuzowSBx",
        "colab_type": "text"
      },
      "source": [
        "9) Considere os dois dicionários abaixo. \n",
        "Crie um terceiro dicionário com as chaves do dicionário 1 e os valores do dicionário 2.\n",
        "```\n",
        "dict1 = {'a':1,'b':2}\n",
        "dict2 = {'c':4,'d':5}\n",
        "```\n",
        "\n"
      ]
    },
    {
      "cell_type": "code",
      "metadata": {
        "id": "cEr62emswal8",
        "colab_type": "code",
        "colab": {}
      },
      "source": [
        "dict1 = {'a':1,'b':2}\n",
        "dict2 = {'c':4,'d':5}"
      ],
      "execution_count": 0,
      "outputs": []
    },
    {
      "cell_type": "code",
      "metadata": {
        "id": "aaZ2E1Ogwc1D",
        "colab_type": "code",
        "colab": {
          "base_uri": "https://localhost:8080/",
          "height": 76
        },
        "outputId": "5b3938c5-8229-4bd1-c834-cda14bfbf589"
      },
      "source": [
        "# Usando Dict Comprehension: http://cmdlinetips.com/2018/01/5-examples-using-dict-comprehension/\n",
        "\n",
        "{ x:y for x, y in zip( dict1.keys(), dict2.values() ) }"
      ],
      "execution_count": 66,
      "outputs": [
        {
          "output_type": "execute_result",
          "data": {
            "text/plain": [
              "{'a': 4, 'b': 5}"
            ]
          },
          "metadata": {
            "tags": []
          },
          "execution_count": 66
        }
      ]
    },
    {
      "cell_type": "markdown",
      "metadata": {
        "id": "tcM8uv_25gtP",
        "colab_type": "text"
      },
      "source": [
        "A resolução do exercício sugeriu a seguinte solução: :-)\n",
        "```\n",
        "def trocaValores(d1, d2):\n",
        "    dicTemp = {}\n",
        "    \n",
        "    for d1key, d2val in zip(d1,d2.values()):\n",
        "        dicTemp[d1key] = d2val\n",
        "    \n",
        "    return dicTemp\n",
        "\n",
        "dict3 = trocaValores(dict1, dict2)\n",
        "print(dict3)\n",
        "\n",
        "# Saída: {'a': 4, 'b': 5}\n",
        "```\n",
        "\n"
      ]
    },
    {
      "cell_type": "markdown",
      "metadata": {
        "id": "tpoM0ft45xSl",
        "colab_type": "text"
      },
      "source": [
        "10) Considere a lista abaixo e retorne apenas os elementos cujo índice for maior que 5.\n",
        "```\n",
        "lista = ['a', 'b', 'c', 'd', 'e', 'f', 'g', 'h']\n",
        "```\n",
        "\n"
      ]
    },
    {
      "cell_type": "code",
      "metadata": {
        "id": "Ws0EUQsn6Abg",
        "colab_type": "code",
        "colab": {}
      },
      "source": [
        "lista = ['a', 'b', 'c', 'd', 'e', 'f', 'g', 'h']"
      ],
      "execution_count": 0,
      "outputs": []
    },
    {
      "cell_type": "code",
      "metadata": {
        "id": "u4VTANMF6BT3",
        "colab_type": "code",
        "colab": {
          "base_uri": "https://localhost:8080/",
          "height": 76
        },
        "outputId": "77e14cc2-f87d-4fac-90b4-089d74027be5"
      },
      "source": [
        "[ x for x in lista if lista.index( x ) > 5 ]"
      ],
      "execution_count": 80,
      "outputs": [
        {
          "output_type": "execute_result",
          "data": {
            "text/plain": [
              "['g', 'h']"
            ]
          },
          "metadata": {
            "tags": []
          },
          "execution_count": 80
        }
      ]
    },
    {
      "cell_type": "markdown",
      "metadata": {
        "id": "y1rj7zfb9GKp",
        "colab_type": "text"
      },
      "source": [
        "Resolução do exercício:\n",
        "\n",
        "\n",
        "\n",
        "```\n",
        "for indice, valor in enumerate(lista):\n",
        "    if indice <= 5:\n",
        "        continue\n",
        "    else:\n",
        "        print (valor)\n",
        "\n",
        "# Saída: \n",
        "g\n",
        "h\n",
        "```\n",
        "\n"
      ]
    },
    {
      "cell_type": "code",
      "metadata": {
        "id": "Ro_F9fej9T2A",
        "colab_type": "code",
        "colab": {}
      },
      "source": [
        ""
      ],
      "execution_count": 0,
      "outputs": []
    }
  ]
}