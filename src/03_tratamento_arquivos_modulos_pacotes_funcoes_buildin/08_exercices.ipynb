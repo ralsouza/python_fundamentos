{
  "nbformat": 4,
  "nbformat_minor": 0,
  "metadata": {
    "colab": {
      "name": "08_exercices.ipynb",
      "version": "0.3.2",
      "provenance": [],
      "collapsed_sections": [],
      "include_colab_link": true
    },
    "kernelspec": {
      "name": "python3",
      "display_name": "Python 3"
    }
  },
  "cells": [
    {
      "cell_type": "markdown",
      "metadata": {
        "id": "view-in-github",
        "colab_type": "text"
      },
      "source": [
        "<a href=\"https://colab.research.google.com/github/ralsouza/python_fundamentos/blob/master/src/03_tratamento_arquivos_modulos_pacotes_funcoes_buildin/08_exercices.ipynb\" target=\"_parent\"><img src=\"https://colab.research.google.com/assets/colab-badge.svg\" alt=\"Open In Colab\"/></a>"
      ]
    },
    {
      "cell_type": "markdown",
      "metadata": {
        "id": "B4HzaAUscHr-",
        "colab_type": "text"
      },
      "source": [
        "# Exercices"
      ]
    },
    {
      "cell_type": "markdown",
      "metadata": {
        "id": "LM54eYMzcM8j",
        "colab_type": "text"
      },
      "source": [
        "1) Crie uma lista de 3 elementos e calcule a terceira potência de cada elemento"
      ]
    },
    {
      "cell_type": "code",
      "metadata": {
        "id": "LQMCu6H6cAVI",
        "colab_type": "code",
        "colab": {}
      },
      "source": [
        "lst = [ 4, 7, 9 ]"
      ],
      "execution_count": 0,
      "outputs": []
    },
    {
      "cell_type": "code",
      "metadata": {
        "id": "OTy4Vj_ddIpE",
        "colab_type": "code",
        "colab": {
          "base_uri": "https://localhost:8080/",
          "height": 74
        },
        "outputId": "145db4bd-29d1-4c09-af7a-3c77aa7f8a77"
      },
      "source": [
        "list( map( lambda x:x**3, lst ) )\n",
        "\n",
        "# Estudar mais List Comprehensions para aplicar neste problema"
      ],
      "execution_count": 8,
      "outputs": [
        {
          "output_type": "execute_result",
          "data": {
            "text/plain": [
              "[64, 343, 729]"
            ]
          },
          "metadata": {
            "tags": []
          },
          "execution_count": 8
        }
      ]
    }
  ]
}