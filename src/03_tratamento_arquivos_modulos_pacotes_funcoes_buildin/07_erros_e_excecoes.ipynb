{
  "nbformat": 4,
  "nbformat_minor": 0,
  "metadata": {
    "colab": {
      "name": "07_erros_e_excecoes.ipynb",
      "version": "0.3.2",
      "provenance": [],
      "collapsed_sections": [],
      "include_colab_link": true
    },
    "kernelspec": {
      "name": "python3",
      "display_name": "Python 3"
    }
  },
  "cells": [
    {
      "cell_type": "markdown",
      "metadata": {
        "id": "view-in-github",
        "colab_type": "text"
      },
      "source": [
        "<a href=\"https://colab.research.google.com/github/ralsouza/python_fundamentos/blob/master/src/03_tratamento_arquivos_modulos_pacotes_funcoes_buildin/07_erros_e_excecoes.ipynb\" target=\"_parent\"><img src=\"https://colab.research.google.com/assets/colab-badge.svg\" alt=\"Open In Colab\"/></a>"
      ]
    },
    {
      "cell_type": "markdown",
      "metadata": {
        "id": "uCzXfDaBZqR7",
        "colab_type": "text"
      },
      "source": [
        "# 1. Erros e Exceções\n",
        "Mesmo quando uma expressão estiver sintaticamente correta, ainda poderão ocorrer erros e neste caso, chamamos de `Exceptions`. Por exemplo, erros causados por divisão por zero.\n",
        "\n",
        "Trata-se `exceptions` em `Python` da seguinte forma:\n",
        "\n",
        "\n",
        "\n",
        "```\n",
        "try:\n",
        "  aqui vão as operações...\n",
        "except exception1:\n",
        "  Se houver a exception1, executar este bloco.\n",
        "  Pode ser um aviso ao usuário informando que a solicição\n",
        "  é impossível se ser executada\n",
        "except exception2:\n",
        "  Se houver a exception3, executar este bloco.\n",
        "else:\n",
        "  Se não houver alguma exception, execute este bloco.\n",
        "Finally:\n",
        "  Este bloco sempre será executado.\n",
        "```\n",
        "\n",
        "Importante: Ainda temos o comando `finally`, que nos permite executar um código, mesmo que exceções ocorram. Ou seja, podemos forçar que algum comando seja executado, independentemente se houver a exceção ou não.\n",
        "\n",
        "Lista completa de `exceptions`: [Built-in Exceptions](https://docs.python.org/3.7/library/exceptions.html)\n",
        "\n",
        "\n",
        "\n"
      ]
    },
    {
      "cell_type": "code",
      "metadata": {
        "id": "wROjWrMWduFW",
        "colab_type": "code",
        "colab": {}
      },
      "source": [
        "# Causar um erro de divisão por zero\n",
        "\n",
        "# Definição da função\n",
        "\n",
        "def numDiv( x, y ):\n",
        "  \n",
        "  resultado = x / y\n",
        "  \n",
        "  print( resultado )"
      ],
      "execution_count": 0,
      "outputs": []
    },
    {
      "cell_type": "code",
      "metadata": {
        "id": "UwiLUCQld_8e",
        "colab_type": "code",
        "outputId": "97d0886c-dd99-48ab-f502-20e72e167fee",
        "colab": {
          "base_uri": "https://localhost:8080/",
          "height": 400
        }
      },
      "source": [
        "# Dividir um número por zero é impossível\n",
        "\n",
        "# Será gerada uma exceção\n",
        "\n",
        "numDiv( 4, 0 )"
      ],
      "execution_count": 0,
      "outputs": [
        {
          "output_type": "error",
          "ename": "ZeroDivisionError",
          "evalue": "ignored",
          "traceback": [
            "\u001b[0;31m---------------------------------------------------------------------------\u001b[0m",
            "\u001b[0;31mZeroDivisionError\u001b[0m                         Traceback (most recent call last)",
            "\u001b[0;32m<ipython-input-3-96ac831775db>\u001b[0m in \u001b[0;36m<module>\u001b[0;34m()\u001b[0m\n\u001b[1;32m      1\u001b[0m \u001b[0;34m\u001b[0m\u001b[0m\n\u001b[0;32m----> 2\u001b[0;31m \u001b[0mnumDiv\u001b[0m\u001b[0;34m(\u001b[0m \u001b[0;36m4\u001b[0m\u001b[0;34m,\u001b[0m \u001b[0;36m0\u001b[0m \u001b[0;34m)\u001b[0m\u001b[0;34m\u001b[0m\u001b[0;34m\u001b[0m\u001b[0m\n\u001b[0m",
            "\u001b[0;32m<ipython-input-1-50f1f8bc7086>\u001b[0m in \u001b[0;36mnumDiv\u001b[0;34m(x, y)\u001b[0m\n\u001b[1;32m      1\u001b[0m \u001b[0;34m\u001b[0m\u001b[0m\n\u001b[1;32m      2\u001b[0m \u001b[0;32mdef\u001b[0m \u001b[0mnumDiv\u001b[0m\u001b[0;34m(\u001b[0m \u001b[0mx\u001b[0m\u001b[0;34m,\u001b[0m \u001b[0my\u001b[0m \u001b[0;34m)\u001b[0m\u001b[0;34m:\u001b[0m\u001b[0;34m\u001b[0m\u001b[0;34m\u001b[0m\u001b[0m\n\u001b[0;32m----> 3\u001b[0;31m   \u001b[0mresultado\u001b[0m \u001b[0;34m=\u001b[0m \u001b[0mx\u001b[0m \u001b[0;34m/\u001b[0m \u001b[0my\u001b[0m\u001b[0;34m\u001b[0m\u001b[0;34m\u001b[0m\u001b[0m\n\u001b[0m\u001b[1;32m      4\u001b[0m   \u001b[0mprint\u001b[0m\u001b[0;34m(\u001b[0m \u001b[0mresultado\u001b[0m \u001b[0;34m)\u001b[0m\u001b[0;34m\u001b[0m\u001b[0;34m\u001b[0m\u001b[0m\n",
            "\u001b[0;31mZeroDivisionError\u001b[0m: division by zero"
          ]
        }
      ]
    },
    {
      "cell_type": "markdown",
      "metadata": {
        "id": "BjJfCbrIeixM",
        "colab_type": "text"
      },
      "source": [
        "# 2. Tratamento de erros\n",
        "## Try, Except e Finally"
      ]
    },
    {
      "cell_type": "code",
      "metadata": {
        "id": "GEdAhX72echB",
        "colab_type": "code",
        "outputId": "881785cf-4d83-4315-d16d-a0fef03dd78d",
        "colab": {
          "base_uri": "https://localhost:8080/",
          "height": 280
        }
      },
      "source": [
        "# Gerar outro erro, tentando somar uma string com um número\n",
        "\n",
        "# Ocorrerá a exception de TypeError\n",
        "\n",
        "8 + 's'"
      ],
      "execution_count": 0,
      "outputs": [
        {
          "output_type": "error",
          "ename": "TypeError",
          "evalue": "ignored",
          "traceback": [
            "\u001b[0;31m---------------------------------------------------------------------------\u001b[0m",
            "\u001b[0;31mTypeError\u001b[0m                                 Traceback (most recent call last)",
            "\u001b[0;32m<ipython-input-4-65c5a373cf03>\u001b[0m in \u001b[0;36m<module>\u001b[0;34m()\u001b[0m\n\u001b[1;32m      1\u001b[0m \u001b[0;34m\u001b[0m\u001b[0m\n\u001b[0;32m----> 2\u001b[0;31m \u001b[0;36m8\u001b[0m \u001b[0;34m+\u001b[0m \u001b[0;34m's'\u001b[0m\u001b[0;34m\u001b[0m\u001b[0;34m\u001b[0m\u001b[0m\n\u001b[0m",
            "\u001b[0;31mTypeError\u001b[0m: unsupported operand type(s) for +: 'int' and 'str'"
          ]
        }
      ]
    },
    {
      "cell_type": "code",
      "metadata": {
        "id": "1MBQgtYRe6w4",
        "colab_type": "code",
        "outputId": "12b7175e-fd1b-4ce8-8ccb-cb4d4e61e40d",
        "colab": {
          "base_uri": "https://localhost:8080/",
          "height": 154
        }
      },
      "source": [
        "# Tratando o erro\n",
        "\n",
        "\n",
        "try:\n",
        "  8 + 's'\n",
        "except TypeError: # Quando ocorrer o erro de TypeError\n",
        "  print( 'Esta operação é impossível!' )"
      ],
      "execution_count": 0,
      "outputs": [
        {
          "output_type": "stream",
          "text": [
            "Esta operação é impossível!\n"
          ],
          "name": "stdout"
        }
      ]
    },
    {
      "cell_type": "code",
      "metadata": {
        "id": "FbXE9HIKfX1f",
        "colab_type": "code",
        "outputId": "ed4b5e4d-c368-459d-995b-b7731172cef4",
        "colab": {
          "base_uri": "https://localhost:8080/",
          "height": 114
        }
      },
      "source": [
        "# Usar try, except e else\n",
        "# Tentar gravar um arquivo no file system\n",
        "\n",
        "try:\n",
        "  f = open('/content/sample_data/arquivo.txt', 'w')\n",
        "  f.write('Conteúdo do arquivo')\n",
        "except IOError:\n",
        "  # Quando houver uma exception de leitura/gravação\n",
        "  print( 'Erro: arquivo não pode ser encontrado ou não pode ser gravado!' )\n",
        "else:\n",
        "  print( 'Arquivo gravado com sucesso' )\n",
        "  f.close()\n"
      ],
      "execution_count": 0,
      "outputs": [
        {
          "output_type": "stream",
          "text": [
            "Arquivo gravado com sucesso\n"
          ],
          "name": "stdout"
        }
      ]
    },
    {
      "cell_type": "code",
      "metadata": {
        "id": "MpD3mXX2gxjk",
        "colab_type": "code",
        "outputId": "c45f7472-1b40-4b14-846b-f8991ccedf99",
        "colab": {
          "base_uri": "https://localhost:8080/",
          "height": 74
        }
      },
      "source": [
        "# Simulação do erro\n",
        "# Tentar ler o arquivo gravado, sem a sigla de extensão\n",
        "\n",
        "try:\n",
        "  f = open('/content/sample_data/arquivo', 'r')\n",
        "except IOError:\n",
        "  # Quando houver uma exception de leitura/gravação\n",
        "  print( 'Erro: arquivo não pode ser encontrado ou não pode ser gravado!' )\n",
        "else:\n",
        "  print( 'Arquivo gravado com sucesso' )\n",
        "  f.close()"
      ],
      "execution_count": 0,
      "outputs": [
        {
          "output_type": "stream",
          "text": [
            "Erro: arquivo não pode ser encontrado ou não pode ser gravado!\n"
          ],
          "name": "stdout"
        }
      ]
    },
    {
      "cell_type": "code",
      "metadata": {
        "id": "qAXHixv9hk8E",
        "colab_type": "code",
        "outputId": "99315312-eb11-4d53-8a57-c6c3a8df8625",
        "colab": {
          "base_uri": "https://localhost:8080/",
          "height": 71
        }
      },
      "source": [
        "# Adicionalmente usar o comando finally, que será executado ocorrendo uma exception ou não\n",
        "\n",
        "try:\n",
        "  f = open('/content/sample_data/arquivo.txt', 'w')\n",
        "  f.write('Conteúdo do arquivo')\n",
        "except IOError:\n",
        "  # Quando houver uma exception de leitura/gravação\n",
        "  print( 'Erro: arquivo não pode ser encontrado ou não pode ser gravado!' )\n",
        "else:\n",
        "  print( 'Arquivo gravado com sucesso' )\n",
        "  f.close()\n",
        "finally:\n",
        "  print( 'Este comando sempre será executado!' )\n",
        "  "
      ],
      "execution_count": 0,
      "outputs": [
        {
          "output_type": "stream",
          "text": [
            "Arquivo gravado com sucesso\n",
            "Este comando sempre será executado!\n"
          ],
          "name": "stdout"
        }
      ]
    },
    {
      "cell_type": "code",
      "metadata": {
        "id": "UNNjWRb7iD8z",
        "colab_type": "code",
        "colab": {}
      },
      "source": [
        "# Check if user input a number\n",
        "\n",
        "def askInt():\n",
        "  try:\n",
        "    val = int( input( 'Type a number: ' ) )\n",
        "  except:\n",
        "    print( 'You dont type a number!' )\n",
        "    val = int( input( 'Try again. Type a number:' ) )\n",
        "  finally:\n",
        "    print( 'Thanks' )\n",
        "  print( val )\n",
        "    "
      ],
      "execution_count": 0,
      "outputs": []
    },
    {
      "cell_type": "code",
      "metadata": {
        "id": "GSgnOMM2i9Qt",
        "colab_type": "code",
        "outputId": "e5269446-98f1-4d9b-cd5f-a1cac72fe387",
        "colab": {
          "base_uri": "https://localhost:8080/",
          "height": 254
        }
      },
      "source": [
        "askInt()"
      ],
      "execution_count": 2,
      "outputs": [
        {
          "output_type": "stream",
          "text": [
            "Type a number: a\n",
            "You dont type a number!\n",
            "Try again. Type a number:2\n",
            "Thanks\n",
            "2\n"
          ],
          "name": "stdout"
        }
      ]
    },
    {
      "cell_type": "code",
      "metadata": {
        "id": "WWVEE2DmSo1E",
        "colab_type": "code",
        "colab": {}
      },
      "source": [
        "# Add a loop While into function\n",
        "\n",
        "def askInt():\n",
        "    \n",
        "    while True:\n",
        "    \n",
        "      try:\n",
        "    \n",
        "        val = int( input( 'Type a number: ' ) )\n",
        "    \n",
        "      except:\n",
        "    \n",
        "        print( 'You cant type a number. Try again.' )\n",
        "    \n",
        "        continue\n",
        "    \n",
        "      else:\n",
        "        \n",
        "        print( 'Thanks for typing a number.' )\n",
        "        \n",
        "        break\n",
        "    \n",
        "      finally:\n",
        "    \n",
        "        print( 'End of program.' )\n",
        "    \n",
        "      print( val)"
      ],
      "execution_count": 0,
      "outputs": []
    },
    {
      "cell_type": "code",
      "metadata": {
        "id": "3FdrdhCEVw_O",
        "colab_type": "code",
        "colab": {
          "base_uri": "https://localhost:8080/",
          "height": 394
        },
        "outputId": "e9e425d5-5d13-4d31-e4cc-a8cdda9fd91f"
      },
      "source": [
        "askInt()"
      ],
      "execution_count": 5,
      "outputs": [
        {
          "output_type": "stream",
          "text": [
            "Type a number: s\n",
            "You cant type a number. Try again.\n",
            "End of program.\n",
            "Type a number: a\n",
            "You cant type a number. Try again.\n",
            "End of program.\n",
            "Type a number: s\n",
            "You cant type a number. Try again.\n",
            "End of program.\n",
            "Type a number: 3\n",
            "Thanks for typing a number.\n",
            "End of program.\n"
          ],
          "name": "stdout"
        }
      ]
    },
    {
      "cell_type": "code",
      "metadata": {
        "id": "h1nqIUtpWZDJ",
        "colab_type": "code",
        "colab": {
          "base_uri": "https://localhost:8080/",
          "height": 54
        },
        "outputId": "fd576b50-506b-4f12-a15e-e31c57f88513"
      },
      "source": [
        "# Force an error and catch the erros menssage\n",
        "\n",
        "tup = (1,2,3,4)\n",
        "\n",
        "try:\n",
        "  \n",
        "  tup.append(5) # Remember: tuples are imutable\n",
        "  \n",
        "  for each in tup:\n",
        "    \n",
        "    print( each )\n",
        "    \n",
        "except AttributeError as e:\n",
        "  \n",
        "  print( 'Erro: ', e )\n",
        "  \n",
        "except IOError as e:\n",
        "  \n",
        "  print( 'Erro de I/O: ', e )\n",
        "  \n"
      ],
      "execution_count": 6,
      "outputs": [
        {
          "output_type": "stream",
          "text": [
            "Erro:  'tuple' object has no attribute 'append'\n"
          ],
          "name": "stdout"
        }
      ]
    }
  ]
}