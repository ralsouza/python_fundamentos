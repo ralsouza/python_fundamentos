{
  "nbformat": 4,
  "nbformat_minor": 0,
  "metadata": {
    "colab": {
      "name": "04_missao04.ipynb",
      "provenance": [],
      "collapsed_sections": [],
      "include_colab_link": true
    },
    "kernelspec": {
      "name": "python3",
      "display_name": "Python 3"
    }
  },
  "cells": [
    {
      "cell_type": "markdown",
      "metadata": {
        "id": "view-in-github",
        "colab_type": "text"
      },
      "source": [
        "<a href=\"https://colab.research.google.com/github/ralsouza/python_fundamentos/blob/master/src/05_desafio/04_missao04.ipynb\" target=\"_parent\"><img src=\"https://colab.research.google.com/assets/colab-badge.svg\" alt=\"Open In Colab\"/></a>"
      ]
    },
    {
      "cell_type": "markdown",
      "metadata": {
        "id": "gJ5-3BTkq0Qp",
        "colab_type": "text"
      },
      "source": [
        "## Missão: Implementar o Algoritmo de Ordenação \"Selection sort\".\n",
        "\n",
        "## Nível de Dificuldade: Alto\n",
        "\n",
        "### Premissas:\n",
        "*   As duplicatas são permitidas? * Sim\n",
        "*   Podemos assumir que a entrada é válida? * Não\n",
        "*   Podemos supor que isso se encaixa na memória? * Sim\n",
        "\n",
        "### Teste Cases\n",
        "*   `None -> Exception`\n",
        "*   `[] -> []`\n",
        "*   `One element -> [element]`\n",
        "*   Two or more elements\n",
        "\n",
        "### Algoritimo\n",
        "Animação do Wikipedia:\n",
        "\n",
        "![alt text](https://camo.githubusercontent.com/37caaa5169fb63a938a163ebb7779a061c85a070/687474703a2f2f75706c6f61642e77696b696d656469612e6f72672f77696b6970656469612f636f6d6d6f6e732f392f39342f53656c656374696f6e2d536f72742d416e696d6174696f6e2e676966)\n",
        "\n",
        "\n",
        "Podemos fazer isso de forma recursiva ou iterativa. Iterativamente será mais eficiente, pois não requer sobrecarga de espaço extra com as chamadas recursivas.\n",
        "\n",
        "*    Para cada elemento      Verifique cada elemento à direita para encontrar o min      Se min < elemento atual, swap\n",
        "\n",
        "\n",
        "\n",
        "\n"
      ]
    },
    {
      "cell_type": "markdown",
      "metadata": {
        "id": "CXhNAkIpr9XT",
        "colab_type": "text"
      },
      "source": [
        "## Solução\n",
        "Técnica aboardada conforme animação, Selection Sort"
      ]
    },
    {
      "cell_type": "code",
      "metadata": {
        "id": "Jhpuy9XbSpNG",
        "colab_type": "code",
        "colab": {}
      },
      "source": [
        "# Minha abordagem\n",
        "\n",
        "def selection_sort(list):\n",
        "\n",
        "    for i in range(len(list)):\n",
        "\n",
        "      for j in range(i+1, len(list)):\n",
        "\n",
        "          if list[j] < list[i]:\n",
        "              print('{} troca com {}'.format(list[j], list[i]))\n",
        "              list[i], list[j] = list[j], list[i]\n",
        "\n",
        "    print(list)\n",
        "\n",
        "list = [-2, 5, -5, 1, 7, 0, 1, -10]\n",
        "# list = [70,60,50,40,30,20,10]\n",
        "\n",
        "selection_sort(list)"
      ],
      "execution_count": 0,
      "outputs": []
    },
    {
      "cell_type": "code",
      "metadata": {
        "id": "fxSSgKQ5qwnk",
        "colab_type": "code",
        "colab": {}
      },
      "source": [
        "class SelectionSort(object):\n",
        "\n",
        "    # def __init__(self, data):\n",
        "    #     self.data = data\n",
        "\n",
        "    def sort(self, data):\n",
        "        if data is None:\n",
        "            raise TypeError('None input')\n",
        "\n",
        "        if len(data) == 0:\n",
        "            return []\n",
        "\n",
        "        if len(data) == 1:\n",
        "            return data\n",
        "\n",
        "        for i in range(len(data)):\n",
        "\n",
        "          for j in range(i + 1, len(data)):\n",
        "\n",
        "            if data[j] < data[i]:\n",
        "\n",
        "              data[i], data[j] = data[j], data[i]\n",
        "\n",
        "        return data"
      ],
      "execution_count": 0,
      "outputs": []
    },
    {
      "cell_type": "code",
      "metadata": {
        "id": "EL18wGBG_Lla",
        "colab_type": "code",
        "outputId": "678d1cef-baf2-4bb0-b5fd-f981fdb0ad1d",
        "colab": {
          "base_uri": "https://localhost:8080/",
          "height": 54
        }
      },
      "source": [
        "nums = [8,6,4,0,2,1,3,5,7,9]\n",
        "\n",
        "s = SelectionSort()\n",
        "\n",
        "s.sort(nums)"
      ],
      "execution_count": 25,
      "outputs": [
        {
          "output_type": "execute_result",
          "data": {
            "text/plain": [
              "[0, 1, 2, 3, 4, 5, 6, 7, 8, 9]"
            ]
          },
          "metadata": {
            "tags": []
          },
          "execution_count": 25
        }
      ]
    },
    {
      "cell_type": "markdown",
      "metadata": {
        "id": "oroVKyRhsFM0",
        "colab_type": "text"
      },
      "source": [
        "# Teste da Solução"
      ]
    },
    {
      "cell_type": "code",
      "metadata": {
        "id": "3U8JZ6tnsXC5",
        "colab_type": "code",
        "colab": {}
      },
      "source": [
        "!pip install nose"
      ],
      "execution_count": 0,
      "outputs": []
    },
    {
      "cell_type": "code",
      "metadata": {
        "id": "MmRKCPZmsHFl",
        "colab_type": "code",
        "outputId": "52014417-c7f4-4a1a-c6b8-cb801ab02dbf",
        "colab": {
          "base_uri": "https://localhost:8080/",
          "height": 54
        }
      },
      "source": [
        "%%writefile missao4.py\n",
        "from nose.tools import assert_equal, assert_raises\n",
        "\n",
        "\n",
        "class TestSelectionSort(object):\n",
        "\n",
        "    def test_selection_sort(self, func):\n",
        "        print('None input')\n",
        "        assert_raises(TypeError, func, None)\n",
        "\n",
        "        print('Input vazio')\n",
        "        assert_equal(func([]), [])\n",
        "\n",
        "        print('Um elemento')\n",
        "        assert_equal(func([5]), [5])\n",
        "\n",
        "        print('Dois ou mais elementos')\n",
        "        data = [5, 1, 7, 2, 6, -3, 5, 7, -10]\n",
        "        assert_equal(func(data), sorted(data))\n",
        "\n",
        "        print('Sua solução foi executada com sucesso! Parabéns!')\n",
        "\n",
        "\n",
        "def main():\n",
        "    test = TestSelectionSort()\n",
        "    try:\n",
        "        selection_sort = SelectionSort()\n",
        "        test.test_selection_sort(selection_sort.sort)\n",
        "    except NameError:\n",
        "        pass\n",
        "\n",
        "\n",
        "if __name__ == '__main__':\n",
        "    main()"
      ],
      "execution_count": 8,
      "outputs": [
        {
          "output_type": "stream",
          "text": [
            "Writing missao4.py\n"
          ],
          "name": "stdout"
        }
      ]
    },
    {
      "cell_type": "code",
      "metadata": {
        "id": "br0o_Y1LsH1I",
        "colab_type": "code",
        "outputId": "acc6009e-70e2-4524-9cad-9ecfaef749eb",
        "colab": {
          "base_uri": "https://localhost:8080/",
          "height": 120
        }
      },
      "source": [
        "%run -i missao4.py"
      ],
      "execution_count": 26,
      "outputs": [
        {
          "output_type": "stream",
          "text": [
            "None input\n",
            "Input vazio\n",
            "Um elemento\n",
            "Dois ou mais elementos\n",
            "Sua solução foi executada com sucesso! Parabéns!\n"
          ],
          "name": "stdout"
        }
      ]
    }
  ]
}