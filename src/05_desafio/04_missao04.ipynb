{
  "nbformat": 4,
  "nbformat_minor": 0,
  "metadata": {
    "colab": {
      "name": "04_missao04.ipynb",
      "provenance": [],
      "collapsed_sections": [],
      "include_colab_link": true
    },
    "kernelspec": {
      "name": "python3",
      "display_name": "Python 3"
    }
  },
  "cells": [
    {
      "cell_type": "markdown",
      "metadata": {
        "id": "view-in-github",
        "colab_type": "text"
      },
      "source": [
        "<a href=\"https://colab.research.google.com/github/ralsouza/python_fundamentos/blob/master/src/05_desafio/04_missao04.ipynb\" target=\"_parent\"><img src=\"https://colab.research.google.com/assets/colab-badge.svg\" alt=\"Open In Colab\"/></a>"
      ]
    },
    {
      "cell_type": "markdown",
      "metadata": {
        "id": "gJ5-3BTkq0Qp",
        "colab_type": "text"
      },
      "source": [
        "## Missão: Implementar o Algoritmo de Ordenação \"Selection sort\".\n",
        "\n",
        "## Nível de Dificuldade: Alto\n",
        "\n",
        "### Premissas:\n",
        "*   As duplicatas são permitidas? * Sim\n",
        "*   Podemos assumir que a entrada é válida? * Não\n",
        "*   Podemos supor que isso se encaixa na memória? * Sim\n",
        "\n",
        "### Teste Cases\n",
        "*   `None -> Exception`\n",
        "*   `[] -> []`\n",
        "*   `One element -> [element]`\n",
        "*   Two or more elements\n",
        "\n",
        "### Algoritimo\n",
        "Animação do Wikipedia:\n",
        "\n",
        "![alt text](https://camo.githubusercontent.com/37caaa5169fb63a938a163ebb7779a061c85a070/687474703a2f2f75706c6f61642e77696b696d656469612e6f72672f77696b6970656469612f636f6d6d6f6e732f392f39342f53656c656374696f6e2d536f72742d416e696d6174696f6e2e676966)\n",
        "\n",
        "\n",
        "Podemos fazer isso de forma recursiva ou iterativa. Iterativamente será mais eficiente, pois não requer sobrecarga de espaço extra com as chamadas recursivas.\n",
        "\n",
        "*    Para cada elemento      Verifique cada elemento à direita para encontrar o min      Se min < elemento atual, swap\n",
        "\n",
        "\n",
        "\n",
        "\n"
      ]
    },
    {
      "cell_type": "markdown",
      "metadata": {
        "id": "CXhNAkIpr9XT",
        "colab_type": "text"
      },
      "source": [
        "# Solução"
      ]
    },
    {
      "cell_type": "code",
      "metadata": {
        "id": "fxSSgKQ5qwnk",
        "colab_type": "code",
        "colab": {}
      },
      "source": [
        "class SelectionSort(object):\n",
        "\n",
        "    def sort(self, data):\n",
        "        # Implemente aqui sua solução"
      ],
      "execution_count": 0,
      "outputs": []
    },
    {
      "cell_type": "markdown",
      "metadata": {
        "id": "oroVKyRhsFM0",
        "colab_type": "text"
      },
      "source": [
        "# Teste da Solução"
      ]
    },
    {
      "cell_type": "code",
      "metadata": {
        "id": "MmRKCPZmsHFl",
        "colab_type": "code",
        "colab": {
          "base_uri": "https://localhost:8080/",
          "height": 54
        },
        "outputId": "8ff2be20-8ede-4918-cfc4-b335b0a997ca"
      },
      "source": [
        "%%writefile missao4.py\n",
        "from nose.tools import assert_equal, assert_raises\n",
        "\n",
        "\n",
        "class TestSelectionSort(object):\n",
        "\n",
        "    def test_selection_sort(self, func):\n",
        "        print('None input')\n",
        "        assert_raises(TypeError, func, None)\n",
        "\n",
        "        print('Input vazio')\n",
        "        assert_equal(func([]), [])\n",
        "\n",
        "        print('Um elemento')\n",
        "        assert_equal(func([5]), [5])\n",
        "\n",
        "        print('Dois ou mais elementos')\n",
        "        data = [5, 1, 7, 2, 6, -3, 5, 7, -10]\n",
        "        assert_equal(func(data), sorted(data))\n",
        "\n",
        "        print('Sua solução foi executada com sucesso! Parabéns!')\n",
        "\n",
        "\n",
        "def main():\n",
        "    test = TestSelectionSort()\n",
        "    try:\n",
        "        selection_sort = SelectionSort()\n",
        "        test.test_selection_sort(selection_sort.sort)\n",
        "    except NameError:\n",
        "        pass\n",
        "\n",
        "\n",
        "if __name__ == '__main__':\n",
        "    main()"
      ],
      "execution_count": 1,
      "outputs": [
        {
          "output_type": "stream",
          "text": [
            "Writing missao4.py\n"
          ],
          "name": "stdout"
        }
      ]
    },
    {
      "cell_type": "code",
      "metadata": {
        "id": "3U8JZ6tnsXC5",
        "colab_type": "code",
        "colab": {}
      },
      "source": [
        "!pip install nose"
      ],
      "execution_count": 0,
      "outputs": []
    },
    {
      "cell_type": "code",
      "metadata": {
        "id": "br0o_Y1LsH1I",
        "colab_type": "code",
        "colab": {}
      },
      "source": [
        "%run -i missao4.py"
      ],
      "execution_count": 0,
      "outputs": []
    }
  ]
}