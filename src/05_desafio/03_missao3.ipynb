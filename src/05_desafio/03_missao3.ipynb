{
  "nbformat": 4,
  "nbformat_minor": 0,
  "metadata": {
    "colab": {
      "name": "03_missao3.ipynb",
      "provenance": [],
      "collapsed_sections": [],
      "include_colab_link": true
    },
    "kernelspec": {
      "name": "python3",
      "display_name": "Python 3"
    }
  },
  "cells": [
    {
      "cell_type": "markdown",
      "metadata": {
        "id": "view-in-github",
        "colab_type": "text"
      },
      "source": [
        "<a href=\"https://colab.research.google.com/github/ralsouza/python_fundamentos/blob/master/src/05_desafio/03_missao3.ipynb\" target=\"_parent\"><img src=\"https://colab.research.google.com/assets/colab-badge.svg\" alt=\"Open In Colab\"/></a>"
      ]
    },
    {
      "cell_type": "markdown",
      "metadata": {
        "id": "S6bT_72zHckR",
        "colab_type": "text"
      },
      "source": [
        "## Missão: Implementar um algoritmo para mover um robô do canto superior esquerdo para o canto inferior direito de uma grade.\n",
        "\n",
        "## Nível de Dificuldade: Médio\n",
        "\n",
        "### Premissas:\n",
        "* Existem restrições de como o robô se move?      * O robô só pode se mover para a direita e para baixo\n",
        "* Algumas células são inválidas (fora dos limites)?      * Sim\n",
        "* Podemos supor que as células inicial e final são células válidas?      * Sim\n",
        "* Isso é uma grade retangular? ou seja, a grade não é irregular?      * Sim\n",
        "* Haverá sempre uma maneira válida para o robô chegar ao canto inferior direito?      * Não, retorno None\n",
        "* Podemos assumir que as entradas são válidas?      * Não\n",
        "* Podemos supor que isso se encaixa na memória?      * Sim\n",
        "\n",
        "### Teste Cases\n",
        "o = célula válida\n",
        "\n",
        "x = célula inválida\n",
        "\n",
        "\n",
        "\n",
        "```\n",
        "   0  1  2  3\n",
        "0  o  o  o  o\n",
        "1  o  x  o  o\n",
        "2  o  o  x  o\n",
        "3  x  o  o  o\n",
        "4  o  o  x  o\n",
        "5  o  o  o  x\n",
        "6  o  x  o  x\n",
        "7  o  x  o  o\n",
        "```\n",
        "* Caso geral\n",
        "\n",
        "Saída esperada = \n",
        "```\n",
        "[(0,0), (1,0), (2,0),\n",
        " (2,1), (3,1), (4,1),\n",
        " (5,1), (5,2), (6,2),\n",
        " (7,2), (7,3)]\n",
        "```\n",
        "* Nenhum caminho válido, por exemplo, linha 7, col 2 é inválido\n",
        "* Nenhuma entrada\n",
        "* Matriz vazia\n"
      ]
    },
    {
      "cell_type": "markdown",
      "metadata": {
        "id": "Bd_VrQltN6Cp",
        "colab_type": "text"
      },
      "source": [
        "## Solução"
      ]
    },
    {
      "cell_type": "code",
      "metadata": {
        "id": "YyM33huwbQ6E",
        "colab_type": "code",
        "outputId": "98fa2752-41b3-4a96-d16f-fe4778954e87",
        "colab": {
          "base_uri": "https://localhost:8080/",
          "height": 191
        }
      },
      "source": [
        "# Define rows and columns\n",
        "max_rows = 8\n",
        "max_cols = 4\n",
        "\n",
        "# Create the grid\n",
        "matrix = [[0] * max_cols for _ in range(max_rows)]\n",
        "\n",
        "# Define path, walls and start position\n",
        "# 0: empty cell\n",
        "# 1: unreachable cell (wall)\n",
        "\n",
        "matrix[1][1] = 1\n",
        "matrix[2][2] = 1\n",
        "matrix[3][0] = 1\n",
        "matrix[4][2] = 1\n",
        "matrix[5][3] = 1\n",
        "matrix[6][1] = 1\n",
        "matrix[6][3] = 1\n",
        "matrix[7][1] = 1\n",
        "matrix[7][3] = 0\n",
        "\n",
        "matrix"
      ],
      "execution_count": 1,
      "outputs": [
        {
          "output_type": "execute_result",
          "data": {
            "text/plain": [
              "[[0, 0, 0, 0],\n",
              " [0, 1, 0, 0],\n",
              " [0, 0, 1, 0],\n",
              " [1, 0, 0, 0],\n",
              " [0, 0, 1, 0],\n",
              " [0, 0, 0, 1],\n",
              " [0, 1, 0, 1],\n",
              " [0, 1, 0, 0]]"
            ]
          },
          "metadata": {
            "tags": []
          },
          "execution_count": 1
        }
      ]
    },
    {
      "cell_type": "code",
      "metadata": {
        "id": "hu8LsH5_pGcG",
        "colab_type": "code",
        "colab": {}
      },
      "source": [
        "# Uma ideia não tão otimizada\n",
        "\n",
        "def search(x, y):\n",
        "    if grid[x][y] == 2:\n",
        "        print('found at %d,%d' % (x, y))\n",
        "        arr_path.append((x, y))\n",
        "        return True\n",
        "    elif grid[x][y] == 1:\n",
        "        print('wall at %d,%d' % (x, y))\n",
        "        return False\n",
        "    elif grid[x][y] == 3:\n",
        "        print('visited at %d,%d' % (x, y))\n",
        "        return False\n",
        "\n",
        "    print('visiting %d,%d' % (x, y))\n",
        "    arr_path.append((x,y))\n",
        "\n",
        "    # mark as visited\n",
        "    grid[x][y] = 3\n",
        "\n",
        "    # explore neighbors clockwise starting by the one on the right\n",
        "    if ((x < len(grid) - 1 and search(x + 1, y))\n",
        "            or (y > 0 and search(x, y + 1))\n",
        "            or (x > 0 and search(x - 1, y))\n",
        "            or (y < len(grid) - 1 and search(x, y + 1))):\n",
        "        return True\n",
        "\n",
        "    return False"
      ],
      "execution_count": 0,
      "outputs": []
    },
    {
      "cell_type": "code",
      "metadata": {
        "id": "bSn4tj2qMy0U",
        "colab_type": "code",
        "colab": {}
      },
      "source": [
        "search(0,0)"
      ],
      "execution_count": 0,
      "outputs": []
    },
    {
      "cell_type": "code",
      "metadata": {
        "id": "NuZNSylbHbpg",
        "colab_type": "code",
        "colab": {}
      },
      "source": [
        "# Minha abordagem\n",
        "\n",
        "class Grid(object):\n",
        "\n",
        "    def find_path(self, matrix):\n",
        "\n",
        "        path = []\n",
        "\n",
        "        if self.search(matrix, 0, 0, path):\n",
        "            return path\n",
        "        return None\n",
        "\n",
        "    def search(self, matrix, row, col, path):\n",
        "\n",
        "        if matrix[row][col] == 1:\n",
        "            return False\n",
        "\n",
        "        if (row < len(matrix) - 1 and self.search(matrix, row + 1, col, path)) or \\\n",
        "                (col < len(matrix[0]) - 1 and self.search(matrix, row, col + 1, path) or \\\n",
        "                    (row == 7 and col == 3)):\n",
        "            path.append((row, col))\n",
        "\n",
        "        return True "
      ],
      "execution_count": 0,
      "outputs": []
    },
    {
      "cell_type": "code",
      "metadata": {
        "id": "J9yjABKMXqBy",
        "colab_type": "code",
        "outputId": "78eb5ed3-fdf3-4f1a-f2e1-2c19331a8265",
        "colab": {
          "base_uri": "https://localhost:8080/",
          "height": 240
        }
      },
      "source": [
        "#  Instantiate a class instance\n",
        "g = Grid()\n",
        "\n",
        "g.find_path(matrix)"
      ],
      "execution_count": 3,
      "outputs": [
        {
          "output_type": "execute_result",
          "data": {
            "text/plain": [
              "[(7, 3),\n",
              " (7, 2),\n",
              " (6, 2),\n",
              " (5, 2),\n",
              " (5, 1),\n",
              " (4, 1),\n",
              " (3, 1),\n",
              " (2, 1),\n",
              " (2, 0),\n",
              " (1, 0),\n",
              " (0, 0)]"
            ]
          },
          "metadata": {
            "tags": []
          },
          "execution_count": 3
        }
      ]
    },
    {
      "cell_type": "markdown",
      "metadata": {
        "id": "DShz8vETOEEY",
        "colab_type": "text"
      },
      "source": [
        "## Teste da Solução"
      ]
    },
    {
      "cell_type": "code",
      "metadata": {
        "id": "svHT1PsfOfoH",
        "colab_type": "code",
        "colab": {}
      },
      "source": [
        "!pip install nose"
      ],
      "execution_count": 0,
      "outputs": []
    },
    {
      "cell_type": "code",
      "metadata": {
        "id": "WHv2CKhgONn5",
        "colab_type": "code",
        "outputId": "5264eb15-8799-4cb1-db56-d00e52827b5c",
        "colab": {
          "base_uri": "https://localhost:8080/",
          "height": 74
        }
      },
      "source": [
        "%%writefile missao3.py\n",
        "from nose.tools import assert_equal\n",
        "\n",
        "\n",
        "class TestGridPath(object):\n",
        "\n",
        "    def test_grid_path(self):\n",
        "        grid = Grid()\n",
        "        # assert_equal(grid.find_path(None), None)\n",
        "        # assert_equal(grid.find_path([[]]), None)\n",
        "        max_rows = 8\n",
        "        max_cols = 4\n",
        "        matrix = [[1] * max_cols for _ in range(max_rows)]\n",
        "        matrix[1][1] = 0\n",
        "        matrix[2][2] = 0\n",
        "        matrix[3][0] = 0\n",
        "        matrix[4][2] = 0\n",
        "        matrix[5][3] = 0\n",
        "        matrix[6][1] = 0\n",
        "        matrix[6][3] = 0\n",
        "        matrix[7][1] = 0\n",
        "        result = grid.find_path(matrix)\n",
        "        expected = [(0, 0), (1, 0), (2, 0),\n",
        "                    (2, 1), (3, 1), (4, 1),\n",
        "                    (5, 1), (5, 2), (6, 2), \n",
        "                    (7, 2), (7, 3)]\n",
        "        assert_equal(result, expected)\n",
        "        matrix[7][2] = 0\n",
        "        result = grid.find_path(matrix)\n",
        "        assert_equal(result, None)\n",
        "        print('Sua solução foi executada com sucesso! Parabéns!')\n",
        "\n",
        "\n",
        "def main():\n",
        "    test = TestGridPath()\n",
        "    test.test_grid_path()\n",
        "\n",
        "\n",
        "if __name__ == '__main__':\n",
        "    main()"
      ],
      "execution_count": 5,
      "outputs": [
        {
          "output_type": "stream",
          "text": [
            "Writing missao3.py\n"
          ],
          "name": "stdout"
        }
      ]
    },
    {
      "cell_type": "code",
      "metadata": {
        "id": "440dBkVDOQ9c",
        "colab_type": "code",
        "outputId": "09640bc6-1801-43dd-c04d-0fd45edf73aa",
        "colab": {
          "base_uri": "https://localhost:8080/",
          "height": 700
        }
      },
      "source": [
        "%run -i missao3.py"
      ],
      "execution_count": 6,
      "outputs": [
        {
          "output_type": "error",
          "ename": "AssertionError",
          "evalue": "ignored",
          "traceback": [
            "\u001b[0;31m---------------------------------------------------------------------------\u001b[0m",
            "\u001b[0;31mAssertionError\u001b[0m                            Traceback (most recent call last)",
            "\u001b[0;32m/content/missao3.py\u001b[0m in \u001b[0;36m<module>\u001b[0;34m()\u001b[0m\n\u001b[1;32m     37\u001b[0m \u001b[0;34m\u001b[0m\u001b[0m\n\u001b[1;32m     38\u001b[0m \u001b[0;32mif\u001b[0m \u001b[0m__name__\u001b[0m \u001b[0;34m==\u001b[0m \u001b[0;34m'__main__'\u001b[0m\u001b[0;34m:\u001b[0m\u001b[0;34m\u001b[0m\u001b[0;34m\u001b[0m\u001b[0m\n\u001b[0;32m---> 39\u001b[0;31m     \u001b[0mmain\u001b[0m\u001b[0;34m(\u001b[0m\u001b[0;34m)\u001b[0m\u001b[0;34m\u001b[0m\u001b[0;34m\u001b[0m\u001b[0m\n\u001b[0m",
            "\u001b[0;32m/content/missao3.py\u001b[0m in \u001b[0;36mmain\u001b[0;34m()\u001b[0m\n\u001b[1;32m     33\u001b[0m \u001b[0;32mdef\u001b[0m \u001b[0mmain\u001b[0m\u001b[0;34m(\u001b[0m\u001b[0;34m)\u001b[0m\u001b[0;34m:\u001b[0m\u001b[0;34m\u001b[0m\u001b[0;34m\u001b[0m\u001b[0m\n\u001b[1;32m     34\u001b[0m     \u001b[0mtest\u001b[0m \u001b[0;34m=\u001b[0m \u001b[0mTestGridPath\u001b[0m\u001b[0;34m(\u001b[0m\u001b[0;34m)\u001b[0m\u001b[0;34m\u001b[0m\u001b[0;34m\u001b[0m\u001b[0m\n\u001b[0;32m---> 35\u001b[0;31m     \u001b[0mtest\u001b[0m\u001b[0;34m.\u001b[0m\u001b[0mtest_grid_path\u001b[0m\u001b[0;34m(\u001b[0m\u001b[0;34m)\u001b[0m\u001b[0;34m\u001b[0m\u001b[0;34m\u001b[0m\u001b[0m\n\u001b[0m\u001b[1;32m     36\u001b[0m \u001b[0;34m\u001b[0m\u001b[0m\n\u001b[1;32m     37\u001b[0m \u001b[0;34m\u001b[0m\u001b[0m\n",
            "\u001b[0;32m/content/missao3.py\u001b[0m in \u001b[0;36mtest_grid_path\u001b[0;34m(self)\u001b[0m\n\u001b[1;32m     24\u001b[0m                     \u001b[0;34m(\u001b[0m\u001b[0;36m5\u001b[0m\u001b[0;34m,\u001b[0m \u001b[0;36m1\u001b[0m\u001b[0;34m)\u001b[0m\u001b[0;34m,\u001b[0m \u001b[0;34m(\u001b[0m\u001b[0;36m5\u001b[0m\u001b[0;34m,\u001b[0m \u001b[0;36m2\u001b[0m\u001b[0;34m)\u001b[0m\u001b[0;34m,\u001b[0m \u001b[0;34m(\u001b[0m\u001b[0;36m6\u001b[0m\u001b[0;34m,\u001b[0m \u001b[0;36m2\u001b[0m\u001b[0;34m)\u001b[0m\u001b[0;34m,\u001b[0m\u001b[0;34m\u001b[0m\u001b[0;34m\u001b[0m\u001b[0m\n\u001b[1;32m     25\u001b[0m                     (7, 2), (7, 3)]\n\u001b[0;32m---> 26\u001b[0;31m         \u001b[0massert_equal\u001b[0m\u001b[0;34m(\u001b[0m\u001b[0mresult\u001b[0m\u001b[0;34m,\u001b[0m \u001b[0mexpected\u001b[0m\u001b[0;34m)\u001b[0m\u001b[0;34m\u001b[0m\u001b[0;34m\u001b[0m\u001b[0m\n\u001b[0m\u001b[1;32m     27\u001b[0m         \u001b[0mmatrix\u001b[0m\u001b[0;34m[\u001b[0m\u001b[0;36m7\u001b[0m\u001b[0;34m]\u001b[0m\u001b[0;34m[\u001b[0m\u001b[0;36m2\u001b[0m\u001b[0;34m]\u001b[0m \u001b[0;34m=\u001b[0m \u001b[0;36m0\u001b[0m\u001b[0;34m\u001b[0m\u001b[0;34m\u001b[0m\u001b[0m\n\u001b[1;32m     28\u001b[0m         \u001b[0mresult\u001b[0m \u001b[0;34m=\u001b[0m \u001b[0mgrid\u001b[0m\u001b[0;34m.\u001b[0m\u001b[0mfind_path\u001b[0m\u001b[0;34m(\u001b[0m\u001b[0mmatrix\u001b[0m\u001b[0;34m)\u001b[0m\u001b[0;34m\u001b[0m\u001b[0;34m\u001b[0m\u001b[0m\n",
            "\u001b[0;32m/usr/lib/python3.6/unittest/case.py\u001b[0m in \u001b[0;36massertEqual\u001b[0;34m(self, first, second, msg)\u001b[0m\n\u001b[1;32m    827\u001b[0m         \"\"\"\n\u001b[1;32m    828\u001b[0m         \u001b[0massertion_func\u001b[0m \u001b[0;34m=\u001b[0m \u001b[0mself\u001b[0m\u001b[0;34m.\u001b[0m\u001b[0m_getAssertEqualityFunc\u001b[0m\u001b[0;34m(\u001b[0m\u001b[0mfirst\u001b[0m\u001b[0;34m,\u001b[0m \u001b[0msecond\u001b[0m\u001b[0;34m)\u001b[0m\u001b[0;34m\u001b[0m\u001b[0;34m\u001b[0m\u001b[0m\n\u001b[0;32m--> 829\u001b[0;31m         \u001b[0massertion_func\u001b[0m\u001b[0;34m(\u001b[0m\u001b[0mfirst\u001b[0m\u001b[0;34m,\u001b[0m \u001b[0msecond\u001b[0m\u001b[0;34m,\u001b[0m \u001b[0mmsg\u001b[0m\u001b[0;34m=\u001b[0m\u001b[0mmsg\u001b[0m\u001b[0;34m)\u001b[0m\u001b[0;34m\u001b[0m\u001b[0;34m\u001b[0m\u001b[0m\n\u001b[0m\u001b[1;32m    830\u001b[0m \u001b[0;34m\u001b[0m\u001b[0m\n\u001b[1;32m    831\u001b[0m     \u001b[0;32mdef\u001b[0m \u001b[0massertNotEqual\u001b[0m\u001b[0;34m(\u001b[0m\u001b[0mself\u001b[0m\u001b[0;34m,\u001b[0m \u001b[0mfirst\u001b[0m\u001b[0;34m,\u001b[0m \u001b[0msecond\u001b[0m\u001b[0;34m,\u001b[0m \u001b[0mmsg\u001b[0m\u001b[0;34m=\u001b[0m\u001b[0;32mNone\u001b[0m\u001b[0;34m)\u001b[0m\u001b[0;34m:\u001b[0m\u001b[0;34m\u001b[0m\u001b[0;34m\u001b[0m\u001b[0m\n",
            "\u001b[0;32m/usr/lib/python3.6/unittest/case.py\u001b[0m in \u001b[0;36m_baseAssertEqual\u001b[0;34m(self, first, second, msg)\u001b[0m\n\u001b[1;32m    820\u001b[0m             \u001b[0mstandardMsg\u001b[0m \u001b[0;34m=\u001b[0m \u001b[0;34m'%s != %s'\u001b[0m \u001b[0;34m%\u001b[0m \u001b[0m_common_shorten_repr\u001b[0m\u001b[0;34m(\u001b[0m\u001b[0mfirst\u001b[0m\u001b[0;34m,\u001b[0m \u001b[0msecond\u001b[0m\u001b[0;34m)\u001b[0m\u001b[0;34m\u001b[0m\u001b[0;34m\u001b[0m\u001b[0m\n\u001b[1;32m    821\u001b[0m             \u001b[0mmsg\u001b[0m \u001b[0;34m=\u001b[0m \u001b[0mself\u001b[0m\u001b[0;34m.\u001b[0m\u001b[0m_formatMessage\u001b[0m\u001b[0;34m(\u001b[0m\u001b[0mmsg\u001b[0m\u001b[0;34m,\u001b[0m \u001b[0mstandardMsg\u001b[0m\u001b[0;34m)\u001b[0m\u001b[0;34m\u001b[0m\u001b[0;34m\u001b[0m\u001b[0m\n\u001b[0;32m--> 822\u001b[0;31m             \u001b[0;32mraise\u001b[0m \u001b[0mself\u001b[0m\u001b[0;34m.\u001b[0m\u001b[0mfailureException\u001b[0m\u001b[0;34m(\u001b[0m\u001b[0mmsg\u001b[0m\u001b[0;34m)\u001b[0m\u001b[0;34m\u001b[0m\u001b[0;34m\u001b[0m\u001b[0m\n\u001b[0m\u001b[1;32m    823\u001b[0m \u001b[0;34m\u001b[0m\u001b[0m\n\u001b[1;32m    824\u001b[0m     \u001b[0;32mdef\u001b[0m \u001b[0massertEqual\u001b[0m\u001b[0;34m(\u001b[0m\u001b[0mself\u001b[0m\u001b[0;34m,\u001b[0m \u001b[0mfirst\u001b[0m\u001b[0;34m,\u001b[0m \u001b[0msecond\u001b[0m\u001b[0;34m,\u001b[0m \u001b[0mmsg\u001b[0m\u001b[0;34m=\u001b[0m\u001b[0;32mNone\u001b[0m\u001b[0;34m)\u001b[0m\u001b[0;34m:\u001b[0m\u001b[0;34m\u001b[0m\u001b[0;34m\u001b[0m\u001b[0m\n",
            "\u001b[0;31mAssertionError\u001b[0m: None != [(0, 0), (1, 0), (2, 0), (2, 1), (3, 1), [42 chars], 3)]"
          ]
        }
      ]
    }
  ]
}