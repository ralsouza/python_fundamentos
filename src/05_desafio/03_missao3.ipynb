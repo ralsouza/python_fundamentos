{
  "nbformat": 4,
  "nbformat_minor": 0,
  "metadata": {
    "colab": {
      "name": "03_missao3.ipynb",
      "provenance": [],
      "collapsed_sections": [],
      "include_colab_link": true
    },
    "kernelspec": {
      "name": "python3",
      "display_name": "Python 3"
    }
  },
  "cells": [
    {
      "cell_type": "markdown",
      "metadata": {
        "id": "view-in-github",
        "colab_type": "text"
      },
      "source": [
        "<a href=\"https://colab.research.google.com/github/ralsouza/python_fundamentos/blob/master/src/05_desafio/03_missao3.ipynb\" target=\"_parent\"><img src=\"https://colab.research.google.com/assets/colab-badge.svg\" alt=\"Open In Colab\"/></a>"
      ]
    },
    {
      "cell_type": "markdown",
      "metadata": {
        "id": "S6bT_72zHckR",
        "colab_type": "text"
      },
      "source": [
        "## Missão: Implementar um algoritmo para mover um robô do canto superior esquerdo para o canto inferior direito de uma grade.\n",
        "\n",
        "## Nível de Dificuldade: Médio\n",
        "\n",
        "### Premissas:\n",
        "* Existem restrições de como o robô se move?      * O robô só pode se mover para a direita e para baixo\n",
        "*Algumas células são inválidas (fora dos limites)?      * Sim\n",
        "Podemos supor que as células inicial e final são células válidas?      * Sim\n",
        "* Isso é uma grade retangular? ou seja, a grade não é irregular?      * Sim\n",
        "* Haverá sempre uma maneira válida para o robô chegar ao canto inferior direito?      * Não, retorno None\n",
        "* Podemos assumir que as entradas são válidas?      * Não\n",
        "* Podemos supor que isso se encaixa na memória?      * Sim\n",
        "\n",
        "### Teste Cases\n",
        "o = célula válida\n",
        "\n",
        "x = célula inválida\n",
        "\n",
        "\n",
        "\n",
        "```\n",
        "   0  1  2  3\n",
        "0  o  o  o  o\n",
        "1  o  x  o  o\n",
        "2  o  o  x  o\n",
        "3  x  o  o  o\n",
        "4  o  o  x  o\n",
        "5  o  o  o  x\n",
        "6  o  x  o  x\n",
        "7  o  x  o  o\n",
        "```\n",
        "* Caso geral\n",
        "\n",
        "Saída esperada = \n",
        "```\n",
        "[(0,0), (1,0), (2,0),\n",
        " (2,1), (3,1), (4,1),\n",
        " (5,1), (5,2), (6,2),\n",
        " (7,2), (7,3)]\n",
        "```\n",
        "* Nenhum caminho válido, por exemplo, linha 7, col 2 é inválido\n",
        "* Nenhuma entrada\n",
        "* Matriz vazia\n"
      ]
    },
    {
      "cell_type": "markdown",
      "metadata": {
        "id": "Bd_VrQltN6Cp",
        "colab_type": "text"
      },
      "source": [
        "## Solução"
      ]
    },
    {
      "cell_type": "code",
      "metadata": {
        "id": "NuZNSylbHbpg",
        "colab_type": "code",
        "colab": {}
      },
      "source": [
        "class Grid(object):\n",
        "\n",
        "    def find_path(self, matrix):\n",
        "      pass # Implemente aqui sua solução"
      ],
      "execution_count": 0,
      "outputs": []
    },
    {
      "cell_type": "markdown",
      "metadata": {
        "id": "DShz8vETOEEY",
        "colab_type": "text"
      },
      "source": [
        "## Teste da Solução"
      ]
    },
    {
      "cell_type": "code",
      "metadata": {
        "id": "svHT1PsfOfoH",
        "colab_type": "code",
        "colab": {}
      },
      "source": [
        "!pip install nose"
      ],
      "execution_count": 0,
      "outputs": []
    },
    {
      "cell_type": "code",
      "metadata": {
        "id": "WHv2CKhgONn5",
        "colab_type": "code",
        "colab": {
          "base_uri": "https://localhost:8080/",
          "height": 54
        },
        "outputId": "b217aa90-2418-41d6-d7a4-a47a3b95202c"
      },
      "source": [
        "%%writefile missao3.py\n",
        "from nose.tools import assert_equal\n",
        "\n",
        "\n",
        "class TestGridPath(object):\n",
        "\n",
        "    def test_grid_path(self):\n",
        "        grid = Grid()\n",
        "        assert_equal(grid.find_path(None), None)\n",
        "        assert_equal(grid.find_path([[]]), None)\n",
        "        max_rows = 8\n",
        "        max_cols = 4\n",
        "        matrix = [[1] * max_cols for _ in range(max_rows)]\n",
        "        matrix[1][1] = 0\n",
        "        matrix[2][2] = 0\n",
        "        matrix[3][0] = 0\n",
        "        matrix[4][2] = 0\n",
        "        matrix[5][3] = 0\n",
        "        matrix[6][1] = 0\n",
        "        matrix[6][3] = 0\n",
        "        matrix[7][1] = 0\n",
        "        result = grid.find_path(matrix)\n",
        "        expected = [(0, 0), (1, 0), (2, 0),\n",
        "                    (2, 1), (3, 1), (4, 1),\n",
        "                    (5, 1), (5, 2), (6, 2), \n",
        "                    (7, 2), (7, 3)]\n",
        "        assert_equal(result, expected)\n",
        "        matrix[7][2] = 0\n",
        "        result = grid.find_path(matrix)\n",
        "        assert_equal(result, None)\n",
        "        print('Sua solução foi executada com sucesso! Parabéns!')\n",
        "\n",
        "\n",
        "def main():\n",
        "    test = TestGridPath()\n",
        "    test.test_grid_path()\n",
        "\n",
        "\n",
        "if __name__ == '__main__':\n",
        "    main()"
      ],
      "execution_count": 3,
      "outputs": [
        {
          "output_type": "stream",
          "text": [
            "Writing missao3.py\n"
          ],
          "name": "stdout"
        }
      ]
    },
    {
      "cell_type": "code",
      "metadata": {
        "id": "440dBkVDOQ9c",
        "colab_type": "code",
        "colab": {}
      },
      "source": [
        "%run -i missao3.py"
      ],
      "execution_count": 0,
      "outputs": []
    }
  ]
}