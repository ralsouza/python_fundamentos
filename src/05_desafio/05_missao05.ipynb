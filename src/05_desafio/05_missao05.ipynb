{
  "nbformat": 4,
  "nbformat_minor": 0,
  "metadata": {
    "colab": {
      "name": "05_missao05.ipynb",
      "provenance": [],
      "collapsed_sections": [],
      "include_colab_link": true
    },
    "kernelspec": {
      "name": "python3",
      "display_name": "Python 3"
    }
  },
  "cells": [
    {
      "cell_type": "markdown",
      "metadata": {
        "id": "view-in-github",
        "colab_type": "text"
      },
      "source": [
        "<a href=\"https://colab.research.google.com/github/ralsouza/python_fundamentos/blob/master/src/05_desafio/05_missao05.ipynb\" target=\"_parent\"><img src=\"https://colab.research.google.com/assets/colab-badge.svg\" alt=\"Open In Colab\"/></a>"
      ]
    },
    {
      "cell_type": "markdown",
      "metadata": {
        "id": "6HYwM-bgcfmf",
        "colab_type": "text"
      },
      "source": [
        "## **Missão: Analisar o Comportamento de Compra de Consumidores.**\n",
        "### Nível de Dificuldade: Alto\n",
        "\n",
        "Você recebeu a tarefa de analisar os dados de compras de um web site! Os dados estão no formato JSON e disponíveis junto com este notebook.\n",
        "\n",
        "No site, cada usuário efetua login usando sua conta pessoal e pode adquirir produtos à medida que navega pela lista de produtos oferecidos. Cada produto possui um valor de venda. Dados de idade e sexo de cada usuário foram coletados e estão fornecidos no arquivo JSON.\n",
        "\n",
        "Seu trabalho é entregar uma análise de comportamento de compra dos consumidores. Esse é um tipo de atividade comum realizado por Cientistas de Dados e o resultado deste trabalho pode ser usado, por exemplo, para alimentar um modelo de Machine Learning e fazer previsões sobre comportamentos futuros.\n",
        "\n",
        "Mas nesta missão você vai analisar o comportamento de compra dos consumidores usando o pacote Pandas da linguagem Python e seu relatório final deve incluir cada um dos seguintes itens:\n",
        "\n",
        "\n",
        "**Contagem de Consumidores**\n",
        "* Número total de consumidores\n",
        "\n",
        "**Análise Geral de Compras**\n",
        "* Número de itens exclusivos\n",
        "* Preço médio de compra\n",
        "* Número total de compras\n",
        "* Rendimento total\n",
        "\n",
        "**Informações Demográficas Por Gênero**\n",
        "* Porcentagem e contagem de compradores masculinos\n",
        "* Porcentagem e contagem de compradores do sexo feminino\n",
        "* Porcentagem e contagem de outros / não divulgados\n",
        "\n",
        "**Análise de Compras Por Gênero**\n",
        "* Número de compras\n",
        "* Preço médio de compra\n",
        "* Valor Total de Compra\n",
        "* Compras for faixa etária\n",
        "\n",
        "**Identifique os 5 principais compradores pelo valor total de compra e, em seguida, liste (em uma tabela):**\n",
        "* Login\n",
        "* Número de compras\n",
        "* Preço médio de compra\n",
        "* Valor Total de Compra\n",
        "* Itens mais populares\n",
        "\n",
        "**Identifique os 5 itens mais populares por contagem de compras e, em seguida, liste (em uma tabela):**\n",
        "* ID do item\n",
        "* Nome do item\n",
        "* Número de compras\n",
        "* Preço do item\n",
        "* Valor Total de Compra\n",
        "* Itens mais lucrativos\n",
        "\n",
        "**Identifique os 5 itens mais lucrativos pelo valor total de compra e, em seguida, liste (em uma tabela):**\n",
        "* ID do item\n",
        "* Nome do item\n",
        "* Número de compras\n",
        "* Preço do item\n",
        "* Valor Total de Compra\n",
        "\n",
        "**Como considerações finais:**\n",
        "* Seu script deve funcionar para o conjunto de dados fornecido.\n",
        "* Você deve usar a Biblioteca Pandas e o Jupyter Notebook.\n",
        "\n"
      ]
    },
    {
      "cell_type": "code",
      "metadata": {
        "id": "7JMf2QPAcWne",
        "colab_type": "code",
        "colab": {}
      },
      "source": [
        "# Imports\n",
        "import pandas as pd\n",
        "import numpy as np"
      ],
      "execution_count": 0,
      "outputs": []
    },
    {
      "cell_type": "code",
      "metadata": {
        "id": "-PbPDw-4fAxL",
        "colab_type": "code",
        "colab": {
          "base_uri": "https://localhost:8080/",
          "height": 204
        },
        "outputId": "0b29069c-8b4f-49ef-b707-53df54825d4d"
      },
      "source": [
        "# Carrega o arquivo\n",
        "load_file = \"dados_compras.json\"\n",
        "purchase_file = pd.read_json(load_file, orient = \"records\")\n",
        "purchase_file.head()"
      ],
      "execution_count": 6,
      "outputs": [
        {
          "output_type": "execute_result",
          "data": {
            "text/html": [
              "<div>\n",
              "<style scoped>\n",
              "    .dataframe tbody tr th:only-of-type {\n",
              "        vertical-align: middle;\n",
              "    }\n",
              "\n",
              "    .dataframe tbody tr th {\n",
              "        vertical-align: top;\n",
              "    }\n",
              "\n",
              "    .dataframe thead th {\n",
              "        text-align: right;\n",
              "    }\n",
              "</style>\n",
              "<table border=\"1\" class=\"dataframe\">\n",
              "  <thead>\n",
              "    <tr style=\"text-align: right;\">\n",
              "      <th></th>\n",
              "      <th>Login</th>\n",
              "      <th>Idade</th>\n",
              "      <th>Sexo</th>\n",
              "      <th>Item ID</th>\n",
              "      <th>Nome do Item</th>\n",
              "      <th>Valor</th>\n",
              "    </tr>\n",
              "  </thead>\n",
              "  <tbody>\n",
              "    <tr>\n",
              "      <th>0</th>\n",
              "      <td>Aelalis34</td>\n",
              "      <td>38</td>\n",
              "      <td>Masculino</td>\n",
              "      <td>165</td>\n",
              "      <td>Bone Crushing Silver Skewer</td>\n",
              "      <td>3.37</td>\n",
              "    </tr>\n",
              "    <tr>\n",
              "      <th>1</th>\n",
              "      <td>Eolo46</td>\n",
              "      <td>21</td>\n",
              "      <td>Masculino</td>\n",
              "      <td>119</td>\n",
              "      <td>Stormbringer, Dark Blade of Ending Misery</td>\n",
              "      <td>2.32</td>\n",
              "    </tr>\n",
              "    <tr>\n",
              "      <th>2</th>\n",
              "      <td>Assastnya25</td>\n",
              "      <td>34</td>\n",
              "      <td>Masculino</td>\n",
              "      <td>174</td>\n",
              "      <td>Primitive Blade</td>\n",
              "      <td>2.46</td>\n",
              "    </tr>\n",
              "    <tr>\n",
              "      <th>3</th>\n",
              "      <td>Pheusrical25</td>\n",
              "      <td>21</td>\n",
              "      <td>Masculino</td>\n",
              "      <td>92</td>\n",
              "      <td>Final Critic</td>\n",
              "      <td>1.36</td>\n",
              "    </tr>\n",
              "    <tr>\n",
              "      <th>4</th>\n",
              "      <td>Aela59</td>\n",
              "      <td>23</td>\n",
              "      <td>Masculino</td>\n",
              "      <td>63</td>\n",
              "      <td>Stormfury Mace</td>\n",
              "      <td>1.27</td>\n",
              "    </tr>\n",
              "  </tbody>\n",
              "</table>\n",
              "</div>"
            ],
            "text/plain": [
              "          Login  Idade  ...                               Nome do Item  Valor\n",
              "0     Aelalis34     38  ...                Bone Crushing Silver Skewer   3.37\n",
              "1        Eolo46     21  ...  Stormbringer, Dark Blade of Ending Misery   2.32\n",
              "2   Assastnya25     34  ...                            Primitive Blade   2.46\n",
              "3  Pheusrical25     21  ...                               Final Critic   1.36\n",
              "4        Aela59     23  ...                             Stormfury Mace   1.27\n",
              "\n",
              "[5 rows x 6 columns]"
            ]
          },
          "metadata": {
            "tags": []
          },
          "execution_count": 6
        }
      ]
    },
    {
      "cell_type": "markdown",
      "metadata": {
        "id": "7LcWJdQlfvEp",
        "colab_type": "text"
      },
      "source": [
        "## **1. Informações Sobre os Consumidores**"
      ]
    },
    {
      "cell_type": "code",
      "metadata": {
        "id": "c5ChXwxsfEoS",
        "colab_type": "code",
        "colab": {}
      },
      "source": [
        "# Implemente aqui sua solução"
      ],
      "execution_count": 0,
      "outputs": []
    },
    {
      "cell_type": "markdown",
      "metadata": {
        "id": "Pe3psLqngdP6",
        "colab_type": "text"
      },
      "source": [
        "## **2. Análise Geral de Compras**"
      ]
    },
    {
      "cell_type": "code",
      "metadata": {
        "id": "OZC6MkETglox",
        "colab_type": "code",
        "colab": {}
      },
      "source": [
        "# Implemente aqui sua solução"
      ],
      "execution_count": 0,
      "outputs": []
    },
    {
      "cell_type": "markdown",
      "metadata": {
        "id": "oiLlG1Ovgm4J",
        "colab_type": "text"
      },
      "source": [
        "## **3. Análise Demográfica**"
      ]
    },
    {
      "cell_type": "code",
      "metadata": {
        "id": "CaUiuL5kgqw2",
        "colab_type": "code",
        "colab": {}
      },
      "source": [
        "# Implemente aqui sua solução"
      ],
      "execution_count": 0,
      "outputs": []
    },
    {
      "cell_type": "markdown",
      "metadata": {
        "id": "sJmALdZcgsPB",
        "colab_type": "text"
      },
      "source": [
        "## **4. Informações Demográficas Por Gênero**"
      ]
    },
    {
      "cell_type": "code",
      "metadata": {
        "id": "0WQ_Y4cogwgL",
        "colab_type": "code",
        "colab": {}
      },
      "source": [
        "# Implemente aqui sua solução"
      ],
      "execution_count": 0,
      "outputs": []
    },
    {
      "cell_type": "markdown",
      "metadata": {
        "id": "UC5_HivGg0JR",
        "colab_type": "text"
      },
      "source": [
        "## **5. Análise de Compras Por Gênero**"
      ]
    },
    {
      "cell_type": "code",
      "metadata": {
        "id": "HBOZq8z9g1wv",
        "colab_type": "code",
        "colab": {}
      },
      "source": [
        "# Implemente aqui sua solução"
      ],
      "execution_count": 0,
      "outputs": []
    },
    {
      "cell_type": "markdown",
      "metadata": {
        "id": "7fDsh7Ohg2hC",
        "colab_type": "text"
      },
      "source": [
        "## **6. Consumidores Mais Populares (Top 5)**"
      ]
    },
    {
      "cell_type": "code",
      "metadata": {
        "id": "rUprkK20g5-u",
        "colab_type": "code",
        "colab": {}
      },
      "source": [
        "# Implemente aqui sua solução"
      ],
      "execution_count": 0,
      "outputs": []
    },
    {
      "cell_type": "markdown",
      "metadata": {
        "id": "3PRmboAkh9-0",
        "colab_type": "text"
      },
      "source": [
        "## **7. Itens Mais Populares**"
      ]
    },
    {
      "cell_type": "code",
      "metadata": {
        "id": "tnEADGG0iAkb",
        "colab_type": "code",
        "colab": {}
      },
      "source": [
        "# Implemente aqui sua solução"
      ],
      "execution_count": 0,
      "outputs": []
    },
    {
      "cell_type": "markdown",
      "metadata": {
        "id": "7tz_LinAg6rp",
        "colab_type": "text"
      },
      "source": [
        "## **8. Itens Mais Lucrativos**"
      ]
    },
    {
      "cell_type": "code",
      "metadata": {
        "id": "FeiYoUmFhD95",
        "colab_type": "code",
        "colab": {}
      },
      "source": [
        "# Implemente aqui sua solução"
      ],
      "execution_count": 0,
      "outputs": []
    }
  ]
}