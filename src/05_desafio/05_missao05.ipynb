{
  "nbformat": 4,
  "nbformat_minor": 0,
  "metadata": {
    "colab": {
      "name": "05_missao05.ipynb",
      "provenance": [],
      "collapsed_sections": [
        "-FinGk2_Yonh",
        "M5IyGnBvY-ia",
        "zRALpHx5ZbZL",
        "9A6T-er_Z6Xv",
        "ZwEgrg8bctl9"
      ],
      "include_colab_link": true
    },
    "kernelspec": {
      "name": "python3",
      "display_name": "Python 3"
    }
  },
  "cells": [
    {
      "cell_type": "markdown",
      "metadata": {
        "id": "view-in-github",
        "colab_type": "text"
      },
      "source": [
        "<a href=\"https://colab.research.google.com/github/ralsouza/python_fundamentos/blob/master/src/05_desafio/05_missao05.ipynb\" target=\"_parent\"><img src=\"https://colab.research.google.com/assets/colab-badge.svg\" alt=\"Open In Colab\"/></a>"
      ]
    },
    {
      "cell_type": "markdown",
      "metadata": {
        "id": "6HYwM-bgcfmf",
        "colab_type": "text"
      },
      "source": [
        "## **Missão: Analisar o Comportamento de Compra de Consumidores.**\n",
        "### Nível de Dificuldade: Alto\n",
        "\n",
        "Você recebeu a tarefa de analisar os dados de compras de um web site! Os dados estão no formato JSON e disponíveis junto com este notebook.\n",
        "\n",
        "No site, cada usuário efetua login usando sua conta pessoal e pode adquirir produtos à medida que navega pela lista de produtos oferecidos. Cada produto possui um valor de venda. Dados de idade e sexo de cada usuário foram coletados e estão fornecidos no arquivo JSON.\n",
        "\n",
        "Seu trabalho é entregar uma análise de comportamento de compra dos consumidores. Esse é um tipo de atividade comum realizado por Cientistas de Dados e o resultado deste trabalho pode ser usado, por exemplo, para alimentar um modelo de Machine Learning e fazer previsões sobre comportamentos futuros.\n",
        "\n",
        "Mas nesta missão você vai analisar o comportamento de compra dos consumidores usando o pacote Pandas da linguagem Python e seu relatório final deve incluir cada um dos seguintes itens:\n",
        "\n",
        "\n",
        "**Contagem de Consumidores**\n",
        "* Número total de consumidores\n",
        "\n",
        "**Análise Geral de Compras**\n",
        "* Número de itens exclusivos\n",
        "* Preço médio de compra\n",
        "* Número total de compras\n",
        "* Rendimento total (Valor Total)\n",
        "\n",
        "**Informações Demográficas Por Gênero**\n",
        "* Porcentagem e contagem de compradores masculinos\n",
        "* Porcentagem e contagem de compradores do sexo feminino\n",
        "* Porcentagem e contagem de outros / não divulgados\n",
        "\n",
        "**Análise de Compras Por Gênero**\n",
        "* Número de compras\n",
        "* Preço médio de compra\n",
        "* Valor Total de Compra\n",
        "* Compras for faixa etária\n",
        "\n",
        "**Identifique os 5 principais compradores pelo valor total de compra e, em seguida, liste (em uma tabela):**\n",
        "* Login\n",
        "* Número de compras\n",
        "* Preço médio de compra\n",
        "* Valor Total de Compra\n",
        "* Itens mais populares\n",
        "\n",
        "**Identifique os 5 itens mais populares por contagem de compras e, em seguida, liste (em uma tabela):**\n",
        "* ID do item\n",
        "* Nome do item\n",
        "* Número de compras\n",
        "* Preço Médio do item\n",
        "* Valor Total de Compra\n",
        "* Itens mais lucrativos\n",
        "\n",
        "**Identifique os 5 itens mais lucrativos pelo valor total de compra e, em seguida, liste (em uma tabela):**\n",
        "* ID do item\n",
        "* Nome do item\n",
        "* Número de compras\n",
        "* Preço Médio do item\n",
        "* Valor Total de Compra\n",
        "\n",
        "**Como considerações finais:**\n",
        "* Seu script deve funcionar para o conjunto de dados fornecido.\n",
        "* Você deve usar a Biblioteca Pandas e o Jupyter Notebook.\n",
        "\n"
      ]
    },
    {
      "cell_type": "code",
      "metadata": {
        "id": "7JMf2QPAcWne",
        "colab_type": "code",
        "colab": {
          "base_uri": "https://localhost:8080/",
          "height": 122
        },
        "outputId": "60e43219-ed41-49fc-db4c-8c8986f72718"
      },
      "source": [
        "# Imports\n",
        "import pandas as pd\n",
        "import numpy as np\n",
        "\n",
        "# Load file from Drive\n",
        "from google.colab import drive\n",
        "drive.mount('/content/drive')\n",
        "\n",
        "# Load file to Dataframe\n",
        "load_file = \"/content/drive/My Drive/dados_compras.json\"\n",
        "purchase_file = pd.read_json(load_file, orient = \"records\")"
      ],
      "execution_count": 1,
      "outputs": [
        {
          "output_type": "stream",
          "text": [
            "Go to this URL in a browser: https://accounts.google.com/o/oauth2/auth?client_id=947318989803-6bn6qk8qdgf4n4g3pfee6491hc0brc4i.apps.googleusercontent.com&redirect_uri=urn%3aietf%3awg%3aoauth%3a2.0%3aoob&response_type=code&scope=email%20https%3a%2f%2fwww.googleapis.com%2fauth%2fdocs.test%20https%3a%2f%2fwww.googleapis.com%2fauth%2fdrive%20https%3a%2f%2fwww.googleapis.com%2fauth%2fdrive.photos.readonly%20https%3a%2f%2fwww.googleapis.com%2fauth%2fpeopleapi.readonly\n",
            "\n",
            "Enter your authorization code:\n",
            "··········\n",
            "Mounted at /content/drive\n"
          ],
          "name": "stdout"
        }
      ]
    },
    {
      "cell_type": "markdown",
      "metadata": {
        "id": "kEjZJXapSjFe",
        "colab_type": "text"
      },
      "source": [
        "## **1. Análise Exploratória**"
      ]
    },
    {
      "cell_type": "markdown",
      "metadata": {
        "id": "hCkJJLYQYR05",
        "colab_type": "text"
      },
      "source": [
        "### **1.1 Checagem das primeiras linhas**"
      ]
    },
    {
      "cell_type": "code",
      "metadata": {
        "id": "C67576fXYYi2",
        "colab_type": "code",
        "outputId": "98f205b6-0d36-4994-871d-5f36b2c93964",
        "colab": {
          "base_uri": "https://localhost:8080/",
          "height": 419
        }
      },
      "source": [
        "# Nota-se que os logins se repetem.\n",
        "purchase_file.sort_values('Login')"
      ],
      "execution_count": 0,
      "outputs": [
        {
          "output_type": "execute_result",
          "data": {
            "text/html": [
              "<div>\n",
              "<style scoped>\n",
              "    .dataframe tbody tr th:only-of-type {\n",
              "        vertical-align: middle;\n",
              "    }\n",
              "\n",
              "    .dataframe tbody tr th {\n",
              "        vertical-align: top;\n",
              "    }\n",
              "\n",
              "    .dataframe thead th {\n",
              "        text-align: right;\n",
              "    }\n",
              "</style>\n",
              "<table border=\"1\" class=\"dataframe\">\n",
              "  <thead>\n",
              "    <tr style=\"text-align: right;\">\n",
              "      <th></th>\n",
              "      <th>Login</th>\n",
              "      <th>Idade</th>\n",
              "      <th>Sexo</th>\n",
              "      <th>Item ID</th>\n",
              "      <th>Nome do Item</th>\n",
              "      <th>Valor</th>\n",
              "    </tr>\n",
              "  </thead>\n",
              "  <tbody>\n",
              "    <tr>\n",
              "      <th>144</th>\n",
              "      <td>Adairialis76</td>\n",
              "      <td>20</td>\n",
              "      <td>Masculino</td>\n",
              "      <td>44</td>\n",
              "      <td>Bonecarvin Battle Axe</td>\n",
              "      <td>2.46</td>\n",
              "    </tr>\n",
              "    <tr>\n",
              "      <th>308</th>\n",
              "      <td>Aduephos78</td>\n",
              "      <td>37</td>\n",
              "      <td>Masculino</td>\n",
              "      <td>79</td>\n",
              "      <td>Alpha, Oath of Zeal</td>\n",
              "      <td>2.88</td>\n",
              "    </tr>\n",
              "    <tr>\n",
              "      <th>377</th>\n",
              "      <td>Aduephos78</td>\n",
              "      <td>37</td>\n",
              "      <td>Masculino</td>\n",
              "      <td>174</td>\n",
              "      <td>Primitive Blade</td>\n",
              "      <td>2.46</td>\n",
              "    </tr>\n",
              "    <tr>\n",
              "      <th>431</th>\n",
              "      <td>Aduephos78</td>\n",
              "      <td>37</td>\n",
              "      <td>Masculino</td>\n",
              "      <td>92</td>\n",
              "      <td>Final Critic</td>\n",
              "      <td>1.36</td>\n",
              "    </tr>\n",
              "    <tr>\n",
              "      <th>224</th>\n",
              "      <td>Aeduera68</td>\n",
              "      <td>26</td>\n",
              "      <td>Masculino</td>\n",
              "      <td>106</td>\n",
              "      <td>Crying Steel Sickle</td>\n",
              "      <td>2.29</td>\n",
              "    </tr>\n",
              "    <tr>\n",
              "      <th>...</th>\n",
              "      <td>...</td>\n",
              "      <td>...</td>\n",
              "      <td>...</td>\n",
              "      <td>...</td>\n",
              "      <td>...</td>\n",
              "      <td>...</td>\n",
              "    </tr>\n",
              "    <tr>\n",
              "      <th>363</th>\n",
              "      <td>Yathecal72</td>\n",
              "      <td>32</td>\n",
              "      <td>Masculino</td>\n",
              "      <td>16</td>\n",
              "      <td>Restored Bauble</td>\n",
              "      <td>3.11</td>\n",
              "    </tr>\n",
              "    <tr>\n",
              "      <th>580</th>\n",
              "      <td>Yathecal82</td>\n",
              "      <td>23</td>\n",
              "      <td>Masculino</td>\n",
              "      <td>178</td>\n",
              "      <td>Oathbreaker, Last Hope of the Breaking Storm</td>\n",
              "      <td>2.41</td>\n",
              "    </tr>\n",
              "    <tr>\n",
              "      <th>437</th>\n",
              "      <td>Zhisrisu83</td>\n",
              "      <td>17</td>\n",
              "      <td>Masculino</td>\n",
              "      <td>82</td>\n",
              "      <td>Nirvana</td>\n",
              "      <td>1.11</td>\n",
              "    </tr>\n",
              "    <tr>\n",
              "      <th>376</th>\n",
              "      <td>Zhisrisu83</td>\n",
              "      <td>17</td>\n",
              "      <td>Masculino</td>\n",
              "      <td>33</td>\n",
              "      <td>Curved Axe</td>\n",
              "      <td>1.35</td>\n",
              "    </tr>\n",
              "    <tr>\n",
              "      <th>192</th>\n",
              "      <td>Zontibe81</td>\n",
              "      <td>20</td>\n",
              "      <td>Masculino</td>\n",
              "      <td>91</td>\n",
              "      <td>Celeste</td>\n",
              "      <td>3.71</td>\n",
              "    </tr>\n",
              "  </tbody>\n",
              "</table>\n",
              "<p>780 rows × 6 columns</p>\n",
              "</div>"
            ],
            "text/plain": [
              "            Login  Idade  ...                                  Nome do Item  Valor\n",
              "144  Adairialis76     20  ...                         Bonecarvin Battle Axe   2.46\n",
              "308    Aduephos78     37  ...                           Alpha, Oath of Zeal   2.88\n",
              "377    Aduephos78     37  ...                               Primitive Blade   2.46\n",
              "431    Aduephos78     37  ...                                  Final Critic   1.36\n",
              "224     Aeduera68     26  ...                           Crying Steel Sickle   2.29\n",
              "..            ...    ...  ...                                           ...    ...\n",
              "363    Yathecal72     32  ...                               Restored Bauble   3.11\n",
              "580    Yathecal82     23  ...  Oathbreaker, Last Hope of the Breaking Storm   2.41\n",
              "437    Zhisrisu83     17  ...                                       Nirvana   1.11\n",
              "376    Zhisrisu83     17  ...                                    Curved Axe   1.35\n",
              "192     Zontibe81     20  ...                                       Celeste   3.71\n",
              "\n",
              "[780 rows x 6 columns]"
            ]
          },
          "metadata": {
            "tags": []
          },
          "execution_count": 5
        }
      ]
    },
    {
      "cell_type": "markdown",
      "metadata": {
        "id": "-FinGk2_Yonh",
        "colab_type": "text"
      },
      "source": [
        "### **1.2 Checagem dos tipos dos dados**"
      ]
    },
    {
      "cell_type": "code",
      "metadata": {
        "id": "lvGjYvS4YxkC",
        "colab_type": "code",
        "outputId": "1d78ec84-08a6-481a-c349-faca48230dd0",
        "colab": {
          "base_uri": "https://localhost:8080/",
          "height": 131
        }
      },
      "source": [
        "purchase_file.dtypes"
      ],
      "execution_count": 0,
      "outputs": [
        {
          "output_type": "execute_result",
          "data": {
            "text/plain": [
              "Login            object\n",
              "Idade             int64\n",
              "Sexo             object\n",
              "Item ID           int64\n",
              "Nome do Item     object\n",
              "Valor           float64\n",
              "dtype: object"
            ]
          },
          "metadata": {
            "tags": []
          },
          "execution_count": 44
        }
      ]
    },
    {
      "cell_type": "markdown",
      "metadata": {
        "id": "M5IyGnBvY-ia",
        "colab_type": "text"
      },
      "source": [
        "### **1.3 Checagem de valores nulos**"
      ]
    },
    {
      "cell_type": "code",
      "metadata": {
        "id": "6sLi_lf0ZKAc",
        "colab_type": "code",
        "outputId": "3230fe96-ade8-4030-a889-b1a6009bac43",
        "colab": {
          "base_uri": "https://localhost:8080/",
          "height": 131
        }
      },
      "source": [
        "purchase_file.isnull().sum().sort_values(ascending = False)"
      ],
      "execution_count": 0,
      "outputs": [
        {
          "output_type": "execute_result",
          "data": {
            "text/plain": [
              "Valor           0\n",
              "Nome do Item    0\n",
              "Item ID         0\n",
              "Sexo            0\n",
              "Idade           0\n",
              "Login           0\n",
              "dtype: int64"
            ]
          },
          "metadata": {
            "tags": []
          },
          "execution_count": 45
        }
      ]
    },
    {
      "cell_type": "markdown",
      "metadata": {
        "id": "zRALpHx5ZbZL",
        "colab_type": "text"
      },
      "source": [
        "### **1.4 Checagem de valores zero**"
      ]
    },
    {
      "cell_type": "code",
      "metadata": {
        "id": "EzLNf5KSZmae",
        "colab_type": "code",
        "outputId": "bfdeeb93-e376-41b1-baa1-ab5105fc510a",
        "colab": {
          "base_uri": "https://localhost:8080/",
          "height": 131
        }
      },
      "source": [
        "(purchase_file == 0).sum()"
      ],
      "execution_count": 0,
      "outputs": [
        {
          "output_type": "execute_result",
          "data": {
            "text/plain": [
              "Login           0\n",
              "Idade           0\n",
              "Sexo            0\n",
              "Item ID         1\n",
              "Nome do Item    0\n",
              "Valor           0\n",
              "dtype: int64"
            ]
          },
          "metadata": {
            "tags": []
          },
          "execution_count": 46
        }
      ]
    },
    {
      "cell_type": "markdown",
      "metadata": {
        "id": "9A6T-er_Z6Xv",
        "colab_type": "text"
      },
      "source": [
        "### **1.5 Distribuição de idades**\n",
        "O público mais representativo desta amostra encontra-se entre 19 há 26 anos de idade."
      ]
    },
    {
      "cell_type": "code",
      "metadata": {
        "id": "gpb8ss5daQr-",
        "colab_type": "code",
        "outputId": "79c59a34-fa2d-4912-c2ed-46a172f5078e",
        "colab": {
          "base_uri": "https://localhost:8080/",
          "height": 294
        }
      },
      "source": [
        "plt.hist(purchase_file['Idade'], histtype='bar', rwidth=0.8)\n",
        "\n",
        "plt.title('Distribuição de vendas por idade')\n",
        "plt.xlabel('Idade')\n",
        "plt.ylabel('Quantidade de compradores')\n",
        "\n",
        "plt.show()"
      ],
      "execution_count": 0,
      "outputs": [
        {
          "output_type": "display_data",
          "data": {
            "image/png": "[encoded data removed]",
            "text/plain": [
              "<Figure size 432x288 with 1 Axes>"
            ]
          },
          "metadata": {
            "tags": []
          }
        }
      ]
    },
    {
      "cell_type": "markdown",
      "metadata": {
        "id": "ZwEgrg8bctl9",
        "colab_type": "text"
      },
      "source": [
        "### **1.6 Distribuição dos valores**\n",
        "A maioria das vendas são dos produtos de `R$ 2,30`, `R$ 3,40` e `R$ 4,20`."
      ]
    },
    {
      "cell_type": "code",
      "metadata": {
        "id": "ezfCbcD-c0MX",
        "colab_type": "code",
        "outputId": "12728e21-a24c-4d08-c2b9-2ca6c733903b",
        "colab": {
          "base_uri": "https://localhost:8080/",
          "height": 294
        }
      },
      "source": [
        "plt.hist(purchase_file['Valor'], histtype='bar', rwidth=0.8)\n",
        "\n",
        "plt.title('Distribuição por Valores')\n",
        "plt.xlabel('Reais R$')\n",
        "plt.ylabel('Quantidade de vendas')\n",
        "\n",
        "plt.show()"
      ],
      "execution_count": 0,
      "outputs": [
        {
          "output_type": "display_data",
          "data": {
            "image/png": "[encoded data removed]",
            "text/plain": [
              "<Figure size 432x288 with 1 Axes>"
            ]
          },
          "metadata": {
            "tags": []
          }
        }
      ]
    },
    {
      "cell_type": "markdown",
      "metadata": {
        "id": "7LcWJdQlfvEp",
        "colab_type": "text"
      },
      "source": [
        "## **2. Informações Sobre os Consumidores**\n",
        "* Número total de consumidores"
      ]
    },
    {
      "cell_type": "code",
      "metadata": {
        "id": "c5ChXwxsfEoS",
        "colab_type": "code",
        "outputId": "1651cb02-2f7b-455c-ed2f-d44bf768528a",
        "colab": {
          "base_uri": "https://localhost:8080/",
          "height": 32
        }
      },
      "source": [
        "# Contar a quantidade de logins, removendo as linhas com dados duplicados.\n",
        "\n",
        "total_consumidores = purchase_file['Login'].drop_duplicates().count()\n",
        "print('O total de consumidores na amostra são: {}'.format(total_consumidores))"
      ],
      "execution_count": 0,
      "outputs": [
        {
          "output_type": "stream",
          "text": [
            "O total de consumidores na amostra são: 573\n"
          ],
          "name": "stdout"
        }
      ]
    },
    {
      "cell_type": "markdown",
      "metadata": {
        "id": "Pe3psLqngdP6",
        "colab_type": "text"
      },
      "source": [
        "## **3. Análise Geral de Compras**\n",
        "* Número de itens exclusivos\n",
        "* Preço médio de compra\n",
        "* Número total de compras\n",
        "* Rendimento total (Valor Total)"
      ]
    },
    {
      "cell_type": "code",
      "metadata": {
        "id": "OZC6MkETglox",
        "colab_type": "code",
        "outputId": "4058fa33-9f49-49c7-e2c0-94af775f3f40",
        "colab": {
          "base_uri": "https://localhost:8080/",
          "height": 80
        }
      },
      "source": [
        "# Número de itens exclusivos\n",
        "itens_exclusivos = purchase_file['Item ID'].drop_duplicates().count()\n",
        "\n",
        "preco_medio = np.average(purchase_file['Valor'])\n",
        "\n",
        "total_compras = purchase_file['Nome do Item'].count()\n",
        "\n",
        "valor_total = np.sum(purchase_file['Valor'])\n",
        "\n",
        "analise_geral = pd.DataFrame({\n",
        "    'Itens Exclusivos':[itens_exclusivos],\n",
        "    'Preço Médio (R$)':[np.round(preco_medio, decimals=2)],\n",
        "    'Qtd. Compras':[total_compras],\n",
        "    'Valor Total (R$)':[valor_total]\n",
        "})\n",
        "\n",
        "analise_geral"
      ],
      "execution_count": 0,
      "outputs": [
        {
          "output_type": "execute_result",
          "data": {
            "text/html": [
              "<div>\n",
              "<style scoped>\n",
              "    .dataframe tbody tr th:only-of-type {\n",
              "        vertical-align: middle;\n",
              "    }\n",
              "\n",
              "    .dataframe tbody tr th {\n",
              "        vertical-align: top;\n",
              "    }\n",
              "\n",
              "    .dataframe thead th {\n",
              "        text-align: right;\n",
              "    }\n",
              "</style>\n",
              "<table border=\"1\" class=\"dataframe\">\n",
              "  <thead>\n",
              "    <tr style=\"text-align: right;\">\n",
              "      <th></th>\n",
              "      <th>Itens Exclusivos</th>\n",
              "      <th>Preço Médio (R$)</th>\n",
              "      <th>Qtd. Compras</th>\n",
              "      <th>Valor Total (R$)</th>\n",
              "    </tr>\n",
              "  </thead>\n",
              "  <tbody>\n",
              "    <tr>\n",
              "      <th>0</th>\n",
              "      <td>183</td>\n",
              "      <td>2.93</td>\n",
              "      <td>780</td>\n",
              "      <td>2286.33</td>\n",
              "    </tr>\n",
              "  </tbody>\n",
              "</table>\n",
              "</div>"
            ],
            "text/plain": [
              "   Itens Exclusivos  Preço Médio (R$)  Qtd. Compras  Valor Total (R$)\n",
              "0               183              2.93           780           2286.33"
            ]
          },
          "metadata": {
            "tags": []
          },
          "execution_count": 5
        }
      ]
    },
    {
      "cell_type": "markdown",
      "metadata": {
        "id": "oiLlG1Ovgm4J",
        "colab_type": "text"
      },
      "source": [
        "## **4. Análise Demográfica por Genêro**\n",
        "* Porcentagem e contagem de compradores masculinos\n",
        "* Porcentagem e contagem de compradores do sexo feminino\n",
        "* Porcentagem e contagem de outros / não divulgados"
      ]
    },
    {
      "cell_type": "code",
      "metadata": {
        "id": "v0vRJxiSKhka",
        "colab_type": "code",
        "colab": {}
      },
      "source": [
        "# Selecionar os dados únicos do compradores para deduplicação\n",
        "info_compradores = purchase_file.loc[:,['Login','Sexo','Idade']]\n",
        "\n",
        "# Deduplicar os dados\n",
        "info_compradores = info_compradores.drop_duplicates()"
      ],
      "execution_count": 0,
      "outputs": []
    },
    {
      "cell_type": "code",
      "metadata": {
        "id": "TJU_HSD3NeOH",
        "colab_type": "code",
        "colab": {}
      },
      "source": [
        "# Quantidade de compradores por genêro\n",
        "qtd_compradores = info_compradores['Sexo'].value_counts()\n",
        "\n",
        "# Percentual de compradores por genêro\n",
        "perc_compradores = round(info_compradores['Sexo'].value_counts(normalize=True) * 100, 2)\n",
        "\n",
        "# Armazenar dados no Dataframe\n",
        "analise_demografica = pd.DataFrame(\n",
        "    {'Percentual':perc_compradores,\n",
        "     'Qtd. Compradores':qtd_compradores\n",
        "     }\n",
        ")"
      ],
      "execution_count": 0,
      "outputs": []
    },
    {
      "cell_type": "code",
      "metadata": {
        "id": "1PF0mcHLSgTy",
        "colab_type": "code",
        "outputId": "22a4beaa-c789-4fc7-c0be-750a87a788fb",
        "colab": {
          "base_uri": "https://localhost:8080/",
          "height": 142
        }
      },
      "source": [
        "# Impressão da tabela\n",
        "analise_demografica"
      ],
      "execution_count": 0,
      "outputs": [
        {
          "output_type": "execute_result",
          "data": {
            "text/html": [
              "<div>\n",
              "<style scoped>\n",
              "    .dataframe tbody tr th:only-of-type {\n",
              "        vertical-align: middle;\n",
              "    }\n",
              "\n",
              "    .dataframe tbody tr th {\n",
              "        vertical-align: top;\n",
              "    }\n",
              "\n",
              "    .dataframe thead th {\n",
              "        text-align: right;\n",
              "    }\n",
              "</style>\n",
              "<table border=\"1\" class=\"dataframe\">\n",
              "  <thead>\n",
              "    <tr style=\"text-align: right;\">\n",
              "      <th></th>\n",
              "      <th>Percentual</th>\n",
              "      <th>Qtd. Compradores</th>\n",
              "    </tr>\n",
              "  </thead>\n",
              "  <tbody>\n",
              "    <tr>\n",
              "      <th>Masculino</th>\n",
              "      <td>81.15</td>\n",
              "      <td>465</td>\n",
              "    </tr>\n",
              "    <tr>\n",
              "      <th>Feminino</th>\n",
              "      <td>17.45</td>\n",
              "      <td>100</td>\n",
              "    </tr>\n",
              "    <tr>\n",
              "      <th>Outro / Não Divulgado</th>\n",
              "      <td>1.40</td>\n",
              "      <td>8</td>\n",
              "    </tr>\n",
              "  </tbody>\n",
              "</table>\n",
              "</div>"
            ],
            "text/plain": [
              "                       Percentual  Qtd. Compradores\n",
              "Masculino                   81.15               465\n",
              "Feminino                    17.45               100\n",
              "Outro / Não Divulgado        1.40                 8"
            ]
          },
          "metadata": {
            "tags": []
          },
          "execution_count": 18
        }
      ]
    },
    {
      "cell_type": "code",
      "metadata": {
        "id": "v7tbyFaWSkau",
        "colab_type": "code",
        "outputId": "af937002-4939-4853-aee9-ae9bb6808f5a",
        "colab": {
          "base_uri": "https://localhost:8080/",
          "height": 264
        }
      },
      "source": [
        "plot = analise_demografica['Percentual'].plot(kind='pie',\n",
        "                                              title='Percentual de Compras por Genêro',\n",
        "                                              autopct='%.2f')"
      ],
      "execution_count": 0,
      "outputs": [
        {
          "output_type": "display_data",
          "data": {
            "image/png": "[encoded data removed]",
            "text/plain": [
              "<Figure size 432x288 with 1 Axes>"
            ]
          },
          "metadata": {
            "tags": []
          }
        }
      ]
    },
    {
      "cell_type": "code",
      "metadata": {
        "id": "gCVZ5hmdVI8Q",
        "colab_type": "code",
        "outputId": "f50b7053-bf0c-45e8-d1e7-6a4118930e2d",
        "colab": {
          "base_uri": "https://localhost:8080/",
          "height": 281
        }
      },
      "source": [
        "plot = analise_demografica['Qtd. Compradores'].plot(kind='barh',\n",
        "                                                    title='Quantidade de Compradores por Genêro')\n",
        "# Add labels\n",
        "for i in plot.patches:\n",
        "    plot.text(i.get_width()+.1, i.get_y()+.31, \\\n",
        "            str(round((i.get_width()), 2)), fontsize=10)"
      ],
      "execution_count": 0,
      "outputs": [
        {
          "output_type": "display_data",
          "data": {
            "image/png": "[encoded data removed]",
            "text/plain": [
              "<Figure size 432x288 with 1 Axes>"
            ]
          },
          "metadata": {
            "tags": []
          }
        }
      ]
    },
    {
      "cell_type": "markdown",
      "metadata": {
        "id": "sJmALdZcgsPB",
        "colab_type": "text"
      },
      "source": [
        "## **5. Análise de Compras Por Gênero**\n",
        "\n",
        "* Número de compras\n",
        "* Preço médio de compra\n",
        "* Valor Total de Compra\n",
        "* Compras for faixa etária\n"
      ]
    },
    {
      "cell_type": "code",
      "metadata": {
        "id": "HBOZq8z9g1wv",
        "colab_type": "code",
        "colab": {}
      },
      "source": [
        "# Número de compras por genêro\n",
        "nro_compras_gen = purchase_file['Sexo'].value_counts()\n",
        "\n",
        "# Preço médio de compra por genêro\n",
        "media_compras_gen = round(purchase_file.groupby('Sexo')['Valor'].mean(), 2)\n",
        "\n",
        "# Total de compras por genêro\n",
        "total_compras_gen = purchase_file.groupby('Sexo')['Valor'].sum()\n",
        "\n",
        "analise_compras = pd.DataFrame(\n",
        "    {'Qtd. de Compras':nro_compras_gen,\n",
        "     'Preço Médio (R$)':media_compras_gen,\n",
        "     'Total Compras (R$)':total_compras_gen}\n",
        ")"
      ],
      "execution_count": 0,
      "outputs": []
    },
    {
      "cell_type": "code",
      "metadata": {
        "id": "3EdDlaR-ak4C",
        "colab_type": "code",
        "outputId": "e66ccf5a-b1e8-4190-f646-c96cdc47ddd6",
        "colab": {
          "base_uri": "https://localhost:8080/",
          "height": 142
        }
      },
      "source": [
        "# Impressão da tabela\n",
        "analise_compras"
      ],
      "execution_count": 0,
      "outputs": [
        {
          "output_type": "execute_result",
          "data": {
            "text/html": [
              "<div>\n",
              "<style scoped>\n",
              "    .dataframe tbody tr th:only-of-type {\n",
              "        vertical-align: middle;\n",
              "    }\n",
              "\n",
              "    .dataframe tbody tr th {\n",
              "        vertical-align: top;\n",
              "    }\n",
              "\n",
              "    .dataframe thead th {\n",
              "        text-align: right;\n",
              "    }\n",
              "</style>\n",
              "<table border=\"1\" class=\"dataframe\">\n",
              "  <thead>\n",
              "    <tr style=\"text-align: right;\">\n",
              "      <th></th>\n",
              "      <th>Qtd. de Compras</th>\n",
              "      <th>Preço Médio (R$)</th>\n",
              "      <th>Total Compras (R$)</th>\n",
              "    </tr>\n",
              "  </thead>\n",
              "  <tbody>\n",
              "    <tr>\n",
              "      <th>Feminino</th>\n",
              "      <td>136</td>\n",
              "      <td>2.82</td>\n",
              "      <td>382.91</td>\n",
              "    </tr>\n",
              "    <tr>\n",
              "      <th>Masculino</th>\n",
              "      <td>633</td>\n",
              "      <td>2.95</td>\n",
              "      <td>1867.68</td>\n",
              "    </tr>\n",
              "    <tr>\n",
              "      <th>Outro / Não Divulgado</th>\n",
              "      <td>11</td>\n",
              "      <td>3.25</td>\n",
              "      <td>35.74</td>\n",
              "    </tr>\n",
              "  </tbody>\n",
              "</table>\n",
              "</div>"
            ],
            "text/plain": [
              "                       Qtd. de Compras  Preço Médio (R$)  Total Compras (R$)\n",
              "Feminino                           136              2.82              382.91\n",
              "Masculino                          633              2.95             1867.68\n",
              "Outro / Não Divulgado               11              3.25               35.74"
            ]
          },
          "metadata": {
            "tags": []
          },
          "execution_count": 8
        }
      ]
    },
    {
      "cell_type": "code",
      "metadata": {
        "id": "sWLcQJKjfJxV",
        "colab_type": "code",
        "outputId": "e00e99af-71be-473e-8bd4-c2cdb85a4d55",
        "colab": {
          "base_uri": "https://localhost:8080/",
          "height": 419
        }
      },
      "source": [
        "# Usar dataframe deduplicado\n",
        "\n",
        "info_compradores"
      ],
      "execution_count": 0,
      "outputs": [
        {
          "output_type": "execute_result",
          "data": {
            "text/html": [
              "<div>\n",
              "<style scoped>\n",
              "    .dataframe tbody tr th:only-of-type {\n",
              "        vertical-align: middle;\n",
              "    }\n",
              "\n",
              "    .dataframe tbody tr th {\n",
              "        vertical-align: top;\n",
              "    }\n",
              "\n",
              "    .dataframe thead th {\n",
              "        text-align: right;\n",
              "    }\n",
              "</style>\n",
              "<table border=\"1\" class=\"dataframe\">\n",
              "  <thead>\n",
              "    <tr style=\"text-align: right;\">\n",
              "      <th></th>\n",
              "      <th>Login</th>\n",
              "      <th>Sexo</th>\n",
              "      <th>Idade</th>\n",
              "    </tr>\n",
              "  </thead>\n",
              "  <tbody>\n",
              "    <tr>\n",
              "      <th>0</th>\n",
              "      <td>Aelalis34</td>\n",
              "      <td>Masculino</td>\n",
              "      <td>38</td>\n",
              "    </tr>\n",
              "    <tr>\n",
              "      <th>1</th>\n",
              "      <td>Eolo46</td>\n",
              "      <td>Masculino</td>\n",
              "      <td>21</td>\n",
              "    </tr>\n",
              "    <tr>\n",
              "      <th>2</th>\n",
              "      <td>Assastnya25</td>\n",
              "      <td>Masculino</td>\n",
              "      <td>34</td>\n",
              "    </tr>\n",
              "    <tr>\n",
              "      <th>3</th>\n",
              "      <td>Pheusrical25</td>\n",
              "      <td>Masculino</td>\n",
              "      <td>21</td>\n",
              "    </tr>\n",
              "    <tr>\n",
              "      <th>4</th>\n",
              "      <td>Aela59</td>\n",
              "      <td>Masculino</td>\n",
              "      <td>23</td>\n",
              "    </tr>\n",
              "    <tr>\n",
              "      <th>...</th>\n",
              "      <td>...</td>\n",
              "      <td>...</td>\n",
              "      <td>...</td>\n",
              "    </tr>\n",
              "    <tr>\n",
              "      <th>771</th>\n",
              "      <td>Lassista97</td>\n",
              "      <td>Masculino</td>\n",
              "      <td>24</td>\n",
              "    </tr>\n",
              "    <tr>\n",
              "      <th>772</th>\n",
              "      <td>Sidap51</td>\n",
              "      <td>Masculino</td>\n",
              "      <td>15</td>\n",
              "    </tr>\n",
              "    <tr>\n",
              "      <th>773</th>\n",
              "      <td>Chamadarsda63</td>\n",
              "      <td>Masculino</td>\n",
              "      <td>21</td>\n",
              "    </tr>\n",
              "    <tr>\n",
              "      <th>778</th>\n",
              "      <td>Quelaton80</td>\n",
              "      <td>Masculino</td>\n",
              "      <td>20</td>\n",
              "    </tr>\n",
              "    <tr>\n",
              "      <th>779</th>\n",
              "      <td>Alim85</td>\n",
              "      <td>Feminino</td>\n",
              "      <td>23</td>\n",
              "    </tr>\n",
              "  </tbody>\n",
              "</table>\n",
              "<p>573 rows × 3 columns</p>\n",
              "</div>"
            ],
            "text/plain": [
              "             Login       Sexo  Idade\n",
              "0        Aelalis34  Masculino     38\n",
              "1           Eolo46  Masculino     21\n",
              "2      Assastnya25  Masculino     34\n",
              "3     Pheusrical25  Masculino     21\n",
              "4           Aela59  Masculino     23\n",
              "..             ...        ...    ...\n",
              "771     Lassista97  Masculino     24\n",
              "772        Sidap51  Masculino     15\n",
              "773  Chamadarsda63  Masculino     21\n",
              "778     Quelaton80  Masculino     20\n",
              "779         Alim85   Feminino     23\n",
              "\n",
              "[573 rows x 3 columns]"
            ]
          },
          "metadata": {
            "tags": []
          },
          "execution_count": 9
        }
      ]
    },
    {
      "cell_type": "code",
      "metadata": {
        "id": "U2-Xk_H-hBpP",
        "colab_type": "code",
        "colab": {}
      },
      "source": [
        "# Compras por faixa etária\n",
        "age_bins =  [0, 9.99, 14.99, 19.99, 24.99, 29.99, 34.99, 39.99, 999]\n",
        "seg_idade = ['Menor de 10', '10-14', '15-19', '20-24', '25-29', '30-34', '35-39', 'Maior de 39']\n",
        "\n",
        "info_compradores['Intervalo Idades'] = pd.cut(info_compradores['Idade'], age_bins, labels=seg_idade)"
      ],
      "execution_count": 0,
      "outputs": []
    },
    {
      "cell_type": "code",
      "metadata": {
        "id": "1gWtDQ32rBO-",
        "colab_type": "code",
        "outputId": "7519031a-666c-4dc9-8ca7-2b30fefa1710",
        "colab": {
          "base_uri": "https://localhost:8080/",
          "height": 369
        }
      },
      "source": [
        "df_hist_compras = pd.DataFrame(info_compradores['Intervalo Idades'].value_counts(), index=seg_idade)\n",
        "\n",
        "hist = df_hist_compras.plot(kind='bar', legend=False)\n",
        "\n",
        "hist.set_title('Compras for faixa etária', fontsize=15)\n",
        "hist.set_ylabel('Frequência')\n",
        "hist.set_xlabel('Faixas de Idades')"
      ],
      "execution_count": 0,
      "outputs": [
        {
          "output_type": "execute_result",
          "data": {
            "text/plain": [
              "Text(0.5, 0, 'Faixas de Idades')"
            ]
          },
          "metadata": {
            "tags": []
          },
          "execution_count": 13
        },
        {
          "output_type": "display_data",
          "data": {
            "image/png": "[encoded data removed]",
            "text/plain": [
              "<Figure size 432x288 with 1 Axes>"
            ]
          },
          "metadata": {
            "tags": []
          }
        }
      ]
    },
    {
      "cell_type": "markdown",
      "metadata": {
        "id": "7fDsh7Ohg2hC",
        "colab_type": "text"
      },
      "source": [
        "## **6. Consumidores Mais Populares (Top 5)**\n",
        "Identifique os 5 principais compradores pelo valor total de compra e, em seguida, liste (em uma tabela):\n",
        "\n",
        "* Login\n",
        "* Número de compras\n",
        "* Preço médio de compra\n",
        "* Valor Total de Compra\n",
        "* Itens mais populares"
      ]
    },
    {
      "cell_type": "code",
      "metadata": {
        "id": "rUprkK20g5-u",
        "colab_type": "code",
        "colab": {}
      },
      "source": [
        "consumidores_populares = purchase_file[['Login','Nome do Item','Valor']]"
      ],
      "execution_count": 0,
      "outputs": []
    },
    {
      "cell_type": "code",
      "metadata": {
        "id": "oBv9wF17BSqQ",
        "colab_type": "code",
        "outputId": "0f677cc9-c170-4569-f9a0-e9c9a2f6dc74",
        "colab": {
          "base_uri": "https://localhost:8080/",
          "height": 204
        }
      },
      "source": [
        "consumidores_populares.head(5)"
      ],
      "execution_count": 0,
      "outputs": [
        {
          "output_type": "execute_result",
          "data": {
            "text/html": [
              "<div>\n",
              "<style scoped>\n",
              "    .dataframe tbody tr th:only-of-type {\n",
              "        vertical-align: middle;\n",
              "    }\n",
              "\n",
              "    .dataframe tbody tr th {\n",
              "        vertical-align: top;\n",
              "    }\n",
              "\n",
              "    .dataframe thead th {\n",
              "        text-align: right;\n",
              "    }\n",
              "</style>\n",
              "<table border=\"1\" class=\"dataframe\">\n",
              "  <thead>\n",
              "    <tr style=\"text-align: right;\">\n",
              "      <th></th>\n",
              "      <th>Login</th>\n",
              "      <th>Nome do Item</th>\n",
              "      <th>Valor</th>\n",
              "    </tr>\n",
              "  </thead>\n",
              "  <tbody>\n",
              "    <tr>\n",
              "      <th>0</th>\n",
              "      <td>Aelalis34</td>\n",
              "      <td>Bone Crushing Silver Skewer</td>\n",
              "      <td>3.37</td>\n",
              "    </tr>\n",
              "    <tr>\n",
              "      <th>1</th>\n",
              "      <td>Eolo46</td>\n",
              "      <td>Stormbringer, Dark Blade of Ending Misery</td>\n",
              "      <td>2.32</td>\n",
              "    </tr>\n",
              "    <tr>\n",
              "      <th>2</th>\n",
              "      <td>Assastnya25</td>\n",
              "      <td>Primitive Blade</td>\n",
              "      <td>2.46</td>\n",
              "    </tr>\n",
              "    <tr>\n",
              "      <th>3</th>\n",
              "      <td>Pheusrical25</td>\n",
              "      <td>Final Critic</td>\n",
              "      <td>1.36</td>\n",
              "    </tr>\n",
              "    <tr>\n",
              "      <th>4</th>\n",
              "      <td>Aela59</td>\n",
              "      <td>Stormfury Mace</td>\n",
              "      <td>1.27</td>\n",
              "    </tr>\n",
              "  </tbody>\n",
              "</table>\n",
              "</div>"
            ],
            "text/plain": [
              "          Login                               Nome do Item  Valor\n",
              "0     Aelalis34                Bone Crushing Silver Skewer   3.37\n",
              "1        Eolo46  Stormbringer, Dark Blade of Ending Misery   2.32\n",
              "2   Assastnya25                            Primitive Blade   2.46\n",
              "3  Pheusrical25                               Final Critic   1.36\n",
              "4        Aela59                             Stormfury Mace   1.27"
            ]
          },
          "metadata": {
            "tags": []
          },
          "execution_count": 69
        }
      ]
    },
    {
      "cell_type": "code",
      "metadata": {
        "id": "xJ_zqNv2-cvU",
        "colab_type": "code",
        "colab": {}
      },
      "source": [
        "top_por_compras = consumidores_populares.groupby(['Login']).count()['Nome do Item']\n",
        "top_por_valor_medio = round(consumidores_populares.groupby('Login').mean()['Valor'], 2)\n",
        "top_por_valor_total = consumidores_populares.groupby('Login').sum()['Valor']\n",
        "\n",
        "top_consumidores = pd.DataFrame({'Número de Compras': top_por_compras,\n",
        "                                 'Preço Médio(R$)': top_por_valor_medio,\n",
        "                                 'Valor Total(R$)': top_por_valor_total}) \\\n",
        "                                 .sort_values(by=['Valor Total(R$)'], ascending=False) \\\n",
        "                                 .head(5)\n",
        "\n",
        "top_itens = consumidores_populares['Nome do Item'].value_counts().head(5)"
      ],
      "execution_count": 0,
      "outputs": []
    },
    {
      "cell_type": "code",
      "metadata": {
        "id": "T3aeD9ZCUrlw",
        "colab_type": "code",
        "outputId": "40630e1b-ddf3-449f-c2e4-8bfbae555e3a",
        "colab": {
          "base_uri": "https://localhost:8080/",
          "height": 235
        }
      },
      "source": [
        "top_consumidores"
      ],
      "execution_count": 0,
      "outputs": [
        {
          "output_type": "execute_result",
          "data": {
            "text/html": [
              "<div>\n",
              "<style scoped>\n",
              "    .dataframe tbody tr th:only-of-type {\n",
              "        vertical-align: middle;\n",
              "    }\n",
              "\n",
              "    .dataframe tbody tr th {\n",
              "        vertical-align: top;\n",
              "    }\n",
              "\n",
              "    .dataframe thead th {\n",
              "        text-align: right;\n",
              "    }\n",
              "</style>\n",
              "<table border=\"1\" class=\"dataframe\">\n",
              "  <thead>\n",
              "    <tr style=\"text-align: right;\">\n",
              "      <th></th>\n",
              "      <th>Número de Compras</th>\n",
              "      <th>Preço Médio(R$)</th>\n",
              "      <th>Valor Total(R$)</th>\n",
              "    </tr>\n",
              "    <tr>\n",
              "      <th>Login</th>\n",
              "      <th></th>\n",
              "      <th></th>\n",
              "      <th></th>\n",
              "    </tr>\n",
              "  </thead>\n",
              "  <tbody>\n",
              "    <tr>\n",
              "      <th>Undirrala66</th>\n",
              "      <td>5</td>\n",
              "      <td>3.41</td>\n",
              "      <td>17.06</td>\n",
              "    </tr>\n",
              "    <tr>\n",
              "      <th>Saedue76</th>\n",
              "      <td>4</td>\n",
              "      <td>3.39</td>\n",
              "      <td>13.56</td>\n",
              "    </tr>\n",
              "    <tr>\n",
              "      <th>Mindimnya67</th>\n",
              "      <td>4</td>\n",
              "      <td>3.18</td>\n",
              "      <td>12.74</td>\n",
              "    </tr>\n",
              "    <tr>\n",
              "      <th>Haellysu29</th>\n",
              "      <td>3</td>\n",
              "      <td>4.24</td>\n",
              "      <td>12.73</td>\n",
              "    </tr>\n",
              "    <tr>\n",
              "      <th>Eoda93</th>\n",
              "      <td>3</td>\n",
              "      <td>3.86</td>\n",
              "      <td>11.58</td>\n",
              "    </tr>\n",
              "  </tbody>\n",
              "</table>\n",
              "</div>"
            ],
            "text/plain": [
              "             Número de Compras  Preço Médio(R$)  Valor Total(R$)\n",
              "Login                                                           \n",
              "Undirrala66                  5             3.41            17.06\n",
              "Saedue76                     4             3.39            13.56\n",
              "Mindimnya67                  4             3.18            12.74\n",
              "Haellysu29                   3             4.24            12.73\n",
              "Eoda93                       3             3.86            11.58"
            ]
          },
          "metadata": {
            "tags": []
          },
          "execution_count": 33
        }
      ]
    },
    {
      "cell_type": "code",
      "metadata": {
        "id": "3Y9KTvzk4gnH",
        "colab_type": "code",
        "outputId": "27274b68-2dba-40c4-a939-89878b0a6f99",
        "colab": {
          "base_uri": "https://localhost:8080/",
          "height": 204
        }
      },
      "source": [
        "itens_populares = pd.DataFrame(consumidores_populares['Nome do Item'].value_counts().head(5))\n",
        "itens_populares"
      ],
      "execution_count": 0,
      "outputs": [
        {
          "output_type": "execute_result",
          "data": {
            "text/html": [
              "<div>\n",
              "<style scoped>\n",
              "    .dataframe tbody tr th:only-of-type {\n",
              "        vertical-align: middle;\n",
              "    }\n",
              "\n",
              "    .dataframe tbody tr th {\n",
              "        vertical-align: top;\n",
              "    }\n",
              "\n",
              "    .dataframe thead th {\n",
              "        text-align: right;\n",
              "    }\n",
              "</style>\n",
              "<table border=\"1\" class=\"dataframe\">\n",
              "  <thead>\n",
              "    <tr style=\"text-align: right;\">\n",
              "      <th></th>\n",
              "      <th>Nome do Item</th>\n",
              "    </tr>\n",
              "  </thead>\n",
              "  <tbody>\n",
              "    <tr>\n",
              "      <th>Final Critic</th>\n",
              "      <td>14</td>\n",
              "    </tr>\n",
              "    <tr>\n",
              "      <th>Betrayal, Whisper of Grieving Widows</th>\n",
              "      <td>11</td>\n",
              "    </tr>\n",
              "    <tr>\n",
              "      <th>Arcane Gem</th>\n",
              "      <td>11</td>\n",
              "    </tr>\n",
              "    <tr>\n",
              "      <th>Stormcaller</th>\n",
              "      <td>10</td>\n",
              "    </tr>\n",
              "    <tr>\n",
              "      <th>Woeful Adamantite Claymore</th>\n",
              "      <td>9</td>\n",
              "    </tr>\n",
              "  </tbody>\n",
              "</table>\n",
              "</div>"
            ],
            "text/plain": [
              "                                      Nome do Item\n",
              "Final Critic                                    14\n",
              "Betrayal, Whisper of Grieving Widows            11\n",
              "Arcane Gem                                      11\n",
              "Stormcaller                                     10\n",
              "Woeful Adamantite Claymore                       9"
            ]
          },
          "metadata": {
            "tags": []
          },
          "execution_count": 44
        }
      ]
    },
    {
      "cell_type": "markdown",
      "metadata": {
        "id": "3PRmboAkh9-0",
        "colab_type": "text"
      },
      "source": [
        "## **7. Itens Mais Populares**\n",
        "Identifique os 5 itens mais populares **por contagem de compras** e, em seguida, liste (em uma tabela):\n",
        "* ID do item\n",
        "* Nome do item\n",
        "* Número de compras\n",
        "* Preço Médio do item\n",
        "* Valor Total de Compra\n",
        "* Itens mais lucrativos"
      ]
    },
    {
      "cell_type": "code",
      "metadata": {
        "id": "0Fnky5GS56So",
        "colab_type": "code",
        "colab": {}
      },
      "source": [
        "itens_populares = purchase_file[['Item ID','Nome do Item','Valor']]"
      ],
      "execution_count": 0,
      "outputs": []
    },
    {
      "cell_type": "code",
      "metadata": {
        "id": "F8SCIJM6CMDf",
        "colab_type": "code",
        "outputId": "17c0900f-afb6-4e80-89f3-d0b5c8f26002",
        "colab": {
          "base_uri": "https://localhost:8080/",
          "height": 235
        }
      },
      "source": [
        "num_compras = itens_populares.groupby('Nome do Item').count()['Item ID']\n",
        "media_preco = round(itens_populares.groupby('Nome do Item').mean()['Valor'], 2)\n",
        "total_preco = itens_populares.groupby('Nome do Item').sum()['Valor']\n",
        "\n",
        "df_itens_populares = pd.DataFrame({\n",
        "    'Numero de Compras': num_compras,\n",
        "    'Preço Médio do Item': media_preco,\n",
        "    'Valor Total da Compra': total_preco}) \\\n",
        "    .sort_values(by=['Numero de Compras'], ascending=False) \\\n",
        "    .head(5)\n",
        "\n",
        "df_itens_populares\n"
      ],
      "execution_count": 61,
      "outputs": [
        {
          "output_type": "execute_result",
          "data": {
            "text/html": [
              "<div>\n",
              "<style scoped>\n",
              "    .dataframe tbody tr th:only-of-type {\n",
              "        vertical-align: middle;\n",
              "    }\n",
              "\n",
              "    .dataframe tbody tr th {\n",
              "        vertical-align: top;\n",
              "    }\n",
              "\n",
              "    .dataframe thead th {\n",
              "        text-align: right;\n",
              "    }\n",
              "</style>\n",
              "<table border=\"1\" class=\"dataframe\">\n",
              "  <thead>\n",
              "    <tr style=\"text-align: right;\">\n",
              "      <th></th>\n",
              "      <th>Numero de Compras</th>\n",
              "      <th>Preço Médio do Item</th>\n",
              "      <th>Valor Total da Compra</th>\n",
              "    </tr>\n",
              "    <tr>\n",
              "      <th>Nome do Item</th>\n",
              "      <th></th>\n",
              "      <th></th>\n",
              "      <th></th>\n",
              "    </tr>\n",
              "  </thead>\n",
              "  <tbody>\n",
              "    <tr>\n",
              "      <th>Final Critic</th>\n",
              "      <td>14</td>\n",
              "      <td>2.76</td>\n",
              "      <td>38.60</td>\n",
              "    </tr>\n",
              "    <tr>\n",
              "      <th>Arcane Gem</th>\n",
              "      <td>11</td>\n",
              "      <td>2.23</td>\n",
              "      <td>24.53</td>\n",
              "    </tr>\n",
              "    <tr>\n",
              "      <th>Betrayal, Whisper of Grieving Widows</th>\n",
              "      <td>11</td>\n",
              "      <td>2.35</td>\n",
              "      <td>25.85</td>\n",
              "    </tr>\n",
              "    <tr>\n",
              "      <th>Stormcaller</th>\n",
              "      <td>10</td>\n",
              "      <td>3.46</td>\n",
              "      <td>34.65</td>\n",
              "    </tr>\n",
              "    <tr>\n",
              "      <th>Woeful Adamantite Claymore</th>\n",
              "      <td>9</td>\n",
              "      <td>1.24</td>\n",
              "      <td>11.16</td>\n",
              "    </tr>\n",
              "  </tbody>\n",
              "</table>\n",
              "</div>"
            ],
            "text/plain": [
              "                                      Numero de Compras  ...  Valor Total da Compra\n",
              "Nome do Item                                             ...                       \n",
              "Final Critic                                         14  ...                  38.60\n",
              "Arcane Gem                                           11  ...                  24.53\n",
              "Betrayal, Whisper of Grieving Widows                 11  ...                  25.85\n",
              "Stormcaller                                          10  ...                  34.65\n",
              "Woeful Adamantite Claymore                            9  ...                  11.16\n",
              "\n",
              "[5 rows x 3 columns]"
            ]
          },
          "metadata": {
            "tags": []
          },
          "execution_count": 61
        }
      ]
    },
    {
      "cell_type": "markdown",
      "metadata": {
        "id": "7tz_LinAg6rp",
        "colab_type": "text"
      },
      "source": [
        "## **8. Itens Mais Lucrativos**\n",
        "Identifique os 5 itens mais lucrativos pelo **valor total de compra** e, em seguida, liste (em uma tabela):\n",
        "* ID do item\n",
        "* Nome do item\n",
        "* Número de compras\n",
        "* Preço Médio do item\n",
        "* Valor Total de Compra"
      ]
    },
    {
      "cell_type": "code",
      "metadata": {
        "id": "FeiYoUmFhD95",
        "colab_type": "code",
        "colab": {}
      },
      "source": [
        "# Implemente aqui sua solução"
      ],
      "execution_count": 0,
      "outputs": []
    }
  ]
}