{
  "nbformat": 4,
  "nbformat_minor": 0,
  "metadata": {
    "colab": {
      "name": "05_missao05.ipynb",
      "provenance": [],
      "collapsed_sections": [
        "-FinGk2_Yonh",
        "M5IyGnBvY-ia",
        "zRALpHx5ZbZL",
        "9A6T-er_Z6Xv",
        "ZwEgrg8bctl9"
      ],
      "include_colab_link": true
    },
    "kernelspec": {
      "name": "python3",
      "display_name": "Python 3"
    }
  },
  "cells": [
    {
      "cell_type": "markdown",
      "metadata": {
        "id": "view-in-github",
        "colab_type": "text"
      },
      "source": [
        "<a href=\"https://colab.research.google.com/github/ralsouza/python_fundamentos/blob/master/src/05_desafio/05_missao05.ipynb\" target=\"_parent\"><img src=\"https://colab.research.google.com/assets/colab-badge.svg\" alt=\"Open In Colab\"/></a>"
      ]
    },
    {
      "cell_type": "markdown",
      "metadata": {
        "id": "6HYwM-bgcfmf",
        "colab_type": "text"
      },
      "source": [
        "## **Missão: Analisar o Comportamento de Compra de Consumidores.**\n",
        "### Nível de Dificuldade: Alto\n",
        "\n",
        "Você recebeu a tarefa de analisar os dados de compras de um web site! Os dados estão no formato JSON e disponíveis junto com este notebook.\n",
        "\n",
        "No site, cada usuário efetua login usando sua conta pessoal e pode adquirir produtos à medida que navega pela lista de produtos oferecidos. Cada produto possui um valor de venda. Dados de idade e sexo de cada usuário foram coletados e estão fornecidos no arquivo JSON.\n",
        "\n",
        "Seu trabalho é entregar uma análise de comportamento de compra dos consumidores. Esse é um tipo de atividade comum realizado por Cientistas de Dados e o resultado deste trabalho pode ser usado, por exemplo, para alimentar um modelo de Machine Learning e fazer previsões sobre comportamentos futuros.\n",
        "\n",
        "Mas nesta missão você vai analisar o comportamento de compra dos consumidores usando o pacote Pandas da linguagem Python e seu relatório final deve incluir cada um dos seguintes itens:\n",
        "\n",
        "\n",
        "**Contagem de Consumidores**\n",
        "* Número total de consumidores\n",
        "\n",
        "**Análise Geral de Compras**\n",
        "* Número de itens exclusivos\n",
        "* Preço médio de compra\n",
        "* Número total de compras\n",
        "* Rendimento total\n",
        "\n",
        "**Informações Demográficas Por Gênero**\n",
        "* Porcentagem e contagem de compradores masculinos\n",
        "* Porcentagem e contagem de compradores do sexo feminino\n",
        "* Porcentagem e contagem de outros / não divulgados\n",
        "\n",
        "**Análise de Compras Por Gênero**\n",
        "* Número de compras\n",
        "* Preço médio de compra\n",
        "* Valor Total de Compra\n",
        "* Compras for faixa etária\n",
        "\n",
        "**Identifique os 5 principais compradores pelo valor total de compra e, em seguida, liste (em uma tabela):**\n",
        "* Login\n",
        "* Número de compras\n",
        "* Preço médio de compra\n",
        "* Valor Total de Compra\n",
        "* Itens mais populares\n",
        "\n",
        "**Identifique os 5 itens mais populares por contagem de compras e, em seguida, liste (em uma tabela):**\n",
        "* ID do item\n",
        "* Nome do item\n",
        "* Número de compras\n",
        "* Preço do item\n",
        "* Valor Total de Compra\n",
        "* Itens mais lucrativos\n",
        "\n",
        "**Identifique os 5 itens mais lucrativos pelo valor total de compra e, em seguida, liste (em uma tabela):**\n",
        "* ID do item\n",
        "* Nome do item\n",
        "* Número de compras\n",
        "* Preço do item\n",
        "* Valor Total de Compra\n",
        "\n",
        "**Como considerações finais:**\n",
        "* Seu script deve funcionar para o conjunto de dados fornecido.\n",
        "* Você deve usar a Biblioteca Pandas e o Jupyter Notebook.\n",
        "\n"
      ]
    },
    {
      "cell_type": "code",
      "metadata": {
        "id": "7JMf2QPAcWne",
        "colab_type": "code",
        "colab": {}
      },
      "source": [
        "# Imports\n",
        "import pandas as pd\n",
        "import numpy as np\n",
        "import matplotlib.pyplot as plt\n",
        "import warnings\n",
        "warnings.filterwarnings('ignore')\n",
        "%matplotlib inline"
      ],
      "execution_count": 0,
      "outputs": []
    },
    {
      "cell_type": "code",
      "metadata": {
        "id": "-PbPDw-4fAxL",
        "colab_type": "code",
        "colab": {}
      },
      "source": [
        "# Carga do arquivo\n",
        "load_file = \"dados_compras.json\"\n",
        "purchase_file = pd.read_json(load_file, orient = \"records\")"
      ],
      "execution_count": 0,
      "outputs": []
    },
    {
      "cell_type": "markdown",
      "metadata": {
        "id": "kEjZJXapSjFe",
        "colab_type": "text"
      },
      "source": [
        "## **1. Análise Exploratória**"
      ]
    },
    {
      "cell_type": "markdown",
      "metadata": {
        "id": "hCkJJLYQYR05",
        "colab_type": "text"
      },
      "source": [
        "### **1.1 Checagem das primeiras linhas**"
      ]
    },
    {
      "cell_type": "code",
      "metadata": {
        "id": "C67576fXYYi2",
        "colab_type": "code",
        "colab": {
          "base_uri": "https://localhost:8080/",
          "height": 411
        },
        "outputId": "c872adf2-1b33-40b6-87d1-4f1bda945293"
      },
      "source": [
        "# Nota-se que os logins se repetem.\n",
        "purchase_file.sort_values('Login')"
      ],
      "execution_count": 97,
      "outputs": [
        {
          "output_type": "execute_result",
          "data": {
            "text/html": [
              "<div>\n",
              "<style scoped>\n",
              "    .dataframe tbody tr th:only-of-type {\n",
              "        vertical-align: middle;\n",
              "    }\n",
              "\n",
              "    .dataframe tbody tr th {\n",
              "        vertical-align: top;\n",
              "    }\n",
              "\n",
              "    .dataframe thead th {\n",
              "        text-align: right;\n",
              "    }\n",
              "</style>\n",
              "<table border=\"1\" class=\"dataframe\">\n",
              "  <thead>\n",
              "    <tr style=\"text-align: right;\">\n",
              "      <th></th>\n",
              "      <th>Login</th>\n",
              "      <th>Idade</th>\n",
              "      <th>Sexo</th>\n",
              "      <th>Item ID</th>\n",
              "      <th>Nome do Item</th>\n",
              "      <th>Valor</th>\n",
              "    </tr>\n",
              "  </thead>\n",
              "  <tbody>\n",
              "    <tr>\n",
              "      <th>144</th>\n",
              "      <td>Adairialis76</td>\n",
              "      <td>20</td>\n",
              "      <td>Masculino</td>\n",
              "      <td>44</td>\n",
              "      <td>Bonecarvin Battle Axe</td>\n",
              "      <td>2.46</td>\n",
              "    </tr>\n",
              "    <tr>\n",
              "      <th>308</th>\n",
              "      <td>Aduephos78</td>\n",
              "      <td>37</td>\n",
              "      <td>Masculino</td>\n",
              "      <td>79</td>\n",
              "      <td>Alpha, Oath of Zeal</td>\n",
              "      <td>2.88</td>\n",
              "    </tr>\n",
              "    <tr>\n",
              "      <th>377</th>\n",
              "      <td>Aduephos78</td>\n",
              "      <td>37</td>\n",
              "      <td>Masculino</td>\n",
              "      <td>174</td>\n",
              "      <td>Primitive Blade</td>\n",
              "      <td>2.46</td>\n",
              "    </tr>\n",
              "    <tr>\n",
              "      <th>431</th>\n",
              "      <td>Aduephos78</td>\n",
              "      <td>37</td>\n",
              "      <td>Masculino</td>\n",
              "      <td>92</td>\n",
              "      <td>Final Critic</td>\n",
              "      <td>1.36</td>\n",
              "    </tr>\n",
              "    <tr>\n",
              "      <th>224</th>\n",
              "      <td>Aeduera68</td>\n",
              "      <td>26</td>\n",
              "      <td>Masculino</td>\n",
              "      <td>106</td>\n",
              "      <td>Crying Steel Sickle</td>\n",
              "      <td>2.29</td>\n",
              "    </tr>\n",
              "    <tr>\n",
              "      <th>...</th>\n",
              "      <td>...</td>\n",
              "      <td>...</td>\n",
              "      <td>...</td>\n",
              "      <td>...</td>\n",
              "      <td>...</td>\n",
              "      <td>...</td>\n",
              "    </tr>\n",
              "    <tr>\n",
              "      <th>363</th>\n",
              "      <td>Yathecal72</td>\n",
              "      <td>32</td>\n",
              "      <td>Masculino</td>\n",
              "      <td>16</td>\n",
              "      <td>Restored Bauble</td>\n",
              "      <td>3.11</td>\n",
              "    </tr>\n",
              "    <tr>\n",
              "      <th>580</th>\n",
              "      <td>Yathecal82</td>\n",
              "      <td>23</td>\n",
              "      <td>Masculino</td>\n",
              "      <td>178</td>\n",
              "      <td>Oathbreaker, Last Hope of the Breaking Storm</td>\n",
              "      <td>2.41</td>\n",
              "    </tr>\n",
              "    <tr>\n",
              "      <th>437</th>\n",
              "      <td>Zhisrisu83</td>\n",
              "      <td>17</td>\n",
              "      <td>Masculino</td>\n",
              "      <td>82</td>\n",
              "      <td>Nirvana</td>\n",
              "      <td>1.11</td>\n",
              "    </tr>\n",
              "    <tr>\n",
              "      <th>376</th>\n",
              "      <td>Zhisrisu83</td>\n",
              "      <td>17</td>\n",
              "      <td>Masculino</td>\n",
              "      <td>33</td>\n",
              "      <td>Curved Axe</td>\n",
              "      <td>1.35</td>\n",
              "    </tr>\n",
              "    <tr>\n",
              "      <th>192</th>\n",
              "      <td>Zontibe81</td>\n",
              "      <td>20</td>\n",
              "      <td>Masculino</td>\n",
              "      <td>91</td>\n",
              "      <td>Celeste</td>\n",
              "      <td>3.71</td>\n",
              "    </tr>\n",
              "  </tbody>\n",
              "</table>\n",
              "<p>780 rows × 6 columns</p>\n",
              "</div>"
            ],
            "text/plain": [
              "            Login  Idade  ...                                  Nome do Item  Valor\n",
              "144  Adairialis76     20  ...                         Bonecarvin Battle Axe   2.46\n",
              "308    Aduephos78     37  ...                           Alpha, Oath of Zeal   2.88\n",
              "377    Aduephos78     37  ...                               Primitive Blade   2.46\n",
              "431    Aduephos78     37  ...                                  Final Critic   1.36\n",
              "224     Aeduera68     26  ...                           Crying Steel Sickle   2.29\n",
              "..            ...    ...  ...                                           ...    ...\n",
              "363    Yathecal72     32  ...                               Restored Bauble   3.11\n",
              "580    Yathecal82     23  ...  Oathbreaker, Last Hope of the Breaking Storm   2.41\n",
              "437    Zhisrisu83     17  ...                                       Nirvana   1.11\n",
              "376    Zhisrisu83     17  ...                                    Curved Axe   1.35\n",
              "192     Zontibe81     20  ...                                       Celeste   3.71\n",
              "\n",
              "[780 rows x 6 columns]"
            ]
          },
          "metadata": {
            "tags": []
          },
          "execution_count": 97
        }
      ]
    },
    {
      "cell_type": "markdown",
      "metadata": {
        "id": "-FinGk2_Yonh",
        "colab_type": "text"
      },
      "source": [
        "### **1.2 Checagem dos tipos dos dados**"
      ]
    },
    {
      "cell_type": "code",
      "metadata": {
        "id": "lvGjYvS4YxkC",
        "colab_type": "code",
        "colab": {
          "base_uri": "https://localhost:8080/",
          "height": 131
        },
        "outputId": "1d78ec84-08a6-481a-c349-faca48230dd0"
      },
      "source": [
        "purchase_file.dtypes"
      ],
      "execution_count": 44,
      "outputs": [
        {
          "output_type": "execute_result",
          "data": {
            "text/plain": [
              "Login            object\n",
              "Idade             int64\n",
              "Sexo             object\n",
              "Item ID           int64\n",
              "Nome do Item     object\n",
              "Valor           float64\n",
              "dtype: object"
            ]
          },
          "metadata": {
            "tags": []
          },
          "execution_count": 44
        }
      ]
    },
    {
      "cell_type": "markdown",
      "metadata": {
        "id": "M5IyGnBvY-ia",
        "colab_type": "text"
      },
      "source": [
        "### **1.3 Checagem de valores nulos**"
      ]
    },
    {
      "cell_type": "code",
      "metadata": {
        "id": "6sLi_lf0ZKAc",
        "colab_type": "code",
        "colab": {
          "base_uri": "https://localhost:8080/",
          "height": 131
        },
        "outputId": "3230fe96-ade8-4030-a889-b1a6009bac43"
      },
      "source": [
        "purchase_file.isnull().sum().sort_values(ascending = False)"
      ],
      "execution_count": 45,
      "outputs": [
        {
          "output_type": "execute_result",
          "data": {
            "text/plain": [
              "Valor           0\n",
              "Nome do Item    0\n",
              "Item ID         0\n",
              "Sexo            0\n",
              "Idade           0\n",
              "Login           0\n",
              "dtype: int64"
            ]
          },
          "metadata": {
            "tags": []
          },
          "execution_count": 45
        }
      ]
    },
    {
      "cell_type": "markdown",
      "metadata": {
        "id": "zRALpHx5ZbZL",
        "colab_type": "text"
      },
      "source": [
        "### **1.4 Checagem de valores zero**"
      ]
    },
    {
      "cell_type": "code",
      "metadata": {
        "id": "EzLNf5KSZmae",
        "colab_type": "code",
        "colab": {
          "base_uri": "https://localhost:8080/",
          "height": 131
        },
        "outputId": "bfdeeb93-e376-41b1-baa1-ab5105fc510a"
      },
      "source": [
        "(purchase_file == 0).sum()"
      ],
      "execution_count": 46,
      "outputs": [
        {
          "output_type": "execute_result",
          "data": {
            "text/plain": [
              "Login           0\n",
              "Idade           0\n",
              "Sexo            0\n",
              "Item ID         1\n",
              "Nome do Item    0\n",
              "Valor           0\n",
              "dtype: int64"
            ]
          },
          "metadata": {
            "tags": []
          },
          "execution_count": 46
        }
      ]
    },
    {
      "cell_type": "markdown",
      "metadata": {
        "id": "9A6T-er_Z6Xv",
        "colab_type": "text"
      },
      "source": [
        "### **1.5 Distribuição de idades**\n",
        "O público mais representativo desta amostra encontra-se entre 19 há 26 anos de idade."
      ]
    },
    {
      "cell_type": "code",
      "metadata": {
        "id": "gpb8ss5daQr-",
        "colab_type": "code",
        "colab": {
          "base_uri": "https://localhost:8080/",
          "height": 294
        },
        "outputId": "79c59a34-fa2d-4912-c2ed-46a172f5078e"
      },
      "source": [
        "plt.hist(purchase_file['Idade'], histtype='bar', rwidth=0.8)\n",
        "\n",
        "plt.title('Distribuição de vendas por idade')\n",
        "plt.xlabel('Idade')\n",
        "plt.ylabel('Quantidade de compradores')\n",
        "\n",
        "plt.show()"
      ],
      "execution_count": 63,
      "outputs": [
        {
          "output_type": "display_data",
          "data": {
            "image/png": "[encoded data removed]",
            "text/plain": [
              "<Figure size 432x288 with 1 Axes>"
            ]
          },
          "metadata": {
            "tags": []
          }
        }
      ]
    },
    {
      "cell_type": "markdown",
      "metadata": {
        "id": "ZwEgrg8bctl9",
        "colab_type": "text"
      },
      "source": [
        "### **1.6 Distribuição dos valores**\n",
        "A maioria das vendas são dos produtos de `R$ 2,30`, `R$ 3,40` e `R$ 4,20`."
      ]
    },
    {
      "cell_type": "code",
      "metadata": {
        "id": "ezfCbcD-c0MX",
        "colab_type": "code",
        "colab": {
          "base_uri": "https://localhost:8080/",
          "height": 294
        },
        "outputId": "12728e21-a24c-4d08-c2b9-2ca6c733903b"
      },
      "source": [
        "plt.hist(purchase_file['Valor'], histtype='bar', rwidth=0.8)\n",
        "\n",
        "plt.title('Distribuição por Valores')\n",
        "plt.xlabel('Reais R$')\n",
        "plt.ylabel('Quantidade de vendas')\n",
        "\n",
        "plt.show()"
      ],
      "execution_count": 69,
      "outputs": [
        {
          "output_type": "display_data",
          "data": {
            "image/png": "[encoded data removed]",
            "text/plain": [
              "<Figure size 432x288 with 1 Axes>"
            ]
          },
          "metadata": {
            "tags": []
          }
        }
      ]
    },
    {
      "cell_type": "markdown",
      "metadata": {
        "id": "7LcWJdQlfvEp",
        "colab_type": "text"
      },
      "source": [
        "## **2. Informações Sobre os Consumidores**\n",
        "* Número total de consumidores"
      ]
    },
    {
      "cell_type": "code",
      "metadata": {
        "id": "c5ChXwxsfEoS",
        "colab_type": "code",
        "outputId": "1651cb02-2f7b-455c-ed2f-d44bf768528a",
        "colab": {
          "base_uri": "https://localhost:8080/",
          "height": 32
        }
      },
      "source": [
        "# Contar a quantidade de logins, removendo as linhas com dados duplicados.\n",
        "\n",
        "total_consumidores = purchase_file['Login'].drop_duplicates().count()\n",
        "print('O total de consumidores na amostra são: {}'.format(total_consumidores))"
      ],
      "execution_count": 98,
      "outputs": [
        {
          "output_type": "stream",
          "text": [
            "O total de consumidores na amostra são: 573\n"
          ],
          "name": "stdout"
        }
      ]
    },
    {
      "cell_type": "markdown",
      "metadata": {
        "id": "Pe3psLqngdP6",
        "colab_type": "text"
      },
      "source": [
        "## **3. Análise Geral de Compras**"
      ]
    },
    {
      "cell_type": "code",
      "metadata": {
        "id": "OZC6MkETglox",
        "colab_type": "code",
        "colab": {}
      },
      "source": [
        "# Implemente aqui sua solução"
      ],
      "execution_count": 0,
      "outputs": []
    },
    {
      "cell_type": "markdown",
      "metadata": {
        "id": "oiLlG1Ovgm4J",
        "colab_type": "text"
      },
      "source": [
        "## **4. Análise Demográfica**"
      ]
    },
    {
      "cell_type": "code",
      "metadata": {
        "id": "CaUiuL5kgqw2",
        "colab_type": "code",
        "colab": {}
      },
      "source": [
        "# Implemente aqui sua solução"
      ],
      "execution_count": 0,
      "outputs": []
    },
    {
      "cell_type": "markdown",
      "metadata": {
        "id": "sJmALdZcgsPB",
        "colab_type": "text"
      },
      "source": [
        "## **5. Informações Demográficas Por Gênero**"
      ]
    },
    {
      "cell_type": "code",
      "metadata": {
        "id": "0WQ_Y4cogwgL",
        "colab_type": "code",
        "colab": {}
      },
      "source": [
        "# Implemente aqui sua solução"
      ],
      "execution_count": 0,
      "outputs": []
    },
    {
      "cell_type": "markdown",
      "metadata": {
        "id": "UC5_HivGg0JR",
        "colab_type": "text"
      },
      "source": [
        "## **6. Análise de Compras Por Gênero**"
      ]
    },
    {
      "cell_type": "code",
      "metadata": {
        "id": "HBOZq8z9g1wv",
        "colab_type": "code",
        "colab": {}
      },
      "source": [
        "# Implemente aqui sua solução"
      ],
      "execution_count": 0,
      "outputs": []
    },
    {
      "cell_type": "markdown",
      "metadata": {
        "id": "7fDsh7Ohg2hC",
        "colab_type": "text"
      },
      "source": [
        "## **7. Consumidores Mais Populares (Top 5)**"
      ]
    },
    {
      "cell_type": "code",
      "metadata": {
        "id": "rUprkK20g5-u",
        "colab_type": "code",
        "colab": {}
      },
      "source": [
        "# Implemente aqui sua solução"
      ],
      "execution_count": 0,
      "outputs": []
    },
    {
      "cell_type": "markdown",
      "metadata": {
        "id": "3PRmboAkh9-0",
        "colab_type": "text"
      },
      "source": [
        "## **8. Itens Mais Populares**"
      ]
    },
    {
      "cell_type": "code",
      "metadata": {
        "id": "tnEADGG0iAkb",
        "colab_type": "code",
        "colab": {}
      },
      "source": [
        "# Implemente aqui sua solução"
      ],
      "execution_count": 0,
      "outputs": []
    },
    {
      "cell_type": "markdown",
      "metadata": {
        "id": "7tz_LinAg6rp",
        "colab_type": "text"
      },
      "source": [
        "## **9. Itens Mais Lucrativos**"
      ]
    },
    {
      "cell_type": "code",
      "metadata": {
        "id": "FeiYoUmFhD95",
        "colab_type": "code",
        "colab": {}
      },
      "source": [
        "# Implemente aqui sua solução"
      ],
      "execution_count": 0,
      "outputs": []
    }
  ]
}