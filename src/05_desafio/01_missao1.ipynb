{
  "nbformat": 4,
  "nbformat_minor": 0,
  "metadata": {
    "colab": {
      "name": "01_missao1.ipynb",
      "provenance": [],
      "collapsed_sections": [],
      "include_colab_link": true
    },
    "kernelspec": {
      "name": "python3",
      "display_name": "Python 3"
    }
  },
  "cells": [
    {
      "cell_type": "markdown",
      "metadata": {
        "id": "view-in-github",
        "colab_type": "text"
      },
      "source": [
        "<a href=\"https://colab.research.google.com/github/ralsouza/python_fundamentos/blob/master/src/05_desafio/01_missao1.ipynb\" target=\"_parent\"><img src=\"https://colab.research.google.com/assets/colab-badge.svg\" alt=\"Open In Colab\"/></a>"
      ]
    },
    {
      "cell_type": "markdown",
      "metadata": {
        "id": "Sqa08PBCo2ye",
        "colab_type": "text"
      },
      "source": [
        "### Missão: Implementar um algoritmo para determinar se uma string possui todos os caracteres exclusivos.\n",
        "\n",
        "###Nível de Dificuldade: Baixo\n",
        "###Premissas\n",
        "\n",
        "\n",
        "*   Podemos assumir que a string é ASCII? Sim. `Nota: As cadeias de caracteres Unicode podem exigir tratamento especial dependendo do seu idioma`;\n",
        "*   Podemos supor que há distinção entre maiúsculas e minúsculas? * Sim\n",
        "*   Podemos usar estruturas de dados adicionais? * Sim\n",
        "\n",
        "##Teste Cases\n",
        "*   None -> False\n",
        "*   ' ' -> True\n",
        "*   'foo' -> False\n",
        "*   'bar' -> True\n",
        "\n",
        "### Algoritmo: Hash Map Lookup\n",
        "Manteremos um mapa hash (conjunto) para rastrear os caracteres únicos que encontramos.\n",
        "\n",
        "#### Passos:\n",
        "Faça um scan cada caracter\n",
        "\n",
        "Para cada caracter: Se o caracter não existir em um mapa de hash, adicione o caractere a um mapa de hash Senão, retorne False\n",
        "\n",
        "Retornar Verdadeiro\n",
        "\n",
        "Nota: Também podemos usar um dicionário, mas parece mais lógico usar um set, pois ele não contém elementos duplicados."
      ]
    },
    {
      "cell_type": "markdown",
      "metadata": {
        "id": "Zxk2VAm4qKgu",
        "colab_type": "text"
      },
      "source": [
        "## Solução"
      ]
    },
    {
      "cell_type": "code",
      "metadata": {
        "id": "gVdvoPuGoxi3",
        "colab_type": "code",
        "colab": {}
      },
      "source": [
        "class UniqueChars(object):\n",
        "\n",
        "    charsMap = set() \n",
        "\n",
        "    def has_unique_chars(self, string):\n",
        "      for i in string:\n",
        "        if i not in charsMap:\n",
        "          charsMap.add(i)\n",
        "        else:\n",
        "          return False\n",
        "\n",
        "      return True"
      ],
      "execution_count": 0,
      "outputs": []
    },
    {
      "cell_type": "markdown",
      "metadata": {
        "id": "2D35dS_BKZ9l",
        "colab_type": "text"
      },
      "source": [
        "## Teste da Solução"
      ]
    },
    {
      "cell_type": "code",
      "metadata": {
        "id": "mnp5XXHVKbmY",
        "colab_type": "code",
        "colab": {
          "base_uri": "https://localhost:8080/",
          "height": 94
        },
        "outputId": "c84f677b-af3e-45d6-9ee4-4ae30f7db8b8"
      },
      "source": [
        "%%writefile missao1.py\n",
        "from nose.tools import assert_equal\n",
        "\n",
        "\n",
        "class TestUniqueChars(object):\n",
        "\n",
        "    def test_unique_chars(self, func):\n",
        "        assert_equal(func(None), False)\n",
        "        assert_equal(func(''), True)\n",
        "        assert_equal(func('foo'), False)\n",
        "        assert_equal(func('bar'), True)\n",
        "        print('Sua solução foi executada com sucesso! Parabéns!')\n",
        "\n",
        "\n",
        "def main():\n",
        "    test = TestUniqueChars()\n",
        "    try:\n",
        "        unique_chars = UniqueChars()\n",
        "        test.test_unique_chars(unique_chars.has_unique_chars)\n",
        "    except NameError:\n",
        "        pass\n",
        "\n",
        "\n",
        "if __name__ == '__main__':\n",
        "    main()"
      ],
      "execution_count": 59,
      "outputs": [
        {
          "output_type": "stream",
          "text": [
            "Overwriting missao1.py\n"
          ],
          "name": "stdout"
        }
      ]
    },
    {
      "cell_type": "code",
      "metadata": {
        "id": "WVHTNugeKtqP",
        "colab_type": "code",
        "colab": {
          "base_uri": "https://localhost:8080/",
          "height": 287
        },
        "outputId": "795898ab-8cfc-44d7-d43d-ceb549f66378"
      },
      "source": [
        "%run -i missao1.py"
      ],
      "execution_count": 60,
      "outputs": [
        {
          "output_type": "error",
          "ename": "ModuleNotFoundError",
          "evalue": "ignored",
          "traceback": [
            "\u001b[0;31m---------------------------------------------------------------------------\u001b[0m",
            "\u001b[0;31mModuleNotFoundError\u001b[0m                       Traceback (most recent call last)",
            "\u001b[0;32m/content/missao1.py\u001b[0m in \u001b[0;36m<module>\u001b[0;34m()\u001b[0m\n\u001b[0;32m----> 1\u001b[0;31m \u001b[0;32mfrom\u001b[0m \u001b[0mnose\u001b[0m\u001b[0;34m.\u001b[0m\u001b[0mtools\u001b[0m \u001b[0;32mimport\u001b[0m \u001b[0massert_equal\u001b[0m\u001b[0;34m\u001b[0m\u001b[0;34m\u001b[0m\u001b[0m\n\u001b[0m\u001b[1;32m      2\u001b[0m \u001b[0;34m\u001b[0m\u001b[0m\n\u001b[1;32m      3\u001b[0m \u001b[0;34m\u001b[0m\u001b[0m\n\u001b[1;32m      4\u001b[0m \u001b[0;32mclass\u001b[0m \u001b[0mTestUniqueChars\u001b[0m\u001b[0;34m(\u001b[0m\u001b[0mobject\u001b[0m\u001b[0;34m)\u001b[0m\u001b[0;34m:\u001b[0m\u001b[0;34m\u001b[0m\u001b[0;34m\u001b[0m\u001b[0m\n\u001b[1;32m      5\u001b[0m \u001b[0;34m\u001b[0m\u001b[0m\n",
            "\u001b[0;31mModuleNotFoundError\u001b[0m: No module named 'nose'"
          ]
        }
      ]
    }
  ]
}