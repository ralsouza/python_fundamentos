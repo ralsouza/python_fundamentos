{
  "nbformat": 4,
  "nbformat_minor": 0,
  "metadata": {
    "colab": {
      "name": "01_missao1.ipynb",
      "provenance": [],
      "collapsed_sections": [],
      "include_colab_link": true
    },
    "kernelspec": {
      "name": "python3",
      "display_name": "Python 3"
    }
  },
  "cells": [
    {
      "cell_type": "markdown",
      "metadata": {
        "id": "view-in-github",
        "colab_type": "text"
      },
      "source": [
        "<a href=\"https://colab.research.google.com/github/ralsouza/python_fundamentos/blob/master/src/05_desafio/01_missao1.ipynb\" target=\"_parent\"><img src=\"https://colab.research.google.com/assets/colab-badge.svg\" alt=\"Open In Colab\"/></a>"
      ]
    },
    {
      "cell_type": "markdown",
      "metadata": {
        "id": "Sqa08PBCo2ye",
        "colab_type": "text"
      },
      "source": [
        "### Missão: Implementar um algoritmo para determinar se uma string possui todos os caracteres exclusivos.\n",
        "\n",
        "###Nível de Dificuldade: Baixo\n",
        "###Premissas\n",
        "\n",
        "\n",
        "*   Podemos assumir que a string é ASCII? Sim. `Nota: As cadeias de caracteres Unicode podem exigir tratamento especial dependendo do seu idioma`;\n",
        "*   Podemos supor que há distinção entre maiúsculas e minúsculas? * Sim\n",
        "*   Podemos usar estruturas de dados adicionais? * Sim\n",
        "\n",
        "##Teste Cases\n",
        "*   None -> False\n",
        "*   ' ' -> True\n",
        "*   'foo' -> False\n",
        "*   'bar' -> True\n",
        "\n",
        "### Algoritmo: Hash Map Lookup\n",
        "Manteremos um mapa hash (conjunto) para rastrear os caracteres únicos que encontramos.\n",
        "\n",
        "#### Passos:\n",
        "Faça um scan cada caracter\n",
        "\n",
        "Para cada caracter: Se o caracter não existir em um mapa de hash, adicione o caractere a um mapa de hash Senão, retorne False\n",
        "\n",
        "Retornar Verdadeiro\n",
        "\n",
        "Nota: Também podemos usar um dicionário, mas parece mais lógico usar um set, pois ele não contém elementos duplicados."
      ]
    },
    {
      "cell_type": "markdown",
      "metadata": {
        "id": "Zxk2VAm4qKgu",
        "colab_type": "text"
      },
      "source": [
        "## Solução"
      ]
    },
    {
      "cell_type": "code",
      "metadata": {
        "id": "gVdvoPuGoxi3",
        "colab_type": "code",
        "colab": {}
      },
      "source": [
        "class UniqueChars(object):\n",
        "\n",
        "    def has_unique_chars(self, string):\n",
        "        pass"
      ],
      "execution_count": 0,
      "outputs": []
    },
    {
      "cell_type": "code",
      "metadata": {
        "id": "w1j01BQbDsXD",
        "colab_type": "code",
        "colab": {}
      },
      "source": [
        "myString = 'Rafael'\n",
        "mySet = set([])"
      ],
      "execution_count": 0,
      "outputs": []
    },
    {
      "cell_type": "code",
      "metadata": {
        "id": "mlPh3QkED7DX",
        "colab_type": "code",
        "colab": {
          "base_uri": "https://localhost:8080/",
          "height": 74
        },
        "outputId": "858f3591-49a3-4722-be47-c86df22e9154"
      },
      "source": [
        "for i in myString:\n",
        "  mySet.add(i)\n",
        "\n",
        "print(mySet)"
      ],
      "execution_count": 23,
      "outputs": [
        {
          "output_type": "stream",
          "text": [
            "{'l', 'a', 'R', 'f', 'e'}\n"
          ],
          "name": "stdout"
        }
      ]
    },
    {
      "cell_type": "code",
      "metadata": {
        "id": "pkuCYEPFD7Oc",
        "colab_type": "code",
        "colab": {}
      },
      "source": [
        ""
      ],
      "execution_count": 0,
      "outputs": []
    },
    {
      "cell_type": "code",
      "metadata": {
        "id": "h_4dwzCdqRHM",
        "colab_type": "code",
        "colab": {
          "base_uri": "https://localhost:8080/",
          "height": 74
        },
        "outputId": "dfcbfc59-250f-4f56-c5f5-1c04f987f976"
      },
      "source": [
        "set1 = {'s','t'}\n",
        "print('x' in set1)"
      ],
      "execution_count": 13,
      "outputs": [
        {
          "output_type": "stream",
          "text": [
            "False\n"
          ],
          "name": "stdout"
        }
      ]
    },
    {
      "cell_type": "code",
      "metadata": {
        "id": "phOttwQCCE-_",
        "colab_type": "code",
        "colab": {
          "base_uri": "https://localhost:8080/",
          "height": 74
        },
        "outputId": "55ca0ddf-6f9c-4aab-c37b-8a1a78c1d0c9"
      },
      "source": [
        "print('s' in set1)"
      ],
      "execution_count": 17,
      "outputs": [
        {
          "output_type": "stream",
          "text": [
            "True\n"
          ],
          "name": "stdout"
        }
      ]
    }
  ]
}