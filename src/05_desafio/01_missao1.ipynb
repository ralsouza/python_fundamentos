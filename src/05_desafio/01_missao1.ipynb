{
  "nbformat": 4,
  "nbformat_minor": 0,
  "metadata": {
    "colab": {
      "name": "01_missao1.ipynb",
      "provenance": [],
      "collapsed_sections": [],
      "toc_visible": true,
      "include_colab_link": true
    },
    "kernelspec": {
      "name": "python3",
      "display_name": "Python 3"
    }
  },
  "cells": [
    {
      "cell_type": "markdown",
      "metadata": {
        "id": "view-in-github",
        "colab_type": "text"
      },
      "source": [
        "<a href=\"https://colab.research.google.com/github/ralsouza/python_fundamentos/blob/master/src/05_desafio/01_missao1.ipynb\" target=\"_parent\"><img src=\"https://colab.research.google.com/assets/colab-badge.svg\" alt=\"Open In Colab\"/></a>"
      ]
    },
    {
      "cell_type": "markdown",
      "metadata": {
        "id": "Sqa08PBCo2ye",
        "colab_type": "text"
      },
      "source": [
        "### Missão: Implementar um algoritmo para determinar se uma string possui todos os caracteres exclusivos.\n",
        "\n",
        "###Nível de Dificuldade: Baixo\n",
        "###Premissas\n",
        "\n",
        "\n",
        "*   Podemos assumir que a string é ASCII? Sim. `Nota: As cadeias de caracteres Unicode podem exigir tratamento especial dependendo do seu idioma`;\n",
        "*   Podemos supor que há distinção entre maiúsculas e minúsculas? * Sim\n",
        "*   Podemos usar estruturas de dados adicionais? * Sim\n",
        "\n",
        "##Teste Cases\n",
        "*   None -> False\n",
        "*   ' ' -> True\n",
        "*   'foo' -> False\n",
        "*   'bar' -> True\n",
        "\n",
        "### Algoritmo: Hash Map Lookup\n",
        "Manteremos um mapa hash (conjunto) para rastrear os caracteres únicos que encontramos.\n",
        "\n",
        "#### Passos:\n",
        "Faça um scan cada caracter\n",
        "\n",
        "Para cada caracter: Se o caracter não existir em um mapa de hash, adicione o caractere a um mapa de hash Senão, retorne False\n",
        "\n",
        "Retornar Verdadeiro\n",
        "\n",
        "Nota: Também podemos usar um dicionário, mas parece mais lógico usar um set, pois ele não contém elementos duplicados."
      ]
    },
    {
      "cell_type": "markdown",
      "metadata": {
        "id": "Zxk2VAm4qKgu",
        "colab_type": "text"
      },
      "source": [
        "## Solução"
      ]
    },
    {
      "cell_type": "code",
      "metadata": {
        "id": "gVdvoPuGoxi3",
        "colab_type": "code",
        "colab": {}
      },
      "source": [
        "class UniqueChars(object):\n",
        "\n",
        "  def has_unique_chars(self, string):\n",
        "\n",
        "    if string is None:\n",
        "      return False\n",
        "\n",
        "    charStr = set()\n",
        "    \n",
        "    for i in string:\n",
        "      if i in charStr:\n",
        "          return False\n",
        "      else:\n",
        "        charStr.add(i)\n",
        "    \n",
        "    return True"
      ],
      "execution_count": 0,
      "outputs": []
    },
    {
      "cell_type": "markdown",
      "metadata": {
        "id": "2D35dS_BKZ9l",
        "colab_type": "text"
      },
      "source": [
        "## Teste da Solução"
      ]
    },
    {
      "cell_type": "code",
      "metadata": {
        "id": "zgouWu6l0G-_",
        "colab_type": "code",
        "colab": {}
      },
      "source": [
        "!pip install nose"
      ],
      "execution_count": 0,
      "outputs": []
    },
    {
      "cell_type": "code",
      "metadata": {
        "id": "w6-UQs589EhD",
        "colab_type": "code",
        "colab": {}
      },
      "source": [
        "import pdb"
      ],
      "execution_count": 0,
      "outputs": []
    },
    {
      "cell_type": "code",
      "metadata": {
        "id": "mnp5XXHVKbmY",
        "colab_type": "code",
        "outputId": "4164a0db-3d7a-4096-c89f-cfbcf816c3dd",
        "colab": {
          "base_uri": "https://localhost:8080/",
          "height": 74
        }
      },
      "source": [
        "%%writefile missao1.py\n",
        "from nose.tools import assert_equal\n",
        "\n",
        "\n",
        "class TestUniqueChars(object):\n",
        "\n",
        "    def test_unique_chars(self, func):\n",
        "        assert_equal(func(None), False)\n",
        "        assert_equal(func(''), True)\n",
        "        assert_equal(func('foo'), False)\n",
        "        assert_equal(func('bar'), True)\n",
        "        print('Sua solução foi executada com sucesso! Parabéns!')\n",
        "\n",
        "def main():\n",
        "    test = TestUniqueChars()\n",
        "    try:\n",
        "        unique_chars = UniqueChars()\n",
        "        test.test_unique_chars(unique_chars.has_unique_chars)\n",
        "    except NameError:\n",
        "        pass\n",
        "\n",
        "\n",
        "if __name__ == '__main__':\n",
        "    main()"
      ],
      "execution_count": 0,
      "outputs": [
        {
          "output_type": "stream",
          "text": [
            "Overwriting missao1.py\n"
          ],
          "name": "stdout"
        }
      ]
    },
    {
      "cell_type": "code",
      "metadata": {
        "id": "WVHTNugeKtqP",
        "colab_type": "code",
        "outputId": "107b491c-a36b-4c6f-f5ba-b78ddb2d6c68",
        "colab": {
          "base_uri": "https://localhost:8080/",
          "height": 74
        }
      },
      "source": [
        "%run -i missao1.py"
      ],
      "execution_count": 0,
      "outputs": [
        {
          "output_type": "stream",
          "text": [
            "Sua solução foi executada com sucesso! Parabéns!\n"
          ],
          "name": "stdout"
        }
      ]
    }
  ]
}