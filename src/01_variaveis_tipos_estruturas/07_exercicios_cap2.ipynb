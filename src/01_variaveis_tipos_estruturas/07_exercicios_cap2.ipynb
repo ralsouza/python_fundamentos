{
 "cells": [
  {
   "cell_type": "markdown",
   "metadata": {},
   "source": [
    "# Exercícios do Capítulo 2"
   ]
  },
  {
   "cell_type": "markdown",
   "metadata": {},
   "source": [
    "## #1 - Imprima na tela os números de 1 a 10. Use uma lista para armazenar os números."
   ]
  },
  {
   "cell_type": "code",
   "execution_count": 10,
   "metadata": {},
   "outputs": [
    {
     "name": "stdout",
     "output_type": "stream",
     "text": [
      "[1, 2, 3, 4, 5, 6, 7, 8, 9, 10]\n"
     ]
    }
   ],
   "source": [
    "# Gerar números de 1 à 10 e armazenar em uma lista.\n",
    "# O segundo parâmetro do limite máximo é exclusivo, então deve-se incrementar +1.\n",
    "lst1 = list( range( 1, 10 + 1) )\n",
    "\n",
    "# Impressão da lista:\n",
    "print( lst1 )"
   ]
  },
  {
   "cell_type": "markdown",
   "metadata": {},
   "source": [
    "## #2 - Crie uma lista de 5  e imprima na tela"
   ]
  },
  {
   "cell_type": "code",
   "execution_count": 10,
   "metadata": {},
   "outputs": [
    {
     "name": "stdout",
     "output_type": "stream",
     "text": [
      "[['a', 'b', 'c', 'd', 'e'], [1, 2, 3], {'Rafael': 1.85, 'Cristiane': 1.65}]\n",
      "b\n",
      "1.85\n"
     ]
    }
   ],
   "source": [
    "lst2 = [ ['a', 'b', 'c', 'd', 'e'], [1, 2, 3], {'Rafael' : 1.85, 'Cristiane' : 1.65} ]\n",
    "\n",
    "# Impressão da lista inteira\n",
    "print(lst2)\n",
    "\n",
    "# Impressão do segundo item, no primeiro objeto\n",
    "print(lst2[0][1])\n",
    "\n",
    "# Impressão do valor da chave Rafael\n",
    "print(lst2[2]['Rafael'])"
   ]
  },
  {
   "cell_type": "markdown",
   "metadata": {},
   "source": [
    "## #3 - Crie duas strings e concatene as duas em uma terceira string"
   ]
  },
  {
   "cell_type": "code",
   "execution_count": 15,
   "metadata": {},
   "outputs": [
    {
     "name": "stdout",
     "output_type": "stream",
     "text": [
      "Rafael Lima\n"
     ]
    }
   ],
   "source": [
    "string_full = 'Rafael' + ' ' +'Lima'\n",
    "\n",
    "print(string_full)"
   ]
  },
  {
   "cell_type": "markdown",
   "metadata": {},
   "source": [
    "## #4 - Crie uma tupla com os seguintes elementos: 1, 2, 2, 3, 4, 4, 4, 5 e depois utilize a função count do objeto tupla para verificar quantas vezes o número 4 aparece na tupla"
   ]
  },
  {
   "cell_type": "code",
   "execution_count": 18,
   "metadata": {},
   "outputs": [
    {
     "data": {
      "text/plain": [
       "3"
      ]
     },
     "execution_count": 18,
     "metadata": {},
     "output_type": "execute_result"
    }
   ],
   "source": [
    "tpl = (1,2,2,3,4,4,4,5)\n",
    "\n",
    "tpl.count(4)"
   ]
  },
  {
   "cell_type": "markdown",
   "metadata": {},
   "source": [
    "## #8 - Crie um dicionário com 3 chaves e 3 valores. Um dos valores deve ser uma lista de 2 elementos numéricos. Imprima o dicionário na tela."
   ]
  },
  {
   "cell_type": "code",
   "execution_count": 23,
   "metadata": {},
   "outputs": [
    {
     "name": "stdout",
     "output_type": "stream",
     "text": [
      "{'Rafael': 36, 'Cristiane': 35, 'Alturas': [1.85, 1.65]}\n",
      "[1.85, 1.65]\n"
     ]
    }
   ],
   "source": [
    "dic1 = { 'Rafael' : 36, 'Cristiane' : 35, 'Alturas' : [1.85, 1.65]}\n",
    "\n",
    "print(dic1)\n",
    "\n",
    "# Imprissão do valor da chave Alturas\n",
    "print(dic1['Alturas'])"
   ]
  },
  {
   "cell_type": "markdown",
   "metadata": {},
   "source": [
    "## #9 - Crie uma lista de 4 elementos. O primeiro elemento deve ser uma string,  o segundo uma tupla de 2 elementos, o terceiro um dicionário com 2 chaves e 2 valores e o quarto elemento um valor do tipo float. Imprima a lista na tela."
   ]
  },
  {
   "cell_type": "code",
   "execution_count": 25,
   "metadata": {},
   "outputs": [
    {
     "name": "stdout",
     "output_type": "stream",
     "text": [
      "['Uma String', (2, 3), {'x': 30, 'y': 32}, 3.14]\n"
     ]
    }
   ],
   "source": [
    "lst2 = [ 'Uma String', (2,3), {'x' : 30, 'y' : 32}, 3.14 ]\n",
    "\n",
    "print(lst2)"
   ]
  },
  {
   "cell_type": "markdown",
   "metadata": {},
   "source": [
    "## #10 - Considere a string abaixo. Imprima na tela apenas os caracteres da posição 1 a 18."
   ]
  },
  {
   "cell_type": "code",
   "execution_count": 28,
   "metadata": {},
   "outputs": [
    {
     "data": {
      "text/plain": [
       "'ientista de Dados'"
      ]
     },
     "execution_count": 28,
     "metadata": {},
     "output_type": "execute_result"
    }
   ],
   "source": [
    "frase = 'Cientista de Dados é o profissional mais sexy do século XXI'\n",
    "\n",
    "frase[1:18]"
   ]
  }
 ],
 "metadata": {
  "kernelspec": {
   "display_name": "py_fundamentos",
   "language": "python",
   "name": "py_fundamentos"
  },
  "language_info": {
   "codemirror_mode": {
    "name": "ipython",
    "version": 3
   },
   "file_extension": ".py",
   "mimetype": "text/x-python",
   "name": "python",
   "nbconvert_exporter": "python",
   "pygments_lexer": "ipython3",
   "version": "3.7.3"
  }
 },
 "nbformat": 4,
 "nbformat_minor": 2
}
