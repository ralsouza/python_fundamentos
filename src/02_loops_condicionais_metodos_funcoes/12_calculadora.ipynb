{
  "nbformat": 4,
  "nbformat_minor": 0,
  "metadata": {
    "colab": {
      "name": "12_calculadora.ipynb",
      "version": "0.3.2",
      "provenance": [],
      "collapsed_sections": [
        "lgTW6JUF1DUj"
      ],
      "include_colab_link": true
    },
    "kernelspec": {
      "name": "python3",
      "display_name": "Python 3"
    }
  },
  "cells": [
    {
      "cell_type": "markdown",
      "metadata": {
        "id": "view-in-github",
        "colab_type": "text"
      },
      "source": [
        "<a href=\"https://colab.research.google.com/github/ralsouza/python_fundamentos/blob/master/src/02_loops_condicionais_metodos_funcoes/12_calculadora.ipynb\" target=\"_parent\"><img src=\"https://colab.research.google.com/assets/colab-badge.svg\" alt=\"Open In Colab\"/></a>"
      ]
    },
    {
      "cell_type": "markdown",
      "metadata": {
        "id": "ZgOD3Bh6k5BW",
        "colab_type": "text"
      },
      "source": [
        "# Desenvolver uma Calculadora"
      ]
    },
    {
      "cell_type": "markdown",
      "metadata": {
        "id": "lgTW6JUF1DUj",
        "colab_type": "text"
      },
      "source": [
        "## Versão 1"
      ]
    },
    {
      "cell_type": "code",
      "metadata": {
        "id": "0y4HWEHnkLTV",
        "colab_type": "code",
        "colab": {
          "base_uri": "https://localhost:8080/",
          "height": 276
        },
        "outputId": "f7d7d1f1-efc0-4381-8220-1fd5797f7da6"
      },
      "source": [
        "print( 15 * '*', 'Calculadora em Python', 15 * '*' )\n",
        "print( '' )\n",
        "print( 'Selecione o número da operação desejada:' )\n",
        "print( '' )\n",
        "print( '1 - Soma' )\n",
        "print( '2 - Subtração' )\n",
        "print( '3 - Multiplicação' )\n",
        "print( '4 - Divisão' )\n",
        "print( '' )\n",
        "print( 53 * '*' )\n",
        "print( '' )\n",
        "\n",
        "option = int( input( 'Digite sua opção (1/2/3/4): ' ) )\n",
        "\n",
        "if ( option == 1 ):\n",
        "  numSoma1 = int( input( 'Digite o primeiro número para a soma: ' ) )\n",
        "  numSoma2 = int( input( 'Digite o segundo número para a soma: ' ) )\n",
        "  print( '{} + {} = {}'.format( numSoma1, numSoma2, numSoma1 + numSoma2 ) )\n",
        "  \n",
        "elif ( option == 2 ):\n",
        "  numSubt1 = int( input( 'Digite o primeiro número para a subtração: ' ) )\n",
        "  numSubt2 = int( input( 'Digite o segundo número para a subtração: ' ) )\n",
        "  print( '{} - {} = {}'.format( numSubt1, numSubt2, numSubt1 - numSubt2 ) )\n",
        "  \n",
        "elif ( option == 3 ):\n",
        "  numMult1 = int( input( 'Digite o primeiro número para a multiplicação: ' ) )\n",
        "  numMult2 = int( input( 'Digite o segundo número para a multiplicação: ' ) )\n",
        "  print( '{} × {} = {}'.format( numMult1, numMult2, numMult1 * numMult2 ) )\n",
        "  \n",
        "elif ( option == 4 ):\n",
        "  numDiv1 = int( input( 'Digite o primeiro número para a divisão: ' ) )\n",
        "  numDiv2 = int( input( 'Digite o segundo número para a divisão: ' ) )\n",
        "  print( '{} ÷ {} = {}'.format( numSubt1, numSubt2, numSubt1 - numSubt2 ) )"
      ],
      "execution_count": 31,
      "outputs": [
        {
          "output_type": "stream",
          "text": [
            "*************** Calculadora em Python ***************\n",
            "\n",
            "Selecione o número da operação desejada:\n",
            "\n",
            "1 - Soma\n",
            "2 - Subtração\n",
            "3 - Multiplicação\n",
            "4 - Divisão\n",
            "\n",
            "*****************************************************\n",
            "\n",
            "Digite sua opção (1/2/3/4): 4\n",
            "Digite o primeiro número para a divisão: 10\n",
            "Digite o segundo número para a divisão: 2\n",
            "10 ÷ 5 = 5\n"
          ],
          "name": "stdout"
        }
      ]
    },
    {
      "cell_type": "markdown",
      "metadata": {
        "id": "ys3M5l7R1M-8",
        "colab_type": "text"
      },
      "source": [
        "## Versão 2 ( with steroids )"
      ]
    },
    {
      "cell_type": "code",
      "metadata": {
        "id": "Y51tHz831O7B",
        "colab_type": "code",
        "colab": {
          "base_uri": "https://localhost:8080/",
          "height": 759
        },
        "outputId": "af0884b8-5497-4e13-c5ff-0c00f9b1cc8a"
      },
      "source": [
        "def menu():\n",
        "  \n",
        "  ''' Menu principal do programa '''\n",
        "  \n",
        "  print( 15 * '*', 'Calculadora em Python', 15 * '*' )\n",
        "  print( '' )\n",
        "  print( 'Selecione o número da operação desejada:' )\n",
        "  print( '' )\n",
        "  print( '1 - Soma' )\n",
        "  print( '2 - Subtração' )\n",
        "  print( '3 - Multiplicação' )\n",
        "  print( '4 - Divisão' )\n",
        "  print( '5 - Sair' )\n",
        "  print( '' )\n",
        "  print( 53 * '*' )\n",
        "  print( '' )\n",
        "\n",
        "# Variável de controle para sair do programa\n",
        "terminarPrograma = False\n",
        "\n",
        "# Bloco de operações do programa\n",
        "while ( terminarPrograma != True ):\n",
        "  \n",
        "  menu()\n",
        "  \n",
        "  option = int( input( 'Digite sua opção (1/2/3/4/5): ' ) )\n",
        "\n",
        "  if ( option == 1 ):\n",
        "    numSoma1 = int( input( 'Digite o primeiro número para a soma: ' ) )\n",
        "    numSoma2 = int( input( 'Digite o segundo número para a soma: ' ) )\n",
        "    print( '{} + {} = {}'.format( numSoma1, numSoma2, numSoma1 + numSoma2 ) )\n",
        "\n",
        "  elif ( option == 2 ):\n",
        "    numSubt1 = int( input( 'Digite o primeiro número para a subtração: ' ) )\n",
        "    numSubt2 = int( input( 'Digite o segundo número para a subtração: ' ) )\n",
        "    print( '{} - {} = {}'.format( numSubt1, numSubt2, numSubt1 - numSubt2 ) )\n",
        "\n",
        "  elif ( option == 3 ):\n",
        "    numMult1 = int( input( 'Digite o primeiro número para a multiplicação: ' ) )\n",
        "    numMult2 = int( input( 'Digite o segundo número para a multiplicação: ' ) )\n",
        "    print( '{} × {} = {}'.format( numMult1, numMult2, numMult1 * numMult2 ) )\n",
        "\n",
        "  elif ( option == 4 ):\n",
        "    numDiv1 = int( input( 'Digite o primeiro número para a divisão: ' ) )\n",
        "    numDiv2 = int( input( 'Digite o segundo número para a divisão: ' ) )\n",
        "    print( '{} ÷ {} = {}'.format( numSubt1, numSubt2, numSubt1 - numSubt2 ) )\n",
        "    \n",
        "  elif ( option == 5 ):\n",
        "    terminarPrograma = True\n",
        "  \n",
        "  else:\n",
        "    print ( 'Opção inválida' )\n",
        "  \n",
        "  # Bloco de controle para a saída do programa - Porque não cai aqui???\n",
        "    while ( optSair != True ):\n",
        "\n",
        "      optSair = int( input( 'Deseja terminar? (1-Sim ou 2-Não ) ' ) )\n",
        "\n",
        "      if ( optSair == 1 ):\n",
        "        terminarPrograma = True\n",
        "        optSair = True\n",
        "      else:\n",
        "        print( 'Opção inválida' )\n",
        "    \n",
        "    \n",
        "  "
      ],
      "execution_count": 50,
      "outputs": [
        {
          "output_type": "stream",
          "text": [
            "*************** Calculadora em Python ***************\n",
            "\n",
            "Selecione o número da operação desejada:\n",
            "\n",
            "1 - Soma\n",
            "2 - Subtração\n",
            "3 - Multiplicação\n",
            "4 - Divisão\n",
            "5 - Sair\n",
            "\n",
            "*****************************************************\n",
            "\n",
            "Digite sua opção (1/2/3/4/5): 1\n",
            "Digite o primeiro número para a soma: 2\n",
            "Digite o segundo número para a soma: 3\n",
            "2 + 3 = 5\n",
            "*************** Calculadora em Python ***************\n",
            "\n",
            "Selecione o número da operação desejada:\n",
            "\n",
            "1 - Soma\n",
            "2 - Subtração\n",
            "3 - Multiplicação\n",
            "4 - Divisão\n",
            "5 - Sair\n",
            "\n",
            "*****************************************************\n",
            "\n",
            "Digite sua opção (1/2/3/4/5): 2\n",
            "Digite o primeiro número para a subtração: 3\n",
            "Digite o segundo número para a subtração: \n"
          ],
          "name": "stdout"
        },
        {
          "output_type": "error",
          "ename": "ValueError",
          "evalue": "ignored",
          "traceback": [
            "\u001b[0;31m---------------------------------------------------------------------------\u001b[0m",
            "\u001b[0;31mValueError\u001b[0m                                Traceback (most recent call last)",
            "\u001b[0;32m<ipython-input-50-09874f6725ad>\u001b[0m in \u001b[0;36m<module>\u001b[0;34m()\u001b[0m\n\u001b[1;32m     33\u001b[0m   \u001b[0;32melif\u001b[0m \u001b[0;34m(\u001b[0m \u001b[0moption\u001b[0m \u001b[0;34m==\u001b[0m \u001b[0;36m2\u001b[0m \u001b[0;34m)\u001b[0m\u001b[0;34m:\u001b[0m\u001b[0;34m\u001b[0m\u001b[0;34m\u001b[0m\u001b[0m\n\u001b[1;32m     34\u001b[0m     \u001b[0mnumSubt1\u001b[0m \u001b[0;34m=\u001b[0m \u001b[0mint\u001b[0m\u001b[0;34m(\u001b[0m \u001b[0minput\u001b[0m\u001b[0;34m(\u001b[0m \u001b[0;34m'Digite o primeiro número para a subtração: '\u001b[0m \u001b[0;34m)\u001b[0m \u001b[0;34m)\u001b[0m\u001b[0;34m\u001b[0m\u001b[0;34m\u001b[0m\u001b[0m\n\u001b[0;32m---> 35\u001b[0;31m     \u001b[0mnumSubt2\u001b[0m \u001b[0;34m=\u001b[0m \u001b[0mint\u001b[0m\u001b[0;34m(\u001b[0m \u001b[0minput\u001b[0m\u001b[0;34m(\u001b[0m \u001b[0;34m'Digite o segundo número para a subtração: '\u001b[0m \u001b[0;34m)\u001b[0m \u001b[0;34m)\u001b[0m\u001b[0;34m\u001b[0m\u001b[0;34m\u001b[0m\u001b[0m\n\u001b[0m\u001b[1;32m     36\u001b[0m     \u001b[0mprint\u001b[0m\u001b[0;34m(\u001b[0m \u001b[0;34m'{} - {} = {}'\u001b[0m\u001b[0;34m.\u001b[0m\u001b[0mformat\u001b[0m\u001b[0;34m(\u001b[0m \u001b[0mnumSubt1\u001b[0m\u001b[0;34m,\u001b[0m \u001b[0mnumSubt2\u001b[0m\u001b[0;34m,\u001b[0m \u001b[0mnumSubt1\u001b[0m \u001b[0;34m-\u001b[0m \u001b[0mnumSubt2\u001b[0m \u001b[0;34m)\u001b[0m \u001b[0;34m)\u001b[0m\u001b[0;34m\u001b[0m\u001b[0;34m\u001b[0m\u001b[0m\n\u001b[1;32m     37\u001b[0m \u001b[0;34m\u001b[0m\u001b[0m\n",
            "\u001b[0;31mValueError\u001b[0m: invalid literal for int() with base 10: ''"
          ]
        }
      ]
    }
  ]
}