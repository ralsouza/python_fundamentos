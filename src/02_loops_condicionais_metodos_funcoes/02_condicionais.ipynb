{
 "cells": [
  {
   "cell_type": "markdown",
   "metadata": {},
   "source": [
    "# Condicional if"
   ]
  },
  {
   "cell_type": "code",
   "execution_count": 2,
   "metadata": {},
   "outputs": [
    {
     "name": "stdout",
     "output_type": "stream",
     "text": [
      "Python funciona!\n"
     ]
    }
   ],
   "source": [
    "# Condicional if\n",
    "if 5 > 2:\n",
    "    print('Python funciona!')"
   ]
  },
  {
   "cell_type": "code",
   "execution_count": 5,
   "metadata": {},
   "outputs": [
    {
     "name": "stdout",
     "output_type": "stream",
     "text": [
      "Algo deu errado...\n"
     ]
    }
   ],
   "source": [
    "# Condicional if...else\n",
    "if 5 < 2:\n",
    "    print('Python funciona!')\n",
    "else:\n",
    "    print('Algo deu errado...')"
   ]
  },
  {
   "cell_type": "code",
   "execution_count": 7,
   "metadata": {},
   "outputs": [
    {
     "name": "stdout",
     "output_type": "stream",
     "text": [
      "Teste booleano.\n"
     ]
    }
   ],
   "source": [
    "if 5 -- 5:\n",
    "    print('Teste booleano.')"
   ]
  },
  {
   "cell_type": "markdown",
   "metadata": {},
   "source": [
    "## Condicionais Aninhadas"
   ]
  },
  {
   "cell_type": "code",
   "execution_count": 12,
   "metadata": {},
   "outputs": [
    {
     "name": "stdout",
     "output_type": "stream",
     "text": [
      "Você pode dirigir.\n"
     ]
    }
   ],
   "source": [
    "idade = 18\n",
    "\n",
    "if idade > 17:\n",
    "    print('Você pode dirigir.')"
   ]
  },
  {
   "cell_type": "code",
   "execution_count": 17,
   "metadata": {},
   "outputs": [
    {
     "name": "stdout",
     "output_type": "stream",
     "text": [
      "Ok Bob você está autorizado para entrar.\n"
     ]
    }
   ],
   "source": [
    "# Atribuição das variáveis\n",
    "nome = 'Bob'\n",
    "idade = 14\n",
    "\n",
    "# Checar nome e idade\n",
    "if idade > 13:\n",
    "    if nome == 'Bob':\n",
    "        print('Ok ' + nome + ' você está autorizado para entrar.')\n",
    "    else: \n",
    "        print('Você não pode entrar.')"
   ]
  },
  {
   "cell_type": "markdown",
   "metadata": {},
   "source": [
    "### O código acima pode ser substituído por validações lógicas\n",
    "#### O uso dos parênteses nas condicionais não é obrigatório, mas deixa o código mais organizado"
   ]
  },
  {
   "cell_type": "code",
   "execution_count": 19,
   "metadata": {},
   "outputs": [
    {
     "name": "stdout",
     "output_type": "stream",
     "text": [
      "Ok, Bob você pode entrar.\n"
     ]
    }
   ],
   "source": [
    "nome = 'Bob'\n",
    "idade = 14\n",
    "\n",
    "if (idade >= 13) and (nome == 'Bob'):\n",
    "    print('Ok, ' + nome + ' você pode entrar.')"
   ]
  },
  {
   "cell_type": "code",
   "execution_count": 22,
   "metadata": {},
   "outputs": [
    {
     "name": "stdout",
     "output_type": "stream",
     "text": [
      "Ok, Bob você pode entrar.\n"
     ]
    }
   ],
   "source": [
    "nome = 'Bob'\n",
    "idade = 12\n",
    "\n",
    "if (idade >= 13) or (nome == 'Bob'):\n",
    "    print('Ok, ' + nome + ' você pode entrar.')"
   ]
  },
  {
   "cell_type": "markdown",
   "metadata": {},
   "source": [
    "## Condicional elif\n",
    "### Evita a escrita de vários if aninhados "
   ]
  },
  {
   "cell_type": "code",
   "execution_count": 24,
   "metadata": {},
   "outputs": [
    {
     "name": "stdout",
     "output_type": "stream",
     "text": [
      "Hoje choverá...\n"
     ]
    }
   ],
   "source": [
    "# Exemplo sem elif\n",
    "\n",
    "dia = 'Terça'\n",
    "\n",
    "if dia == 'Segunda':\n",
    "    print('Hoje fará sol!')\n",
    "else:\n",
    "    print('Hoje choverá...')"
   ]
  },
  {
   "cell_type": "code",
   "execution_count": 27,
   "metadata": {},
   "outputs": [
    {
     "name": "stdout",
     "output_type": "stream",
     "text": [
      "Hoje vai chover...\n"
     ]
    }
   ],
   "source": [
    "# Aplicando o elif\n",
    "\n",
    "if dia == 'Segunda':\n",
    "    print('Hoje fará sol!')\n",
    "elif dia == 'Terça':\n",
    "    print('Hoje vai chover...')\n",
    "else:\n",
    "    print('Sem previsão para o dia selecionado.')"
   ]
  },
  {
   "cell_type": "code",
   "execution_count": 29,
   "metadata": {},
   "outputs": [
    {
     "ename": "SyntaxError",
     "evalue": "invalid syntax (<ipython-input-29-81192abf8b45>, line 5)",
     "output_type": "error",
     "traceback": [
      "\u001b[0;36m  File \u001b[0;32m\"<ipython-input-29-81192abf8b45>\"\u001b[0;36m, line \u001b[0;32m5\u001b[0m\n\u001b[0;31m    else if dia == 'Terça':\u001b[0m\n\u001b[0m          ^\u001b[0m\n\u001b[0;31mSyntaxError\u001b[0m\u001b[0;31m:\u001b[0m invalid syntax\n"
     ]
    }
   ],
   "source": [
    "# Testando com else if, ocorrerá um erro de sintaxe\n",
    "\n",
    "if dia == 'Segunda':\n",
    "    print('Hoje fará sol!')\n",
    "else if dia == 'Terça':\n",
    "    print('Hoje vai chover...')\n",
    "else:\n",
    "    print('Sem previsão para o dia selecionado.')"
   ]
  },
  {
   "cell_type": "markdown",
   "metadata": {},
   "source": [
    "#### Elif é o mesmo que else if em JavaScript???"
   ]
  },
  {
   "cell_type": "markdown",
   "metadata": {},
   "source": [
    "## Operadores Lógicos"
   ]
  },
  {
   "cell_type": "code",
   "execution_count": 36,
   "metadata": {},
   "outputs": [
    {
     "name": "stdout",
     "output_type": "stream",
     "text": [
      "Informe o nome da disciplina: \n",
      "Informe a nota (entre 0 à 100): \n"
     ]
    },
    {
     "ename": "ValueError",
     "evalue": "invalid literal for int() with base 10: ''",
     "output_type": "error",
     "traceback": [
      "\u001b[0;31m---------------------------------------------------------------------------\u001b[0m",
      "\u001b[0;31mValueError\u001b[0m                                Traceback (most recent call last)",
      "\u001b[0;32m<ipython-input-36-3ccd1f6c8870>\u001b[0m in \u001b[0;36m<module>\u001b[0;34m\u001b[0m\n\u001b[1;32m      2\u001b[0m \u001b[0;34m\u001b[0m\u001b[0m\n\u001b[1;32m      3\u001b[0m \u001b[0mdisciplina\u001b[0m \u001b[0;34m=\u001b[0m \u001b[0minput\u001b[0m\u001b[0;34m(\u001b[0m\u001b[0;34m'Informe o nome da disciplina: '\u001b[0m\u001b[0;34m)\u001b[0m\u001b[0;34m\u001b[0m\u001b[0;34m\u001b[0m\u001b[0m\n\u001b[0;32m----> 4\u001b[0;31m \u001b[0mnota\u001b[0m \u001b[0;34m=\u001b[0m \u001b[0mint\u001b[0m\u001b[0;34m(\u001b[0m\u001b[0minput\u001b[0m\u001b[0;34m(\u001b[0m\u001b[0;34m'Informe a nota (entre 0 à 100): '\u001b[0m\u001b[0;34m)\u001b[0m\u001b[0;34m)\u001b[0m\u001b[0;34m\u001b[0m\u001b[0;34m\u001b[0m\u001b[0m\n\u001b[0m\u001b[1;32m      5\u001b[0m \u001b[0;34m\u001b[0m\u001b[0m\n\u001b[1;32m      6\u001b[0m \u001b[0;32mif\u001b[0m \u001b[0;34m(\u001b[0m\u001b[0mdisciplina\u001b[0m \u001b[0;34m==\u001b[0m \u001b[0;34m'matemática'\u001b[0m\u001b[0;34m)\u001b[0m \u001b[0;32mand\u001b[0m \u001b[0;34m(\u001b[0m\u001b[0mnota\u001b[0m \u001b[0;34m>=\u001b[0m \u001b[0;36m70\u001b[0m\u001b[0;34m)\u001b[0m\u001b[0;34m:\u001b[0m\u001b[0;34m\u001b[0m\u001b[0;34m\u001b[0m\u001b[0m\n",
      "\u001b[0;31mValueError\u001b[0m: invalid literal for int() with base 10: ''"
     ]
    }
   ],
   "source": [
    "# Solicitar uma informação do usuário, com o comando 'input' e testar as condições lógicas\n",
    "\n",
    "disciplina = input('Informe o nome da disciplina: ')\n",
    "nota = int(input('Informe a nota (entre 0 à 100): '))\n",
    "\n",
    "if (disciplina == 'matemática') and (nota >= 70):\n",
    "    print('Aprovado!')\n",
    "else:\n",
    "    print('Reprovado, estude mais.')\n",
    "\n",
    "    "
   ]
  },
  {
   "cell_type": "code",
   "execution_count": 37,
   "metadata": {},
   "outputs": [
    {
     "name": "stdout",
     "output_type": "stream",
     "text": [
      "Informe a disciplina: matemática\n",
      "Digite a nota (0 à 100): 50\n",
      "Agora informe o semestre (1 à 4): 3\n",
      "Você foi aprovado em matemática, com média final 50.\n"
     ]
    }
   ],
   "source": [
    "# Adicionaremos outra informação solicitada ao usuário e também o conceito de placeholders\n",
    "\n",
    "disciplina = input('Informe a disciplina: ')\n",
    "nota = int(input('Digite a nota (0 à 100): '))\n",
    "semestre = input('Agora informe o semestre (1 à 4): ')\n",
    "\n",
    "if (disciplina == 'matemática') and (nota == 50) and (semestre != 1):\n",
    "    print('Você foi aprovado em %s, com média final %r.' %(disciplina, nota))\n",
    "else:\n",
    "    print('Reprovado, você precisa estudar mais.')"
   ]
  },
  {
   "cell_type": "code",
   "execution_count": null,
   "metadata": {},
   "outputs": [],
   "source": []
  }
 ],
 "metadata": {
  "kernelspec": {
   "display_name": "py_fundamentos",
   "language": "python",
   "name": "py_fundamentos"
  },
  "language_info": {
   "codemirror_mode": {
    "name": "ipython",
    "version": 3
   },
   "file_extension": ".py",
   "mimetype": "text/x-python",
   "name": "python",
   "nbconvert_exporter": "python",
   "pygments_lexer": "ipython3",
   "version": "3.7.3"
  }
 },
 "nbformat": 4,
 "nbformat_minor": 2
}
