{
  "nbformat": 4,
  "nbformat_minor": 0,
  "metadata": {
    "colab": {
      "name": "10_funcoes_lambda.ipynb",
      "version": "0.3.2",
      "provenance": [],
      "include_colab_link": true
    },
    "kernelspec": {
      "name": "python3",
      "display_name": "Python 3"
    }
  },
  "cells": [
    {
      "cell_type": "markdown",
      "metadata": {
        "id": "view-in-github",
        "colab_type": "text"
      },
      "source": [
        "<a href=\"https://colab.research.google.com/github/ralsouza/python_fundamentos/blob/master/src/02_loops_condicionais_metodos_funcoes/10_funcoes_lambda.ipynb\" target=\"_parent\"><img src=\"https://colab.research.google.com/assets/colab-badge.svg\" alt=\"Open In Colab\"/></a>"
      ]
    },
    {
      "cell_type": "markdown",
      "metadata": {
        "id": "C8aK72WZD-LX",
        "colab_type": "text"
      },
      "source": [
        "# Lambda Expressions"
      ]
    },
    {
      "cell_type": "markdown",
      "metadata": {
        "id": "Nazp6FzdA1db",
        "colab_type": "text"
      },
      "source": [
        "As funções Lambda aceitam apenas uma instrução, não é necessário nomear a função, pois elas são anônimas (inline). São otimas para trabalhar com os métodos filter, reduce e map ou em casos onde precisamos repetir varias vezes certos trechos de código que não são tão complexos.\n",
        "\n",
        "[Medium - Entendendo as funções lambda no Python](https://medium.com/@otaviobn/entendendo-as-funções-lambda-no-python-cbe3c5abb179)"
      ]
    },
    {
      "cell_type": "code",
      "metadata": {
        "id": "CCnzEqzLD1QH",
        "colab_type": "code",
        "colab": {}
      },
      "source": [
        "# Execução de uma função tradicional - 3 linhas de código\n",
        "def potencia(num):\n",
        "  result = num ** 2\n",
        "  return result"
      ],
      "execution_count": 0,
      "outputs": []
    },
    {
      "cell_type": "code",
      "metadata": {
        "id": "KFfqtoCW_mO-",
        "colab_type": "code",
        "colab": {
          "base_uri": "https://localhost:8080/",
          "height": 34
        },
        "outputId": "ca429ba1-4c18-4104-b5d4-f8e7d6a22f9a"
      },
      "source": [
        "potencia(10)"
      ],
      "execution_count": 2,
      "outputs": [
        {
          "output_type": "execute_result",
          "data": {
            "text/plain": [
              "100"
            ]
          },
          "metadata": {
            "tags": []
          },
          "execution_count": 2
        }
      ]
    },
    {
      "cell_type": "code",
      "metadata": {
        "id": "u7P8RykJ_qNi",
        "colab_type": "code",
        "colab": {}
      },
      "source": [
        "# A mesma função escrita com duas linhas de código\n",
        "def potenciaShort(num):\n",
        "  return num ** 2"
      ],
      "execution_count": 0,
      "outputs": []
    },
    {
      "cell_type": "code",
      "metadata": {
        "id": "3bNn3kqu_1FI",
        "colab_type": "code",
        "colab": {
          "base_uri": "https://localhost:8080/",
          "height": 34
        },
        "outputId": "6ae8d5e4-1972-40a9-99b6-c382e8cadb73"
      },
      "source": [
        "potenciaShort(10)"
      ],
      "execution_count": 4,
      "outputs": [
        {
          "output_type": "execute_result",
          "data": {
            "text/plain": [
              "100"
            ]
          },
          "metadata": {
            "tags": []
          },
          "execution_count": 4
        }
      ]
    },
    {
      "cell_type": "code",
      "metadata": {
        "id": "VAsVFz22_2mN",
        "colab_type": "code",
        "colab": {}
      },
      "source": [
        "# Escrevendo a mesma função em uma única linha\n",
        "def potenciaOneLine(num): return num ** 2"
      ],
      "execution_count": 0,
      "outputs": []
    },
    {
      "cell_type": "code",
      "metadata": {
        "id": "tPxkJlxkAjKm",
        "colab_type": "code",
        "colab": {
          "base_uri": "https://localhost:8080/",
          "height": 34
        },
        "outputId": "663e63bc-e895-4b60-e61c-94096eca79cd"
      },
      "source": [
        "potenciaOneLine(10)"
      ],
      "execution_count": 6,
      "outputs": [
        {
          "output_type": "execute_result",
          "data": {
            "text/plain": [
              "100"
            ]
          },
          "metadata": {
            "tags": []
          },
          "execution_count": 6
        }
      ]
    },
    {
      "cell_type": "code",
      "metadata": {
        "id": "UZM37uJJAlZ7",
        "colab_type": "code",
        "colab": {}
      },
      "source": [
        "# A mesma função acima como expressão Lambda\n",
        "potenciaLambda = lambda num: num ** 2"
      ],
      "execution_count": 0,
      "outputs": []
    },
    {
      "cell_type": "code",
      "metadata": {
        "id": "qob5sE1yBU87",
        "colab_type": "code",
        "colab": {
          "base_uri": "https://localhost:8080/",
          "height": 34
        },
        "outputId": "1d9531a4-b1dc-486e-a310-0d8261f4438c"
      },
      "source": [
        "potenciaLambda(10)"
      ],
      "execution_count": 9,
      "outputs": [
        {
          "output_type": "execute_result",
          "data": {
            "text/plain": [
              "100"
            ]
          },
          "metadata": {
            "tags": []
          },
          "execution_count": 9
        }
      ]
    },
    {
      "cell_type": "code",
      "metadata": {
        "id": "Q0G8BZ8fBX0I",
        "colab_type": "code",
        "colab": {}
      },
      "source": [
        "# Operações de comparação retornam valores booleanos (True ou False)\n",
        "\n",
        "par = lambda x: x%2 == 0"
      ],
      "execution_count": 0,
      "outputs": []
    },
    {
      "cell_type": "code",
      "metadata": {
        "id": "pZdqjmajCGlN",
        "colab_type": "code",
        "colab": {
          "base_uri": "https://localhost:8080/",
          "height": 34
        },
        "outputId": "2f62bf95-9205-43bd-b573-8a670d9eddf7"
      },
      "source": [
        "par(3)"
      ],
      "execution_count": 11,
      "outputs": [
        {
          "output_type": "execute_result",
          "data": {
            "text/plain": [
              "False"
            ]
          },
          "metadata": {
            "tags": []
          },
          "execution_count": 11
        }
      ]
    },
    {
      "cell_type": "code",
      "metadata": {
        "id": "psebN2DLCHtR",
        "colab_type": "code",
        "colab": {
          "base_uri": "https://localhost:8080/",
          "height": 34
        },
        "outputId": "de011dad-9290-435b-e5e9-be6edfe88887"
      },
      "source": [
        "par(4)"
      ],
      "execution_count": 12,
      "outputs": [
        {
          "output_type": "execute_result",
          "data": {
            "text/plain": [
              "True"
            ]
          },
          "metadata": {
            "tags": []
          },
          "execution_count": 12
        }
      ]
    },
    {
      "cell_type": "code",
      "metadata": {
        "id": "nCKmqCRcCI5h",
        "colab_type": "code",
        "colab": {}
      },
      "source": [
        "# Retornar o elemento do índice 0 em uma string\n",
        "first = lambda s: s[0]"
      ],
      "execution_count": 0,
      "outputs": []
    },
    {
      "cell_type": "code",
      "metadata": {
        "id": "C6Yr-OwJCYay",
        "colab_type": "code",
        "colab": {}
      },
      "source": [
        "word = 'Python'"
      ],
      "execution_count": 0,
      "outputs": []
    },
    {
      "cell_type": "code",
      "metadata": {
        "id": "xa1Q6Nw-CcE5",
        "colab_type": "code",
        "colab": {
          "base_uri": "https://localhost:8080/",
          "height": 34
        },
        "outputId": "eeb468c9-83c6-42d6-f969-a7174e8437a5"
      },
      "source": [
        "first(word)"
      ],
      "execution_count": 15,
      "outputs": [
        {
          "output_type": "execute_result",
          "data": {
            "text/plain": [
              "'P'"
            ]
          },
          "metadata": {
            "tags": []
          },
          "execution_count": 15
        }
      ]
    },
    {
      "cell_type": "code",
      "metadata": {
        "id": "6FdMIRe4CeQY",
        "colab_type": "code",
        "colab": {}
      },
      "source": [
        "# Retornar uma string de trás para frente\n",
        "reverse = lambda x: x[::-1]"
      ],
      "execution_count": 0,
      "outputs": []
    },
    {
      "cell_type": "code",
      "metadata": {
        "id": "KaEsV8gUCw3a",
        "colab_type": "code",
        "colab": {
          "base_uri": "https://localhost:8080/",
          "height": 34
        },
        "outputId": "638ef2af-f117-4319-ed3a-95d60221f441"
      },
      "source": [
        "reverse(word)"
      ],
      "execution_count": 18,
      "outputs": [
        {
          "output_type": "execute_result",
          "data": {
            "text/plain": [
              "'nohtyP'"
            ]
          },
          "metadata": {
            "tags": []
          },
          "execution_count": 18
        }
      ]
    },
    {
      "cell_type": "code",
      "metadata": {
        "id": "aaQgB0BNCz0r",
        "colab_type": "code",
        "colab": {}
      },
      "source": [
        "# Uma simples operação de soma\n",
        "soma = lambda x, y: x + y"
      ],
      "execution_count": 0,
      "outputs": []
    },
    {
      "cell_type": "code",
      "metadata": {
        "id": "jwybfD4FDCV1",
        "colab_type": "code",
        "colab": {
          "base_uri": "https://localhost:8080/",
          "height": 34
        },
        "outputId": "7d690e72-88f2-448f-a55e-c96d3cc2c438"
      },
      "source": [
        "soma(3,2)"
      ],
      "execution_count": 20,
      "outputs": [
        {
          "output_type": "execute_result",
          "data": {
            "text/plain": [
              "5"
            ]
          },
          "metadata": {
            "tags": []
          },
          "execution_count": 20
        }
      ]
    }
  ]
}