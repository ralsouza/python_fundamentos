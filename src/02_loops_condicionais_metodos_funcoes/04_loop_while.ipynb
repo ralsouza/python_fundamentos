{
 "cells": [
  {
   "cell_type": "markdown",
   "metadata": {},
   "source": [
    "# Loop While"
   ]
  },
  {
   "cell_type": "code",
   "execution_count": 2,
   "metadata": {},
   "outputs": [
    {
     "name": "stdout",
     "output_type": "stream",
     "text": [
      "0\n",
      "1\n",
      "2\n",
      "3\n",
      "4\n",
      "5\n",
      "6\n",
      "7\n",
      "8\n",
      "9\n"
     ]
    }
   ],
   "source": [
    "# Imprimir valores de 0 à 9\n",
    "\n",
    "counter = 0\n",
    "\n",
    "while ( counter < 10 ):\n",
    "    print(counter)\n",
    "    counter += 1"
   ]
  },
  {
   "cell_type": "code",
   "execution_count": 3,
   "metadata": {},
   "outputs": [
    {
     "name": "stdout",
     "output_type": "stream",
     "text": [
      "O valor de x nesta iteração é:  0\n",
      " x ainda é menor que 10, 1 a x\n",
      "O valor de x nesta iteração é:  1\n",
      " x ainda é menor que 10, 1 a x\n",
      "O valor de x nesta iteração é:  2\n",
      " x ainda é menor que 10, 1 a x\n",
      "O valor de x nesta iteração é:  3\n",
      " x ainda é menor que 10, 1 a x\n",
      "O valor de x nesta iteração é:  4\n",
      " x ainda é menor que 10, 1 a x\n",
      "O valor de x nesta iteração é:  5\n",
      " x ainda é menor que 10, 1 a x\n",
      "O valor de x nesta iteração é:  6\n",
      " x ainda é menor que 10, 1 a x\n",
      "O valor de x nesta iteração é:  7\n",
      " x ainda é menor que 10, 1 a x\n",
      "O valor de x nesta iteração é:  8\n",
      " x ainda é menor que 10, 1 a x\n",
      "O valor de x nesta iteração é:  9\n",
      " x ainda é menor que 10, 1 a x\n",
      "Loop concluído\n"
     ]
    }
   ],
   "source": [
    "# Usar else para encerrar o laço\n",
    "\n",
    "x = 0\n",
    "\n",
    "while ( x < 10 ):\n",
    "    print('O valor de x nesta iteração é: ', x)\n",
    "    print(' x ainda é menor que 10, 1 a x')\n",
    "    x += 1\n",
    "    \n",
    "else:\n",
    "    print('Loop concluído')\n"
   ]
  },
  {
   "cell_type": "code",
   "execution_count": null,
   "metadata": {},
   "outputs": [],
   "source": []
  }
 ],
 "metadata": {
  "kernelspec": {
   "display_name": "py_fundamentos",
   "language": "python",
   "name": "py_fundamentos"
  },
  "language_info": {
   "codemirror_mode": {
    "name": "ipython",
    "version": 3
   },
   "file_extension": ".py",
   "mimetype": "text/x-python",
   "name": "python",
   "nbconvert_exporter": "python",
   "pygments_lexer": "ipython3",
   "version": "3.7.3"
  }
 },
 "nbformat": 4,
 "nbformat_minor": 2
}
