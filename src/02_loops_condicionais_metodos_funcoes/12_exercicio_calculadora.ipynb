{
  "nbformat": 4,
  "nbformat_minor": 0,
  "metadata": {
    "colab": {
      "name": "12_exercicio_calculadora.ipynb",
      "version": "0.3.2",
      "provenance": [],
      "collapsed_sections": [
        "lgTW6JUF1DUj",
        "ys3M5l7R1M-8",
        "66eGDcfKdOFi"
      ],
      "include_colab_link": true
    },
    "kernelspec": {
      "name": "python3",
      "display_name": "Python 3"
    }
  },
  "cells": [
    {
      "cell_type": "markdown",
      "metadata": {
        "id": "view-in-github",
        "colab_type": "text"
      },
      "source": [
        "<a href=\"https://colab.research.google.com/github/ralsouza/python_fundamentos/blob/master/src/02_loops_condicionais_metodos_funcoes/12_exercicio_calculadora.ipynb\" target=\"_parent\"><img src=\"https://colab.research.google.com/assets/colab-badge.svg\" alt=\"Open In Colab\"/></a>"
      ]
    },
    {
      "cell_type": "markdown",
      "metadata": {
        "id": "ZgOD3Bh6k5BW",
        "colab_type": "text"
      },
      "source": [
        "# Desenvolver uma Calculadora"
      ]
    },
    {
      "cell_type": "markdown",
      "metadata": {
        "id": "lgTW6JUF1DUj",
        "colab_type": "text"
      },
      "source": [
        "## Versão 1"
      ]
    },
    {
      "cell_type": "code",
      "metadata": {
        "id": "0y4HWEHnkLTV",
        "colab_type": "code",
        "colab": {}
      },
      "source": [
        "print( 15 * '*', 'Calculadora em Python', 15 * '*' )\n",
        "print( '' )\n",
        "print( 'Selecione o número da operação desejada:' )\n",
        "print( '' )\n",
        "print( '1 - Soma' )\n",
        "print( '2 - Subtração' )\n",
        "print( '3 - Multiplicação' )\n",
        "print( '4 - Divisão' )\n",
        "print( '' )\n",
        "print( 53 * '*' )\n",
        "print( '' )\n",
        "\n",
        "option = int( input( 'Digite sua opção (1/2/3/4): ' ) )\n",
        "\n",
        "if ( option == 1 ):\n",
        "  numSoma1 = int( input( 'Digite o primeiro número para a soma: ' ) )\n",
        "  numSoma2 = int( input( 'Digite o segundo número para a soma: ' ) )\n",
        "  print( '{} + {} = {}'.format( numSoma1, numSoma2, numSoma1 + numSoma2 ) )\n",
        "  \n",
        "elif ( option == 2 ):\n",
        "  numSubt1 = int( input( 'Digite o primeiro número para a subtração: ' ) )\n",
        "  numSubt2 = int( input( 'Digite o segundo número para a subtração: ' ) )\n",
        "  print( '{} - {} = {}'.format( numSubt1, numSubt2, numSubt1 - numSubt2 ) )\n",
        "  \n",
        "elif ( option == 3 ):\n",
        "  numMult1 = int( input( 'Digite o primeiro número para a multiplicação: ' ) )\n",
        "  numMult2 = int( input( 'Digite o segundo número para a multiplicação: ' ) )\n",
        "  print( '{} × {} = {}'.format( numMult1, numMult2, numMult1 * numMult2 ) )\n",
        "  \n",
        "elif ( option == 4 ):\n",
        "  numDiv1 = int( input( 'Digite o primeiro número para a divisão: ' ) )\n",
        "  numDiv2 = int( input( 'Digite o segundo número para a divisão: ' ) )\n",
        "  print( '{} ÷ {} = {}'.format( numSubt1, numSubt2, numSubt1 - numSubt2 ) )"
      ],
      "execution_count": 0,
      "outputs": []
    },
    {
      "cell_type": "markdown",
      "metadata": {
        "id": "ys3M5l7R1M-8",
        "colab_type": "text"
      },
      "source": [
        "## Versão 2 ( with steroids )"
      ]
    },
    {
      "cell_type": "code",
      "metadata": {
        "id": "Y51tHz831O7B",
        "colab_type": "code",
        "outputId": "87fcb025-e717-4688-badb-6169dcc7fbb1",
        "colab": {
          "base_uri": "https://localhost:8080/",
          "height": 17
        }
      },
      "source": [
        "def menu():\n",
        "  \n",
        "  ''' Menu principal do programa '''\n",
        "  \n",
        "  print( '' )\n",
        "  print( 15 * '*', 'Calculadora em Python', 15 * '*' )\n",
        "  print( '' )\n",
        "  print( 'Selecione o número da operação desejada:' )\n",
        "  print( '' )\n",
        "  print( '1 - Soma' )\n",
        "  print( '2 - Subtração' )\n",
        "  print( '3 - Multiplicação' )\n",
        "  print( '4 - Divisão' )\n",
        "  print( '5 - Sair' )\n",
        "  print( '' )\n",
        "  print( 53 * '*' )\n",
        "  print( '' )\n",
        "\n",
        "# Variável de controle para sair do programa\n",
        "terminarPrograma = False\n",
        "\n",
        "# Bloco de operações do programa\n",
        "while ( terminarPrograma != True ):\n",
        "  \n",
        "  menu()\n",
        "  \n",
        "  option = int( input( 'Digite sua opção (1/2/3/4/5): ' ) )\n",
        "\n",
        "  if ( option == 1 ):\n",
        "    numSoma1 = int( input( 'Digite o primeiro número para a soma: ' ) )\n",
        "    numSoma2 = int( input( 'Digite o segundo número para a soma: ' ) )\n",
        "    print( '{} + {} = {}'.format( numSoma1, numSoma2, numSoma1 + numSoma2 ) )\n",
        "\n",
        "  elif ( option == 2 ):\n",
        "    numSubt1 = int( input( 'Digite o primeiro número para a subtração: ' ) )\n",
        "    numSubt2 = int( input( 'Digite o segundo número para a subtração: ' ) )\n",
        "    print( '{} - {} = {}'.format( numSubt1, numSubt2, numSubt1 - numSubt2 ) )\n",
        "\n",
        "  elif ( option == 3 ):\n",
        "    numMult1 = int( input( 'Digite o primeiro número para a multiplicação: ' ) )\n",
        "    numMult2 = int( input( 'Digite o segundo número para a multiplicação: ' ) )\n",
        "    print( '{} × {} = {}'.format( numMult1, numMult2, numMult1 * numMult2 ) )\n",
        "\n",
        "  elif ( option == 4 ):\n",
        "    numDiv1 = int( input( 'Digite o primeiro número para a divisão: ' ) )\n",
        "    numDiv2 = int( input( 'Digite o segundo número para a divisão: ' ) )\n",
        "    print( '{} ÷ {} = {}'.format( numSubt1, numSubt2, numSubt1 - numSubt2 ) )\n",
        "    \n",
        "  elif ( option == 5 ):\n",
        "    print( 'Programa finalizado!' )\n",
        "    terminarPrograma = True\n",
        "  \n",
        "  else:\n",
        "    print ( 'Opção inválida!' )"
      ],
      "execution_count": 0,
      "outputs": [
        {
          "output_type": "stream",
          "text": [
            "\n",
            "*************** Calculadora em Python ***************\n",
            "\n",
            "Selecione o número da operação desejada:\n",
            "\n",
            "1 - Soma\n",
            "2 - Subtração\n",
            "3 - Multiplicação\n",
            "4 - Divisão\n",
            "5 - Sair\n",
            "\n",
            "*****************************************************\n",
            "\n"
          ],
          "name": "stdout"
        }
      ]
    },
    {
      "cell_type": "markdown",
      "metadata": {
        "id": "66eGDcfKdOFi",
        "colab_type": "text"
      },
      "source": [
        "## Versão 3 (Rise of Machines)"
      ]
    },
    {
      "cell_type": "code",
      "metadata": {
        "id": "WNrUwuRviUaf",
        "colab_type": "code",
        "colab": {}
      },
      "source": [
        "# Função do menu\n",
        "def menu():\n",
        "  \n",
        "  ''' Menu principal do programa '''\n",
        "  \n",
        "  print( '' )\n",
        "  print( 15 * '*', 'Calculadora em Python', 15 * '*' )\n",
        "  print( '' )\n",
        "  print( 'Selecione o número da operação desejada:' )\n",
        "  print( '' )\n",
        "  print( '1 - Soma' )\n",
        "  print( '2 - Subtração' )\n",
        "  print( '3 - Multiplicação' )\n",
        "  print( '4 - Divisão' )\n",
        "  print( '5 - Sair' )\n",
        "  print( '' )\n",
        "  print( 53 * '*' )\n",
        "  print( '' )\n",
        "  opt = int( input( 'Digite sua opção (1/2/3/4/5): ' ) )\n",
        "  print( '' )\n",
        "\n",
        "  return opt\n",
        "\n",
        "# Função que recebe os inputs\n",
        "def perguntas():\n",
        "  num1 = int( input( 'Insira o primeiro número: ' ) )\n",
        "  num2 = int( input( 'Insira o segundo número: ' ) )\n",
        "  \n",
        "  return num1, num2\n",
        "\n",
        "# Função de operações\n",
        "def operacoes( tipoOperacao ):\n",
        "  \n",
        "  if( tipoOperacao == 1 ):\n",
        "    \n",
        "    print( 'Operação selecionada: Soma')\n",
        "    print( '' )\n",
        "    \n",
        "    soma = lambda num1, num2: num1 + num2\n",
        "    \n",
        "    respostas = perguntas()\n",
        "    \n",
        "    resultado = soma( respostas[0], respostas[1] )\n",
        "    \n",
        "    sinal = '+'\n",
        "    \n",
        "  elif( tipoOperacao == 2 ):\n",
        "    \n",
        "    print( 'Operação selecionada: Subtração')\n",
        "    print( '' )\n",
        "    \n",
        "    subtracao = lambda num1, num2: num1 - num2\n",
        "    \n",
        "    respostas = perguntas()\n",
        "    \n",
        "    resultado = subtracao( respostas[0], respostas[1] )\n",
        "    \n",
        "    sinal = '-'\n",
        "    \n",
        "  elif( tipoOperacao == 3 ):\n",
        "    \n",
        "    print( 'Operação selecionada: Multiplicação')\n",
        "    print( '' )\n",
        "    \n",
        "    multiplicacao = lambda num1, num2: num1 * num2\n",
        "    \n",
        "    respostas = perguntas()\n",
        "    \n",
        "    resultado = multiplicacao( respostas[0], respostas[1] )\n",
        "    \n",
        "    sinal = '×'\n",
        "    \n",
        "  elif( tipoOperacao == 4 ):\n",
        "    \n",
        "    print( 'Operação selecionada: Divisão')\n",
        "    print( '' )\n",
        "    \n",
        "    divisao = lambda num1, num2: num1 / num2\n",
        "    \n",
        "    respostas = perguntas()\n",
        "    \n",
        "    resultado = divisao( respostas[0], respostas[1] )\n",
        "    \n",
        "    sinal = '÷'\n",
        "      \n",
        "  return respostas[0], sinal, respostas[1], resultado\n",
        "    \n",
        "\n",
        "# Variável de controle do loop para terminar o programa\n",
        "terminarPrograma = False\n",
        "\n",
        "# Loop principal\n",
        "while( terminarPrograma != True ):\n",
        "  \n",
        "  retornoMenu = menu()\n",
        "    \n",
        "  if ( retornoMenu == 5 ):\n",
        "    \n",
        "    print( 'Programa finalizado.' )\n",
        "    \n",
        "    terminarPrograma = True\n",
        "    \n",
        "  elif ( retornoMenu < 1 ) or ( retornoMenu > 5 ):\n",
        "    \n",
        "    print( 'Opção inválida, tente novamente.' )\n",
        "    \n",
        "  else:\n",
        "    \n",
        "    # Obteção do retorno das operações\n",
        "    resultado = operacoes( retornoMenu )\n",
        "    \n",
        "    # Retorno ao usuário\n",
        "    print('{} {} {} = {}'.format( resultado[0], resultado[1], resultado[2], resultado[3] ) )"
      ],
      "execution_count": 0,
      "outputs": []
    }
  ]
}