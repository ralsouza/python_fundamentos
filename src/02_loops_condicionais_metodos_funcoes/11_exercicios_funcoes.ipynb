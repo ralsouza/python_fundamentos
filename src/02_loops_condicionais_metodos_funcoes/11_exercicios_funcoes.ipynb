{
  "nbformat": 4,
  "nbformat_minor": 0,
  "metadata": {
    "colab": {
      "name": "11_exercicios_funcoes.ipynb",
      "version": "0.3.2",
      "provenance": [],
      "collapsed_sections": [],
      "include_colab_link": true
    },
    "kernelspec": {
      "name": "python3",
      "display_name": "Python 3"
    }
  },
  "cells": [
    {
      "cell_type": "markdown",
      "metadata": {
        "id": "view-in-github",
        "colab_type": "text"
      },
      "source": [
        "<a href=\"https://colab.research.google.com/github/ralsouza/python_fundamentos/blob/master/src/02_loops_condicionais_metodos_funcoes/11_exercicios_funcoes.ipynb\" target=\"_parent\"><img src=\"https://colab.research.google.com/assets/colab-badge.svg\" alt=\"Open In Colab\"/></a>"
      ]
    },
    {
      "cell_type": "markdown",
      "metadata": {
        "id": "UXEEbcsCKXqC",
        "colab_type": "text"
      },
      "source": [
        "# Exercícios sobre funções"
      ]
    },
    {
      "cell_type": "markdown",
      "metadata": {
        "id": "Adiva6gyLIId",
        "colab_type": "text"
      },
      "source": [
        "1. Crie uma função que imprima a sequência de números pares entre 1 e 20 (a função não recebe parâmetro) e depois faça uma chamada à função para listar os números"
      ]
    },
    {
      "cell_type": "code",
      "metadata": {
        "id": "z2clpMAYFmDX",
        "colab_type": "code",
        "colab": {}
      },
      "source": [
        "def evens():\n",
        "  ''' Print even numbers from 1 to 20 '''\n",
        "  for i in range(1,20):\n",
        "    if (i % 2 == 0):\n",
        "      print(i)\n",
        "    else:\n",
        "      continue"
      ],
      "execution_count": 0,
      "outputs": []
    },
    {
      "cell_type": "code",
      "metadata": {
        "id": "6EE8vr9aMk2m",
        "colab_type": "code",
        "colab": {
          "base_uri": "https://localhost:8080/",
          "height": 170
        },
        "outputId": "4627bdf9-d3de-4518-d65c-7642d5760107"
      },
      "source": [
        "evens()"
      ],
      "execution_count": 10,
      "outputs": [
        {
          "output_type": "stream",
          "text": [
            "2\n",
            "4\n",
            "6\n",
            "8\n",
            "10\n",
            "12\n",
            "14\n",
            "16\n",
            "18\n"
          ],
          "name": "stdout"
        }
      ]
    },
    {
      "cell_type": "markdown",
      "metadata": {
        "id": "T08fOjR-NdY4",
        "colab_type": "text"
      },
      "source": [
        "2. Crie uma função que receba uma string como argumento e retorne a mesma string em letras maiúsculas. Faça uma chamada à função, passando como parâmetro uma string"
      ]
    },
    {
      "cell_type": "code",
      "metadata": {
        "id": "W-qEmqTjMsuQ",
        "colab_type": "code",
        "colab": {}
      },
      "source": [
        "def to_uppper(text):\n",
        "  ''' Changes a string to upper case '''\n",
        "  return text.upper()"
      ],
      "execution_count": 0,
      "outputs": []
    },
    {
      "cell_type": "code",
      "metadata": {
        "id": "cBjndOmCOqi7",
        "colab_type": "code",
        "colab": {
          "base_uri": "https://localhost:8080/",
          "height": 34
        },
        "outputId": "456eecac-442c-4268-afd2-d75813eb4585"
      },
      "source": [
        "texto = 'This is a string'\n",
        "\n",
        "to_uppper(texto)"
      ],
      "execution_count": 14,
      "outputs": [
        {
          "output_type": "execute_result",
          "data": {
            "text/plain": [
              "'THIS IS A STRING'"
            ]
          },
          "metadata": {
            "tags": []
          },
          "execution_count": 14
        }
      ]
    },
    {
      "cell_type": "markdown",
      "metadata": {
        "id": "O4UsJxTdO-hA",
        "colab_type": "text"
      },
      "source": [
        "3. Crie uma função que receba como parâmetro uma lista de 4 elementos, adicione 2 elementos a lista e imprima a lista"
      ]
    },
    {
      "cell_type": "code",
      "metadata": {
        "id": "4m5Wr1C9Oy-O",
        "colab_type": "code",
        "colab": {
          "base_uri": "https://localhost:8080/",
          "height": 34
        },
        "outputId": "50e59393-8066-4d6f-a036-01ed4f52c380"
      },
      "source": [
        "lst = ['banana','maçã','melão','caju']\n",
        "\n",
        "def add_lista(lista):\n",
        "  lista.append('melância')\n",
        "  lista.append('morango')\n",
        "  \n",
        "add_lista(lst)\n",
        "\n",
        "print(lst)"
      ],
      "execution_count": 22,
      "outputs": [
        {
          "output_type": "stream",
          "text": [
            "['banana', 'maçã', 'melão', 'caju', 'melância', 'morango']\n"
          ],
          "name": "stdout"
        }
      ]
    },
    {
      "cell_type": "markdown",
      "metadata": {
        "id": "u0fjLRgBbj9v",
        "colab_type": "text"
      },
      "source": [
        "4. Crie uma função que receba um argumento formal e uma possível lista de elementos. Faça duas chamadas à função, com apenas 1 elemento e na segunda chamada com 4 elementos"
      ]
    },
    {
      "cell_type": "code",
      "metadata": {
        "id": "8G6z1_Udbi2y",
        "colab_type": "code",
        "colab": {
          "base_uri": "https://localhost:8080/",
          "height": 102
        },
        "outputId": "eb4abcac-a8ab-421e-c8c4-f08f8df7b93e"
      },
      "source": [
        "def soma_elementos(x, *args):\n",
        "  print('O valor do primeiro argumento é: {}'.format(x))\n",
        "  \n",
        "  for i in args:\n",
        "    print('Os valores dos outros argumentos são: {}'.format(i))\n",
        "\n",
        "soma_elementos(3)\n",
        "soma_elementos(5,6,7,8)"
      ],
      "execution_count": 32,
      "outputs": [
        {
          "output_type": "stream",
          "text": [
            "O valor do primeiro argumento é: 3\n",
            "O valor do primeiro argumento é: 5\n",
            "Os valores dos outros argumentos são: 6\n",
            "Os valores dos outros argumentos são: 7\n",
            "Os valores dos outros argumentos são: 8\n"
          ],
          "name": "stdout"
        }
      ]
    },
    {
      "cell_type": "markdown",
      "metadata": {
        "id": "Hdjmc-NTeF8B",
        "colab_type": "text"
      },
      "source": [
        "5. Crie uma função anônima e atribua seu retorno a uma variável chamada soma. A expressão vai receber 2 números como parâmetro e retornar a soma deles"
      ]
    },
    {
      "cell_type": "code",
      "metadata": {
        "id": "O6t4YMlmeMYY",
        "colab_type": "code",
        "colab": {
          "base_uri": "https://localhost:8080/",
          "height": 34
        },
        "outputId": "1e47ce26-8f92-464a-8497-aa3622a5df22"
      },
      "source": [
        "soma = lambda x, y: x + y\n",
        "\n",
        "print(soma(3,5))"
      ],
      "execution_count": 37,
      "outputs": [
        {
          "output_type": "stream",
          "text": [
            "8\n"
          ],
          "name": "stdout"
        }
      ]
    },
    {
      "cell_type": "markdown",
      "metadata": {
        "id": "AHgC7b4SevrB",
        "colab_type": "text"
      },
      "source": [
        "6. Execute o código abaixo e certifique-se que compreende a diferença entre variável global e local."
      ]
    },
    {
      "cell_type": "code",
      "metadata": {
        "id": "_RdJY90sel79",
        "colab_type": "code",
        "colab": {
          "base_uri": "https://localhost:8080/",
          "height": 51
        },
        "outputId": "ee0aa1ba-a3ab-419e-d3e7-8daf82e5f940"
      },
      "source": [
        "total = 0\n",
        "def soma( arg1, arg2 ):\n",
        "    total = arg1 + arg2; \n",
        "    print (\"Dentro da função o total é: \", total)\n",
        "    return total;\n",
        "\n",
        "\n",
        "soma( 10, 20 );\n",
        "print (\"Fora da função o total é: \", total)"
      ],
      "execution_count": 35,
      "outputs": [
        {
          "output_type": "stream",
          "text": [
            "Dentro da função o total é:  30\n",
            "Fora da função o total é:  0\n"
          ],
          "name": "stdout"
        }
      ]
    },
    {
      "cell_type": "markdown",
      "metadata": {
        "id": "2Swwm8-Pe7ka",
        "colab_type": "text"
      },
      "source": [
        "7 - Abaixo você encontra uma lista com temperaturas em graus Celsius. Crie uma função anônima que converta cada temperatura para Fahrenheit. \n",
        "\n",
        "Dica: para conseguir realizar este exercício, você deve criar sua função lambda, dentro de uma função (que será estudada no próximo capítulo). \n",
        "\n",
        "Isso permite aplicar sua função a cada elemento da lista como descobrir a fórmula matemática que converte de Celsius para Fahrenheit? Pesquise!!!\n",
        "\n",
        "**Fórmula Pesquisada**\n",
        "\n",
        "T(°F) = T(°C) × 9/5 + 32"
      ]
    },
    {
      "cell_type": "code",
      "metadata": {
        "id": "MUqugV-we0QL",
        "colab_type": "code",
        "colab": {
          "base_uri": "https://localhost:8080/",
          "height": 34
        },
        "outputId": "cb1b5c65-a590-441a-edbb-516ed22962fc"
      },
      "source": [
        "Celsius = [39.2, 36.5, 37.3, 37.8]\n",
        "Fahrenheit = map(lambda x: x * 9/5 + 32, Celsius)\n",
        "print (list(Fahrenheit))"
      ],
      "execution_count": 36,
      "outputs": [
        {
          "output_type": "stream",
          "text": [
            "[102.56, 97.7, 99.14, 100.03999999999999]\n"
          ],
          "name": "stdout"
        }
      ]
    },
    {
      "cell_type": "markdown",
      "metadata": {
        "id": "WaYAPw2okxQb",
        "colab_type": "text"
      },
      "source": [
        "9. Abaixo você encontra a importação do Pandas, um dos principais pacotes Python para análise de dados. Analise atentamente todos os métodos disponíveis. Um deles você vai usar no próximo exercício."
      ]
    },
    {
      "cell_type": "code",
      "metadata": {
        "id": "9GLfOCTok-ok",
        "colab_type": "code",
        "colab": {
          "base_uri": "https://localhost:8080/",
          "height": 1000
        },
        "outputId": "805d46ae-8e6e-44a4-913f-a18eb4bb8b85"
      },
      "source": [
        "import pandas as pd\n",
        "dir(pd)"
      ],
      "execution_count": 38,
      "outputs": [
        {
          "output_type": "execute_result",
          "data": {
            "text/plain": [
              "['Categorical',\n",
              " 'CategoricalDtype',\n",
              " 'CategoricalIndex',\n",
              " 'DataFrame',\n",
              " 'DateOffset',\n",
              " 'DatetimeIndex',\n",
              " 'DatetimeTZDtype',\n",
              " 'ExcelFile',\n",
              " 'ExcelWriter',\n",
              " 'Float64Index',\n",
              " 'Grouper',\n",
              " 'HDFStore',\n",
              " 'Index',\n",
              " 'IndexSlice',\n",
              " 'Int16Dtype',\n",
              " 'Int32Dtype',\n",
              " 'Int64Dtype',\n",
              " 'Int64Index',\n",
              " 'Int8Dtype',\n",
              " 'Interval',\n",
              " 'IntervalDtype',\n",
              " 'IntervalIndex',\n",
              " 'MultiIndex',\n",
              " 'NaT',\n",
              " 'Panel',\n",
              " 'Period',\n",
              " 'PeriodDtype',\n",
              " 'PeriodIndex',\n",
              " 'RangeIndex',\n",
              " 'Series',\n",
              " 'SparseArray',\n",
              " 'SparseDataFrame',\n",
              " 'SparseDtype',\n",
              " 'SparseSeries',\n",
              " 'TimeGrouper',\n",
              " 'Timedelta',\n",
              " 'TimedeltaIndex',\n",
              " 'Timestamp',\n",
              " 'UInt16Dtype',\n",
              " 'UInt32Dtype',\n",
              " 'UInt64Dtype',\n",
              " 'UInt64Index',\n",
              " 'UInt8Dtype',\n",
              " '__builtins__',\n",
              " '__cached__',\n",
              " '__doc__',\n",
              " '__docformat__',\n",
              " '__file__',\n",
              " '__git_version__',\n",
              " '__loader__',\n",
              " '__name__',\n",
              " '__package__',\n",
              " '__path__',\n",
              " '__spec__',\n",
              " '__version__',\n",
              " '_hashtable',\n",
              " '_lib',\n",
              " '_libs',\n",
              " '_np_version_under1p13',\n",
              " '_np_version_under1p14',\n",
              " '_np_version_under1p15',\n",
              " '_np_version_under1p16',\n",
              " '_np_version_under1p17',\n",
              " '_tslib',\n",
              " '_version',\n",
              " 'api',\n",
              " 'array',\n",
              " 'arrays',\n",
              " 'bdate_range',\n",
              " 'compat',\n",
              " 'concat',\n",
              " 'core',\n",
              " 'crosstab',\n",
              " 'cut',\n",
              " 'date_range',\n",
              " 'datetime',\n",
              " 'describe_option',\n",
              " 'errors',\n",
              " 'eval',\n",
              " 'factorize',\n",
              " 'get_dummies',\n",
              " 'get_option',\n",
              " 'infer_freq',\n",
              " 'interval_range',\n",
              " 'io',\n",
              " 'isna',\n",
              " 'isnull',\n",
              " 'lreshape',\n",
              " 'melt',\n",
              " 'merge',\n",
              " 'merge_asof',\n",
              " 'merge_ordered',\n",
              " 'notna',\n",
              " 'notnull',\n",
              " 'np',\n",
              " 'offsets',\n",
              " 'option_context',\n",
              " 'options',\n",
              " 'pandas',\n",
              " 'period_range',\n",
              " 'pivot',\n",
              " 'pivot_table',\n",
              " 'plotting',\n",
              " 'qcut',\n",
              " 'read_clipboard',\n",
              " 'read_csv',\n",
              " 'read_excel',\n",
              " 'read_feather',\n",
              " 'read_fwf',\n",
              " 'read_gbq',\n",
              " 'read_hdf',\n",
              " 'read_html',\n",
              " 'read_json',\n",
              " 'read_msgpack',\n",
              " 'read_parquet',\n",
              " 'read_pickle',\n",
              " 'read_sas',\n",
              " 'read_sql',\n",
              " 'read_sql_query',\n",
              " 'read_sql_table',\n",
              " 'read_stata',\n",
              " 'read_table',\n",
              " 'reset_option',\n",
              " 'set_eng_float_format',\n",
              " 'set_option',\n",
              " 'show_versions',\n",
              " 'test',\n",
              " 'testing',\n",
              " 'timedelta_range',\n",
              " 'to_datetime',\n",
              " 'to_msgpack',\n",
              " 'to_numeric',\n",
              " 'to_pickle',\n",
              " 'to_timedelta',\n",
              " 'tseries',\n",
              " 'unique',\n",
              " 'util',\n",
              " 'value_counts',\n",
              " 'wide_to_long']"
            ]
          },
          "metadata": {
            "tags": []
          },
          "execution_count": 38
        }
      ]
    },
    {
      "cell_type": "markdown",
      "metadata": {
        "id": "qxNQYwwklLDv",
        "colab_type": "text"
      },
      "source": [
        "**Desafio - Pesquise na documentação Python**\n",
        "\n",
        "10. Exercício 10 - Crie uma função que receba o arquivo abaixo como argumento e retorne um resumo estatístico descritivo do arquivo. Dica, use Pandas e um de seus métodos, describe().\n",
        "Arquivo: \"binary.csv\""
      ]
    },
    {
      "cell_type": "code",
      "metadata": {
        "id": "-L4PlWsXlpk9",
        "colab_type": "code",
        "colab": {
          "base_uri": "https://localhost:8080/",
          "height": 297
        },
        "outputId": "c91b2ec4-2e97-4e15-f279-a7650b376e4f"
      },
      "source": [
        "import pandas as pd\n",
        "url = 'https://raw.githubusercontent.com/ralsouza/Python_Data_Analysis/master/Cap03/Notebooks/binary.csv'\n",
        "\n",
        "df = pd.read_csv(url)\n",
        "\n",
        "def carrega_arquivo(file):\n",
        "  return file.describe()\n",
        "\n",
        "carrega_arquivo(df)"
      ],
      "execution_count": 52,
      "outputs": [
        {
          "output_type": "execute_result",
          "data": {
            "text/html": [
              "<div>\n",
              "<style scoped>\n",
              "    .dataframe tbody tr th:only-of-type {\n",
              "        vertical-align: middle;\n",
              "    }\n",
              "\n",
              "    .dataframe tbody tr th {\n",
              "        vertical-align: top;\n",
              "    }\n",
              "\n",
              "    .dataframe thead th {\n",
              "        text-align: right;\n",
              "    }\n",
              "</style>\n",
              "<table border=\"1\" class=\"dataframe\">\n",
              "  <thead>\n",
              "    <tr style=\"text-align: right;\">\n",
              "      <th></th>\n",
              "      <th>admit</th>\n",
              "      <th>gre</th>\n",
              "      <th>gpa</th>\n",
              "      <th>rank</th>\n",
              "    </tr>\n",
              "  </thead>\n",
              "  <tbody>\n",
              "    <tr>\n",
              "      <th>count</th>\n",
              "      <td>5.000000</td>\n",
              "      <td>5.000000</td>\n",
              "      <td>5.000000</td>\n",
              "      <td>5.000000</td>\n",
              "    </tr>\n",
              "    <tr>\n",
              "      <th>mean</th>\n",
              "      <td>0.600000</td>\n",
              "      <td>616.000000</td>\n",
              "      <td>3.480000</td>\n",
              "      <td>3.000000</td>\n",
              "    </tr>\n",
              "    <tr>\n",
              "      <th>std</th>\n",
              "      <td>0.547723</td>\n",
              "      <td>185.148589</td>\n",
              "      <td>0.421307</td>\n",
              "      <td>1.224745</td>\n",
              "    </tr>\n",
              "    <tr>\n",
              "      <th>min</th>\n",
              "      <td>0.000000</td>\n",
              "      <td>380.000000</td>\n",
              "      <td>2.930000</td>\n",
              "      <td>1.000000</td>\n",
              "    </tr>\n",
              "    <tr>\n",
              "      <th>25%</th>\n",
              "      <td>0.000000</td>\n",
              "      <td>520.000000</td>\n",
              "      <td>3.190000</td>\n",
              "      <td>3.000000</td>\n",
              "    </tr>\n",
              "    <tr>\n",
              "      <th>50%</th>\n",
              "      <td>1.000000</td>\n",
              "      <td>640.000000</td>\n",
              "      <td>3.610000</td>\n",
              "      <td>3.000000</td>\n",
              "    </tr>\n",
              "    <tr>\n",
              "      <th>75%</th>\n",
              "      <td>1.000000</td>\n",
              "      <td>660.000000</td>\n",
              "      <td>3.670000</td>\n",
              "      <td>4.000000</td>\n",
              "    </tr>\n",
              "    <tr>\n",
              "      <th>max</th>\n",
              "      <td>1.000000</td>\n",
              "      <td>880.000000</td>\n",
              "      <td>4.000000</td>\n",
              "      <td>4.000000</td>\n",
              "    </tr>\n",
              "  </tbody>\n",
              "</table>\n",
              "</div>"
            ],
            "text/plain": [
              "          admit         gre       gpa      rank\n",
              "count  5.000000    5.000000  5.000000  5.000000\n",
              "mean   0.600000  616.000000  3.480000  3.000000\n",
              "std    0.547723  185.148589  0.421307  1.224745\n",
              "min    0.000000  380.000000  2.930000  1.000000\n",
              "25%    0.000000  520.000000  3.190000  3.000000\n",
              "50%    1.000000  640.000000  3.610000  3.000000\n",
              "75%    1.000000  660.000000  3.670000  4.000000\n",
              "max    1.000000  880.000000  4.000000  4.000000"
            ]
          },
          "metadata": {
            "tags": []
          },
          "execution_count": 52
        }
      ]
    }
  ]
}