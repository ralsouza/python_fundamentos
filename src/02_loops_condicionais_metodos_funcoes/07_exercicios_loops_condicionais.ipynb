{
  "nbformat": 4,
  "nbformat_minor": 0,
  "metadata": {
    "colab": {
      "name": "07_exercicios_loops_condicionais.ipynb",
      "version": "0.3.2",
      "provenance": [],
      "collapsed_sections": [],
      "include_colab_link": true
    },
    "kernelspec": {
      "name": "python3",
      "display_name": "Python 3"
    }
  },
  "cells": [
    {
      "cell_type": "markdown",
      "metadata": {
        "id": "view-in-github",
        "colab_type": "text"
      },
      "source": [
        "<a href=\"https://colab.research.google.com/github/ralsouza/python_fundamentos/blob/master/src/02_loops_condicionais_metodos_funcoes/07_exercicios_loops_condicionais.ipynb\" target=\"_parent\"><img src=\"https://colab.research.google.com/assets/colab-badge.svg\" alt=\"Open In Colab\"/></a>"
      ]
    },
    {
      "cell_type": "markdown",
      "metadata": {
        "id": "BV_v77XpFFVp",
        "colab_type": "text"
      },
      "source": [
        "# Exercícios de Loops e Condicionais"
      ]
    },
    {
      "cell_type": "markdown",
      "metadata": {
        "id": "g_NpVgVEFYbt",
        "colab_type": "text"
      },
      "source": [
        "1)  Criar uma estrutura que pergunte ao usuário qual o dia da semana. \n",
        "      Se o dia for igual a domingo ou  igual a sábado, imprima na tela \"Hoje é dia de descanso\", caso contrário imprima na tela \"Você precisa trabalhar!\""
      ]
    },
    {
      "cell_type": "code",
      "metadata": {
        "id": "fTDDGsPaFutM",
        "colab_type": "code",
        "outputId": "e124b29d-f1e7-4819-d7ba-4d27fb2cf788",
        "colab": {
          "base_uri": "https://localhost:8080/",
          "height": 55
        }
      },
      "source": [
        "dia = input( 'Qual dia da semana é hoje?' )\n",
        "\n",
        "if ( dia == 'sabado' ) or ( dia == 'domingo' ):\n",
        "  print( 'Hoje é dia de descanso.'  )\n",
        "else:\n",
        "  print( 'Hoje é dia de trabalhar!' )"
      ],
      "execution_count": 0,
      "outputs": [
        {
          "output_type": "stream",
          "text": [
            "Qual dia da semana é hoje?Segunda\n",
            "Hoje é dia de trabalhar!\n"
          ],
          "name": "stdout"
        }
      ]
    },
    {
      "cell_type": "markdown",
      "metadata": {
        "id": "MRlqB5X3MpnD",
        "colab_type": "text"
      },
      "source": [
        "2) Criar uma lista de 5 frutas e verifique se a fruta 'Morango' faz parte da lista"
      ]
    },
    {
      "cell_type": "code",
      "metadata": {
        "id": "E--MxJq7MsCY",
        "colab_type": "code",
        "outputId": "88dbf5c9-a353-4b83-8683-3ebcaccb7f56",
        "colab": {
          "base_uri": "https://localhost:8080/",
          "height": 68
        }
      },
      "source": [
        "# Opção 1\n",
        "\n",
        "frutas = ['maça','limão','morango','laranja','melancia']\n",
        "\n",
        "for i in frutas:\n",
        "  if (i == 'morango'):\n",
        "    print( 'morango encontrado!' )\n",
        "    break\n",
        "  else:\n",
        "    print( 'Outra fruta' )"
      ],
      "execution_count": 45,
      "outputs": [
        {
          "output_type": "stream",
          "text": [
            "Outra fruta\n",
            "Outra fruta\n",
            "morango encontrado!\n"
          ],
          "name": "stdout"
        }
      ]
    },
    {
      "cell_type": "code",
      "metadata": {
        "id": "7nhuZrJ6DqOs",
        "colab_type": "code",
        "colab": {
          "base_uri": "https://localhost:8080/",
          "height": 34
        },
        "outputId": "042e08b2-6d20-4eb4-c0d7-7ccadfaaea65"
      },
      "source": [
        "# Opção 2 - Melhor\n",
        "\n",
        "frutas = ['maça','limão','morango','laranja','melancia']\n",
        "\n",
        "if ( 'morango' in frutas ):\n",
        "  print ( 'Fruta encontrada' )\n",
        "else: \n",
        "  print ( 'Fruta não encontrada' )\n",
        "\n"
      ],
      "execution_count": 54,
      "outputs": [
        {
          "output_type": "stream",
          "text": [
            "Fruta encontrada\n"
          ],
          "name": "stdout"
        }
      ]
    },
    {
      "cell_type": "markdown",
      "metadata": {
        "id": "XgYw2JKUO6ek",
        "colab_type": "text"
      },
      "source": [
        "3) Criar uma tupla de 4 elementos, multiplique cada elemento da tupla por 2 e guarde os resultados em uma lista"
      ]
    },
    {
      "cell_type": "code",
      "metadata": {
        "id": "-zRAt3cXPCpF",
        "colab_type": "code",
        "outputId": "11103a92-dce7-4c40-c4f1-5a8f29274da2",
        "colab": {
          "base_uri": "https://localhost:8080/",
          "height": 34
        }
      },
      "source": [
        "nums = (3,4,2,6)\n",
        "resultado = []\n",
        "\n",
        "for i in nums:\n",
        "  resultado.append(i * 2)\n",
        "  \n",
        "print(resultado)"
      ],
      "execution_count": 30,
      "outputs": [
        {
          "output_type": "stream",
          "text": [
            "[6, 8, 4, 12]\n"
          ],
          "name": "stdout"
        }
      ]
    },
    {
      "cell_type": "markdown",
      "metadata": {
        "id": "Qzm9xOaT_Duw",
        "colab_type": "text"
      },
      "source": [
        "4) Criar uma sequência de números pares entre 100 e 150 e imprima na tela"
      ]
    },
    {
      "cell_type": "code",
      "metadata": {
        "id": "MW7nwKoU_KeT",
        "colab_type": "code",
        "colab": {}
      },
      "source": [
        "# Opção 1 - Melhor\n",
        "for i in range (100, 150, 2):\n",
        "  print (i)"
      ],
      "execution_count": 0,
      "outputs": []
    },
    {
      "cell_type": "code",
      "metadata": {
        "id": "Fkn4s0tV_-WZ",
        "colab_type": "code",
        "colab": {}
      },
      "source": [
        "# Opção 2\n",
        "for i in range ( 100, 150 ):\n",
        "  if ( i % 2 == 0 ):\n",
        "    print ( i )\n",
        "  else:\n",
        "      continue"
      ],
      "execution_count": 0,
      "outputs": []
    },
    {
      "cell_type": "markdown",
      "metadata": {
        "id": "oHdbJzLlBJFg",
        "colab_type": "text"
      },
      "source": [
        "4) Criar uma variável chamada temperatura e atribuir o valor 40. Enquanto temperatura for maior que 35, \n",
        "imprima as temperaturas na tela"
      ]
    },
    {
      "cell_type": "code",
      "metadata": {
        "id": "BWfg6_lfBN3z",
        "colab_type": "code",
        "colab": {
          "base_uri": "https://localhost:8080/",
          "height": 102
        },
        "outputId": "cc85e1f9-8dab-443c-a491-4c959627d365"
      },
      "source": [
        "temperatura = 40\n",
        "\n",
        "while ( temperatura > 35 ):\n",
        "  print ('A temperatura é %d' %(temperatura))\n",
        "  temperatura -= 1"
      ],
      "execution_count": 61,
      "outputs": [
        {
          "output_type": "stream",
          "text": [
            "A temperatura é 40\n",
            "A temperatura é 39\n",
            "A temperatura é 38\n",
            "A temperatura é 37\n",
            "A temperatura é 36\n"
          ],
          "name": "stdout"
        }
      ]
    },
    {
      "cell_type": "markdown",
      "metadata": {
        "id": "gewdbwaJJMYQ",
        "colab_type": "text"
      },
      "source": [
        "5) Crie uma variável chamada contador = 0. Enquanto counter for menor que 100, imprima os valores na tela, mas quando for encontrado o valor 23, interrompa a execução do programa"
      ]
    },
    {
      "cell_type": "code",
      "metadata": {
        "id": "NAsD49DUJRcG",
        "colab_type": "code",
        "colab": {}
      },
      "source": [
        "# Opção 1\n",
        "\n",
        "contador = 0\n",
        "\n",
        "while ( contador < 100 ): \n",
        "  \n",
        "  if ( contador == 23 ):\n",
        "    break\n",
        "  else:\n",
        "    print ( contador )\n",
        "  \n",
        "  contador += 1\n",
        "  "
      ],
      "execution_count": 0,
      "outputs": []
    },
    {
      "cell_type": "code",
      "metadata": {
        "id": "y1UHRiDYRnYm",
        "colab_type": "code",
        "colab": {}
      },
      "source": [
        "# Opção 2\n",
        "\n",
        "contador = 0\n",
        "\n",
        "while ( True ):\n",
        "  \n",
        "  if ( contador == 23 ): \n",
        "    break\n",
        "  else: \n",
        "    print ( contador )\n",
        "      \n",
        "  contador += 1"
      ],
      "execution_count": 0,
      "outputs": []
    }
  ]
}