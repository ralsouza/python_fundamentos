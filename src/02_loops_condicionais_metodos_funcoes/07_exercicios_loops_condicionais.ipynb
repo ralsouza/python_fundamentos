{
  "nbformat": 4,
  "nbformat_minor": 0,
  "metadata": {
    "colab": {
      "name": "07_exercicios_loops_condicionais.ipynb",
      "version": "0.3.2",
      "provenance": [],
      "include_colab_link": true
    },
    "kernelspec": {
      "name": "python3",
      "display_name": "Python 3"
    }
  },
  "cells": [
    {
      "cell_type": "markdown",
      "metadata": {
        "id": "view-in-github",
        "colab_type": "text"
      },
      "source": [
        "<a href=\"https://colab.research.google.com/github/ralsouza/python_fundamentos/blob/master/src/02_loops_condicionais_metodos_funcoes/07_exercicios_loops_condicionais.ipynb\" target=\"_parent\"><img src=\"https://colab.research.google.com/assets/colab-badge.svg\" alt=\"Open In Colab\"/></a>"
      ]
    },
    {
      "cell_type": "markdown",
      "metadata": {
        "id": "BV_v77XpFFVp",
        "colab_type": "text"
      },
      "source": [
        "# Exercícios de Loops e Condicionais"
      ]
    },
    {
      "cell_type": "markdown",
      "metadata": {
        "id": "g_NpVgVEFYbt",
        "colab_type": "text"
      },
      "source": [
        "1)  Criar uma estrutura que pergunte ao usuário qual o dia da semana. \n",
        "      Se o dia for igual a domingo ou  igual a sábado, imprima na tela \"Hoje é dia de descanso\", caso contrário imprima na tela \"Você precisa trabalhar!\""
      ]
    },
    {
      "cell_type": "code",
      "metadata": {
        "id": "fTDDGsPaFutM",
        "colab_type": "code",
        "colab": {}
      },
      "source": [
        ""
      ],
      "execution_count": 0,
      "outputs": []
    }
  ]
}