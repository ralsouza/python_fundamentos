{
  "nbformat": 4,
  "nbformat_minor": 0,
  "metadata": {
    "colab": {
      "name": "07_exercicios_loops_condicionais.ipynb",
      "version": "0.3.2",
      "provenance": [],
      "collapsed_sections": [],
      "include_colab_link": true
    },
    "kernelspec": {
      "name": "python3",
      "display_name": "Python 3"
    }
  },
  "cells": [
    {
      "cell_type": "markdown",
      "metadata": {
        "id": "view-in-github",
        "colab_type": "text"
      },
      "source": [
        "<a href=\"https://colab.research.google.com/github/ralsouza/python_fundamentos/blob/master/src/02_loops_condicionais_metodos_funcoes/07_exercicios_loops_condicionais.ipynb\" target=\"_parent\"><img src=\"https://colab.research.google.com/assets/colab-badge.svg\" alt=\"Open In Colab\"/></a>"
      ]
    },
    {
      "cell_type": "markdown",
      "metadata": {
        "id": "BV_v77XpFFVp",
        "colab_type": "text"
      },
      "source": [
        "# Exercícios de Loops e Condicionais"
      ]
    },
    {
      "cell_type": "markdown",
      "metadata": {
        "id": "g_NpVgVEFYbt",
        "colab_type": "text"
      },
      "source": [
        "1)  Criar uma estrutura que pergunte ao usuário qual o dia da semana. \n",
        "      Se o dia for igual a domingo ou  igual a sábado, imprima na tela \"Hoje é dia de descanso\", caso contrário imprima na tela \"Você precisa trabalhar!\""
      ]
    },
    {
      "cell_type": "code",
      "metadata": {
        "id": "fTDDGsPaFutM",
        "colab_type": "code",
        "colab": {
          "base_uri": "https://localhost:8080/",
          "height": 55
        },
        "outputId": "e124b29d-f1e7-4819-d7ba-4d27fb2cf788"
      },
      "source": [
        "dia = input( 'Qual dia da semana é hoje?' )\n",
        "\n",
        "if ( dia == 'sabado' ) or ( dia == 'domingo' ):\n",
        "  print( 'Hoje é dia de descanso.'  )\n",
        "else:\n",
        "  print( 'Hoje é dia de trabalhar!' )"
      ],
      "execution_count": 12,
      "outputs": [
        {
          "output_type": "stream",
          "text": [
            "Qual dia da semana é hoje?Segunda\n",
            "Hoje é dia de trabalhar!\n"
          ],
          "name": "stdout"
        }
      ]
    },
    {
      "cell_type": "markdown",
      "metadata": {
        "id": "MRlqB5X3MpnD",
        "colab_type": "text"
      },
      "source": [
        "2) Criar uma lista de 5 frutas e verifique se a fruta 'Morango' faz parte da lista"
      ]
    },
    {
      "cell_type": "code",
      "metadata": {
        "id": "E--MxJq7MsCY",
        "colab_type": "code",
        "colab": {
          "base_uri": "https://localhost:8080/",
          "height": 68
        },
        "outputId": "e4aeb565-9094-4e48-d729-bb8f41927718"
      },
      "source": [
        "frutas = ['maça','limão','morango','laranja','melancia']\n",
        "\n",
        "for i in frutas:\n",
        "  if (i == 'morango'):\n",
        "    print( 'morango encontrado!' )\n",
        "    break\n",
        "  else:\n",
        "    print( 'Outra fruta' )"
      ],
      "execution_count": 19,
      "outputs": [
        {
          "output_type": "stream",
          "text": [
            "Outra fruta\n",
            "Outra fruta\n",
            "morango encontrado!\n"
          ],
          "name": "stdout"
        }
      ]
    },
    {
      "cell_type": "markdown",
      "metadata": {
        "id": "XgYw2JKUO6ek",
        "colab_type": "text"
      },
      "source": [
        "3) Crie uma tupla de 4 elementos, multiplique cada elemento da tupla por 2 e guarde os resultados em uma lista"
      ]
    },
    {
      "cell_type": "code",
      "metadata": {
        "id": "-zRAt3cXPCpF",
        "colab_type": "code",
        "colab": {
          "base_uri": "https://localhost:8080/",
          "height": 232
        },
        "outputId": "2abc574f-505e-4821-a98c-5db426c7839d"
      },
      "source": [
        "nums = (3,4,2,6)\n",
        "\n",
        "for i in nums:\n",
        "  resultado = nums[i] * 2\n",
        "  print(resultado)"
      ],
      "execution_count": 24,
      "outputs": [
        {
          "output_type": "stream",
          "text": [
            "12\n"
          ],
          "name": "stdout"
        },
        {
          "output_type": "error",
          "ename": "IndexError",
          "evalue": "ignored",
          "traceback": [
            "\u001b[0;31m---------------------------------------------------------------------------\u001b[0m",
            "\u001b[0;31mIndexError\u001b[0m                                Traceback (most recent call last)",
            "\u001b[0;32m<ipython-input-24-83af5e410de7>\u001b[0m in \u001b[0;36m<module>\u001b[0;34m()\u001b[0m\n\u001b[1;32m      2\u001b[0m \u001b[0;34m\u001b[0m\u001b[0m\n\u001b[1;32m      3\u001b[0m \u001b[0;32mfor\u001b[0m \u001b[0mi\u001b[0m \u001b[0;32min\u001b[0m \u001b[0mnums\u001b[0m\u001b[0;34m:\u001b[0m\u001b[0;34m\u001b[0m\u001b[0;34m\u001b[0m\u001b[0m\n\u001b[0;32m----> 4\u001b[0;31m   \u001b[0mresultado\u001b[0m \u001b[0;34m=\u001b[0m \u001b[0mnums\u001b[0m\u001b[0;34m[\u001b[0m\u001b[0mi\u001b[0m\u001b[0;34m]\u001b[0m \u001b[0;34m*\u001b[0m \u001b[0;36m2\u001b[0m\u001b[0;34m\u001b[0m\u001b[0;34m\u001b[0m\u001b[0m\n\u001b[0m\u001b[1;32m      5\u001b[0m   \u001b[0mprint\u001b[0m\u001b[0;34m(\u001b[0m\u001b[0mresultado\u001b[0m\u001b[0;34m)\u001b[0m\u001b[0;34m\u001b[0m\u001b[0;34m\u001b[0m\u001b[0m\n",
            "\u001b[0;31mIndexError\u001b[0m: tuple index out of range"
          ]
        }
      ]
    },
    {
      "cell_type": "code",
      "metadata": {
        "id": "hdOMWhWxQPYb",
        "colab_type": "code",
        "colab": {}
      },
      "source": [
        ""
      ],
      "execution_count": 0,
      "outputs": []
    }
  ]
}