{
  "nbformat": 4,
  "nbformat_minor": 0,
  "metadata": {
    "colab": {
      "name": "07_exercicios_loops_condicionais.ipynb",
      "version": "0.3.2",
      "provenance": [],
      "collapsed_sections": [],
      "include_colab_link": true
    },
    "kernelspec": {
      "name": "python3",
      "display_name": "Python 3"
    }
  },
  "cells": [
    {
      "cell_type": "markdown",
      "metadata": {
        "id": "view-in-github",
        "colab_type": "text"
      },
      "source": [
        "<a href=\"https://colab.research.google.com/github/ralsouza/python_fundamentos/blob/master/src/02_loops_condicionais_metodos_funcoes/07_exercicios_loops_condicionais.ipynb\" target=\"_parent\"><img src=\"https://colab.research.google.com/assets/colab-badge.svg\" alt=\"Open In Colab\"/></a>"
      ]
    },
    {
      "cell_type": "markdown",
      "metadata": {
        "colab_type": "text",
        "id": "Vp_7cnjDRmKB"
      },
      "source": [
        "6) Crie uma lista vazia e uma variável com valor 4. Enquanto o valor da variável for menor ou igual a 20, adicione à lista, apenas os valores pares e imprima a lista"
      ]
    },
    {
      "cell_type": "markdown",
      "metadata": {
        "id": "BV_v77XpFFVp",
        "colab_type": "text"
      },
      "source": [
        "# Exercícios de Loops e Condicionais"
      ]
    },
    {
      "cell_type": "markdown",
      "metadata": {
        "id": "g_NpVgVEFYbt",
        "colab_type": "text"
      },
      "source": [
        "1)  Criar uma estrutura que pergunte ao usuário qual o dia da semana. \n",
        "      Se o dia for igual a domingo ou  igual a sábado, imprima na tela \"Hoje é dia de descanso\", caso contrário imprima na tela \"Você precisa trabalhar!\""
      ]
    },
    {
      "cell_type": "code",
      "metadata": {
        "id": "fTDDGsPaFutM",
        "colab_type": "code",
        "outputId": "e124b29d-f1e7-4819-d7ba-4d27fb2cf788",
        "colab": {
          "base_uri": "https://localhost:8080/",
          "height": 55
        }
      },
      "source": [
        "dia = input( 'Qual dia da semana é hoje?' )\n",
        "\n",
        "if ( dia == 'sabado' ) or ( dia == 'domingo' ):\n",
        "  print( 'Hoje é dia de descanso.'  )\n",
        "else:\n",
        "  print( 'Hoje é dia de trabalhar!' )"
      ],
      "execution_count": 0,
      "outputs": [
        {
          "output_type": "stream",
          "text": [
            "Qual dia da semana é hoje?Segunda\n",
            "Hoje é dia de trabalhar!\n"
          ],
          "name": "stdout"
        }
      ]
    },
    {
      "cell_type": "markdown",
      "metadata": {
        "id": "MRlqB5X3MpnD",
        "colab_type": "text"
      },
      "source": [
        "2) Criar uma lista de 5 frutas e verifique se a fruta 'Morango' faz parte da lista"
      ]
    },
    {
      "cell_type": "code",
      "metadata": {
        "id": "E--MxJq7MsCY",
        "colab_type": "code",
        "outputId": "88dbf5c9-a353-4b83-8683-3ebcaccb7f56",
        "colab": {
          "base_uri": "https://localhost:8080/",
          "height": 68
        }
      },
      "source": [
        "# Opção 1\n",
        "\n",
        "frutas = ['maça','limão','morango','laranja','melancia']\n",
        "\n",
        "for i in frutas:\n",
        "  if (i == 'morango'):\n",
        "    print( 'morango encontrado!' )\n",
        "    break\n",
        "  else:\n",
        "    print( 'Outra fruta' )"
      ],
      "execution_count": 45,
      "outputs": [
        {
          "output_type": "stream",
          "text": [
            "Outra fruta\n",
            "Outra fruta\n",
            "morango encontrado!\n"
          ],
          "name": "stdout"
        }
      ]
    },
    {
      "cell_type": "code",
      "metadata": {
        "id": "7nhuZrJ6DqOs",
        "colab_type": "code",
        "colab": {
          "base_uri": "https://localhost:8080/",
          "height": 34
        },
        "outputId": "042e08b2-6d20-4eb4-c0d7-7ccadfaaea65"
      },
      "source": [
        "# Opção 2 - Melhor\n",
        "\n",
        "frutas = ['maça','limão','morango','laranja','melancia']\n",
        "\n",
        "if ( 'morango' in frutas ):\n",
        "  print ( 'Fruta encontrada' )\n",
        "else: \n",
        "  print ( 'Fruta não encontrada' )\n",
        "\n"
      ],
      "execution_count": 54,
      "outputs": [
        {
          "output_type": "stream",
          "text": [
            "Fruta encontrada\n"
          ],
          "name": "stdout"
        }
      ]
    },
    {
      "cell_type": "markdown",
      "metadata": {
        "id": "XgYw2JKUO6ek",
        "colab_type": "text"
      },
      "source": [
        "3) Criar uma tupla de 4 elementos, multiplique cada elemento da tupla por 2 e guarde os resultados em uma lista"
      ]
    },
    {
      "cell_type": "code",
      "metadata": {
        "id": "-zRAt3cXPCpF",
        "colab_type": "code",
        "outputId": "11103a92-dce7-4c40-c4f1-5a8f29274da2",
        "colab": {
          "base_uri": "https://localhost:8080/",
          "height": 34
        }
      },
      "source": [
        "nums = (3,4,2,6)\n",
        "resultado = []\n",
        "\n",
        "for i in nums:\n",
        "  resultado.append(i * 2)\n",
        "  \n",
        "print(resultado)"
      ],
      "execution_count": 30,
      "outputs": [
        {
          "output_type": "stream",
          "text": [
            "[6, 8, 4, 12]\n"
          ],
          "name": "stdout"
        }
      ]
    },
    {
      "cell_type": "markdown",
      "metadata": {
        "id": "Qzm9xOaT_Duw",
        "colab_type": "text"
      },
      "source": [
        "4) Criar uma sequência de números pares entre 100 e 150 e imprima na tela"
      ]
    },
    {
      "cell_type": "code",
      "metadata": {
        "id": "MW7nwKoU_KeT",
        "colab_type": "code",
        "colab": {}
      },
      "source": [
        "for i in range (100, 150, 2):\n",
        "  print (i)"
      ],
      "execution_count": 0,
      "outputs": []
    },
    {
      "cell_type": "markdown",
      "metadata": {
        "id": "oHdbJzLlBJFg",
        "colab_type": "text"
      },
      "source": [
        "5) Criar uma variável chamada temperatura e atribuir o valor 40. Enquanto temperatura for maior que 35, \n",
        "imprima as temperaturas na tela"
      ]
    },
    {
      "cell_type": "code",
      "metadata": {
        "id": "BWfg6_lfBN3z",
        "colab_type": "code",
        "colab": {
          "base_uri": "https://localhost:8080/",
          "height": 102
        },
        "outputId": "cc85e1f9-8dab-443c-a491-4c959627d365"
      },
      "source": [
        "temperatura = 40\n",
        "\n",
        "while ( temperatura > 35 ):\n",
        "  print ('A temperatura é %d' %(temperatura))\n",
        "  temperatura -= 1"
      ],
      "execution_count": 61,
      "outputs": [
        {
          "output_type": "stream",
          "text": [
            "A temperatura é 40\n",
            "A temperatura é 39\n",
            "A temperatura é 38\n",
            "A temperatura é 37\n",
            "A temperatura é 36\n"
          ],
          "name": "stdout"
        }
      ]
    },
    {
      "cell_type": "markdown",
      "metadata": {
        "id": "gewdbwaJJMYQ",
        "colab_type": "text"
      },
      "source": [
        "6) Crie uma variável chamada contador = 0. Enquanto counter for menor que 100, imprima os valores na tela, mas quando for encontrado o valor 23, interrompa a execução do programa"
      ]
    },
    {
      "cell_type": "code",
      "metadata": {
        "id": "NAsD49DUJRcG",
        "colab_type": "code",
        "colab": {}
      },
      "source": [
        "# Opção 1\n",
        "\n",
        "contador = 0\n",
        "\n",
        "while ( contador < 100 ): \n",
        "  \n",
        "  if ( contador == 23 ):\n",
        "    break\n",
        "  else:\n",
        "    print ( contador )\n",
        "  \n",
        "  contador += 1\n",
        "  "
      ],
      "execution_count": 0,
      "outputs": []
    },
    {
      "cell_type": "code",
      "metadata": {
        "colab_type": "code",
        "outputId": "373d7e81-9426-45b4-ea97-64bced6e5df2",
        "id": "Njj8io2iRmDO",
        "colab": {
          "base_uri": "https://localhost:8080/",
          "height": 408
        }
      },
      "source": [
        "# Opção 2 - Fugindo um pouco do enunciado, pois foi solicitado para o loop rodar enquanto o contador for menor que 100\n",
        "\n",
        "contador = 0\n",
        "\n",
        "while ( True ):\n",
        "  \n",
        "  if ( contador == 23 ): \n",
        "    break\n",
        "  else: \n",
        "    print ( contador )\n",
        "      \n",
        "  contador += 1"
      ],
      "execution_count": 9,
      "outputs": [
        {
          "output_type": "stream",
          "text": [
            "0\n",
            "1\n",
            "2\n",
            "3\n",
            "4\n",
            "5\n",
            "6\n",
            "7\n",
            "8\n",
            "9\n",
            "10\n",
            "11\n",
            "12\n",
            "13\n",
            "14\n",
            "15\n",
            "16\n",
            "17\n",
            "18\n",
            "19\n",
            "20\n",
            "21\n",
            "22\n"
          ],
          "name": "stdout"
        }
      ]
    },
    {
      "cell_type": "markdown",
      "metadata": {
        "id": "DI-fnWLYSMMi",
        "colab_type": "text"
      },
      "source": [
        "7) Crie uma lista vazia e uma variável com valor 4. Enquanto o valor da variável for menor ou igual a 20, adicione à lista, apenas os valores pares e imprima a lista"
      ]
    },
    {
      "cell_type": "code",
      "metadata": {
        "id": "5gkEYWN8SRq7",
        "colab_type": "code",
        "colab": {
          "base_uri": "https://localhost:8080/",
          "height": 34
        },
        "outputId": "d6ce7be7-d423-4d29-bd76-f2b25691a0b5"
      },
      "source": [
        "lista = []\n",
        "myVar = 4\n",
        "\n",
        "while ( myVar <= 20 ):\n",
        "  \n",
        "  if ( myVar % 2 == 0 ):\n",
        "    lista.append(myVar)\n",
        "  \n",
        "  myVar += 1\n",
        "  \n",
        "print(lista)"
      ],
      "execution_count": 16,
      "outputs": [
        {
          "output_type": "stream",
          "text": [
            "[4, 6, 8, 10, 12, 14, 16, 18]\n"
          ],
          "name": "stdout"
        }
      ]
    },
    {
      "cell_type": "markdown",
      "metadata": {
        "id": "RmnzL-IzVEQA",
        "colab_type": "text"
      },
      "source": [
        "8) Transforme o resultado desta função range em uma lista:  ```range(5, 45, 2)```"
      ]
    },
    {
      "cell_type": "code",
      "metadata": {
        "id": "X2MiZSEAVE6O",
        "colab_type": "code",
        "colab": {
          "base_uri": "https://localhost:8080/",
          "height": 34
        },
        "outputId": "f05813fa-571b-45de-d18e-0c842b0bdc2c"
      },
      "source": [
        "list( range( 5, 45, 2 ) )"
      ],
      "execution_count": 18,
      "outputs": [
        {
          "output_type": "execute_result",
          "data": {
            "text/plain": [
              "[5, 7, 9, 11, 13, 15, 17, 19, 21, 23, 25, 27, 29, 31, 33, 35, 37, 39, 41, 43]"
            ]
          },
          "metadata": {
            "tags": []
          },
          "execution_count": 18
        }
      ]
    },
    {
      "cell_type": "markdown",
      "metadata": {
        "id": "j84g-jR-WjtX",
        "colab_type": "text"
      },
      "source": [
        "9) Faça a correção dos erros no código abaixo e execute o programa. Dica: são 3 erros:\n",
        "\n",
        "```\n",
        "temperatura = float(input('Qual a temperatura? '))\n",
        "if temperatura > 30\n",
        "print('Vista roupas leves.')\n",
        "else\n",
        "    print('Busque seus casacos.')\n",
        "```\n",
        "\n"
      ]
    },
    {
      "cell_type": "code",
      "metadata": {
        "id": "L0i4WLfsW7cT",
        "colab_type": "code",
        "colab": {
          "base_uri": "https://localhost:8080/",
          "height": 55
        },
        "outputId": "5e320dd3-a613-4cfa-c47c-09ea8267f78f"
      },
      "source": [
        "temperatura = float(input('Qual a temperatura? '))\n",
        "\n",
        "if ( temperatura > 30 ):\n",
        "  print('Vista roupas leves.')\n",
        "else:\n",
        "    print('Busque seus casacos.')"
      ],
      "execution_count": 22,
      "outputs": [
        {
          "output_type": "stream",
          "text": [
            "Qual a temperatura? 34\n",
            "Vista roupas leves.\n"
          ],
          "name": "stdout"
        }
      ]
    },
    {
      "cell_type": "markdown",
      "metadata": {
        "id": "kc-VFHt2XTPL",
        "colab_type": "text"
      },
      "source": [
        "9) Faça um programa que conte quantas vezes a letra \"r\" aparece na frase abaixo. Use um placeholder na sua instrução de impressão\n",
        "\n",
        " “É melhor, muito melhor, contentar-se com a realidade; se ela não é tão brilhante como os sonhos, tem pelo menos a vantagem de existir.” (Machado de Assis)`\n",
        "\n",
        "```frase = \"É melhor, muito melhor, contentar-se com a realidade; se ela não é tão brilhante como os sonhos, tem pelo menos a vantagem de existir.\"```"
      ]
    },
    {
      "cell_type": "code",
      "metadata": {
        "id": "BWshRKMHX473",
        "colab_type": "code",
        "colab": {
          "base_uri": "https://localhost:8080/",
          "height": 34
        },
        "outputId": "9f34c140-5454-4778-9aaf-f2d66797a82a"
      },
      "source": [
        "frase = \"É melhor, muito melhor, contentar-se com a realidade; se ela não é tão brilhante como os sonhos, tem pelo menos a vantagem de existir.\"\n",
        "\n",
        "print('A letra r aparece %d vezes' %(frase.count('r')))"
      ],
      "execution_count": 28,
      "outputs": [
        {
          "output_type": "stream",
          "text": [
            "A letra r aparece 6 vezes\n"
          ],
          "name": "stdout"
        }
      ]
    }
  ]
}