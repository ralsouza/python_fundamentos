{
  "nbformat": 4,
  "nbformat_minor": 0,
  "metadata": {
    "colab": {
      "name": "09_funcoes_pt01.ipynb",
      "version": "0.3.2",
      "provenance": [],
      "collapsed_sections": [],
      "include_colab_link": true
    },
    "kernelspec": {
      "name": "python3",
      "display_name": "Python 3"
    }
  },
  "cells": [
    {
      "cell_type": "markdown",
      "metadata": {
        "id": "view-in-github",
        "colab_type": "text"
      },
      "source": [
        "<a href=\"https://colab.research.google.com/github/ralsouza/python_fundamentos/blob/master/src/02_loops_condicionais_metodos_funcoes/09_funcoes_pt01.ipynb\" target=\"_parent\"><img src=\"https://colab.research.google.com/assets/colab-badge.svg\" alt=\"Open In Colab\"/></a>"
      ]
    },
    {
      "cell_type": "markdown",
      "metadata": {
        "id": "HBtU0PGU_UEo",
        "colab_type": "text"
      },
      "source": [
        "# Funções"
      ]
    },
    {
      "cell_type": "code",
      "metadata": {
        "id": "__3FWudb_SAS",
        "colab_type": "code",
        "colab": {}
      },
      "source": [
        "# Criar uma função simples\n",
        "def primeiraFunc():\n",
        "  print('Hello World')"
      ],
      "execution_count": 0,
      "outputs": []
    },
    {
      "cell_type": "code",
      "metadata": {
        "id": "-J-ZmlyoBUed",
        "colab_type": "code",
        "colab": {
          "base_uri": "https://localhost:8080/",
          "height": 34
        },
        "outputId": "594cbbb0-d785-410b-d8a8-19f679cfa4cd"
      },
      "source": [
        "primeiraFunc()"
      ],
      "execution_count": 17,
      "outputs": [
        {
          "output_type": "stream",
          "text": [
            "Hello World\n"
          ],
          "name": "stdout"
        }
      ]
    },
    {
      "cell_type": "code",
      "metadata": {
        "id": "0tXaFrusBXDJ",
        "colab_type": "code",
        "colab": {}
      },
      "source": [
        "# Criar uma função que recebe um nome e imprime este nome junto a uma frase\n",
        "def primeiraFunc(nome):\n",
        "  print('Hello %s' %(nome))"
      ],
      "execution_count": 0,
      "outputs": []
    },
    {
      "cell_type": "code",
      "metadata": {
        "id": "wtHg9ew9Cj1u",
        "colab_type": "code",
        "colab": {
          "base_uri": "https://localhost:8080/",
          "height": 34
        },
        "outputId": "da793d7f-6ccd-4a86-c552-4e6f5eaf524c"
      },
      "source": [
        "primeiraFunc('Rafael')"
      ],
      "execution_count": 22,
      "outputs": [
        {
          "output_type": "stream",
          "text": [
            "Hello Rafael\n"
          ],
          "name": "stdout"
        }
      ]
    },
    {
      "cell_type": "code",
      "metadata": {
        "id": "Kyfw7h07DC9h",
        "colab_type": "code",
        "colab": {}
      },
      "source": [
        "# Criar uma função que imprima a frase 'Número [numero]' de um à cinco\n",
        "def funcLeitura():\n",
        "  for i in range(0,5):\n",
        "    print('Número {}'.format(i))"
      ],
      "execution_count": 0,
      "outputs": []
    },
    {
      "cell_type": "code",
      "metadata": {
        "id": "MWVlgIzHEJpP",
        "colab_type": "code",
        "colab": {
          "base_uri": "https://localhost:8080/",
          "height": 102
        },
        "outputId": "7279c824-b978-4413-fa4f-29db169ba8e0"
      },
      "source": [
        "funcLeitura()"
      ],
      "execution_count": 35,
      "outputs": [
        {
          "output_type": "stream",
          "text": [
            "Número 0\n",
            "Número 1\n",
            "Número 2\n",
            "Número 3\n",
            "Número 4\n"
          ],
          "name": "stdout"
        }
      ]
    },
    {
      "cell_type": "code",
      "metadata": {
        "id": "nPjmT5T4ETp_",
        "colab_type": "code",
        "colab": {}
      },
      "source": [
        "# Criar uma função que receba dois números, imprima cada um deles e então imprima a soma dos dois\n",
        "def sumNums(firstNum, secondNum):\n",
        "  print('Primeiro número {}'.format(firstNum))\n",
        "  print('Segundo número {}'.format(secondNum))\n",
        "  print('A soma dos números é {}'.format(firstNum + secondNum))"
      ],
      "execution_count": 0,
      "outputs": []
    },
    {
      "cell_type": "code",
      "metadata": {
        "id": "6aBCyZYpKKAp",
        "colab_type": "code",
        "colab": {
          "base_uri": "https://localhost:8080/",
          "height": 68
        },
        "outputId": "39f20d9d-3f1f-4bef-9246-5f8f37511d9e"
      },
      "source": [
        "sumNums(45,5)"
      ],
      "execution_count": 37,
      "outputs": [
        {
          "output_type": "stream",
          "text": [
            "Primeiro número 45\n",
            "Segundo número 5\n",
            "A soma dos números é 50\n"
          ],
          "name": "stdout"
        }
      ]
    },
    {
      "cell_type": "markdown",
      "metadata": {
        "id": "_bMsJEyuK7zY",
        "colab_type": "text"
      },
      "source": [
        "# Conceitos de Variáveis Globais e Locais"
      ]
    },
    {
      "cell_type": "code",
      "metadata": {
        "id": "6KEPdKVRKNrH",
        "colab_type": "code",
        "colab": {}
      },
      "source": [
        "var_global = 10 # Esta é uma variável global\n",
        "\n",
        "def multiply(num1, num2):\n",
        "  # No contexto local a variável não pode ser vista fora da função\n",
        "  var_local = num1 * num2 \n",
        "  print(var_local)"
      ],
      "execution_count": 0,
      "outputs": []
    },
    {
      "cell_type": "code",
      "metadata": {
        "id": "Ev_kLssYLkEG",
        "colab_type": "code",
        "colab": {
          "base_uri": "https://localhost:8080/",
          "height": 34
        },
        "outputId": "10127447-c1c1-4462-e0db-8e48938d79f2"
      },
      "source": [
        "multiply(25,5)"
      ],
      "execution_count": 43,
      "outputs": [
        {
          "output_type": "stream",
          "text": [
            "125\n"
          ],
          "name": "stdout"
        }
      ]
    },
    {
      "cell_type": "code",
      "metadata": {
        "id": "CKtAq6HTLm-8",
        "colab_type": "code",
        "colab": {
          "base_uri": "https://localhost:8080/",
          "height": 164
        },
        "outputId": "f6346a2e-4b21-4524-e335-1956ded3a743"
      },
      "source": [
        "# Impressão da variável var_local, ocorrerá um erro, pois ela não pode ser usada fora da função\n",
        "print(var_local)"
      ],
      "execution_count": 44,
      "outputs": [
        {
          "output_type": "error",
          "ename": "NameError",
          "evalue": "ignored",
          "traceback": [
            "\u001b[0;31m---------------------------------------------------------------------------\u001b[0m",
            "\u001b[0;31mNameError\u001b[0m                                 Traceback (most recent call last)",
            "\u001b[0;32m<ipython-input-44-0a9f1c3cecf1>\u001b[0m in \u001b[0;36m<module>\u001b[0;34m()\u001b[0m\n\u001b[0;32m----> 1\u001b[0;31m \u001b[0mprint\u001b[0m\u001b[0;34m(\u001b[0m\u001b[0mvar_local\u001b[0m\u001b[0;34m)\u001b[0m\u001b[0;34m\u001b[0m\u001b[0;34m\u001b[0m\u001b[0m\n\u001b[0m",
            "\u001b[0;31mNameError\u001b[0m: name 'var_local' is not defined"
          ]
        }
      ]
    },
    {
      "cell_type": "markdown",
      "metadata": {
        "id": "gSpRD0y_1sSC",
        "colab_type": "text"
      },
      "source": [
        "## Criação de funções usando outras funções"
      ]
    },
    {
      "cell_type": "code",
      "metadata": {
        "id": "SnlQfplOLtoC",
        "colab_type": "code",
        "colab": {}
      },
      "source": [
        "import math\n",
        "\n",
        "def numPrimo(num):\n",
        "  ''' Função para checar se o número é primo. '''\n",
        "  if (num % 2 == 0) and (num > 2):\n",
        "    return 'Este número não é primo'\n",
        "  for i in range(3, int(math.sqrt(num)) + 1, 2):\n",
        "    if (num % i) == 0:\n",
        "      return 'Este número não é primo'\n",
        "  \n",
        "  return 'Este número é primo'"
      ],
      "execution_count": 0,
      "outputs": []
    },
    {
      "cell_type": "code",
      "metadata": {
        "id": "rM5YZOTo4XIo",
        "colab_type": "code",
        "colab": {
          "base_uri": "https://localhost:8080/",
          "height": 34
        },
        "outputId": "458a002d-274a-48ed-c182-be9c4f5282be"
      },
      "source": [
        "numPrimo(451)"
      ],
      "execution_count": 46,
      "outputs": [
        {
          "output_type": "execute_result",
          "data": {
            "text/plain": [
              "'Este número não é primo'"
            ]
          },
          "metadata": {
            "tags": []
          },
          "execution_count": 46
        }
      ]
    },
    {
      "cell_type": "code",
      "metadata": {
        "id": "GexAfYfU4aew",
        "colab_type": "code",
        "colab": {
          "base_uri": "https://localhost:8080/",
          "height": 34
        },
        "outputId": "82216d95-4e92-414e-e9ad-bc9748ab7f62"
      },
      "source": [
        "numPrimo(541)"
      ],
      "execution_count": 47,
      "outputs": [
        {
          "output_type": "execute_result",
          "data": {
            "text/plain": [
              "'Este número é primo'"
            ]
          },
          "metadata": {
            "tags": []
          },
          "execution_count": 47
        }
      ]
    },
    {
      "cell_type": "code",
      "metadata": {
        "id": "2KStr0lv4eji",
        "colab_type": "code",
        "colab": {}
      },
      "source": [
        "# Fazer um split dos dados\n",
        "def split_string(text):\n",
        "  return text.split(' ')"
      ],
      "execution_count": 0,
      "outputs": []
    },
    {
      "cell_type": "code",
      "metadata": {
        "id": "EJyXGvov8jUi",
        "colab_type": "code",
        "colab": {}
      },
      "source": [
        "texto = 'Esta é uma função bastante útil para separar grandes volumes de dados'"
      ],
      "execution_count": 0,
      "outputs": []
    },
    {
      "cell_type": "code",
      "metadata": {
        "id": "ZE4NPTT88sJK",
        "colab_type": "code",
        "colab": {
          "base_uri": "https://localhost:8080/",
          "height": 34
        },
        "outputId": "5bd916a8-eaff-471f-c3ba-78a11faca746"
      },
      "source": [
        "print(split_string(texto))"
      ],
      "execution_count": 51,
      "outputs": [
        {
          "output_type": "stream",
          "text": [
            "['Esta', 'é', 'uma', 'função', 'bastante', 'útil', 'para', 'separar', 'grandes', 'volumes', 'de', 'dados']\n"
          ],
          "name": "stdout"
        }
      ]
    },
    {
      "cell_type": "code",
      "metadata": {
        "id": "htHOjKWy8uRy",
        "colab_type": "code",
        "colab": {
          "base_uri": "https://localhost:8080/",
          "height": 34
        },
        "outputId": "69f0fd3e-c236-4c06-bc28-4c1632f42c9e"
      },
      "source": [
        "# É possível atribuir a saída acima em uma variável\n",
        "token = split_string(texto)\n",
        "\n",
        "print(token)"
      ],
      "execution_count": 52,
      "outputs": [
        {
          "output_type": "stream",
          "text": [
            "['Esta', 'é', 'uma', 'função', 'bastante', 'útil', 'para', 'separar', 'grandes', 'volumes', 'de', 'dados']\n"
          ],
          "name": "stdout"
        }
      ]
    },
    {
      "cell_type": "code",
      "metadata": {
        "id": "TZnYoVMB9HOh",
        "colab_type": "code",
        "colab": {}
      },
      "source": [
        "# Converter palavras para lower case\n",
        "def lowercase(texto):\n",
        "    return texto.lower()"
      ],
      "execution_count": 0,
      "outputs": []
    },
    {
      "cell_type": "code",
      "metadata": {
        "id": "grFH48CK9esT",
        "colab_type": "code",
        "colab": {}
      },
      "source": [
        "caixa_alta = 'Este Texto Deveria estar todo em LowerCase'"
      ],
      "execution_count": 0,
      "outputs": []
    },
    {
      "cell_type": "code",
      "metadata": {
        "id": "zqrs7mKe9o-k",
        "colab_type": "code",
        "colab": {}
      },
      "source": [
        "lowercase_string = lowercase(caixa_alta)"
      ],
      "execution_count": 0,
      "outputs": []
    },
    {
      "cell_type": "code",
      "metadata": {
        "id": "_N7DKffa9xA6",
        "colab_type": "code",
        "colab": {
          "base_uri": "https://localhost:8080/",
          "height": 34
        },
        "outputId": "905a4ccf-4a79-4b4c-c5ae-47b4af62c062"
      },
      "source": [
        "print(lowercase_string)"
      ],
      "execution_count": 58,
      "outputs": [
        {
          "output_type": "stream",
          "text": [
            "este texto deveria estar todo em lowercase\n"
          ],
          "name": "stdout"
        }
      ]
    },
    {
      "cell_type": "markdown",
      "metadata": {
        "id": "NvWyh36E-Mar",
        "colab_type": "text"
      },
      "source": [
        "## Definir vários argumentos de entrada na função"
      ]
    },
    {
      "cell_type": "code",
      "metadata": {
        "id": "fFJ10HQ195E1",
        "colab_type": "code",
        "colab": {}
      },
      "source": [
        "def printVarInfo(arg1, *vartuple):\n",
        "  ''' Impressão do primeiro argumento. '''\n",
        "  print('O parâmetro passado foi: {}'.format(arg1))\n",
        "  \n",
        "  ''' Impressão do segundo argumento '''\n",
        "  for i in vartuple:\n",
        "    print('O parâmetro passado foi: {}'.format(vartuple))\n",
        "  return;"
      ],
      "execution_count": 0,
      "outputs": []
    },
    {
      "cell_type": "code",
      "metadata": {
        "id": "23-Fdj6b_KLY",
        "colab_type": "code",
        "colab": {
          "base_uri": "https://localhost:8080/",
          "height": 34
        },
        "outputId": "7dfadee9-ba2e-4349-b5f9-393de49dcfa2"
      },
      "source": [
        "# Invocar a função com um argumento\n",
        "printVarInfo(10)"
      ],
      "execution_count": 60,
      "outputs": [
        {
          "output_type": "stream",
          "text": [
            "O primeiro parâmetro passado foi: 10\n"
          ],
          "name": "stdout"
        }
      ]
    },
    {
      "cell_type": "code",
      "metadata": {
        "id": "vv-7rE5__mUi",
        "colab_type": "code",
        "colab": {
          "base_uri": "https://localhost:8080/",
          "height": 68
        },
        "outputId": "5a53a71f-0fe3-412a-c75a-9def4cdb19f8"
      },
      "source": [
        "# Invocar a função com dois argumentos\n",
        "printVarInfo('morango','uva','melão')"
      ],
      "execution_count": 63,
      "outputs": [
        {
          "output_type": "stream",
          "text": [
            "O parâmetro passado foi: morango\n",
            "O parâmetro passado foi: ('uva', 'melão')\n",
            "O parâmetro passado foi: ('uva', 'melão')\n"
          ],
          "name": "stdout"
        }
      ]
    }
  ]
}