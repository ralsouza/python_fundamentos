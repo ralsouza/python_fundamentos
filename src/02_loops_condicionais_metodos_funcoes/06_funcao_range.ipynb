{
  "nbformat": 4,
  "nbformat_minor": 0,
  "metadata": {
    "colab": {
      "name": "06_funcao_range.ipynb",
      "version": "0.3.2",
      "provenance": [],
      "include_colab_link": true
    },
    "kernelspec": {
      "name": "python3",
      "display_name": "Python 3"
    }
  },
  "cells": [
    {
      "cell_type": "markdown",
      "metadata": {
        "id": "view-in-github",
        "colab_type": "text"
      },
      "source": [
        "<a href=\"https://colab.research.google.com/github/ralsouza/python_fundamentos/blob/master/src/02_loops_condicionais_metodos_funcoes/06_funcao_range.ipynb\" target=\"_parent\"><img src=\"https://colab.research.google.com/assets/colab-badge.svg\" alt=\"Open In Colab\"/></a>"
      ]
    },
    {
      "cell_type": "code",
      "metadata": {
        "id": "oGQPH98n9Bai",
        "colab_type": "code",
        "colab": {}
      },
      "source": [
        ""
      ],
      "execution_count": 0,
      "outputs": []
    },
    {
      "cell_type": "markdown",
      "metadata": {
        "id": "avqAMqR-9NZg",
        "colab_type": "text"
      },
      "source": [
        "# Range"
      ]
    },
    {
      "cell_type": "markdown",
      "metadata": {
        "id": "DltzBQp59Shp",
        "colab_type": "text"
      },
      "source": [
        "Imprimir os números pares entre 50 e 101. \n",
        "\n",
        "Usar a técnica da função range que executa saltos entre os números."
      ]
    },
    {
      "cell_type": "code",
      "metadata": {
        "id": "519EGuKZ9Yux",
        "colab_type": "code",
        "colab": {
          "base_uri": "https://localhost:8080/",
          "height": 459
        },
        "outputId": "8983e725-52df-4a87-c5d5-047633cc6978"
      },
      "source": [
        "for i in range(50,101,2):\n",
        "  print(i)\n",
        "  "
      ],
      "execution_count": 1,
      "outputs": [
        {
          "output_type": "stream",
          "text": [
            "50\n",
            "52\n",
            "54\n",
            "56\n",
            "58\n",
            "60\n",
            "62\n",
            "64\n",
            "66\n",
            "68\n",
            "70\n",
            "72\n",
            "74\n",
            "76\n",
            "78\n",
            "80\n",
            "82\n",
            "84\n",
            "86\n",
            "88\n",
            "90\n",
            "92\n",
            "94\n",
            "96\n",
            "98\n",
            "100\n"
          ],
          "name": "stdout"
        }
      ]
    },
    {
      "cell_type": "markdown",
      "metadata": {
        "id": "RUiVdmQt-Tsr",
        "colab_type": "text"
      },
      "source": [
        "Imprimir de 3 à 6, lembrando que o último número é exclusivo."
      ]
    },
    {
      "cell_type": "code",
      "metadata": {
        "id": "EM2feKIm-ZZ5",
        "colab_type": "code",
        "colab": {
          "base_uri": "https://localhost:8080/",
          "height": 68
        },
        "outputId": "4f77c2cb-c792-46cd-ca41-384b412f4e46"
      },
      "source": [
        "for i in range(3,6):\n",
        "  print(i)"
      ],
      "execution_count": 2,
      "outputs": [
        {
          "output_type": "stream",
          "text": [
            "3\n",
            "4\n",
            "5\n"
          ],
          "name": "stdout"
        }
      ]
    },
    {
      "cell_type": "markdown",
      "metadata": {
        "id": "GPHvNIqc-n1P",
        "colab_type": "text"
      },
      "source": [
        "Gerar uma lista negativa, iniciando de 0 até -20, saltando de dois em dois números.\n",
        "Lembrando novamente que o valor máximo é exclusivo."
      ]
    },
    {
      "cell_type": "code",
      "metadata": {
        "id": "P6sGgvi6-v_Q",
        "colab_type": "code",
        "colab": {
          "base_uri": "https://localhost:8080/",
          "height": 187
        },
        "outputId": "a35358b4-8fb0-405e-d6db-e138852416df"
      },
      "source": [
        "for i in range(0,-20,-2):\n",
        "  print(i)"
      ],
      "execution_count": 3,
      "outputs": [
        {
          "output_type": "stream",
          "text": [
            "0\n",
            "-2\n",
            "-4\n",
            "-6\n",
            "-8\n",
            "-10\n",
            "-12\n",
            "-14\n",
            "-16\n",
            "-18\n"
          ],
          "name": "stdout"
        }
      ]
    },
    {
      "cell_type": "markdown",
      "metadata": {
        "id": "uF7qgiNx_jdw",
        "colab_type": "text"
      },
      "source": [
        "Configurar o valor máximo do range, conforme o tamanho de um objeto em um loop for."
      ]
    },
    {
      "cell_type": "code",
      "metadata": {
        "id": "Cq2rf0YZ-3P9",
        "colab_type": "code",
        "colab": {
          "base_uri": "https://localhost:8080/",
          "height": 85
        },
        "outputId": "e96e6b48-fa7b-48cd-f260-7a4e1364ef85"
      },
      "source": [
        "lista = ['morango','abacaxi','banana','melão']\n",
        "\n",
        "for i in range(0, len(lista)):\n",
        "  print(lista[i])"
      ],
      "execution_count": 5,
      "outputs": [
        {
          "output_type": "stream",
          "text": [
            "morango\n",
            "abacaxi\n",
            "banana\n",
            "melão\n"
          ],
          "name": "stdout"
        }
      ]
    },
    {
      "cell_type": "code",
      "metadata": {
        "id": "Je76t_EsAij8",
        "colab_type": "code",
        "colab": {
          "base_uri": "https://localhost:8080/",
          "height": 34
        },
        "outputId": "6d379a1d-3dc4-43a0-b541-0be403e4bc2b"
      },
      "source": [
        "# Checar o tipo do objeto range\n",
        "type(range(0,5))"
      ],
      "execution_count": 6,
      "outputs": [
        {
          "output_type": "execute_result",
          "data": {
            "text/plain": [
              "range"
            ]
          },
          "metadata": {
            "tags": []
          },
          "execution_count": 6
        }
      ]
    },
    {
      "cell_type": "code",
      "metadata": {
        "id": "JUgzqKYNApbv",
        "colab_type": "code",
        "colab": {}
      },
      "source": [
        ""
      ],
      "execution_count": 0,
      "outputs": []
    }
  ]
}