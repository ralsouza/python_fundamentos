{
  "nbformat": 4,
  "nbformat_minor": 0,
  "metadata": {
    "colab": {
      "name": "02_missao2.ipynb",
      "provenance": [],
      "collapsed_sections": [],
      "include_colab_link": true
    },
    "kernelspec": {
      "name": "python3",
      "display_name": "Python 3"
    }
  },
  "cells": [
    {
      "cell_type": "markdown",
      "metadata": {
        "id": "view-in-github",
        "colab_type": "text"
      },
      "source": [
        "<a href=\"https://colab.research.google.com/github/ralsouza/python_fundamentos/blob/master/src/05desafio/02_missao2.ipynb\" target=\"_parent\"><img src=\"https://colab.research.google.com/assets/colab-badge.svg\" alt=\"Open In Colab\"/></a>"
      ]
    },
    {
      "cell_type": "markdown",
      "metadata": {
        "id": "0y0LGr62LcPE",
        "colab_type": "text"
      },
      "source": [
        "## Missão: Gerar uma lista de números primos.\n",
        "## Nível de Dificuldade: Médio\n",
        "\n",
        "### Premissas:\n",
        "*   É correto que 1 não seja considerado um número primo? * Sim\n",
        "*   Podemos assumir que as entradas são válidas? * Não\n",
        "*   Podemos supor que isso se encaixa na memória? * Sim\n",
        "\n",
        "### Teste Cases:\n",
        "*   None -> Exception\n",
        "*   Not an int -> Exception\n",
        "*   20 -> [False, False, True, True, False, True, False, True, False, False, False, True, False, True, False, False, False, True, False, True]\n",
        "\n",
        "### Algoritimo:\n",
        "Para um número ser primo, ele deve ser 2 ou maior e não pode ser divisível por outro número diferente de si mesmo (e 1).\n",
        "\n",
        "Todos os números não-primos são divisíveis por um número primo.\n",
        "*   Use uma matriz (array) para manter o controle de cada número inteiro até o máximo;\n",
        "*   Comece em 2, termine em sqrt (max)      Podemos usar o sqrt (max) em vez do max porque: Para cada valor que divide o número de entrada uniformemente, há um complemento b onde a b = n Se a> sqrt (n) então b < sqrt (n) porque sqrt (n ^ 2) = n * \"Cross off\" todos os números divisíveis por 2, 3, 5, 7, ... configurando array `[index]` para False\n",
        "\n",
        "### Animação do Wikipedia:\n",
        "![](https://camo.githubusercontent.com/4bd3c6f72a9268ae6251884051788571a2b5d55b/68747470733a2f2f75706c6f61642e77696b696d656469612e6f72672f77696b6970656469612f636f6d6d6f6e732f622f62392f53696576655f6f665f457261746f737468656e65735f616e696d6174696f6e2e676966)\n",
        "\n",
        "\n",
        "\n",
        "\n",
        "\n",
        "\n",
        "\n",
        "\n",
        "\n",
        "\n",
        "\n",
        "\n",
        "\n"
      ]
    },
    {
      "cell_type": "markdown",
      "metadata": {
        "id": "EZ7KclFpNMRl",
        "colab_type": "text"
      },
      "source": [
        "# Solução"
      ]
    },
    {
      "cell_type": "code",
      "metadata": {
        "id": "enWNqXWIKfUr",
        "colab_type": "code",
        "colab": {}
      },
      "source": [
        "import math\n",
        "\n",
        "class PrimeGenerator(object):\n",
        "\n",
        "    def generate_primes(self, max_num):\n",
        "        # Implemente aqui sua solução\n",
        "\n",
        "    def _cross_off(self, array, prime):\n",
        "       # Implemente aqui sua solução\n",
        "\n",
        "    def _next_prime(self, array, prime):\n",
        "        # Implemente aqui sua solução"
      ],
      "execution_count": 0,
      "outputs": []
    },
    {
      "cell_type": "markdown",
      "metadata": {
        "id": "HMznAVhMNUrA",
        "colab_type": "text"
      },
      "source": [
        "# Teste da Solução"
      ]
    },
    {
      "cell_type": "code",
      "metadata": {
        "id": "vY_V8RxPN0jD",
        "colab_type": "code",
        "colab": {
          "base_uri": "https://localhost:8080/",
          "height": 140
        },
        "outputId": "bddb14a1-2d70-4c68-b864-626e4f6ee2bb"
      },
      "source": [
        "!pip install nose"
      ],
      "execution_count": 1,
      "outputs": [
        {
          "output_type": "stream",
          "text": [
            "Collecting nose\n",
            "\u001b[?25l  Downloading https://files.pythonhosted.org/packages/15/d8/dd071918c040f50fa1cf80da16423af51ff8ce4a0f2399b7bf8de45ac3d9/nose-1.3.7-py3-none-any.whl (154kB)\n",
            "\r\u001b[K     |██▏                             | 10kB 15.5MB/s eta 0:00:01\r\u001b[K     |████▎                           | 20kB 6.3MB/s eta 0:00:01\r\u001b[K     |██████▍                         | 30kB 8.6MB/s eta 0:00:01\r\u001b[K     |████████▌                       | 40kB 5.6MB/s eta 0:00:01\r\u001b[K     |██████████▋                     | 51kB 6.8MB/s eta 0:00:01\r\u001b[K     |████████████▊                   | 61kB 7.9MB/s eta 0:00:01\r\u001b[K     |██████████████▉                 | 71kB 9.1MB/s eta 0:00:01\r\u001b[K     |█████████████████               | 81kB 10.1MB/s eta 0:00:01\r\u001b[K     |███████████████████             | 92kB 11.3MB/s eta 0:00:01\r\u001b[K     |█████████████████████▏          | 102kB 8.9MB/s eta 0:00:01\r\u001b[K     |███████████████████████▎        | 112kB 8.9MB/s eta 0:00:01\r\u001b[K     |█████████████████████████▍      | 122kB 8.9MB/s eta 0:00:01\r\u001b[K     |███████████████████████████▌    | 133kB 8.9MB/s eta 0:00:01\r\u001b[K     |█████████████████████████████▋  | 143kB 8.9MB/s eta 0:00:01\r\u001b[K     |███████████████████████████████▊| 153kB 8.9MB/s eta 0:00:01\r\u001b[K     |████████████████████████████████| 163kB 8.9MB/s \n",
            "\u001b[?25hInstalling collected packages: nose\n",
            "Successfully installed nose-1.3.7\n"
          ],
          "name": "stdout"
        }
      ]
    },
    {
      "cell_type": "code",
      "metadata": {
        "id": "zBDflB55NTQM",
        "colab_type": "code",
        "colab": {}
      },
      "source": [
        "%%writefile missao2.py\n",
        "from nose.tools import assert_equal, assert_raises\n",
        "\n",
        "\n",
        "class TestMath(object):\n",
        "\n",
        "    def test_generate_primes(self):\n",
        "        prime_generator = PrimeGenerator()\n",
        "        assert_raises(TypeError, prime_generator.generate_primes, None)\n",
        "        assert_raises(TypeError, prime_generator.generate_primes, 98.6)\n",
        "        assert_equal(prime_generator.generate_primes(20), [False, False, True, \n",
        "                                                           True, False, True, \n",
        "                                                           False, True, False, \n",
        "                                                           False, False, True, \n",
        "                                                           False, True, False, \n",
        "                                                           False, False, True, \n",
        "                                                           False, True])\n",
        "        print('Sua solução foi executada com sucesso! Parabéns!')\n",
        "\n",
        "\n",
        "def main():\n",
        "    test = TestMath()\n",
        "    test.test_generate_primes()\n",
        "\n",
        "\n",
        "if __name__ == '__main__':\n",
        "    main()"
      ],
      "execution_count": 0,
      "outputs": []
    },
    {
      "cell_type": "markdown",
      "metadata": {
        "id": "PC1yAoLONbdn",
        "colab_type": "text"
      },
      "source": [
        "%run -i missao2.py"
      ]
    }
  ]
}