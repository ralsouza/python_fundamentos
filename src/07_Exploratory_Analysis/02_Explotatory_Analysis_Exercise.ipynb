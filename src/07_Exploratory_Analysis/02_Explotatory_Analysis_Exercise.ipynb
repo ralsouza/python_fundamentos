{
  "nbformat": 4,
  "nbformat_minor": 0,
  "metadata": {
    "colab": {
      "name": "02_Explotatory_Analysis_Exercise.ipynb",
      "provenance": [],
      "collapsed_sections": [],
      "authorship_tag": "ABX9TyPVP7iTguCCDZaqM642qN4T",
      "include_colab_link": true
    },
    "kernelspec": {
      "name": "python3",
      "display_name": "Python 3"
    }
  },
  "cells": [
    {
      "cell_type": "markdown",
      "metadata": {
        "id": "view-in-github",
        "colab_type": "text"
      },
      "source": [
        "<a href=\"https://colab.research.google.com/github/ralsouza/python_fundamentos/blob/master/src/07_Exploratory_Analysis/02_Explotatory_Analysis_Exercise.ipynb\" target=\"_parent\"><img src=\"https://colab.research.google.com/assets/colab-badge.svg\" alt=\"Open In Colab\"/></a>"
      ]
    },
    {
      "cell_type": "markdown",
      "metadata": {
        "id": "xZmcgxr617F0",
        "colab_type": "text"
      },
      "source": [
        "## Exercício: Análise Exploratória de Dados com Python\n",
        "\n",
        "Neste exercício, você vai realizar uma análise exploratória em um dos mais famosos datasets para Machine Learning, o dataset iris com informações sobre 3 tipos de plantas. \n",
        "\n",
        "Esse dataset é comumente usado em problemas de Machine Learning de classificação, quando nosso objetivo é prever a classe dos dados. No caso deste dataset, prever a categoria de uma planta a partir de medidas da planta (sepal e petal).\n",
        "\n",
        "\n",
        "Em cada célula, você encontra a tarefa a ser realizada. Faça todo o exercício e depois compare com a solução proposta.\n",
        "Dataset (já disponível com o Scikit-Learn): https://archive.ics.uci.edu/ml/datasets/iris"
      ]
    },
    {
      "cell_type": "code",
      "metadata": {
        "id": "Pfb-4B2w16MU",
        "colab_type": "code",
        "colab": {}
      },
      "source": [
        "# Imports\n",
        "import time\n",
        "import numpy as np\n",
        "import pandas as pd\n",
        "from matplotlib import pyplot as plt\n",
        "from sklearn.datasets import load_iris\n",
        "%matplotlib inline\n",
        "\n",
        "fontsize = 14\n",
        "ticklabelsize = 14"
      ],
      "execution_count": 0,
      "outputs": []
    },
    {
      "cell_type": "code",
      "metadata": {
        "id": "By1lxHbS2KOu",
        "colab_type": "code",
        "colab": {}
      },
      "source": [
        "# Carregando o dataset\n",
        "iris = load_iris()\n",
        "df = pd.DataFrame(iris.data, columns=iris.feature_names)\n",
        "print(len(df))\n",
        "df.head()"
      ],
      "execution_count": 0,
      "outputs": []
    },
    {
      "cell_type": "markdown",
      "metadata": {
        "id": "yO_Y2QuSEKRZ",
        "colab_type": "text"
      },
      "source": [
        "# Extração e Transformação de Dados"
      ]
    },
    {
      "cell_type": "code",
      "metadata": {
        "id": "nP3ICPVI2Nfi",
        "colab_type": "code",
        "colab": {}
      },
      "source": [
        "# Imprima os valores numéricos da Variável target (o que queremos prever), \n",
        "# uma de 3 possíveis categorias de plantas: setosa, versicolor ou virginica"
      ],
      "execution_count": 0,
      "outputs": []
    },
    {
      "cell_type": "code",
      "metadata": {
        "id": "F4iXSkhsB6ij",
        "colab_type": "code",
        "colab": {}
      },
      "source": [
        "# Imprima os valores numéricos da Variável target (o que queremos prever), \n",
        "# uma de 3 possíveis categorias de plantas: 0, 1 ou 2"
      ],
      "execution_count": 0,
      "outputs": []
    },
    {
      "cell_type": "code",
      "metadata": {
        "id": "4EaPUog1CACy",
        "colab_type": "code",
        "colab": {}
      },
      "source": [
        "# Adicione ao dataset uma nova coluna com os nomes das espécies, pois é isso que vamos tentar prever (variável target)"
      ],
      "execution_count": 0,
      "outputs": []
    },
    {
      "cell_type": "code",
      "metadata": {
        "id": "FjhYkrQwCDaC",
        "colab_type": "code",
        "colab": {}
      },
      "source": [
        "# Inclua no dataset uma coluna com os valores numéricos da variável target"
      ],
      "execution_count": 0,
      "outputs": []
    },
    {
      "cell_type": "code",
      "metadata": {
        "id": "E0PQAF9CECH5",
        "colab_type": "code",
        "colab": {}
      },
      "source": [
        "# Extraia as features (atributos) do dataset e imprima"
      ],
      "execution_count": 0,
      "outputs": []
    },
    {
      "cell_type": "code",
      "metadata": {
        "id": "jA5AhCelECs-",
        "colab_type": "code",
        "colab": {}
      },
      "source": [
        "# Calcule a média de cada feature para as 3 classes"
      ],
      "execution_count": 0,
      "outputs": []
    },
    {
      "cell_type": "markdown",
      "metadata": {
        "id": "0jhhvDp_Eb9m",
        "colab_type": "text"
      },
      "source": [
        "# Exploração de Dados"
      ]
    },
    {
      "cell_type": "code",
      "metadata": {
        "id": "0kU3BukdEfMb",
        "colab_type": "code",
        "colab": {}
      },
      "source": [
        "# Imprima uma Transposta do dataset (transforme linhas e colunas e colunas em linhas)"
      ],
      "execution_count": 0,
      "outputs": []
    },
    {
      "cell_type": "code",
      "metadata": {
        "id": "8qTIumnyEjOT",
        "colab_type": "code",
        "colab": {}
      },
      "source": [
        "# Utilize a função Info do dataset para obter um resumo sobre o dataset"
      ],
      "execution_count": 0,
      "outputs": []
    },
    {
      "cell_type": "code",
      "metadata": {
        "id": "R-43NTVuElzz",
        "colab_type": "code",
        "colab": {}
      },
      "source": [
        "# Faça um resumo estatístico do dataset"
      ],
      "execution_count": 0,
      "outputs": []
    },
    {
      "cell_type": "code",
      "metadata": {
        "id": "8SfXjsp5EnxK",
        "colab_type": "code",
        "colab": {}
      },
      "source": [
        "# Verifique se existem valores nulos no dataset"
      ],
      "execution_count": 0,
      "outputs": []
    },
    {
      "cell_type": "code",
      "metadata": {
        "id": "Hcmr0qBKErTI",
        "colab_type": "code",
        "colab": {}
      },
      "source": [
        "# Faça uma contagem de valores de sepal length"
      ],
      "execution_count": 0,
      "outputs": []
    },
    {
      "cell_type": "markdown",
      "metadata": {
        "id": "WPS5CBTlEugM",
        "colab_type": "text"
      },
      "source": [
        "# Plot"
      ]
    },
    {
      "cell_type": "code",
      "metadata": {
        "id": "PSlxxxXKEwgC",
        "colab_type": "code",
        "colab": {}
      },
      "source": [
        "# Crie um Histograma de sepal length"
      ],
      "execution_count": 0,
      "outputs": []
    },
    {
      "cell_type": "code",
      "metadata": {
        "id": "8CUQ19uzE0xB",
        "colab_type": "code",
        "colab": {}
      },
      "source": [
        "# Crie um Gráficos de Dispersão (scatter Plot) da variável sepal length versus número da linha, \n",
        "# colorido por marcadores da variável target"
      ],
      "execution_count": 0,
      "outputs": []
    },
    {
      "cell_type": "code",
      "metadata": {
        "id": "h8GgCyB6E4G6",
        "colab_type": "code",
        "colab": {}
      },
      "source": [
        "# Crie um Scatter Plot de 2 Features (atributos)"
      ],
      "execution_count": 0,
      "outputs": []
    },
    {
      "cell_type": "code",
      "metadata": {
        "id": "rSLQYf5WE68f",
        "colab_type": "code",
        "colab": {}
      },
      "source": [
        "# Crie um Scatter Matrix das Features (atributos)"
      ],
      "execution_count": 0,
      "outputs": []
    },
    {
      "cell_type": "code",
      "metadata": {
        "id": "g4vaUxf6E9EW",
        "colab_type": "code",
        "colab": {}
      },
      "source": [
        "# Crie um Histograma de todas as features"
      ],
      "execution_count": 0,
      "outputs": []
    }
  ]
}