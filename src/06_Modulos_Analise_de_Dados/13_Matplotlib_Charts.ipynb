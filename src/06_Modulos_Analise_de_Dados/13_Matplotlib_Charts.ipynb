{
  "nbformat": 4,
  "nbformat_minor": 0,
  "metadata": {
    "colab": {
      "name": "13_Matplotlib_Charts.ipynb",
      "provenance": [],
      "collapsed_sections": [],
      "authorship_tag": "ABX9TyPF5z+1tmk1nwQpcwHU3dt+",
      "include_colab_link": true
    },
    "kernelspec": {
      "name": "python3",
      "display_name": "Python 3"
    }
  },
  "cells": [
    {
      "cell_type": "markdown",
      "metadata": {
        "id": "view-in-github",
        "colab_type": "text"
      },
      "source": [
        "<a href=\"https://colab.research.google.com/github/ralsouza/python_fundamentos/blob/master/src/06_Modulos_Analise_de_Dados/13_Matplotlib_Charts.ipynb\" target=\"_parent\"><img src=\"https://colab.research.google.com/assets/colab-badge.svg\" alt=\"Open In Colab\"/></a>"
      ]
    },
    {
      "cell_type": "markdown",
      "metadata": {
        "id": "oSSJ-Pj_-OIe",
        "colab_type": "text"
      },
      "source": [
        "## Bar Charts"
      ]
    },
    {
      "cell_type": "code",
      "metadata": {
        "id": "7ZT_et_l-t5N",
        "colab_type": "code",
        "colab": {}
      },
      "source": [
        "# The matplotlib.pyplot is a collection of function and styles that make works as the Matlab\n",
        "import matplotlib as mpl\n",
        "import matplotlib.pyplot as plt\n",
        "%matplotlib inline"
      ],
      "execution_count": 0,
      "outputs": []
    },
    {
      "cell_type": "code",
      "metadata": {
        "id": "nL1SUqOiLSWt",
        "colab_type": "code",
        "colab": {}
      },
      "source": [
        "x = [2,4,6,8,10]\n",
        "y = [6,7,8,2,4]"
      ],
      "execution_count": 0,
      "outputs": []
    },
    {
      "cell_type": "code",
      "metadata": {
        "id": "aVvY_2LG-ahT",
        "colab_type": "code",
        "colab": {
          "base_uri": "https://localhost:8080/",
          "height": 265
        },
        "outputId": "f23c07ab-21c9-4278-ed2d-a3ebb417ccf0"
      },
      "source": [
        "# Create a simple bar chart\n",
        "plt.bar(x,y,label='My Bars',color='b')\n",
        "plt.legend()\n",
        "plt.show()"
      ],
      "execution_count": 28,
      "outputs": [
        {
          "output_type": "display_data",
          "data": {
            "image/png": "[encoded data removed]",
            "text/plain": [
              "<Figure size 432x288 with 1 Axes>"
            ]
          },
          "metadata": {
            "tags": []
          }
        }
      ]
    },
    {
      "cell_type": "code",
      "metadata": {
        "id": "Ojv6V7WvAAvx",
        "colab_type": "code",
        "colab": {}
      },
      "source": [
        "x2 = [1,3,5,7,9]\n",
        "y2 = [7,8,2,4,2]"
      ],
      "execution_count": 0,
      "outputs": []
    },
    {
      "cell_type": "code",
      "metadata": {
        "id": "XdzAquSr_MCj",
        "colab_type": "code",
        "colab": {
          "base_uri": "https://localhost:8080/",
          "height": 265
        },
        "outputId": "34e9a096-4867-4a62-c1ad-3a0cc7b6e544"
      },
      "source": [
        "# Create a clustered bar chart\n",
        "plt.bar(x,y,label='My Bars blue', color='b')\n",
        "plt.bar(x2,y2,label='My Bars red', color='r')\n",
        "plt.legend()\n",
        "plt.show()"
      ],
      "execution_count": 36,
      "outputs": [
        {
          "output_type": "display_data",
          "data": {
            "image/png": "[encoded data removed]",
            "text/plain": [
              "<Figure size 432x288 with 1 Axes>"
            ]
          },
          "metadata": {
            "tags": []
          }
        }
      ]
    },
    {
      "cell_type": "code",
      "metadata": {
        "id": "9RuP8ZS6Ao33",
        "colab_type": "code",
        "colab": {}
      },
      "source": [
        "ages = [22,65,45,55,21,22,34,42,41,4,99,101,121,122,130,111,115,80,75,64,54,44,64,13,18,48]"
      ],
      "execution_count": 0,
      "outputs": []
    },
    {
      "cell_type": "code",
      "metadata": {
        "id": "EAlo42ELFff-",
        "colab_type": "code",
        "colab": {}
      },
      "source": [
        "ids = [x for x in range(len(ages))]"
      ],
      "execution_count": 0,
      "outputs": []
    },
    {
      "cell_type": "code",
      "metadata": {
        "id": "1PSmdJYcFlGH",
        "colab_type": "code",
        "colab": {
          "base_uri": "https://localhost:8080/",
          "height": 265
        },
        "outputId": "7568f8fc-b99d-497e-fbc1-05f59492f1e8"
      },
      "source": [
        "plt.bar(ids, ages)\n",
        "plt.show()"
      ],
      "execution_count": 39,
      "outputs": [
        {
          "output_type": "display_data",
          "data": {
            "image/png": "[encoded data removed]",
            "text/plain": [
              "<Figure size 432x288 with 1 Axes>"
            ]
          },
          "metadata": {
            "tags": []
          }
        }
      ]
    },
    {
      "cell_type": "markdown",
      "metadata": {
        "id": "o5TL88ErFuFa",
        "colab_type": "text"
      },
      "source": [
        "## Create a Histogram"
      ]
    },
    {
      "cell_type": "code",
      "metadata": {
        "id": "F8G1WQ03FpeT",
        "colab_type": "code",
        "colab": {}
      },
      "source": [
        "bins = [0,10,20,30,40,50,60,70,80,90,100,110,120,130]"
      ],
      "execution_count": 0,
      "outputs": []
    },
    {
      "cell_type": "code",
      "metadata": {
        "id": "D4FYnnuTF8gw",
        "colab_type": "code",
        "colab": {
          "base_uri": "https://localhost:8080/",
          "height": 265
        },
        "outputId": "1a2a0370-0a5f-4b32-c61a-08a7f0b19c5b"
      },
      "source": [
        "plt.hist(ages,bins,histtype='bar',rwidth=0.8)\n",
        "plt.show()"
      ],
      "execution_count": 41,
      "outputs": [
        {
          "output_type": "display_data",
          "data": {
            "image/png": "[encoded data removed]",
            "text/plain": [
              "<Figure size 432x288 with 1 Axes>"
            ]
          },
          "metadata": {
            "tags": []
          }
        }
      ]
    },
    {
      "cell_type": "code",
      "metadata": {
        "id": "jMwic1evGGOC",
        "colab_type": "code",
        "colab": {
          "base_uri": "https://localhost:8080/",
          "height": 265
        },
        "outputId": "61e0073e-46b8-4481-c88b-e38ec0e959fd"
      },
      "source": [
        "# Another histogram\n",
        "plt.hist(ages,bins,histtype='stepfilled',rwidth=0.8)\n",
        "plt.show()"
      ],
      "execution_count": 42,
      "outputs": [
        {
          "output_type": "display_data",
          "data": {
            "image/png": "[encoded data removed]",
            "text/plain": [
              "<Figure size 432x288 with 1 Axes>"
            ]
          },
          "metadata": {
            "tags": []
          }
        }
      ]
    },
    {
      "cell_type": "markdown",
      "metadata": {
        "id": "18j-1wd6GklO",
        "colab_type": "text"
      },
      "source": [
        "## Scatterplot"
      ]
    },
    {
      "cell_type": "code",
      "metadata": {
        "id": "Rrbl7gi8GhZU",
        "colab_type": "code",
        "colab": {}
      },
      "source": [
        "x = [1,2,3,4,5,6,7,8]\n",
        "y = [5,2,4,5,6,8,4,8]"
      ],
      "execution_count": 0,
      "outputs": []
    },
    {
      "cell_type": "code",
      "metadata": {
        "id": "ywwdF8dAG6o7",
        "colab_type": "code",
        "colab": {
          "base_uri": "https://localhost:8080/",
          "height": 265
        },
        "outputId": "9f78a41d-377e-4412-a482-e44f811df7a3"
      },
      "source": [
        "plt.scatter(x,y,label='Points',color='r',marker='o',s=100)\n",
        "plt.legend()\n",
        "plt.show()"
      ],
      "execution_count": 44,
      "outputs": [
        {
          "output_type": "display_data",
          "data": {
            "image/png": "[encoded data removed]",
            "text/plain": [
              "<Figure size 432x288 with 1 Axes>"
            ]
          },
          "metadata": {
            "tags": []
          }
        }
      ]
    },
    {
      "cell_type": "markdown",
      "metadata": {
        "id": "ilpMjC_3HME_",
        "colab_type": "text"
      },
      "source": [
        "## Stack Points"
      ]
    },
    {
      "cell_type": "code",
      "metadata": {
        "id": "FJg8qQEtHJI3",
        "colab_type": "code",
        "colab": {}
      },
      "source": [
        "days = [1,2,3,4,5]\n",
        "sleep = [7,8,6,77,7]\n",
        "eat = [2,3,4,5,3]\n",
        "work = [7,8,7,2,2]\n",
        "walk = [8,5,7,8,13]"
      ],
      "execution_count": 0,
      "outputs": []
    },
    {
      "cell_type": "code",
      "metadata": {
        "id": "QBE4b1AyIRTH",
        "colab_type": "code",
        "colab": {
          "base_uri": "https://localhost:8080/",
          "height": 265
        },
        "outputId": "44cd4c30-e5d3-4e7d-cca3-47b22821f625"
      },
      "source": [
        "plt.stackplot(days,sleep,eat,work,walk,colors=['m','c','r','k','b'])\n",
        "plt.show()"
      ],
      "execution_count": 46,
      "outputs": [
        {
          "output_type": "display_data",
          "data": {
            "image/png": "[encoded data removed]",
            "text/plain": [
              "<Figure size 432x288 with 1 Axes>"
            ]
          },
          "metadata": {
            "tags": []
          }
        }
      ]
    },
    {
      "cell_type": "markdown",
      "metadata": {
        "id": "R16kkT0mInEq",
        "colab_type": "text"
      },
      "source": [
        "## Pie Chart"
      ]
    },
    {
      "cell_type": "code",
      "metadata": {
        "id": "OwSLOielIfPI",
        "colab_type": "code",
        "colab": {}
      },
      "source": [
        "section = [7,2,2,13]\n",
        "activities = ['sleep','eat','work','walk']\n",
        "colors = ['c','m','r','k']"
      ],
      "execution_count": 0,
      "outputs": []
    },
    {
      "cell_type": "code",
      "metadata": {
        "id": "I_27liqxI-DT",
        "colab_type": "code",
        "colab": {
          "base_uri": "https://localhost:8080/",
          "height": 248
        },
        "outputId": "1997f82d-2026-457c-ab40-e3c25bca54df"
      },
      "source": [
        "plt.pie(section,labels=activities,colors=colors,startangle=90,shadow=True,explode=(0,0.1,0,0))\n",
        "plt.show()"
      ],
      "execution_count": 49,
      "outputs": [
        {
          "output_type": "display_data",
          "data": {
            "image/png": "[encoded data removed]",
            "text/plain": [
              "<Figure size 432x288 with 1 Axes>"
            ]
          },
          "metadata": {
            "tags": []
          }
        }
      ]
    }
  ]
}