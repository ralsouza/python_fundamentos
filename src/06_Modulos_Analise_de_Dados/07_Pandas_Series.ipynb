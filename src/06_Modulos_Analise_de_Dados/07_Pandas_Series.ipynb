{
  "nbformat": 4,
  "nbformat_minor": 0,
  "metadata": {
    "colab": {
      "name": "07_Pandas_Series.ipynb",
      "provenance": [],
      "collapsed_sections": [],
      "authorship_tag": "ABX9TyOFPhoJ8Yzh1Q0AQ9OPNhrr",
      "include_colab_link": true
    },
    "kernelspec": {
      "name": "python3",
      "display_name": "Python 3"
    }
  },
  "cells": [
    {
      "cell_type": "markdown",
      "metadata": {
        "id": "view-in-github",
        "colab_type": "text"
      },
      "source": [
        "<a href=\"https://colab.research.google.com/github/ralsouza/python_fundamentos/blob/master/src/06_Modulos_Analise_de_Dados/07_Pandas_Series.ipynb\" target=\"_parent\"><img src=\"https://colab.research.google.com/assets/colab-badge.svg\" alt=\"Open In Colab\"/></a>"
      ]
    },
    {
      "cell_type": "markdown",
      "metadata": {
        "id": "BRZ_ws28rpsk",
        "colab_type": "text"
      },
      "source": [
        "https://pandas.pydata.org"
      ]
    },
    {
      "cell_type": "code",
      "metadata": {
        "id": "K_3BDIM_QW-j",
        "colab_type": "code",
        "colab": {}
      },
      "source": [
        "# Import Series from Pandas library\n",
        "# from pandas import Series\n",
        "\n",
        "# Import full package of Pandas\n",
        "import pandas as pd"
      ],
      "execution_count": 0,
      "outputs": []
    },
    {
      "cell_type": "code",
      "metadata": {
        "id": "PPZAvOMgsZfG",
        "colab_type": "code",
        "colab": {
          "base_uri": "https://localhost:8080/",
          "height": 54
        },
        "outputId": "dd5288a1-ee71-41be-f5a4-96b8f569a391"
      },
      "source": [
        "# Check version of Pandas\n",
        "pd.__version__"
      ],
      "execution_count": 7,
      "outputs": [
        {
          "output_type": "execute_result",
          "data": {
            "text/plain": [
              "'0.25.3'"
            ]
          },
          "metadata": {
            "tags": []
          },
          "execution_count": 7
        }
      ]
    },
    {
      "cell_type": "code",
      "metadata": {
        "id": "W8xipSiDsinr",
        "colab_type": "code",
        "colab": {
          "base_uri": "https://localhost:8080/",
          "height": 120
        },
        "outputId": "8f20bd65-a5bc-4054-aac4-01288a183391"
      },
      "source": [
        "# Create a serie without specifying the indexes\n",
        "obj = Series([67,78,-56,13])\n",
        "\n",
        "obj"
      ],
      "execution_count": 9,
      "outputs": [
        {
          "output_type": "execute_result",
          "data": {
            "text/plain": [
              "0    67\n",
              "1    78\n",
              "2   -56\n",
              "3    13\n",
              "dtype: int64"
            ]
          },
          "metadata": {
            "tags": []
          },
          "execution_count": 9
        }
      ]
    },
    {
      "cell_type": "code",
      "metadata": {
        "id": "kfOq_9b6t3kt",
        "colab_type": "code",
        "colab": {
          "base_uri": "https://localhost:8080/",
          "height": 54
        },
        "outputId": "80f1ab24-d8a5-422d-eee9-d006998991d7"
      },
      "source": [
        "# Check type of Serie\n",
        "type(obj)"
      ],
      "execution_count": 10,
      "outputs": [
        {
          "output_type": "execute_result",
          "data": {
            "text/plain": [
              "pandas.core.series.Series"
            ]
          },
          "metadata": {
            "tags": []
          },
          "execution_count": 10
        }
      ]
    },
    {
      "cell_type": "code",
      "metadata": {
        "id": "M3vHDV4suA0a",
        "colab_type": "code",
        "colab": {
          "base_uri": "https://localhost:8080/",
          "height": 54
        },
        "outputId": "09c7f3ae-f7e0-4613-e8f9-88a2d1b07abf"
      },
      "source": [
        "# Show values\n",
        "obj.values"
      ],
      "execution_count": 11,
      "outputs": [
        {
          "output_type": "execute_result",
          "data": {
            "text/plain": [
              "array([ 67,  78, -56,  13])"
            ]
          },
          "metadata": {
            "tags": []
          },
          "execution_count": 11
        }
      ]
    },
    {
      "cell_type": "code",
      "metadata": {
        "id": "5l-YsY0CuGt1",
        "colab_type": "code",
        "colab": {
          "base_uri": "https://localhost:8080/",
          "height": 54
        },
        "outputId": "3cd584b1-e4bc-4e5a-cc78-053eebbdb139"
      },
      "source": [
        "# Show indexes\n",
        "# Note that the specification of this object\n",
        "obj.index"
      ],
      "execution_count": 13,
      "outputs": [
        {
          "output_type": "execute_result",
          "data": {
            "text/plain": [
              "RangeIndex(start=0, stop=4, step=1)"
            ]
          },
          "metadata": {
            "tags": []
          },
          "execution_count": 13
        }
      ]
    },
    {
      "cell_type": "code",
      "metadata": {
        "id": "buz6e8EnuQB3",
        "colab_type": "code",
        "colab": {
          "base_uri": "https://localhost:8080/",
          "height": 120
        },
        "outputId": "8cae46bc-5f94-4244-f7ba-2b1e2c1ae697"
      },
      "source": [
        "# Create a Serie specifying the indexes\n",
        "obj2 = Series([67,78,-56,13], index=['a','b','c','d'])\n",
        "obj2"
      ],
      "execution_count": 14,
      "outputs": [
        {
          "output_type": "execute_result",
          "data": {
            "text/plain": [
              "a    67\n",
              "b    78\n",
              "c   -56\n",
              "d    13\n",
              "dtype: int64"
            ]
          },
          "metadata": {
            "tags": []
          },
          "execution_count": 14
        }
      ]
    },
    {
      "cell_type": "code",
      "metadata": {
        "id": "Z73c4ebUux0m",
        "colab_type": "code",
        "colab": {
          "base_uri": "https://localhost:8080/",
          "height": 54
        },
        "outputId": "8fa9afe1-9388-4689-ed20-3d099ba9731f"
      },
      "source": [
        "# Show values\n",
        "obj2.values"
      ],
      "execution_count": 16,
      "outputs": [
        {
          "output_type": "execute_result",
          "data": {
            "text/plain": [
              "array([ 67,  78, -56,  13])"
            ]
          },
          "metadata": {
            "tags": []
          },
          "execution_count": 16
        }
      ]
    },
    {
      "cell_type": "code",
      "metadata": {
        "id": "-jMMKdIYvCCc",
        "colab_type": "code",
        "colab": {
          "base_uri": "https://localhost:8080/",
          "height": 54
        },
        "outputId": "e7bc2fa5-1fed-4b9b-f30a-92802f809c94"
      },
      "source": [
        "# Show indexes\n",
        "obj2.index"
      ],
      "execution_count": 17,
      "outputs": [
        {
          "output_type": "execute_result",
          "data": {
            "text/plain": [
              "Index(['a', 'b', 'c', 'd'], dtype='object')"
            ]
          },
          "metadata": {
            "tags": []
          },
          "execution_count": 17
        }
      ]
    },
    {
      "cell_type": "code",
      "metadata": {
        "id": "X9x0ppeGvIC5",
        "colab_type": "code",
        "colab": {
          "base_uri": "https://localhost:8080/",
          "height": 104
        },
        "outputId": "765b22ac-9db2-483b-9f6a-06f6ef450b80"
      },
      "source": [
        "# Slicing the Serie\n",
        "obj2[obj2 > 3]"
      ],
      "execution_count": 18,
      "outputs": [
        {
          "output_type": "execute_result",
          "data": {
            "text/plain": [
              "a    67\n",
              "b    78\n",
              "d    13\n",
              "dtype: int64"
            ]
          },
          "metadata": {
            "tags": []
          },
          "execution_count": 18
        }
      ]
    },
    {
      "cell_type": "code",
      "metadata": {
        "id": "UzLkMAeIvQsN",
        "colab_type": "code",
        "colab": {
          "base_uri": "https://localhost:8080/",
          "height": 54
        },
        "outputId": "9fff167f-8311-43e0-d12c-89ef11f029ac"
      },
      "source": [
        "# Slicing by index\n",
        "obj2['b']"
      ],
      "execution_count": 19,
      "outputs": [
        {
          "output_type": "execute_result",
          "data": {
            "text/plain": [
              "78"
            ]
          },
          "metadata": {
            "tags": []
          },
          "execution_count": 19
        }
      ]
    },
    {
      "cell_type": "code",
      "metadata": {
        "id": "v34HyZw9vfrK",
        "colab_type": "code",
        "colab": {
          "base_uri": "https://localhost:8080/",
          "height": 54
        },
        "outputId": "c3e9160d-121f-459b-80df-8ef1fbd6c23f"
      },
      "source": [
        "# Check if index is inside the object\n",
        "'d' in obj2"
      ],
      "execution_count": 20,
      "outputs": [
        {
          "output_type": "execute_result",
          "data": {
            "text/plain": [
              "True"
            ]
          },
          "metadata": {
            "tags": []
          },
          "execution_count": 20
        }
      ]
    },
    {
      "cell_type": "code",
      "metadata": {
        "id": "HD6zrrtSvu4G",
        "colab_type": "code",
        "colab": {
          "base_uri": "https://localhost:8080/",
          "height": 120
        },
        "outputId": "606f6653-5e4a-4ac6-e50d-98e8e58f9619"
      },
      "source": [
        "# Create a Serie passing a dictionary as parameter\n",
        "dict = {'Football':5200,'Tenis':120,'Swimming':698,'Volleyball':1550}\n",
        "obj3 = Series(dict)\n",
        "\n",
        "# The keys from dictionary turned indexes in Series\n",
        "obj3"
      ],
      "execution_count": 27,
      "outputs": [
        {
          "output_type": "execute_result",
          "data": {
            "text/plain": [
              "Football      5200\n",
              "Tenis          120\n",
              "Swimming       698\n",
              "Volleyball    1550\n",
              "dtype: int64"
            ]
          },
          "metadata": {
            "tags": []
          },
          "execution_count": 27
        }
      ]
    },
    {
      "cell_type": "code",
      "metadata": {
        "id": "oFtL3DZ1wGa4",
        "colab_type": "code",
        "colab": {}
      },
      "source": [
        "# Create a list of sports\n",
        "sports = ['Football','Tenis','Swimming','Basketball']"
      ],
      "execution_count": 0,
      "outputs": []
    },
    {
      "cell_type": "code",
      "metadata": {
        "id": "D5abpkaZxkqa",
        "colab_type": "code",
        "colab": {
          "base_uri": "https://localhost:8080/",
          "height": 120
        },
        "outputId": "fea3e7e1-3b2d-4cc0-edd5-66d7d345a026"
      },
      "source": [
        "# Create a Serie passing a list as index\n",
        "# Note the Pandas can't find a relationship between Basketball inside the dictionary,\n",
        "# because this, Basketball is NaN (Not a Number)\n",
        "obj4 = Series(dict, index=sports)\n",
        "obj4"
      ],
      "execution_count": 28,
      "outputs": [
        {
          "output_type": "execute_result",
          "data": {
            "text/plain": [
              "Football      5200.0\n",
              "Tenis          120.0\n",
              "Swimming       698.0\n",
              "Basketball       NaN\n",
              "dtype: float64"
            ]
          },
          "metadata": {
            "tags": []
          },
          "execution_count": 28
        }
      ]
    },
    {
      "cell_type": "code",
      "metadata": {
        "id": "WbezCuh7yWOB",
        "colab_type": "code",
        "colab": {
          "base_uri": "https://localhost:8080/",
          "height": 120
        },
        "outputId": "198c12e3-d571-4588-f85d-202090f7934a"
      },
      "source": [
        "# Ask to Pandas if the Series has a NaN value\n",
        "pd.isnull(obj4)"
      ],
      "execution_count": 29,
      "outputs": [
        {
          "output_type": "execute_result",
          "data": {
            "text/plain": [
              "Football      False\n",
              "Tenis         False\n",
              "Swimming      False\n",
              "Basketball     True\n",
              "dtype: bool"
            ]
          },
          "metadata": {
            "tags": []
          },
          "execution_count": 29
        }
      ]
    },
    {
      "cell_type": "code",
      "metadata": {
        "id": "ZuUSH2WP0dVT",
        "colab_type": "code",
        "colab": {
          "base_uri": "https://localhost:8080/",
          "height": 120
        },
        "outputId": "313661e9-cb85-4ada-b52e-bf968e87176b"
      },
      "source": [
        "# Check null values\n",
        "obj4.isnull()"
      ],
      "execution_count": 31,
      "outputs": [
        {
          "output_type": "execute_result",
          "data": {
            "text/plain": [
              "Football      False\n",
              "Tenis         False\n",
              "Swimming      False\n",
              "Basketball     True\n",
              "dtype: bool"
            ]
          },
          "metadata": {
            "tags": []
          },
          "execution_count": 31
        }
      ]
    },
    {
      "cell_type": "code",
      "metadata": {
        "id": "WF7uoooB1Z3n",
        "colab_type": "code",
        "colab": {
          "base_uri": "https://localhost:8080/",
          "height": 137
        },
        "outputId": "21598ab0-dc56-4f91-b6ea-1a602d741b13"
      },
      "source": [
        "# Concatenating Series\n",
        "# The Pandas looks for a relationship between keys and sets a NaN value when he doesn't find it\n",
        "# When he finds, he adds the values\n",
        "# It's like a Left Join in SQL\n",
        "obj3 + obj4"
      ],
      "execution_count": 32,
      "outputs": [
        {
          "output_type": "execute_result",
          "data": {
            "text/plain": [
              "Basketball        NaN\n",
              "Football      10400.0\n",
              "Swimming       1396.0\n",
              "Tenis           240.0\n",
              "Volleyball        NaN\n",
              "dtype: float64"
            ]
          },
          "metadata": {
            "tags": []
          },
          "execution_count": 32
        }
      ]
    },
    {
      "cell_type": "code",
      "metadata": {
        "id": "uoUYbaRu2UIQ",
        "colab_type": "code",
        "colab": {
          "base_uri": "https://localhost:8080/",
          "height": 120
        },
        "outputId": "5b4ce9ce-a064-4a57-c012-eb405a79d2ca"
      },
      "source": [
        "# We can change the object name\n",
        "obj4.name = 'population'\n",
        "obj4"
      ],
      "execution_count": 33,
      "outputs": [
        {
          "output_type": "execute_result",
          "data": {
            "text/plain": [
              "Football      5200.0\n",
              "Tenis          120.0\n",
              "Swimming       698.0\n",
              "Basketball       NaN\n",
              "Name: population, dtype: float64"
            ]
          },
          "metadata": {
            "tags": []
          },
          "execution_count": 33
        }
      ]
    },
    {
      "cell_type": "code",
      "metadata": {
        "id": "QTY3XWIA3nYD",
        "colab_type": "code",
        "colab": {
          "base_uri": "https://localhost:8080/",
          "height": 137
        },
        "outputId": "a0f540f4-b03b-413d-a8f2-07d338d39f0a"
      },
      "source": [
        "# And change the index name too\n",
        "obj4.index.name = 'sport'\n",
        "obj4"
      ],
      "execution_count": 34,
      "outputs": [
        {
          "output_type": "execute_result",
          "data": {
            "text/plain": [
              "sport\n",
              "Football      5200.0\n",
              "Tenis          120.0\n",
              "Swimming       698.0\n",
              "Basketball       NaN\n",
              "Name: population, dtype: float64"
            ]
          },
          "metadata": {
            "tags": []
          },
          "execution_count": 34
        }
      ]
    }
  ]
}