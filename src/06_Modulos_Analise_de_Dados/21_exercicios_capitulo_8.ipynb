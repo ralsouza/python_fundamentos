{
  "nbformat": 4,
  "nbformat_minor": 0,
  "metadata": {
    "colab": {
      "name": "21_exercicios_capitulo_8.ipynb",
      "provenance": [],
      "collapsed_sections": [],
      "authorship_tag": "ABX9TyMA4nDbNANgsXpGV0j54T53",
      "include_colab_link": true
    },
    "kernelspec": {
      "name": "python3",
      "display_name": "Python 3"
    }
  },
  "cells": [
    {
      "cell_type": "markdown",
      "metadata": {
        "id": "view-in-github",
        "colab_type": "text"
      },
      "source": [
        "<a href=\"https://colab.research.google.com/github/ralsouza/python_fundamentos/blob/master/src/06_Modulos_Analise_de_Dados/21_exercicios_capitulo_8.ipynb\" target=\"_parent\"><img src=\"https://colab.research.google.com/assets/colab-badge.svg\" alt=\"Open In Colab\"/></a>"
      ]
    },
    {
      "cell_type": "markdown",
      "metadata": {
        "id": "l7DeI9wE88Lj",
        "colab_type": "text"
      },
      "source": [
        "## Exercícios Sobre Módulos Python Para Análise de Dados\n",
        "\n",
        "**ATENÇÃO**\n",
        "\n",
        "**Alguns dos exercícios podem requerer pesquisa adicional na documentação dos pacotes. Pesquise!**\n",
        "\n",
        "Exercícios:\n",
        "\n",
        "[DSA-Python-Cap08-Exercicios.ipynb](https://github.com/ralsouza/Python_Data_Analysis/blob/master/Cap08/Notebooks/DSA-Python-Cap08-Exercicios.ipynb)\n",
        "\n",
        "Solução:\n",
        "\n",
        "[DSA-Python-Cap08-Exercicios-Solucao.ipynb](https://github.com/ralsouza/Python_Data_Analysis/blob/master/Cap08/Notebooks/DSA-Python-Cap08-Exercicios-Solucao.ipynb)"
      ]
    },
    {
      "cell_type": "markdown",
      "metadata": {
        "id": "HW5O1Gvi9Zgv",
        "colab_type": "text"
      },
      "source": [
        "## Exercício 1\n",
        "Crie um array NumPy com 1000000 e uma lista com 1000000.\n",
        "\n",
        "Multiplique cada elemento do array e da lista por 2 e calcule o tempo de execução com cada um dos objetos (use %time).\n",
        "\n",
        "Qual objeto oferece melhor performance, array NumPy ou lista?"
      ]
    },
    {
      "cell_type": "code",
      "metadata": {
        "id": "9p4Lrpkj6XWr",
        "colab_type": "code",
        "colab": {}
      },
      "source": [
        "import numpy as np"
      ],
      "execution_count": 0,
      "outputs": []
    },
    {
      "cell_type": "code",
      "metadata": {
        "id": "HsmM_pA6gfvB",
        "colab_type": "code",
        "colab": {
          "base_uri": "https://localhost:8080/",
          "height": 53
        },
        "outputId": "3a4877ad-15cf-40d8-e741-8e97e95a086b"
      },
      "source": [
        "np.random.randint(low=1,high=100,size=1000000)\n",
        "%time"
      ],
      "execution_count": 24,
      "outputs": [
        {
          "output_type": "stream",
          "text": [
            "CPU times: user 2 µs, sys: 1 µs, total: 3 µs\n",
            "Wall time: 5.01 µs\n"
          ],
          "name": "stdout"
        }
      ]
    },
    {
      "cell_type": "code",
      "metadata": {
        "id": "UgBAbCQLkrd0",
        "colab_type": "code",
        "colab": {
          "base_uri": "https://localhost:8080/",
          "height": 53
        },
        "outputId": "8ceb05a8-89cc-4b16-b192-8d4082a5302f"
      },
      "source": [
        "import random as rnd\n",
        "rnd.sample(range(1,1000000),10000)\n",
        "%time"
      ],
      "execution_count": 36,
      "outputs": [
        {
          "output_type": "stream",
          "text": [
            "CPU times: user 2 µs, sys: 1e+03 ns, total: 3 µs\n",
            "Wall time: 5.25 µs\n"
          ],
          "name": "stdout"
        }
      ]
    },
    {
      "cell_type": "markdown",
      "metadata": {
        "id": "IT4f5-Xf9nbH",
        "colab_type": "text"
      },
      "source": [
        "## Exercício 2\n",
        "Crie um array de 10 elementos\n",
        "\n",
        "Altere o valores de todos os elementos dos índices 5 a 8 para 0"
      ]
    },
    {
      "cell_type": "code",
      "metadata": {
        "id": "E6G63Oax9vY_",
        "colab_type": "code",
        "colab": {}
      },
      "source": [
        ""
      ],
      "execution_count": 0,
      "outputs": []
    },
    {
      "cell_type": "markdown",
      "metadata": {
        "id": "xx4x_n1Y9xY4",
        "colab_type": "text"
      },
      "source": [
        "## Exercício 3\n",
        "Crie um array de 3 dimensões e imprima a dimensão 1"
      ]
    },
    {
      "cell_type": "code",
      "metadata": {
        "id": "vBqmK2tE915g",
        "colab_type": "code",
        "colab": {}
      },
      "source": [
        ""
      ],
      "execution_count": 0,
      "outputs": []
    },
    {
      "cell_type": "markdown",
      "metadata": {
        "id": "5cCkOft192tw",
        "colab_type": "text"
      },
      "source": [
        "## Exercício 4\n",
        "Crie um array de duas dimensões (matriz)\n",
        "\n",
        "Imprima os elementos da terceira linha da matriz\n",
        "\n",
        "Imprima todos os elementos da primeira e segunda linhas e segunda e terceira colunas"
      ]
    },
    {
      "cell_type": "code",
      "metadata": {
        "id": "M_65mivP-APV",
        "colab_type": "code",
        "colab": {}
      },
      "source": [
        ""
      ],
      "execution_count": 0,
      "outputs": []
    },
    {
      "cell_type": "markdown",
      "metadata": {
        "id": "c9fyq59w-DY5",
        "colab_type": "text"
      },
      "source": [
        "## Exercício 5\n",
        "Calcule a transposta da matriz abaixo\n"
      ]
    },
    {
      "cell_type": "code",
      "metadata": {
        "id": "cFsTeblk-TTv",
        "colab_type": "code",
        "outputId": "cc34c11e-5628-4b07-f38b-3934a41cf8d5",
        "colab": {
          "base_uri": "https://localhost:8080/",
          "height": 68
        }
      },
      "source": [
        "import numpy as np\n",
        "\n",
        "arr = np.arange(15).reshape((3, 5))\n",
        "arr"
      ],
      "execution_count": 0,
      "outputs": [
        {
          "output_type": "execute_result",
          "data": {
            "text/plain": [
              "array([[ 0,  1,  2,  3,  4],\n",
              "       [ 5,  6,  7,  8,  9],\n",
              "       [10, 11, 12, 13, 14]])"
            ]
          },
          "metadata": {
            "tags": []
          },
          "execution_count": 2
        }
      ]
    },
    {
      "cell_type": "markdown",
      "metadata": {
        "id": "zS16JFkN-ciz",
        "colab_type": "text"
      },
      "source": [
        "## Exercício 6\n",
        "Considere os 3 arrays abaixo\n",
        "\n",
        "Retorne o valor do array xarr se o valor for True no array cond. Caso contrário, retorne o valor do array yarr."
      ]
    },
    {
      "cell_type": "code",
      "metadata": {
        "id": "o71XfZ9x-pNZ",
        "colab_type": "code",
        "colab": {}
      },
      "source": [
        "xarr = np.array([1.1, 1.2, 1.3, 1.4, 1.5])\n",
        "yarr = np.array([2.1, 2.2, 2.3, 2.4, 2.5])\n",
        "cond = np.array([True, False, True, True, False])"
      ],
      "execution_count": 0,
      "outputs": []
    },
    {
      "cell_type": "markdown",
      "metadata": {
        "id": "5uHifOT7-qQT",
        "colab_type": "text"
      },
      "source": [
        "## Exercício 7\n",
        "Crie um array A com 10 elementos e salve o array em disco com a extensão npy\n",
        "\n",
        "Depois carregue o array do disco no array B"
      ]
    },
    {
      "cell_type": "code",
      "metadata": {
        "id": "PE2jVulV_Ifd",
        "colab_type": "code",
        "colab": {}
      },
      "source": [
        ""
      ],
      "execution_count": 0,
      "outputs": []
    },
    {
      "cell_type": "markdown",
      "metadata": {
        "id": "GIv3fegc_LH7",
        "colab_type": "text"
      },
      "source": [
        "## Exercício 8\n",
        "Considerando a série abaixo, imprima os valores únicos na série"
      ]
    },
    {
      "cell_type": "code",
      "metadata": {
        "id": "j_BWsL0A_PY0",
        "colab_type": "code",
        "colab": {}
      },
      "source": [
        "import pandas as pd\n",
        "obj = pd.Series(['c', 'a', 'd', 'a', 'a', 'b', 'b', 'c', 'c', 'a', 'b'])"
      ],
      "execution_count": 0,
      "outputs": []
    },
    {
      "cell_type": "code",
      "metadata": {
        "id": "Yc684GZV_R7D",
        "colab_type": "code",
        "colab": {}
      },
      "source": [
        ""
      ],
      "execution_count": 0,
      "outputs": []
    },
    {
      "cell_type": "markdown",
      "metadata": {
        "id": "m_RBpqTk_UIG",
        "colab_type": "text"
      },
      "source": [
        "## Exercício 9\n",
        "Considerando o trecho de código que conecta em uma url na internet, imprima o dataframe conforme abaixo."
      ]
    },
    {
      "cell_type": "code",
      "metadata": {
        "id": "Ztq1-ftx_Xi0",
        "colab_type": "code",
        "outputId": "4ff43d32-3cc6-41ed-9a74-64c13d29b339",
        "colab": {
          "base_uri": "https://localhost:8080/",
          "height": 34
        }
      },
      "source": [
        "import requests\n",
        "url = 'https://api.github.com/repos/pandas-dev/pandas/issues'\n",
        "resp = requests.get(url)\n",
        "resp"
      ],
      "execution_count": 0,
      "outputs": [
        {
          "output_type": "execute_result",
          "data": {
            "text/plain": [
              "<Response [200]>"
            ]
          },
          "metadata": {
            "tags": []
          },
          "execution_count": 3
        }
      ]
    },
    {
      "cell_type": "markdown",
      "metadata": {
        "id": "L2cDVf8L_1qQ",
        "colab_type": "text"
      },
      "source": [
        "## Exercício 10\n",
        "Crie um banco de dados no SQLite, crie uma tabela, insira registros, \n",
        "consulte a tabela e retorne os dados em dataframe do Pandas"
      ]
    },
    {
      "cell_type": "markdown",
      "metadata": {
        "id": "kI8oOvlo_aN0",
        "colab_type": "text"
      },
      "source": [
        ""
      ]
    }
  ]
}