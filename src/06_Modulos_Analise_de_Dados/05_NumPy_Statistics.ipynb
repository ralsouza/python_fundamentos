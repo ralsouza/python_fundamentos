{
  "nbformat": 4,
  "nbformat_minor": 0,
  "metadata": {
    "colab": {
      "name": "05_NumPy_Statistics.ipynb",
      "provenance": [],
      "collapsed_sections": [],
      "authorship_tag": "ABX9TyM3Yu/NDbXcFtwROszqIR5X",
      "include_colab_link": true
    },
    "kernelspec": {
      "name": "python3",
      "display_name": "Python 3"
    }
  },
  "cells": [
    {
      "cell_type": "markdown",
      "metadata": {
        "id": "view-in-github",
        "colab_type": "text"
      },
      "source": [
        "<a href=\"https://colab.research.google.com/github/ralsouza/python_fundamentos/blob/master/src/06_Modulos_Analise_de_Dados/05_NumPy_Statistics.ipynb\" target=\"_parent\"><img src=\"https://colab.research.google.com/assets/colab-badge.svg\" alt=\"Open In Colab\"/></a>"
      ]
    },
    {
      "cell_type": "markdown",
      "metadata": {
        "id": "Nxor7ERp7rEO",
        "colab_type": "text"
      },
      "source": [
        "## NumPy and Statistics \n",
        "Is possible to use NumPy for some statistical operations.\n",
        "\n"
      ]
    },
    {
      "cell_type": "code",
      "metadata": {
        "id": "gB7Jf4to8FXZ",
        "colab_type": "code",
        "colab": {}
      },
      "source": [
        "# Import libraries\n",
        "import numpy as np\n",
        "import matplotlib.pyplot as plt\n",
        "%matplotlib inline"
      ],
      "execution_count": 0,
      "outputs": []
    },
    {
      "cell_type": "code",
      "metadata": {
        "id": "7y3913LK7WeZ",
        "colab_type": "code",
        "colab": {}
      },
      "source": [
        "# Create a simple array\n",
        "arr = ([15,23,63,94,75])"
      ],
      "execution_count": 0,
      "outputs": []
    },
    {
      "cell_type": "code",
      "metadata": {
        "id": "eKMVHjmL8gO0",
        "colab_type": "code",
        "outputId": "64e68d24-63a7-4946-91c7-1505fabbc4e0",
        "colab": {
          "base_uri": "https://localhost:8080/",
          "height": 35
        }
      },
      "source": [
        "# In Statistics, the mean is a value that points to where most data is concentrated in a distribuition\n",
        "np.mean(arr)"
      ],
      "execution_count": 0,
      "outputs": [
        {
          "output_type": "execute_result",
          "data": {
            "text/plain": [
              "54.0"
            ]
          },
          "metadata": {
            "tags": []
          },
          "execution_count": 4
        }
      ]
    },
    {
      "cell_type": "code",
      "metadata": {
        "id": "VJlcj-QR9szy",
        "colab_type": "code",
        "outputId": "e04cf760-5612-45f3-c42e-b1969011239f",
        "colab": {
          "base_uri": "https://localhost:8080/",
          "height": 35
        }
      },
      "source": [
        "# The Standard Deviation shows how much is the variation or dispersion exists relative of mean (or spected value)\n",
        "# A low Standard Deviation indicates that the data tends to approach of mean\n",
        "# And a high Standard Deviation indicates that the data is spread over a range of values\n",
        "np.std(arr)"
      ],
      "execution_count": 0,
      "outputs": [
        {
          "output_type": "execute_result",
          "data": {
            "text/plain": [
              "30.34468652004828"
            ]
          },
          "metadata": {
            "tags": []
          },
          "execution_count": 5
        }
      ]
    },
    {
      "cell_type": "code",
      "metadata": {
        "id": "NNZG6153BjpK",
        "colab_type": "code",
        "outputId": "96c7bcd1-b003-4c85-8bbc-dfca56f977be",
        "colab": {
          "base_uri": "https://localhost:8080/",
          "height": 54
        }
      },
      "source": [
        "# Variance of an aleatory variable is a measure of statistic dispersion,\n",
        "# indicating how far is general your values are from the expected value\n",
        "np.var(arr)"
      ],
      "execution_count": 0,
      "outputs": [
        {
          "output_type": "execute_result",
          "data": {
            "text/plain": [
              "920.8"
            ]
          },
          "metadata": {
            "tags": []
          },
          "execution_count": 3
        }
      ]
    },
    {
      "cell_type": "code",
      "metadata": {
        "id": "31yXF3PL3613",
        "colab_type": "code",
        "outputId": "544b0a35-843f-4ac5-fde4-c3aaa8aeec31",
        "colab": {
          "base_uri": "https://localhost:8080/",
          "height": 54
        }
      },
      "source": [
        "# Create another array\n",
        "arr2 = np.arange(1,10)\n",
        "\n",
        "arr2"
      ],
      "execution_count": 0,
      "outputs": [
        {
          "output_type": "execute_result",
          "data": {
            "text/plain": [
              "array([1, 2, 3, 4, 5, 6, 7, 8, 9])"
            ]
          },
          "metadata": {
            "tags": []
          },
          "execution_count": 5
        }
      ]
    },
    {
      "cell_type": "code",
      "metadata": {
        "id": "w_YtWeJ44EIr",
        "colab_type": "code",
        "outputId": "cf65b78d-3204-4e29-effd-61ba80ab2d84",
        "colab": {
          "base_uri": "https://localhost:8080/",
          "height": 54
        }
      },
      "source": [
        "# Count of frequencies \n",
        "np.sum(arr2)"
      ],
      "execution_count": 0,
      "outputs": [
        {
          "output_type": "execute_result",
          "data": {
            "text/plain": [
              "45"
            ]
          },
          "metadata": {
            "tags": []
          },
          "execution_count": 6
        }
      ]
    },
    {
      "cell_type": "code",
      "metadata": {
        "id": "kHWikIBS4U55",
        "colab_type": "code",
        "outputId": "a0066b99-441b-4a36-c850-7dcc1c3f7086",
        "colab": {
          "base_uri": "https://localhost:8080/",
          "height": 54
        }
      },
      "source": [
        "# Calculate the product of a number\n",
        "np.prod(arr2)"
      ],
      "execution_count": 0,
      "outputs": [
        {
          "output_type": "execute_result",
          "data": {
            "text/plain": [
              "362880"
            ]
          },
          "metadata": {
            "tags": []
          },
          "execution_count": 10
        }
      ]
    },
    {
      "cell_type": "code",
      "metadata": {
        "id": "CsjQ5X8S4opk",
        "colab_type": "code",
        "outputId": "c0900cab-ddad-4d5e-f680-47ca6e159b03",
        "colab": {
          "base_uri": "https://localhost:8080/",
          "height": 54
        }
      },
      "source": [
        "# Accumulated sum\n",
        "np.cumsum(arr2)"
      ],
      "execution_count": 0,
      "outputs": [
        {
          "output_type": "execute_result",
          "data": {
            "text/plain": [
              "array([ 1,  3,  6, 10, 15, 21, 28, 36, 45])"
            ]
          },
          "metadata": {
            "tags": []
          },
          "execution_count": 11
        }
      ]
    },
    {
      "cell_type": "code",
      "metadata": {
        "id": "8INkcySG42r8",
        "colab_type": "code",
        "outputId": "ad16e8a1-d7a7-420d-bf40-0e932399e79f",
        "colab": {
          "base_uri": "https://localhost:8080/",
          "height": 54
        }
      },
      "source": [
        "# Generate a random elements\n",
        "rand_nums = np.random.randn(400,2)\n",
        "mean_nums = rand_nums.mean(0)\n",
        "print(mean_nums, mean_nums.shape)"
      ],
      "execution_count": 0,
      "outputs": [
        {
          "output_type": "stream",
          "text": [
            "[ 0.03616179 -0.03519009] (2,)\n"
          ],
          "name": "stdout"
        }
      ]
    },
    {
      "cell_type": "code",
      "metadata": {
        "id": "SDOTqDpyBVZ1",
        "colab_type": "code",
        "colab": {
          "base_uri": "https://localhost:8080/",
          "height": 286
        },
        "outputId": "8f1d2eb6-1377-4c94-debd-6927a00bc80b"
      },
      "source": [
        "plt.plot(rand_nums[ :,0], rand_nums[ :,1], 'o', markersize=5, alpha=0.50)\n",
        "plt.plot(mean_nums[0], mean_nums[1], 'ro', markersize=10)\n",
        "plt.show()\n",
        "\n",
        "# The red dot at the middle is the mean of data"
      ],
      "execution_count": 21,
      "outputs": [
        {
          "output_type": "display_data",
          "data": {
            "image/png": "[encoded data removed]",
            "text/plain": [
              "<Figure size 432x288 with 1 Axes>"
            ]
          },
          "metadata": {
            "tags": []
          }
        }
      ]
    }
  ]
}