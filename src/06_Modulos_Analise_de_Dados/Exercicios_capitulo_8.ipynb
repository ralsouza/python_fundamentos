{
  "nbformat": 4,
  "nbformat_minor": 0,
  "metadata": {
    "colab": {
      "name": "Exercicios_capitulo_8.ipynb",
      "provenance": [],
      "collapsed_sections": [],
      "mount_file_id": "1EjdIdOTWGD_oiRKvVCFIZyqaIFeRGunG",
      "authorship_tag": "ABX9TyPvu14CNA8inOu4TQEWRqZa",
      "include_colab_link": true
    },
    "kernelspec": {
      "name": "python3",
      "display_name": "Python 3"
    }
  },
  "cells": [
    {
      "cell_type": "markdown",
      "metadata": {
        "id": "view-in-github",
        "colab_type": "text"
      },
      "source": [
        "<a href=\"https://colab.research.google.com/github/ralsouza/python_fundamentos/blob/master/src/06_Modulos_Analise_de_Dados/Exercicios_capitulo_8.ipynb\" target=\"_parent\"><img src=\"https://colab.research.google.com/assets/colab-badge.svg\" alt=\"Open In Colab\"/></a>"
      ]
    },
    {
      "cell_type": "markdown",
      "metadata": {
        "id": "l7DeI9wE88Lj",
        "colab_type": "text"
      },
      "source": [
        "## Exercícios Sobre Módulos Python Para Análise de Dados\n",
        "\n",
        "**ATENÇÃO**\n",
        "\n",
        "**Alguns dos exercícios podem requerer pesquisa adicional na documentação dos pacotes. Pesquise!**\n",
        "\n",
        "Exercícios:\n",
        "\n",
        "[DSA-Python-Cap08-Exercicios.ipynb](https://github.com/ralsouza/Python_Data_Analysis/blob/master/Cap08/Notebooks/DSA-Python-Cap08-Exercicios.ipynb)\n",
        "\n",
        "Solução:\n",
        "\n",
        "[DSA-Python-Cap08-Exercicios-Solucao.ipynb](https://github.com/ralsouza/Python_Data_Analysis/blob/master/Cap08/Notebooks/DSA-Python-Cap08-Exercicios-Solucao.ipynb)"
      ]
    },
    {
      "cell_type": "markdown",
      "metadata": {
        "id": "HW5O1Gvi9Zgv",
        "colab_type": "text"
      },
      "source": [
        "## Exercício 1\n",
        "Crie um array NumPy com 1.000.000 e uma lista com 1.000.000.\n",
        "\n",
        "Multiplique cada elemento do array e da lista por 2 e calcule o tempo de execução com cada um dos objetos (use %time).\n",
        "\n",
        "Qual objeto oferece melhor performance, array NumPy ou lista?"
      ]
    },
    {
      "cell_type": "code",
      "metadata": {
        "id": "9p4Lrpkj6XWr",
        "colab_type": "code",
        "colab": {}
      },
      "source": [
        "import numpy as np"
      ],
      "execution_count": 0,
      "outputs": []
    },
    {
      "cell_type": "code",
      "metadata": {
        "id": "uQrYWSGYhjNB",
        "colab_type": "code",
        "colab": {}
      },
      "source": [
        "np_arr = np.arange(1000000)\n",
        "bt_lst = list(range(1000000))"
      ],
      "execution_count": 0,
      "outputs": []
    },
    {
      "cell_type": "code",
      "metadata": {
        "id": "AtEs5AP0txXa",
        "colab_type": "code",
        "outputId": "918bb450-3961-41f2-83b8-cabc606cc23d",
        "colab": {
          "base_uri": "https://localhost:8080/",
          "height": 51
        }
      },
      "source": [
        "# Time to process NumPy Array\n",
        "%time for _ in range(10): np_arr2 = np_arr * 2"
      ],
      "execution_count": 0,
      "outputs": [
        {
          "output_type": "stream",
          "text": [
            "CPU times: user 16.6 ms, sys: 8.16 ms, total: 24.8 ms\n",
            "Wall time: 28.9 ms\n"
          ],
          "name": "stdout"
        }
      ]
    },
    {
      "cell_type": "code",
      "metadata": {
        "id": "MWenBaxPodV7",
        "colab_type": "code",
        "outputId": "c98f9bf5-5e13-416a-ceb1-a448f5baee75",
        "colab": {
          "base_uri": "https://localhost:8080/",
          "height": 51
        }
      },
      "source": [
        "# Time to process a list\n",
        "%time for _ in range(10): bt_lst2 = [i * 2 for i in bt_lst]"
      ],
      "execution_count": 0,
      "outputs": [
        {
          "output_type": "stream",
          "text": [
            "CPU times: user 655 ms, sys: 199 ms, total: 854 ms\n",
            "Wall time: 856 ms\n"
          ],
          "name": "stdout"
        }
      ]
    },
    {
      "cell_type": "markdown",
      "metadata": {
        "id": "IT4f5-Xf9nbH",
        "colab_type": "text"
      },
      "source": [
        "## Exercício 2\n",
        "Crie um array de 10 elementos\n",
        "\n",
        "Altere o valores de todos os elementos dos índices 5 a 8 para 0"
      ]
    },
    {
      "cell_type": "code",
      "metadata": {
        "id": "E6G63Oax9vY_",
        "colab_type": "code",
        "outputId": "c0a386c3-3b19-492f-9491-594f857aadd3",
        "colab": {
          "base_uri": "https://localhost:8080/",
          "height": 34
        }
      },
      "source": [
        "arr = np.arange(10)\n",
        "arr"
      ],
      "execution_count": 0,
      "outputs": [
        {
          "output_type": "execute_result",
          "data": {
            "text/plain": [
              "array([0, 1, 2, 3, 4, 5, 6, 7, 8, 9])"
            ]
          },
          "metadata": {
            "tags": []
          },
          "execution_count": 5
        }
      ]
    },
    {
      "cell_type": "code",
      "metadata": {
        "id": "vkAWOgwH2LL5",
        "colab_type": "code",
        "outputId": "bcf19a4d-d816-4129-e6fd-d20c35183442",
        "colab": {
          "base_uri": "https://localhost:8080/",
          "height": 34
        }
      },
      "source": [
        "arr[5:8] = 0\n",
        "arr"
      ],
      "execution_count": 0,
      "outputs": [
        {
          "output_type": "execute_result",
          "data": {
            "text/plain": [
              "array([0, 1, 2, 3, 4, 0, 0, 0, 8, 9])"
            ]
          },
          "metadata": {
            "tags": []
          },
          "execution_count": 6
        }
      ]
    },
    {
      "cell_type": "markdown",
      "metadata": {
        "id": "xx4x_n1Y9xY4",
        "colab_type": "text"
      },
      "source": [
        "## Exercício 3\n",
        "Crie um array de 3 dimensões e imprima a dimensão 1"
      ]
    },
    {
      "cell_type": "code",
      "metadata": {
        "id": "vBqmK2tE915g",
        "colab_type": "code",
        "outputId": "281332f2-ffa4-4a6f-882b-0f743fd8d777",
        "colab": {
          "base_uri": "https://localhost:8080/",
          "height": 68
        }
      },
      "source": [
        "# Create an array 3x3\n",
        "x = np.arange(9).reshape(3,3)\n",
        "x"
      ],
      "execution_count": 0,
      "outputs": [
        {
          "output_type": "execute_result",
          "data": {
            "text/plain": [
              "array([[0, 1, 2],\n",
              "       [3, 4, 5],\n",
              "       [6, 7, 8]])"
            ]
          },
          "metadata": {
            "tags": []
          },
          "execution_count": 9
        }
      ]
    },
    {
      "cell_type": "code",
      "metadata": {
        "id": "HK1IO9uZsu_J",
        "colab_type": "code",
        "outputId": "51e35009-320f-415c-f3ae-c80ace99c755",
        "colab": {
          "base_uri": "https://localhost:8080/",
          "height": 34
        }
      },
      "source": [
        "# Print the dimension 1\n",
        "x[0]"
      ],
      "execution_count": 0,
      "outputs": [
        {
          "output_type": "execute_result",
          "data": {
            "text/plain": [
              "array([0, 1, 2])"
            ]
          },
          "metadata": {
            "tags": []
          },
          "execution_count": 15
        }
      ]
    },
    {
      "cell_type": "markdown",
      "metadata": {
        "id": "5cCkOft192tw",
        "colab_type": "text"
      },
      "source": [
        "## Exercício 4\n",
        "1.   Crie uma matriz 3x3;\n",
        "2.   Imprima os elementos da terceira linha da matriz;\n",
        "3.   Imprima todos os elementos da primeira e segunda linhas e segunda e terceira colunas.\n",
        "\n",
        "`numpy.matrix`: It is no longer recommended to use this class, even for linear algebra. Instead use regular arrays. The class may be removed in the future.\n",
        "\n",
        "[Source: numpy.matrix](https://docs.scipy.org/doc/numpy/reference/generated/numpy.matrix.html)"
      ]
    },
    {
      "cell_type": "code",
      "metadata": {
        "id": "M_65mivP-APV",
        "colab_type": "code",
        "outputId": "8e5e4f52-01a7-459c-f839-abe5e17188f0",
        "colab": {
          "base_uri": "https://localhost:8080/",
          "height": 71
        }
      },
      "source": [
        "# Create a matrix\n",
        "y = np.arange(9).reshape(3,3)\n",
        "y"
      ],
      "execution_count": 0,
      "outputs": [
        {
          "output_type": "execute_result",
          "data": {
            "text/plain": [
              "array([[0, 1, 2],\n",
              "       [3, 4, 5],\n",
              "       [6, 7, 8]])"
            ]
          },
          "metadata": {
            "tags": []
          },
          "execution_count": 3
        }
      ]
    },
    {
      "cell_type": "code",
      "metadata": {
        "id": "aL49m0m2v6ZS",
        "colab_type": "code",
        "outputId": "7586ab67-1632-4527-b8f2-2c2b66996cd8",
        "colab": {
          "base_uri": "https://localhost:8080/",
          "height": 34
        }
      },
      "source": [
        "# Print the thrird row of matrix\n",
        "y[2]"
      ],
      "execution_count": 0,
      "outputs": [
        {
          "output_type": "execute_result",
          "data": {
            "text/plain": [
              "array([6, 7, 8])"
            ]
          },
          "metadata": {
            "tags": []
          },
          "execution_count": 26
        }
      ]
    },
    {
      "cell_type": "code",
      "metadata": {
        "id": "hAiRA5rZzv0V",
        "colab_type": "code",
        "outputId": "a67896da-b762-4e92-ac80-2a1485c53b01",
        "colab": {
          "base_uri": "https://localhost:8080/",
          "height": 53
        }
      },
      "source": [
        "# Imprima todos os elementos da primeira e segunda linhas e segunda e terceira colunas.\n",
        "y[:2,1:]"
      ],
      "execution_count": 0,
      "outputs": [
        {
          "output_type": "execute_result",
          "data": {
            "text/plain": [
              "array([[1, 2],\n",
              "       [4, 5]])"
            ]
          },
          "metadata": {
            "tags": []
          },
          "execution_count": 42
        }
      ]
    },
    {
      "cell_type": "markdown",
      "metadata": {
        "id": "c9fyq59w-DY5",
        "colab_type": "text"
      },
      "source": [
        "## Exercício 5\n",
        "Calcule a transposta(pivot) da matriz abaixo\n"
      ]
    },
    {
      "cell_type": "code",
      "metadata": {
        "id": "cFsTeblk-TTv",
        "colab_type": "code",
        "outputId": "fabef0df-d14e-452b-8836-e0dd72ff7eca",
        "colab": {
          "base_uri": "https://localhost:8080/",
          "height": 71
        }
      },
      "source": [
        "arr = np.arange(15).reshape((3, 5))\n",
        "arr"
      ],
      "execution_count": 0,
      "outputs": [
        {
          "output_type": "execute_result",
          "data": {
            "text/plain": [
              "array([[ 0,  1,  2,  3,  4],\n",
              "       [ 5,  6,  7,  8,  9],\n",
              "       [10, 11, 12, 13, 14]])"
            ]
          },
          "metadata": {
            "tags": []
          },
          "execution_count": 2
        }
      ]
    },
    {
      "cell_type": "code",
      "metadata": {
        "id": "FDdrA8tmSaRR",
        "colab_type": "code",
        "outputId": "3015c773-5d01-437a-bb88-4bbdc3f382bd",
        "colab": {
          "base_uri": "https://localhost:8080/",
          "height": 107
        }
      },
      "source": [
        "np.transpose(arr)"
      ],
      "execution_count": 0,
      "outputs": [
        {
          "output_type": "execute_result",
          "data": {
            "text/plain": [
              "array([[ 0,  5, 10],\n",
              "       [ 1,  6, 11],\n",
              "       [ 2,  7, 12],\n",
              "       [ 3,  8, 13],\n",
              "       [ 4,  9, 14]])"
            ]
          },
          "metadata": {
            "tags": []
          },
          "execution_count": 5
        }
      ]
    },
    {
      "cell_type": "markdown",
      "metadata": {
        "id": "zS16JFkN-ciz",
        "colab_type": "text"
      },
      "source": [
        "## Exercício 6\n",
        "Considere os 3 arrays abaixo\n",
        "\n",
        "Retorne o valor do array xarr se o valor for True no array cond. Caso contrário, retorne o valor do array yarr."
      ]
    },
    {
      "cell_type": "code",
      "metadata": {
        "id": "o71XfZ9x-pNZ",
        "colab_type": "code",
        "colab": {}
      },
      "source": [
        "xarr = np.array([1.1, 1.2, 1.3, 1.4, 1.5])\n",
        "yarr = np.array([2.1, 2.2, 2.3, 2.4, 2.5])\n",
        "cond = np.array([True, False, True, True, False])"
      ],
      "execution_count": 0,
      "outputs": []
    },
    {
      "cell_type": "code",
      "metadata": {
        "id": "8jzzEmL6RWrx",
        "colab_type": "code",
        "colab": {}
      },
      "source": [
        "help(enumerate)"
      ],
      "execution_count": 0,
      "outputs": []
    },
    {
      "cell_type": "code",
      "metadata": {
        "id": "9KNrbQ6UreM4",
        "colab_type": "code",
        "outputId": "3b679ccb-999e-406f-cc56-e63343e0532d",
        "colab": {
          "base_uri": "https://localhost:8080/",
          "height": 107
        }
      },
      "source": [
        "# Test enumerate\n",
        "for idx, value in enumerate(cond,start=1):\n",
        "  print('Index: {}, Value: {}'.format(idx,value))"
      ],
      "execution_count": 0,
      "outputs": [
        {
          "output_type": "stream",
          "text": [
            "Index: 1, Value: True\n",
            "Index: 2, Value: False\n",
            "Index: 3, Value: True\n",
            "Index: 4, Value: True\n",
            "Index: 5, Value: False\n"
          ],
          "name": "stdout"
        }
      ]
    },
    {
      "cell_type": "code",
      "metadata": {
        "id": "TSQfzjozYTC-",
        "colab_type": "code",
        "outputId": "d51a9064-57b0-4ff3-9f8d-977e57d73059",
        "colab": {
          "base_uri": "https://localhost:8080/",
          "height": 107
        }
      },
      "source": [
        "for idx, value in enumerate(cond):\n",
        "  if cond[idx] == True:\n",
        "    print(xarr[idx])\n",
        "    \n",
        "  if cond[idx] == False:\n",
        "    print(yarr[idx])"
      ],
      "execution_count": 0,
      "outputs": [
        {
          "output_type": "stream",
          "text": [
            "1.1\n",
            "2.2\n",
            "1.3\n",
            "1.4\n",
            "2.5\n"
          ],
          "name": "stdout"
        }
      ]
    },
    {
      "cell_type": "code",
      "metadata": {
        "id": "yFfLVtRlgcjH",
        "colab_type": "code",
        "outputId": "2ccac8fa-8820-435c-c253-e634df6a28a7",
        "colab": {
          "base_uri": "https://localhost:8080/",
          "height": 107
        }
      },
      "source": [
        "list(zip(xarr,yarr,cond))"
      ],
      "execution_count": 0,
      "outputs": [
        {
          "output_type": "execute_result",
          "data": {
            "text/plain": [
              "[(1.1, 2.1, True),\n",
              " (1.2, 2.2, False),\n",
              " (1.3, 2.3, True),\n",
              " (1.4, 2.4, True),\n",
              " (1.5, 2.5, False)]"
            ]
          },
          "metadata": {
            "tags": []
          },
          "execution_count": 25
        }
      ]
    },
    {
      "cell_type": "code",
      "metadata": {
        "id": "b9oi_6RBgCEC",
        "colab_type": "code",
        "outputId": "a7f71db9-2d7b-4507-e8cd-560d81280e63",
        "colab": {
          "base_uri": "https://localhost:8080/",
          "height": 107
        }
      },
      "source": [
        "# https://amir.rachum.com/blog/2012/07/14/double-iteration-in-list-comprehension/\n",
        "\n",
        "[(x,y,c) for x,y,c in zip(xarr,yarr,cond)]"
      ],
      "execution_count": 0,
      "outputs": [
        {
          "output_type": "execute_result",
          "data": {
            "text/plain": [
              "[(1.1, 2.1, True),\n",
              " (1.2, 2.2, False),\n",
              " (1.3, 2.3, True),\n",
              " (1.4, 2.4, True),\n",
              " (1.5, 2.5, False)]"
            ]
          },
          "metadata": {
            "tags": []
          },
          "execution_count": 39
        }
      ]
    },
    {
      "cell_type": "code",
      "metadata": {
        "id": "-tVKiYblUCix",
        "colab_type": "code",
        "outputId": "94989449-34f8-4fe6-9f01-086f399badc2",
        "colab": {
          "base_uri": "https://localhost:8080/",
          "height": 35
        }
      },
      "source": [
        "# Ternary Operator: [on_true] if [expression] else [on_false] \n",
        "# https://www.geeksforgeeks.org/ternary-operator-in-python/\n",
        "\n",
        "# 1.1 if True else 2.1\n",
        "1.1 if False else 2.1"
      ],
      "execution_count": 0,
      "outputs": [
        {
          "output_type": "execute_result",
          "data": {
            "text/plain": [
              "2.1"
            ]
          },
          "metadata": {
            "tags": []
          },
          "execution_count": 8
        }
      ]
    },
    {
      "cell_type": "code",
      "metadata": {
        "id": "8CcJoUmBibly",
        "colab_type": "code",
        "outputId": "9eca0e7a-ef8d-42f9-f16b-62929eba00ca",
        "colab": {
          "base_uri": "https://localhost:8080/",
          "height": 35
        }
      },
      "source": [
        "# Ternary Operator inside a list comprehension\n",
        "# But, this has multiple problems. First, it will not be very fast for large \n",
        "# arrays (because the work is being done in pure Python). Secondly, it will not \n",
        "# work with multidimensional arrays. \n",
        "[(x if c else y) \n",
        " for x, y, c in zip(xarr, yarr, cond)]"
      ],
      "execution_count": 0,
      "outputs": [
        {
          "output_type": "execute_result",
          "data": {
            "text/plain": [
              "[1.1, 2.2, 1.3, 1.4, 2.5]"
            ]
          },
          "metadata": {
            "tags": []
          },
          "execution_count": 5
        }
      ]
    },
    {
      "cell_type": "code",
      "metadata": {
        "id": "iseh4ZF7SWfd",
        "colab_type": "code",
        "outputId": "a1137782-35cc-44e0-f5a7-8c5bf5998f61",
        "colab": {
          "base_uri": "https://localhost:8080/",
          "height": 35
        }
      },
      "source": [
        "# With numpy\n",
        "\n",
        ".where() we can write this very concisely: numpy.where(condition[, x, y])\n",
        "# https://docs.scipy.org/doc/numpy/reference/generated/numpy.where.html\n",
        "\n",
        "np.where(cond,xarr,yarr)"
      ],
      "execution_count": 0,
      "outputs": [
        {
          "output_type": "execute_result",
          "data": {
            "text/plain": [
              "array([1.1, 2.2, 1.3, 1.4, 2.5])"
            ]
          },
          "metadata": {
            "tags": []
          },
          "execution_count": 6
        }
      ]
    },
    {
      "cell_type": "markdown",
      "metadata": {
        "id": "5uHifOT7-qQT",
        "colab_type": "text"
      },
      "source": [
        "## Exercício 7\n",
        "Crie um array A com 10 elementos e salve o array em disco com a extensão npy\n",
        "\n",
        "Depois carregue o array do disco no array B"
      ]
    },
    {
      "cell_type": "code",
      "metadata": {
        "id": "PE2jVulV_Ifd",
        "colab_type": "code",
        "colab": {
          "base_uri": "https://localhost:8080/",
          "height": 34
        },
        "outputId": "3cc02e83-ea5b-471c-a3de-2c3da81cbf0f"
      },
      "source": [
        "# numpy.save()\n",
        "# This function is used to store the input array in a disk file with npy extension(.npy)\n",
        "# https://www.geeksforgeeks.org/numpy-save/\n",
        "\n",
        "A = np.arange(10)"
      ],
      "execution_count": 2,
      "outputs": [
        {
          "output_type": "execute_result",
          "data": {
            "text/plain": [
              "array([0, 1, 2, 3, 4, 5, 6, 7, 8, 9])"
            ]
          },
          "metadata": {
            "tags": []
          },
          "execution_count": 2
        }
      ]
    },
    {
      "cell_type": "code",
      "metadata": {
        "id": "yRLr-sR0kSEO",
        "colab_type": "code",
        "colab": {}
      },
      "source": [
        "# Save the array in the disk\n",
        "np.save('my_array', A)"
      ],
      "execution_count": 0,
      "outputs": []
    },
    {
      "cell_type": "code",
      "metadata": {
        "id": "Lsgljf-HlNNz",
        "colab_type": "code",
        "colab": {
          "base_uri": "https://localhost:8080/",
          "height": 34
        },
        "outputId": "f5f018b5-e2cc-4d45-ad34-22da7312f586"
      },
      "source": [
        "# Load the array saved in the disk\n",
        "B = np.load('my_array.npy')\n",
        "B"
      ],
      "execution_count": 9,
      "outputs": [
        {
          "output_type": "execute_result",
          "data": {
            "text/plain": [
              "array([0, 1, 2, 3, 4, 5, 6, 7, 8, 9])"
            ]
          },
          "metadata": {
            "tags": []
          },
          "execution_count": 9
        }
      ]
    },
    {
      "cell_type": "markdown",
      "metadata": {
        "id": "GIv3fegc_LH7",
        "colab_type": "text"
      },
      "source": [
        "## Exercício 8\n",
        "Considerando a série abaixo, imprima os valores únicos na série"
      ]
    },
    {
      "cell_type": "code",
      "metadata": {
        "id": "j_BWsL0A_PY0",
        "colab_type": "code",
        "colab": {}
      },
      "source": [
        "import pandas as pd\n",
        "obj = pd.Series(['c', 'a', 'd', 'a', 'a', 'b', 'b', 'c', 'c', 'a', 'b'])"
      ],
      "execution_count": 0,
      "outputs": []
    },
    {
      "cell_type": "code",
      "metadata": {
        "id": "Yc684GZV_R7D",
        "colab_type": "code",
        "colab": {
          "base_uri": "https://localhost:8080/",
          "height": 34
        },
        "outputId": "df2c7885-7c75-4306-99e6-91d7dacc6254"
      },
      "source": [
        "# https://pandas.pydata.org/pandas-docs/stable/reference/api/pandas.Series.unique.html\n",
        "print(pd.Series.unique(obj))"
      ],
      "execution_count": 12,
      "outputs": [
        {
          "output_type": "stream",
          "text": [
            "['c' 'a' 'd' 'b']\n"
          ],
          "name": "stdout"
        }
      ]
    },
    {
      "cell_type": "code",
      "metadata": {
        "id": "uiOOomsom7MM",
        "colab_type": "code",
        "colab": {
          "base_uri": "https://localhost:8080/",
          "height": 34
        },
        "outputId": "e31b0b6d-662e-4f16-af53-118e2f7a01a0"
      },
      "source": [
        "obj_unique = obj.unique()\n",
        "print(obj_unique)"
      ],
      "execution_count": 15,
      "outputs": [
        {
          "output_type": "stream",
          "text": [
            "['c' 'a' 'd' 'b']\n"
          ],
          "name": "stdout"
        }
      ]
    },
    {
      "cell_type": "markdown",
      "metadata": {
        "id": "m_RBpqTk_UIG",
        "colab_type": "text"
      },
      "source": [
        "## Exercício 9\n",
        "Considerando o trecho de código que conecta em uma url na internet, imprima o dataframe conforme abaixo."
      ]
    },
    {
      "cell_type": "code",
      "metadata": {
        "id": "Ztq1-ftx_Xi0",
        "colab_type": "code",
        "outputId": "72fab163-d8b8-462d-8732-48f8e29bd9f9",
        "colab": {
          "base_uri": "https://localhost:8080/",
          "height": 34
        }
      },
      "source": [
        "import requests\n",
        "from pandas.io.json import json_normalize\n",
        "url = 'https://api.github.com/repos/pandas-dev/pandas/issues'\n",
        "resp = requests.get(url)\n",
        "resp"
      ],
      "execution_count": 89,
      "outputs": [
        {
          "output_type": "execute_result",
          "data": {
            "text/plain": [
              "200"
            ]
          },
          "metadata": {
            "tags": []
          },
          "execution_count": 89
        }
      ]
    },
    {
      "cell_type": "code",
      "metadata": {
        "id": "XV7YX_B4nRv-",
        "colab_type": "code",
        "colab": {}
      },
      "source": [
        "# Transform the response in JSON files\n",
        "data = resp.json()\n",
        "data"
      ],
      "execution_count": 0,
      "outputs": []
    },
    {
      "cell_type": "code",
      "metadata": {
        "id": "Tr3iGFissenr",
        "colab_type": "code",
        "colab": {}
      },
      "source": [
        "df_data = pd.DataFrame.from_dict(data,orient='columns')\n",
        "df_data.head(3)"
      ],
      "execution_count": 0,
      "outputs": []
    },
    {
      "cell_type": "code",
      "metadata": {
        "id": "F2fXUyCP2exv",
        "colab_type": "code",
        "colab": {
          "base_uri": "https://localhost:8080/",
          "height": 979
        },
        "outputId": "03ebfa8e-9817-4e82-a18b-bb3a57cda6d2"
      },
      "source": [
        "# Selecting some columns\n",
        "df_data[['id','number','title','state']]"
      ],
      "execution_count": 88,
      "outputs": [
        {
          "output_type": "execute_result",
          "data": {
            "text/html": [
              "<div>\n",
              "<style scoped>\n",
              "    .dataframe tbody tr th:only-of-type {\n",
              "        vertical-align: middle;\n",
              "    }\n",
              "\n",
              "    .dataframe tbody tr th {\n",
              "        vertical-align: top;\n",
              "    }\n",
              "\n",
              "    .dataframe thead th {\n",
              "        text-align: right;\n",
              "    }\n",
              "</style>\n",
              "<table border=\"1\" class=\"dataframe\">\n",
              "  <thead>\n",
              "    <tr style=\"text-align: right;\">\n",
              "      <th></th>\n",
              "      <th>id</th>\n",
              "      <th>number</th>\n",
              "      <th>title</th>\n",
              "      <th>state</th>\n",
              "    </tr>\n",
              "  </thead>\n",
              "  <tbody>\n",
              "    <tr>\n",
              "      <th>0</th>\n",
              "      <td>570863211</td>\n",
              "      <td>32252</td>\n",
              "      <td>(wip) BUG: itertuples was retuning empty list ...</td>\n",
              "      <td>open</td>\n",
              "    </tr>\n",
              "    <tr>\n",
              "      <th>1</th>\n",
              "      <td>570858535</td>\n",
              "      <td>32251</td>\n",
              "      <td>pandas.tseries.offsets.CustomBusinessDay apply...</td>\n",
              "      <td>open</td>\n",
              "    </tr>\n",
              "    <tr>\n",
              "      <th>2</th>\n",
              "      <td>570851428</td>\n",
              "      <td>32250</td>\n",
              "      <td>TST: method-speciifc file for select_dtypes</td>\n",
              "      <td>open</td>\n",
              "    </tr>\n",
              "    <tr>\n",
              "      <th>3</th>\n",
              "      <td>570847545</td>\n",
              "      <td>32248</td>\n",
              "      <td>REF: method-specific file for to_timestamp</td>\n",
              "      <td>open</td>\n",
              "    </tr>\n",
              "    <tr>\n",
              "      <th>4</th>\n",
              "      <td>570795665</td>\n",
              "      <td>32247</td>\n",
              "      <td>REF: simplify IntervalIndex/IntervalArray _sha...</td>\n",
              "      <td>open</td>\n",
              "    </tr>\n",
              "    <tr>\n",
              "      <th>5</th>\n",
              "      <td>570782807</td>\n",
              "      <td>32246</td>\n",
              "      <td>web site unwanted message</td>\n",
              "      <td>open</td>\n",
              "    </tr>\n",
              "    <tr>\n",
              "      <th>6</th>\n",
              "      <td>570751816</td>\n",
              "      <td>32244</td>\n",
              "      <td>CLN: simplify+annotate _shallow_copy</td>\n",
              "      <td>open</td>\n",
              "    </tr>\n",
              "    <tr>\n",
              "      <th>7</th>\n",
              "      <td>570746888</td>\n",
              "      <td>32243</td>\n",
              "      <td>Convert style object to DataFrame</td>\n",
              "      <td>open</td>\n",
              "    </tr>\n",
              "    <tr>\n",
              "      <th>8</th>\n",
              "      <td>570732480</td>\n",
              "      <td>32242</td>\n",
              "      <td>BUG: Fixed bug, where pandas._libs.lib.maybe_c...</td>\n",
              "      <td>open</td>\n",
              "    </tr>\n",
              "    <tr>\n",
              "      <th>9</th>\n",
              "      <td>570671758</td>\n",
              "      <td>32240</td>\n",
              "      <td>NamedAgg with as_index= False drops aggregated...</td>\n",
              "      <td>open</td>\n",
              "    </tr>\n",
              "    <tr>\n",
              "      <th>10</th>\n",
              "      <td>570559679</td>\n",
              "      <td>32238</td>\n",
              "      <td>read_excel with xlsb</td>\n",
              "      <td>open</td>\n",
              "    </tr>\n",
              "    <tr>\n",
              "      <th>11</th>\n",
              "      <td>570513038</td>\n",
              "      <td>32237</td>\n",
              "      <td>travis: enable bionic &amp; multi-cpu testing</td>\n",
              "      <td>open</td>\n",
              "    </tr>\n",
              "    <tr>\n",
              "      <th>12</th>\n",
              "      <td>570501889</td>\n",
              "      <td>32236</td>\n",
              "      <td>Added message to pytest raises for test_constr...</td>\n",
              "      <td>open</td>\n",
              "    </tr>\n",
              "    <tr>\n",
              "      <th>13</th>\n",
              "      <td>570462317</td>\n",
              "      <td>32235</td>\n",
              "      <td>Fix exception causes in 14 modules</td>\n",
              "      <td>open</td>\n",
              "    </tr>\n",
              "    <tr>\n",
              "      <th>14</th>\n",
              "      <td>570381519</td>\n",
              "      <td>32234</td>\n",
              "      <td>Using scipy's entropy function with \"string\" d...</td>\n",
              "      <td>open</td>\n",
              "    </tr>\n",
              "    <tr>\n",
              "      <th>15</th>\n",
              "      <td>570302383</td>\n",
              "      <td>32233</td>\n",
              "      <td>[FEATURE] Ability to pass regex module flags i...</td>\n",
              "      <td>open</td>\n",
              "    </tr>\n",
              "    <tr>\n",
              "      <th>16</th>\n",
              "      <td>570292846</td>\n",
              "      <td>32232</td>\n",
              "      <td>use ExtensionIndex._concat_same_dtype</td>\n",
              "      <td>open</td>\n",
              "    </tr>\n",
              "    <tr>\n",
              "      <th>17</th>\n",
              "      <td>570172852</td>\n",
              "      <td>32224</td>\n",
              "      <td>PERF: lazify consolidation check</td>\n",
              "      <td>open</td>\n",
              "    </tr>\n",
              "    <tr>\n",
              "      <th>18</th>\n",
              "      <td>570141319</td>\n",
              "      <td>32223</td>\n",
              "      <td>BUG: Fix DateFrameGroupBy.mean error for Int64...</td>\n",
              "      <td>open</td>\n",
              "    </tr>\n",
              "    <tr>\n",
              "      <th>19</th>\n",
              "      <td>570138111</td>\n",
              "      <td>32222</td>\n",
              "      <td>BUG: the sample skewness is wrong computed</td>\n",
              "      <td>open</td>\n",
              "    </tr>\n",
              "    <tr>\n",
              "      <th>20</th>\n",
              "      <td>569975481</td>\n",
              "      <td>32220</td>\n",
              "      <td>CI: value_counts tests failing sometimes</td>\n",
              "      <td>open</td>\n",
              "    </tr>\n",
              "    <tr>\n",
              "      <th>21</th>\n",
              "      <td>569949721</td>\n",
              "      <td>32219</td>\n",
              "      <td>calling `mean` on a `DataFrameGroupBy` with `I...</td>\n",
              "      <td>open</td>\n",
              "    </tr>\n",
              "    <tr>\n",
              "      <th>22</th>\n",
              "      <td>569821312</td>\n",
              "      <td>32218</td>\n",
              "      <td>Inconsistent behavior when DataFrame with stri...</td>\n",
              "      <td>open</td>\n",
              "    </tr>\n",
              "    <tr>\n",
              "      <th>23</th>\n",
              "      <td>569592189</td>\n",
              "      <td>32215</td>\n",
              "      <td>REF: include CategoricalIndex in index_cahced ...</td>\n",
              "      <td>open</td>\n",
              "    </tr>\n",
              "    <tr>\n",
              "      <th>24</th>\n",
              "      <td>569586517</td>\n",
              "      <td>32214</td>\n",
              "      <td>BUG: Cast pd.NA to pd.NaT in to_datetime</td>\n",
              "      <td>open</td>\n",
              "    </tr>\n",
              "    <tr>\n",
              "      <th>25</th>\n",
              "      <td>569586193</td>\n",
              "      <td>32213</td>\n",
              "      <td>pandas.to_datetime raises when given pd.NA</td>\n",
              "      <td>open</td>\n",
              "    </tr>\n",
              "    <tr>\n",
              "      <th>26</th>\n",
              "      <td>569573673</td>\n",
              "      <td>32212</td>\n",
              "      <td>DOC: DataFrame.ewm clean-up</td>\n",
              "      <td>open</td>\n",
              "    </tr>\n",
              "    <tr>\n",
              "      <th>27</th>\n",
              "      <td>569572927</td>\n",
              "      <td>32211</td>\n",
              "      <td>CLN/REF: Split up / clean Categorical construc...</td>\n",
              "      <td>open</td>\n",
              "    </tr>\n",
              "    <tr>\n",
              "      <th>28</th>\n",
              "      <td>569559947</td>\n",
              "      <td>32209</td>\n",
              "      <td>CLN: Use defaultdict for minor optimization</td>\n",
              "      <td>open</td>\n",
              "    </tr>\n",
              "    <tr>\n",
              "      <th>29</th>\n",
              "      <td>569543306</td>\n",
              "      <td>32207</td>\n",
              "      <td>read_excel loses spaces on ods</td>\n",
              "      <td>open</td>\n",
              "    </tr>\n",
              "  </tbody>\n",
              "</table>\n",
              "</div>"
            ],
            "text/plain": [
              "           id  number                                              title state\n",
              "0   570863211   32252  (wip) BUG: itertuples was retuning empty list ...  open\n",
              "1   570858535   32251  pandas.tseries.offsets.CustomBusinessDay apply...  open\n",
              "2   570851428   32250        TST: method-speciifc file for select_dtypes  open\n",
              "3   570847545   32248         REF: method-specific file for to_timestamp  open\n",
              "4   570795665   32247  REF: simplify IntervalIndex/IntervalArray _sha...  open\n",
              "5   570782807   32246                          web site unwanted message  open\n",
              "6   570751816   32244               CLN: simplify+annotate _shallow_copy  open\n",
              "7   570746888   32243                  Convert style object to DataFrame  open\n",
              "8   570732480   32242  BUG: Fixed bug, where pandas._libs.lib.maybe_c...  open\n",
              "9   570671758   32240  NamedAgg with as_index= False drops aggregated...  open\n",
              "10  570559679   32238                               read_excel with xlsb  open\n",
              "11  570513038   32237          travis: enable bionic & multi-cpu testing  open\n",
              "12  570501889   32236  Added message to pytest raises for test_constr...  open\n",
              "13  570462317   32235                 Fix exception causes in 14 modules  open\n",
              "14  570381519   32234  Using scipy's entropy function with \"string\" d...  open\n",
              "15  570302383   32233  [FEATURE] Ability to pass regex module flags i...  open\n",
              "16  570292846   32232              use ExtensionIndex._concat_same_dtype  open\n",
              "17  570172852   32224                   PERF: lazify consolidation check  open\n",
              "18  570141319   32223  BUG: Fix DateFrameGroupBy.mean error for Int64...  open\n",
              "19  570138111   32222         BUG: the sample skewness is wrong computed  open\n",
              "20  569975481   32220           CI: value_counts tests failing sometimes  open\n",
              "21  569949721   32219  calling `mean` on a `DataFrameGroupBy` with `I...  open\n",
              "22  569821312   32218  Inconsistent behavior when DataFrame with stri...  open\n",
              "23  569592189   32215  REF: include CategoricalIndex in index_cahced ...  open\n",
              "24  569586517   32214           BUG: Cast pd.NA to pd.NaT in to_datetime  open\n",
              "25  569586193   32213         pandas.to_datetime raises when given pd.NA  open\n",
              "26  569573673   32212                        DOC: DataFrame.ewm clean-up  open\n",
              "27  569572927   32211  CLN/REF: Split up / clean Categorical construc...  open\n",
              "28  569559947   32209        CLN: Use defaultdict for minor optimization  open\n",
              "29  569543306   32207                     read_excel loses spaces on ods  open"
            ]
          },
          "metadata": {
            "tags": []
          },
          "execution_count": 88
        }
      ]
    },
    {
      "cell_type": "markdown",
      "metadata": {
        "id": "zqjKtqqG3Fg1",
        "colab_type": "text"
      },
      "source": [
        "# Exercício 10"
      ]
    },
    {
      "cell_type": "code",
      "metadata": {
        "id": "Cm3s0_Ym3JVC",
        "colab_type": "code",
        "colab": {}
      },
      "source": [
        "# Crie um banco de dados no SQLite, crie uma tabela, insira registros, \n",
        "# consulte a tabela e retorne os dados em dataframe do Pandas\n",
        "import sqlite3\n",
        "import pandas as pd\n",
        "query = \"\"\"\n",
        "CREATE TABLE TESTE\n",
        "(Cidade VARCHAR(20), \n",
        " Estado VARCHAR(20),\n",
        " taxa REAL,        \n",
        " Impostos INTEGER\n",
        ");\"\"\"\n",
        "con = sqlite3.connect('dsa.db')\n",
        "con.execute(query)\n",
        "con.commit()"
      ],
      "execution_count": 0,
      "outputs": []
    },
    {
      "cell_type": "code",
      "metadata": {
        "id": "OV6r7mFT3LoA",
        "colab_type": "code",
        "colab": {}
      },
      "source": [
        "data = [('Natal', 'Rio Grande do Norte', 1.25, 6),\n",
        "        ('Recife', 'Pernambuco', 2.6, 3),\n",
        "        ('Londrina', 'Paraná', 1.7, 5)]\n",
        "stmt = \"INSERT INTO TESTE VALUES(?, ?, ?, ?)\"\n",
        "con.executemany(stmt, data)\n",
        "con.commit()"
      ],
      "execution_count": 0,
      "outputs": []
    },
    {
      "cell_type": "code",
      "metadata": {
        "id": "D46zDr4U3NeC",
        "colab_type": "code",
        "colab": {
          "base_uri": "https://localhost:8080/",
          "height": 68
        },
        "outputId": "2a61eb48-ec26-40d6-dd37-7c0b90058bde"
      },
      "source": [
        "cursor = con.execute('select * from teste')\n",
        "rows = cursor.fetchall()\n",
        "rows"
      ],
      "execution_count": 92,
      "outputs": [
        {
          "output_type": "execute_result",
          "data": {
            "text/plain": [
              "[('Natal', 'Rio Grande do Norte', 1.25, 6),\n",
              " ('Recife', 'Pernambuco', 2.6, 3),\n",
              " ('Londrina', 'Paraná', 1.7, 5)]"
            ]
          },
          "metadata": {
            "tags": []
          },
          "execution_count": 92
        }
      ]
    },
    {
      "cell_type": "code",
      "metadata": {
        "id": "BSrbDWMx3PN1",
        "colab_type": "code",
        "colab": {
          "base_uri": "https://localhost:8080/",
          "height": 142
        },
        "outputId": "cc345ecd-ddbd-4122-8c5a-df088ee36079"
      },
      "source": [
        "cursor.description\n",
        "pd.DataFrame(rows, columns=[x[0] for x in cursor.description])"
      ],
      "execution_count": 93,
      "outputs": [
        {
          "output_type": "execute_result",
          "data": {
            "text/html": [
              "<div>\n",
              "<style scoped>\n",
              "    .dataframe tbody tr th:only-of-type {\n",
              "        vertical-align: middle;\n",
              "    }\n",
              "\n",
              "    .dataframe tbody tr th {\n",
              "        vertical-align: top;\n",
              "    }\n",
              "\n",
              "    .dataframe thead th {\n",
              "        text-align: right;\n",
              "    }\n",
              "</style>\n",
              "<table border=\"1\" class=\"dataframe\">\n",
              "  <thead>\n",
              "    <tr style=\"text-align: right;\">\n",
              "      <th></th>\n",
              "      <th>Cidade</th>\n",
              "      <th>Estado</th>\n",
              "      <th>taxa</th>\n",
              "      <th>Impostos</th>\n",
              "    </tr>\n",
              "  </thead>\n",
              "  <tbody>\n",
              "    <tr>\n",
              "      <th>0</th>\n",
              "      <td>Natal</td>\n",
              "      <td>Rio Grande do Norte</td>\n",
              "      <td>1.25</td>\n",
              "      <td>6</td>\n",
              "    </tr>\n",
              "    <tr>\n",
              "      <th>1</th>\n",
              "      <td>Recife</td>\n",
              "      <td>Pernambuco</td>\n",
              "      <td>2.60</td>\n",
              "      <td>3</td>\n",
              "    </tr>\n",
              "    <tr>\n",
              "      <th>2</th>\n",
              "      <td>Londrina</td>\n",
              "      <td>Paraná</td>\n",
              "      <td>1.70</td>\n",
              "      <td>5</td>\n",
              "    </tr>\n",
              "  </tbody>\n",
              "</table>\n",
              "</div>"
            ],
            "text/plain": [
              "     Cidade               Estado  taxa  Impostos\n",
              "0     Natal  Rio Grande do Norte  1.25         6\n",
              "1    Recife           Pernambuco  2.60         3\n",
              "2  Londrina               Paraná  1.70         5"
            ]
          },
          "metadata": {
            "tags": []
          },
          "execution_count": 93
        }
      ]
    }
  ]
}