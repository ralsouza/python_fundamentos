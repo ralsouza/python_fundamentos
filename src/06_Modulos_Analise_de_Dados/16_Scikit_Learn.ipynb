{
  "nbformat": 4,
  "nbformat_minor": 0,
  "metadata": {
    "colab": {
      "name": "16_Scikit-Learn.ipynb",
      "provenance": [],
      "collapsed_sections": [],
      "authorship_tag": "ABX9TyMY/u9bwSTPf2v2EsnAVfZH",
      "include_colab_link": true
    },
    "kernelspec": {
      "name": "python3",
      "display_name": "Python 3"
    }
  },
  "cells": [
    {
      "cell_type": "markdown",
      "metadata": {
        "id": "view-in-github",
        "colab_type": "text"
      },
      "source": [
        "<a href=\"https://colab.research.google.com/github/ralsouza/python_fundamentos/blob/master/src/06_Modulos_Analise_de_Dados/16_Scikit_Learn.ipynb\" target=\"_parent\"><img src=\"https://colab.research.google.com/assets/colab-badge.svg\" alt=\"Open In Colab\"/></a>"
      ]
    },
    {
      "cell_type": "markdown",
      "metadata": {
        "id": "v5GdmyLuzRoe",
        "colab_type": "text"
      },
      "source": [
        "## Scikit-Learn\n",
        "[Scikit-Learn](https://scikit-learn.org/stable/)\n",
        "\n",
        "## Choosing the right estimator\n",
        "![Choosing the right estimator](https://scikit-learn.org/stable/_static/ml_map.png)\n"
      ]
    }
  ]
}