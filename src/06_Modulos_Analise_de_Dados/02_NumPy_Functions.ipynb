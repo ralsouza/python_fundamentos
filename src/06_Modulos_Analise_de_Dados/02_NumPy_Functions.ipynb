{
  "nbformat": 4,
  "nbformat_minor": 0,
  "metadata": {
    "colab": {
      "name": "02_NumPy_Functions.ipynb",
      "provenance": [],
      "collapsed_sections": [],
      "include_colab_link": true
    },
    "kernelspec": {
      "name": "python3",
      "display_name": "Python 3"
    }
  },
  "cells": [
    {
      "cell_type": "markdown",
      "metadata": {
        "id": "view-in-github",
        "colab_type": "text"
      },
      "source": [
        "<a href=\"https://colab.research.google.com/github/ralsouza/python_fundamentos/blob/master/src/06_Modulos_Analise_de_Dados/02_NumPy_Functions.ipynb\" target=\"_parent\"><img src=\"https://colab.research.google.com/assets/colab-badge.svg\" alt=\"Open In Colab\"/></a>"
      ]
    },
    {
      "cell_type": "markdown",
      "metadata": {
        "id": "qLGKq7zA_OUC",
        "colab_type": "text"
      },
      "source": [
        "## NumPy Functions"
      ]
    },
    {
      "cell_type": "code",
      "metadata": {
        "id": "NmPsb01GAb72",
        "colab_type": "code",
        "colab": {}
      },
      "source": [
        "# Import libraries\n",
        "import numpy as np"
      ],
      "execution_count": 0,
      "outputs": []
    },
    {
      "cell_type": "code",
      "metadata": {
        "id": "kAAo50ky6HLv",
        "colab_type": "code",
        "colab": {
          "base_uri": "https://localhost:8080/",
          "height": 54
        },
        "outputId": "74f2562c-2f5b-4cd5-fabc-b41ffc603389"
      },
      "source": [
        "# The function .arange() creates a vector that contains an arithmetic progression from a interval.\n",
        "# Example: np.arange(start, stop, step)\n",
        "\n",
        "vec1 = np.arange(0.,4.5, .5)\n",
        "\n",
        "print(vec1)"
      ],
      "execution_count": 3,
      "outputs": [
        {
          "output_type": "stream",
          "text": [
            "[0.  0.5 1.  1.5 2.  2.5 3.  3.5 4. ]\n"
          ],
          "name": "stdout"
        }
      ]
    },
    {
      "cell_type": "code",
      "metadata": {
        "id": "AfJke-UKAyMU",
        "colab_type": "code",
        "colab": {
          "base_uri": "https://localhost:8080/",
          "height": 54
        },
        "outputId": "6e3bd648-d1ae-43b3-e839-3338e983fb0c"
      },
      "source": [
        "# Check the type of object\n",
        "type(vec1)"
      ],
      "execution_count": 4,
      "outputs": [
        {
          "output_type": "execute_result",
          "data": {
            "text/plain": [
              "numpy.ndarray"
            ]
          },
          "metadata": {
            "tags": []
          },
          "execution_count": 4
        }
      ]
    },
    {
      "cell_type": "code",
      "metadata": {
        "id": "jGgKp9kHA2Zy",
        "colab_type": "code",
        "colab": {
          "base_uri": "https://localhost:8080/",
          "height": 54
        },
        "outputId": "1794312f-3894-4180-b985-c778d7cf315a"
      },
      "source": [
        "# Check the type of data in the object\n",
        "print(vec1.dtype)"
      ],
      "execution_count": 8,
      "outputs": [
        {
          "output_type": "stream",
          "text": [
            "float64\n"
          ],
          "name": "stdout"
        }
      ]
    },
    {
      "cell_type": "code",
      "metadata": {
        "id": "lqzuoWXaBH9J",
        "colab_type": "code",
        "colab": {
          "base_uri": "https://localhost:8080/",
          "height": 87
        },
        "outputId": "d523e9d5-b3cd-4ec9-fed6-cb92e455a134"
      },
      "source": [
        "# Create a new vector\n",
        "vec2 = np.arange(1,10,0.25)\n",
        "\n",
        "print(vec2)"
      ],
      "execution_count": 9,
      "outputs": [
        {
          "output_type": "stream",
          "text": [
            "[1.   1.25 1.5  1.75 2.   2.25 2.5  2.75 3.   3.25 3.5  3.75 4.   4.25\n",
            " 4.5  4.75 5.   5.25 5.5  5.75 6.   6.25 6.5  6.75 7.   7.25 7.5  7.75\n",
            " 8.   8.25 8.5  8.75 9.   9.25 9.5  9.75]\n"
          ],
          "name": "stdout"
        }
      ]
    }
  ]
}