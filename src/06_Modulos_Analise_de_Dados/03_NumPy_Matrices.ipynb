{
  "nbformat": 4,
  "nbformat_minor": 0,
  "metadata": {
    "colab": {
      "name": "03_NumPy_Matrices.ipynb",
      "provenance": [],
      "collapsed_sections": [],
      "authorship_tag": "ABX9TyNsE3HMIBuTVWdyKfofypZi",
      "include_colab_link": true
    },
    "kernelspec": {
      "name": "python3",
      "display_name": "Python 3"
    }
  },
  "cells": [
    {
      "cell_type": "markdown",
      "metadata": {
        "id": "view-in-github",
        "colab_type": "text"
      },
      "source": [
        "<a href=\"https://colab.research.google.com/github/ralsouza/python_fundamentos/blob/master/src/06_Modulos_Analise_de_Dados/03_NumPy_Matrices.ipynb\" target=\"_parent\"><img src=\"https://colab.research.google.com/assets/colab-badge.svg\" alt=\"Open In Colab\"/></a>"
      ]
    },
    {
      "cell_type": "markdown",
      "metadata": {
        "id": "ahk3dUfLf1uO",
        "colab_type": "text"
      },
      "source": [
        "## Creating Matrices"
      ]
    },
    {
      "cell_type": "code",
      "metadata": {
        "id": "n1qWdAmPf1Sp",
        "colab_type": "code",
        "colab": {}
      },
      "source": [
        "# Import Numpy\n",
        "import numpy as np"
      ],
      "execution_count": 0,
      "outputs": []
    },
    {
      "cell_type": "code",
      "metadata": {
        "id": "OijVmRCVeVGB",
        "colab_type": "code",
        "outputId": "1a4fe3da-eb06-425f-b5cc-d4bbda4b6df9",
        "colab": {
          "base_uri": "https://localhost:8080/",
          "height": 53
        }
      },
      "source": [
        "# Create a simple matrix\n",
        "mtx = np.array([[1,2,3],[4,5,6]])\n",
        "\n",
        "print(mtx)"
      ],
      "execution_count": 0,
      "outputs": [
        {
          "output_type": "stream",
          "text": [
            "[[1 2 3]\n",
            " [4 5 6]]\n"
          ],
          "name": "stdout"
        }
      ]
    },
    {
      "cell_type": "code",
      "metadata": {
        "id": "qh-CRbeVgfv5",
        "colab_type": "code",
        "outputId": "b9aa3a87-9c9f-458b-8fdf-b0fbb862b55b",
        "colab": {
          "base_uri": "https://localhost:8080/",
          "height": 35
        }
      },
      "source": [
        "# Show shape\n",
        "print(mtx.shape)"
      ],
      "execution_count": 0,
      "outputs": [
        {
          "output_type": "stream",
          "text": [
            "(2, 3)\n"
          ],
          "name": "stdout"
        }
      ]
    },
    {
      "cell_type": "code",
      "metadata": {
        "id": "64v1BG2_gvx1",
        "colab_type": "code",
        "outputId": "5c90690b-b03c-4cb4-fa6c-ebd8c531bbda",
        "colab": {
          "base_uri": "https://localhost:8080/",
          "height": 53
        }
      },
      "source": [
        "# Initialize a matrix (2,3) filled with numbers 1\n",
        "mtx1 = np.ones((2,3))\n",
        "\n",
        "print(mtx1)"
      ],
      "execution_count": 0,
      "outputs": [
        {
          "output_type": "stream",
          "text": [
            "[[1. 1. 1.]\n",
            " [1. 1. 1.]]\n"
          ],
          "name": "stdout"
        }
      ]
    },
    {
      "cell_type": "code",
      "metadata": {
        "id": "wb9HP4uohWDT",
        "colab_type": "code",
        "colab": {}
      },
      "source": [
        "# Create a matrix from a list of lists\n",
        "list = [[13,81,22],[0,34,59],[21,48,94]]"
      ],
      "execution_count": 0,
      "outputs": []
    },
    {
      "cell_type": "code",
      "metadata": {
        "id": "1QH-Csxiiqkh",
        "colab_type": "code",
        "outputId": "385f447f-ecfd-4e9a-cac2-27c6a3e297ed",
        "colab": {
          "base_uri": "https://localhost:8080/",
          "height": 71
        }
      },
      "source": [
        "# The matrix() method creates a matrix from a list in sequence\n",
        "mtx2 = np.matrix(list)\n",
        "\n",
        "mtx2"
      ],
      "execution_count": 0,
      "outputs": [
        {
          "output_type": "execute_result",
          "data": {
            "text/plain": [
              "matrix([[13, 81, 22],\n",
              "        [ 0, 34, 59],\n",
              "        [21, 48, 94]])"
            ]
          },
          "metadata": {
            "tags": []
          },
          "execution_count": 13
        }
      ]
    },
    {
      "cell_type": "code",
      "metadata": {
        "id": "Zo1QdJ-ejOTZ",
        "colab_type": "code",
        "outputId": "f5ad9d08-bfc6-4cf9-87e6-f4cfdd03f5e6",
        "colab": {
          "base_uri": "https://localhost:8080/",
          "height": 35
        }
      },
      "source": [
        "type(mtx2)"
      ],
      "execution_count": 0,
      "outputs": [
        {
          "output_type": "execute_result",
          "data": {
            "text/plain": [
              "numpy.matrix"
            ]
          },
          "metadata": {
            "tags": []
          },
          "execution_count": 14
        }
      ]
    },
    {
      "cell_type": "code",
      "metadata": {
        "id": "yEII7ongjTl3",
        "colab_type": "code",
        "outputId": "381a37f7-67e2-467d-d962-b5e01160b0e6",
        "colab": {
          "base_uri": "https://localhost:8080/",
          "height": 35
        }
      },
      "source": [
        "# Show matrix shape\n",
        "np.shape(mtx2)"
      ],
      "execution_count": 0,
      "outputs": [
        {
          "output_type": "execute_result",
          "data": {
            "text/plain": [
              "(3, 3)"
            ]
          },
          "metadata": {
            "tags": []
          },
          "execution_count": 15
        }
      ]
    },
    {
      "cell_type": "code",
      "metadata": {
        "id": "h4OqJsrdjrMq",
        "colab_type": "code",
        "outputId": "676843c1-5ed4-492d-ff25-dcedad158ea2",
        "colab": {
          "base_uri": "https://localhost:8080/",
          "height": 35
        }
      },
      "source": [
        "# Show matrix size\n",
        "np.size(mtx2)"
      ],
      "execution_count": 0,
      "outputs": [
        {
          "output_type": "execute_result",
          "data": {
            "text/plain": [
              "9"
            ]
          },
          "metadata": {
            "tags": []
          },
          "execution_count": 16
        }
      ]
    },
    {
      "cell_type": "code",
      "metadata": {
        "id": "C_npMwHvjwy_",
        "colab_type": "code",
        "outputId": "b179377e-f654-4491-af9a-4b06213d4792",
        "colab": {
          "base_uri": "https://localhost:8080/",
          "height": 35
        }
      },
      "source": [
        "# Show matrix type\n",
        "mtx2.dtype"
      ],
      "execution_count": 0,
      "outputs": [
        {
          "output_type": "execute_result",
          "data": {
            "text/plain": [
              "dtype('int64')"
            ]
          },
          "metadata": {
            "tags": []
          },
          "execution_count": 17
        }
      ]
    },
    {
      "cell_type": "code",
      "metadata": {
        "id": "bvU4RvIHkCd7",
        "colab_type": "code",
        "outputId": "19d7f566-2eee-44e9-c704-dae438673874",
        "colab": {
          "base_uri": "https://localhost:8080/",
          "height": 35
        }
      },
      "source": [
        "# Show lenght of items\n",
        "mtx2.itemsize"
      ],
      "execution_count": 0,
      "outputs": [
        {
          "output_type": "execute_result",
          "data": {
            "text/plain": [
              "8"
            ]
          },
          "metadata": {
            "tags": []
          },
          "execution_count": 19
        }
      ]
    },
    {
      "cell_type": "code",
      "metadata": {
        "id": "woYjbx79kR4t",
        "colab_type": "code",
        "outputId": "7ca0a32a-9d7d-47aa-b2a5-926a9942983d",
        "colab": {
          "base_uri": "https://localhost:8080/",
          "height": 35
        }
      },
      "source": [
        "# Show matrix bytes\n",
        "mtx2.nbytes"
      ],
      "execution_count": 0,
      "outputs": [
        {
          "output_type": "execute_result",
          "data": {
            "text/plain": [
              "72"
            ]
          },
          "metadata": {
            "tags": []
          },
          "execution_count": 20
        }
      ]
    },
    {
      "cell_type": "code",
      "metadata": {
        "id": "jHevubFOkkIy",
        "colab_type": "code",
        "outputId": "b6278a41-6fbf-4a79-9484-cbd7b5bbc5cd",
        "colab": {
          "base_uri": "https://localhost:8080/",
          "height": 35
        }
      },
      "source": [
        "# Printing a specific value using slice notation\n",
        "# Remember: The indexing in Python starts in 0\n",
        "# row x col\n",
        "print(mtx2[2,1])"
      ],
      "execution_count": 0,
      "outputs": [
        {
          "output_type": "stream",
          "text": [
            "48\n"
          ],
          "name": "stdout"
        }
      ]
    },
    {
      "cell_type": "code",
      "metadata": {
        "id": "lAsSd5T-k8lY",
        "colab_type": "code",
        "outputId": "d17c0c7d-8718-418e-a49a-2e25a7f0f0bd",
        "colab": {
          "base_uri": "https://localhost:8080/",
          "height": 71
        }
      },
      "source": [
        "# Changing a value\n",
        "mtx2[0,2] = 100\n",
        "\n",
        "mtx2"
      ],
      "execution_count": 0,
      "outputs": [
        {
          "output_type": "execute_result",
          "data": {
            "text/plain": [
              "matrix([[ 13,  81, 100],\n",
              "        [  0,  34,  59],\n",
              "        [ 21,  48,  94]])"
            ]
          },
          "metadata": {
            "tags": []
          },
          "execution_count": 22
        }
      ]
    },
    {
      "cell_type": "code",
      "metadata": {
        "id": "y7McAMV5leUK",
        "colab_type": "code",
        "outputId": "5f497e1e-6db9-4d82-fa93-8a92404ff1ac",
        "colab": {
          "base_uri": "https://localhost:8080/",
          "height": 35
        }
      },
      "source": [
        "# By default, NumPy decides the data type for values\n",
        "# We can declare the specific data type we want\n",
        "mtx3 = np.array([1,2], dtype=np.float64)\n",
        "\n",
        "mtx3"
      ],
      "execution_count": 0,
      "outputs": [
        {
          "output_type": "execute_result",
          "data": {
            "text/plain": [
              "array([1., 2.])"
            ]
          },
          "metadata": {
            "tags": []
          },
          "execution_count": 23
        }
      ]
    },
    {
      "cell_type": "code",
      "metadata": {
        "id": "dsl-fIlnqNzk",
        "colab_type": "code",
        "outputId": "af7b4778-e197-4187-b14a-1edbebe5fa1e",
        "colab": {
          "base_uri": "https://localhost:8080/",
          "height": 35
        }
      },
      "source": [
        "print(mtx3.dtype)"
      ],
      "execution_count": 0,
      "outputs": [
        {
          "output_type": "stream",
          "text": [
            "float64\n"
          ],
          "name": "stdout"
        }
      ]
    },
    {
      "cell_type": "code",
      "metadata": {
        "id": "zPB5sLwoqcNn",
        "colab_type": "code",
        "outputId": "a57134cb-c55b-410c-dfd7-29d5f746bf04",
        "colab": {
          "base_uri": "https://localhost:8080/",
          "height": 71
        }
      },
      "source": [
        "# Create a matrix with specific data type\n",
        "mtx4 = np.array([[24,36],[40,46],[80,29]],dtype=float)\n",
        "\n",
        "mtx4"
      ],
      "execution_count": 0,
      "outputs": [
        {
          "output_type": "execute_result",
          "data": {
            "text/plain": [
              "array([[24., 36.],\n",
              "       [40., 46.],\n",
              "       [80., 29.]])"
            ]
          },
          "metadata": {
            "tags": []
          },
          "execution_count": 26
        }
      ]
    },
    {
      "cell_type": "code",
      "metadata": {
        "id": "ViABP5vOrTj6",
        "colab_type": "code",
        "outputId": "cbc2fb63-2130-4800-9c6e-55299b1b2db1",
        "colab": {
          "base_uri": "https://localhost:8080/",
          "height": 35
        }
      },
      "source": [
        "# Show number of dimensions\n",
        "mtx4.ndim"
      ],
      "execution_count": 0,
      "outputs": [
        {
          "output_type": "execute_result",
          "data": {
            "text/plain": [
              "2"
            ]
          },
          "metadata": {
            "tags": []
          },
          "execution_count": 29
        }
      ]
    },
    {
      "cell_type": "code",
      "metadata": {
        "id": "0U_ClP-briRu",
        "colab_type": "code",
        "outputId": "32bd21a6-32d3-4f08-b07a-6b6c84bab534",
        "colab": {
          "base_uri": "https://localhost:8080/",
          "height": 35
        }
      },
      "source": [
        "# Show value of row 1 and column 1\n",
        "mtx4[1,1]"
      ],
      "execution_count": 0,
      "outputs": [
        {
          "output_type": "execute_result",
          "data": {
            "text/plain": [
              "46.0"
            ]
          },
          "metadata": {
            "tags": []
          },
          "execution_count": 30
        }
      ]
    },
    {
      "cell_type": "code",
      "metadata": {
        "id": "xinwsM4Jrqck",
        "colab_type": "code",
        "outputId": "cc6e74dd-8aaa-4d3f-85b3-c2fb0a392452",
        "colab": {
          "base_uri": "https://localhost:8080/",
          "height": 71
        }
      },
      "source": [
        "# Change a value\n",
        "mtx4[2,1] = 300\n",
        "\n",
        "mtx4"
      ],
      "execution_count": 0,
      "outputs": [
        {
          "output_type": "execute_result",
          "data": {
            "text/plain": [
              "array([[ 24.,  36.],\n",
              "       [ 40.,  46.],\n",
              "       [ 80., 300.]])"
            ]
          },
          "metadata": {
            "tags": []
          },
          "execution_count": 32
        }
      ]
    }
  ]
}