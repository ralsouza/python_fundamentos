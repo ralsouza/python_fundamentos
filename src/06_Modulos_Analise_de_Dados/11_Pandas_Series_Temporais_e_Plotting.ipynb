{
  "nbformat": 4,
  "nbformat_minor": 0,
  "metadata": {
    "colab": {
      "name": "11_Pandas_Series_Temporais_e_Plotting.ipynb",
      "provenance": [],
      "collapsed_sections": [],
      "authorship_tag": "ABX9TyMgzfD5HlAgNO9/TERdGC+R",
      "include_colab_link": true
    },
    "kernelspec": {
      "name": "python3",
      "display_name": "Python 3"
    }
  },
  "cells": [
    {
      "cell_type": "markdown",
      "metadata": {
        "id": "view-in-github",
        "colab_type": "text"
      },
      "source": [
        "<a href=\"https://colab.research.google.com/github/ralsouza/python_fundamentos/blob/master/src/06_Modulos_Analise_de_Dados/11_Pandas_Series_Temporais_e_Plotting.ipynb\" target=\"_parent\"><img src=\"https://colab.research.google.com/assets/colab-badge.svg\" alt=\"Open In Colab\"/></a>"
      ]
    },
    {
      "cell_type": "markdown",
      "metadata": {
        "id": "YS6t7cB5Resx",
        "colab_type": "text"
      },
      "source": [
        "## Time Series"
      ]
    },
    {
      "cell_type": "code",
      "metadata": {
        "id": "hDQjPqDxR1Ot",
        "colab_type": "code",
        "colab": {}
      },
      "source": [
        "import pandas as pd\n",
        "import numpy as np"
      ],
      "execution_count": 0,
      "outputs": []
    },
    {
      "cell_type": "code",
      "metadata": {
        "id": "oN1g5AC8LOCt",
        "colab_type": "code",
        "colab": {
          "base_uri": "https://localhost:8080/",
          "height": 459
        },
        "outputId": "806efcf3-ae8c-46bf-f68d-599dc4b3ae89"
      },
      "source": [
        "# Create a fifty periods by seconds frequency \n",
        "rng = pd.date_range('1/1/2020',periods=50,freq='S')\n",
        "\n",
        "rng"
      ],
      "execution_count": 2,
      "outputs": [
        {
          "output_type": "execute_result",
          "data": {
            "text/plain": [
              "DatetimeIndex(['2020-01-01 00:00:00', '2020-01-01 00:00:01',\n",
              "               '2020-01-01 00:00:02', '2020-01-01 00:00:03',\n",
              "               '2020-01-01 00:00:04', '2020-01-01 00:00:05',\n",
              "               '2020-01-01 00:00:06', '2020-01-01 00:00:07',\n",
              "               '2020-01-01 00:00:08', '2020-01-01 00:00:09',\n",
              "               '2020-01-01 00:00:10', '2020-01-01 00:00:11',\n",
              "               '2020-01-01 00:00:12', '2020-01-01 00:00:13',\n",
              "               '2020-01-01 00:00:14', '2020-01-01 00:00:15',\n",
              "               '2020-01-01 00:00:16', '2020-01-01 00:00:17',\n",
              "               '2020-01-01 00:00:18', '2020-01-01 00:00:19',\n",
              "               '2020-01-01 00:00:20', '2020-01-01 00:00:21',\n",
              "               '2020-01-01 00:00:22', '2020-01-01 00:00:23',\n",
              "               '2020-01-01 00:00:24', '2020-01-01 00:00:25',\n",
              "               '2020-01-01 00:00:26', '2020-01-01 00:00:27',\n",
              "               '2020-01-01 00:00:28', '2020-01-01 00:00:29',\n",
              "               '2020-01-01 00:00:30', '2020-01-01 00:00:31',\n",
              "               '2020-01-01 00:00:32', '2020-01-01 00:00:33',\n",
              "               '2020-01-01 00:00:34', '2020-01-01 00:00:35',\n",
              "               '2020-01-01 00:00:36', '2020-01-01 00:00:37',\n",
              "               '2020-01-01 00:00:38', '2020-01-01 00:00:39',\n",
              "               '2020-01-01 00:00:40', '2020-01-01 00:00:41',\n",
              "               '2020-01-01 00:00:42', '2020-01-01 00:00:43',\n",
              "               '2020-01-01 00:00:44', '2020-01-01 00:00:45',\n",
              "               '2020-01-01 00:00:46', '2020-01-01 00:00:47',\n",
              "               '2020-01-01 00:00:48', '2020-01-01 00:00:49'],\n",
              "              dtype='datetime64[ns]', freq='S')"
            ]
          },
          "metadata": {
            "tags": []
          },
          "execution_count": 2
        }
      ]
    },
    {
      "cell_type": "code",
      "metadata": {
        "id": "r3_HKKp4SDIg",
        "colab_type": "code",
        "colab": {
          "base_uri": "https://localhost:8080/",
          "height": 884
        },
        "outputId": "be22b362-d6a8-4c26-decf-1442fa6861ac"
      },
      "source": [
        "# Generate a time serie based on date_rage created above as index\n",
        "# A time series is a column with data and one column with dates as index\n",
        "ts = pd.Series(np.random.randint(0,500,len(rng)),index=rng)\n",
        "\n",
        "ts"
      ],
      "execution_count": 5,
      "outputs": [
        {
          "output_type": "execute_result",
          "data": {
            "text/plain": [
              "2020-01-01 00:00:00    106\n",
              "2020-01-01 00:00:01    498\n",
              "2020-01-01 00:00:02     23\n",
              "2020-01-01 00:00:03     23\n",
              "2020-01-01 00:00:04     49\n",
              "2020-01-01 00:00:05    298\n",
              "2020-01-01 00:00:06    316\n",
              "2020-01-01 00:00:07      1\n",
              "2020-01-01 00:00:08     44\n",
              "2020-01-01 00:00:09    460\n",
              "2020-01-01 00:00:10     65\n",
              "2020-01-01 00:00:11    252\n",
              "2020-01-01 00:00:12    431\n",
              "2020-01-01 00:00:13    435\n",
              "2020-01-01 00:00:14     64\n",
              "2020-01-01 00:00:15     34\n",
              "2020-01-01 00:00:16    146\n",
              "2020-01-01 00:00:17    107\n",
              "2020-01-01 00:00:18    232\n",
              "2020-01-01 00:00:19    491\n",
              "2020-01-01 00:00:20    346\n",
              "2020-01-01 00:00:21    429\n",
              "2020-01-01 00:00:22    410\n",
              "2020-01-01 00:00:23     88\n",
              "2020-01-01 00:00:24    395\n",
              "2020-01-01 00:00:25    140\n",
              "2020-01-01 00:00:26    111\n",
              "2020-01-01 00:00:27    147\n",
              "2020-01-01 00:00:28    172\n",
              "2020-01-01 00:00:29    375\n",
              "2020-01-01 00:00:30    431\n",
              "2020-01-01 00:00:31     33\n",
              "2020-01-01 00:00:32    356\n",
              "2020-01-01 00:00:33    457\n",
              "2020-01-01 00:00:34    276\n",
              "2020-01-01 00:00:35    371\n",
              "2020-01-01 00:00:36     89\n",
              "2020-01-01 00:00:37    300\n",
              "2020-01-01 00:00:38     66\n",
              "2020-01-01 00:00:39    165\n",
              "2020-01-01 00:00:40     28\n",
              "2020-01-01 00:00:41    260\n",
              "2020-01-01 00:00:42    180\n",
              "2020-01-01 00:00:43    166\n",
              "2020-01-01 00:00:44     31\n",
              "2020-01-01 00:00:45    301\n",
              "2020-01-01 00:00:46    225\n",
              "2020-01-01 00:00:47    274\n",
              "2020-01-01 00:00:48    385\n",
              "2020-01-01 00:00:49     35\n",
              "Freq: S, dtype: int64"
            ]
          },
          "metadata": {
            "tags": []
          },
          "execution_count": 5
        }
      ]
    },
    {
      "cell_type": "code",
      "metadata": {
        "id": "XTadgogDUA2K",
        "colab_type": "code",
        "colab": {
          "base_uri": "https://localhost:8080/",
          "height": 238
        },
        "outputId": "76d0f1cc-4659-4d7a-802b-9bcf835f787f"
      },
      "source": [
        "# Create a time series based by month\n",
        "rng_month = pd.date_range('1/1/2020',periods=12,freq='M')\n",
        "ts = pd.Series(np.random.randn(len(rng_month)),index=rng_month)\n",
        "ts"
      ],
      "execution_count": 14,
      "outputs": [
        {
          "output_type": "execute_result",
          "data": {
            "text/plain": [
              "2020-01-31    0.259225\n",
              "2020-02-29    1.725518\n",
              "2020-03-31    0.858405\n",
              "2020-04-30    0.967714\n",
              "2020-05-31    0.554739\n",
              "2020-06-30    1.023537\n",
              "2020-07-31   -1.138070\n",
              "2020-08-31    0.097954\n",
              "2020-09-30    1.425275\n",
              "2020-10-31   -0.227939\n",
              "2020-11-30    1.277825\n",
              "2020-12-31   -1.642196\n",
              "Freq: M, dtype: float64"
            ]
          },
          "metadata": {
            "tags": []
          },
          "execution_count": 14
        }
      ]
    },
    {
      "cell_type": "markdown",
      "metadata": {
        "id": "piGAWlX_WKzY",
        "colab_type": "text"
      },
      "source": [
        "## Plotting"
      ]
    },
    {
      "cell_type": "code",
      "metadata": {
        "id": "JYCkGPf_U8Mt",
        "colab_type": "code",
        "colab": {}
      },
      "source": [
        "import matplotlib.pyplot as plt\n",
        "from matplotlib import style\n",
        "%matplotlib inline"
      ],
      "execution_count": 0,
      "outputs": []
    },
    {
      "cell_type": "code",
      "metadata": {
        "id": "DdnDI2ogWZhw",
        "colab_type": "code",
        "colab": {
          "base_uri": "https://localhost:8080/",
          "height": 294
        },
        "outputId": "55e433f1-29e9-4707-e754-f29144ba392a"
      },
      "source": [
        "# Plotting time series\n",
        "ts = pd.Series(np.random.randn(500),index=pd.date_range('1/1/2020',periods=500))\n",
        "ts = ts.cumsum()\n",
        "ts.plot()"
      ],
      "execution_count": 16,
      "outputs": [
        {
          "output_type": "execute_result",
          "data": {
            "text/plain": [
              "<matplotlib.axes._subplots.AxesSubplot at 0x7f4af94472b0>"
            ]
          },
          "metadata": {
            "tags": []
          },
          "execution_count": 16
        },
        {
          "output_type": "display_data",
          "data": {
            "image/png": "[encoded data removed]",
            "text/plain": [
              "<Figure size 432x288 with 1 Axes>"
            ]
          },
          "metadata": {
            "tags": []
          }
        }
      ]
    },
    {
      "cell_type": "code",
      "metadata": {
        "id": "sP7CEQbcWzbw",
        "colab_type": "code",
        "colab": {
          "base_uri": "https://localhost:8080/",
          "height": 311
        },
        "outputId": "b18e3e85-15a3-4aa0-ec98-96632f14aa93"
      },
      "source": [
        "# Plotting with DataFrame\n",
        "df = pd.DataFrame(np.random.randn(500,4), index=ts.index, columns=['A','B','C','D'])\n",
        "df = df.cumsum()\n",
        "plt.figure();df.plot();plt.legend(loc='best')"
      ],
      "execution_count": 17,
      "outputs": [
        {
          "output_type": "execute_result",
          "data": {
            "text/plain": [
              "<matplotlib.legend.Legend at 0x7f4af7bd9390>"
            ]
          },
          "metadata": {
            "tags": []
          },
          "execution_count": 17
        },
        {
          "output_type": "display_data",
          "data": {
            "text/plain": [
              "<Figure size 432x288 with 0 Axes>"
            ]
          },
          "metadata": {
            "tags": []
          }
        },
        {
          "output_type": "display_data",
          "data": {
            "image/png": "[encoded data removed]",
            "text/plain": [
              "<Figure size 432x288 with 1 Axes>"
            ]
          },
          "metadata": {
            "tags": []
          }
        }
      ]
    },
    {
      "cell_type": "markdown",
      "metadata": {
        "id": "cuaTKy3rYJEg",
        "colab_type": "text"
      },
      "source": [
        "## Output"
      ]
    },
    {
      "cell_type": "code",
      "metadata": {
        "id": "4rk32NMAX2Zv",
        "colab_type": "code",
        "colab": {}
      },
      "source": [
        "# import os library\n",
        "import os "
      ],
      "execution_count": 0,
      "outputs": []
    },
    {
      "cell_type": "code",
      "metadata": {
        "id": "yOAWvCGwYOC7",
        "colab_type": "code",
        "colab": {}
      },
      "source": [
        "# Check if file exists inside the work directory\n",
        "# On Windows use !type teste-df-output.xlsx\n",
        "# And Mac and Linux use this\n",
        "!head teste_df_output.xlsx"
      ],
      "execution_count": 0,
      "outputs": []
    },
    {
      "cell_type": "code",
      "metadata": {
        "id": "kIDHAC2JYoyw",
        "colab_type": "code",
        "colab": {}
      },
      "source": [
        "# Make file from a dataframe\n",
        "df.to_excel('teste_df_output.xlsx',sheet_name='sheet1')"
      ],
      "execution_count": 0,
      "outputs": []
    },
    {
      "cell_type": "code",
      "metadata": {
        "id": "AH1iHSiOZM_c",
        "colab_type": "code",
        "colab": {}
      },
      "source": [
        "# Import data from file into a DataFrame\n",
        "newDf = pd.read_csv('teste_df_output.xlsx','sheet1',index_col=None,na_values=['NA'])\n",
        "\n",
        "newDf.head()"
      ],
      "execution_count": 0,
      "outputs": []
    },
    {
      "cell_type": "code",
      "metadata": {
        "id": "b9n00mNRdsJX",
        "colab_type": "code",
        "colab": {}
      },
      "source": [
        "# Remove file on disc\n",
        "os.remove('teste_df_output.xlsx')"
      ],
      "execution_count": 0,
      "outputs": []
    }
  ]
}