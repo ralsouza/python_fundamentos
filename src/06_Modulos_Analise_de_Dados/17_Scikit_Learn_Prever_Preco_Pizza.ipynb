{
  "nbformat": 4,
  "nbformat_minor": 0,
  "metadata": {
    "colab": {
      "name": "17_Scikit-Learn_Prever_Preco_Pizza.ipynb",
      "provenance": [],
      "collapsed_sections": [],
      "authorship_tag": "ABX9TyNDXxAZdUJ/80YXjMxqO+wz",
      "include_colab_link": true
    },
    "kernelspec": {
      "name": "python3",
      "display_name": "Python 3"
    }
  },
  "cells": [
    {
      "cell_type": "markdown",
      "metadata": {
        "id": "view-in-github",
        "colab_type": "text"
      },
      "source": [
        "<a href=\"https://colab.research.google.com/github/ralsouza/python_fundamentos/blob/master/src/06_Modulos_Analise_de_Dados/17_Scikit_Learn_Prever_Preco_Pizza.ipynb\" target=\"_parent\"><img src=\"https://colab.research.google.com/assets/colab-badge.svg\" alt=\"Open In Colab\"/></a>"
      ]
    },
    {
      "cell_type": "markdown",
      "metadata": {
        "id": "gDXnh5TJ3rZn",
        "colab_type": "text"
      },
      "source": [
        "## Prevendo o Preço da Pizza\n",
        "**Suponha que você queira prever o preço da pizza. Para isso, vamos criar um modelo de regressão linear para prever o preço da pizza, baseado em um atributo da pizza que podemos observar. Vamos modelar a relação entre o tamanho (diâmetro) de uma pizza e seu preço. Escreveremos então um programa com sckit-learn, que prevê o preço da pizza dado seu tamanho.\n",
        "Como queremos prever um valor numérico, a regressão é o indicado para este tipo de problema**\n",
        "\n",
        "---\n",
        "Obs 1: O conjunto de técnicas de regressão é muito provavelmente um dos modelos mais simples utilizados em análises de dados que procuram entender a relação do comportamento em determinado fenômeno e comportamento de uma ou mais variáveis potencialmente preditoras, sem que haja, entretanto uma obrigatória relação de causa e efeito.\n",
        "\n",
        "---\n",
        "Obs 2: É fundamental que o pesquisador seja muito cuidadoso e criterioso ao interpretar os resultados de uma modelagem de regressão.\n",
        "A existência de um modelo de regressão não significa que ocorra, obrigatóriamente, relação de causa e efeito entre variáveis consideradas/"
      ]
    },
    {
      "cell_type": "code",
      "metadata": {
        "id": "mlH6g5id2ayo",
        "colab_type": "code",
        "colab": {}
      },
      "source": [
        "# Import Matplotlib and Numpy\n",
        "import matplotlib.pyplot as plt\n",
        "import numpy as np\n",
        "import pandas as pd\n",
        "%matplotlib inline"
      ],
      "execution_count": 0,
      "outputs": []
    },
    {
      "cell_type": "markdown",
      "metadata": {
        "id": "325AQLfADPW5",
        "colab_type": "text"
      },
      "source": [
        "## Let's assume that you registered the price of the pizzas that you have in last months with your family."
      ]
    },
    {
      "cell_type": "code",
      "metadata": {
        "id": "ctotNJcpC32K",
        "colab_type": "code",
        "colab": {
          "base_uri": "https://localhost:8080/",
          "height": 204
        },
        "outputId": "d3ad2e38-b29d-4d70-fb84-4ae493c9b077"
      },
      "source": [
        "my_pizzas = {\n",
        "    'Diameter (cm)': [7,10,15,30,45],\n",
        "    'Price (R$)': [8,11,16,38.5,52]\n",
        "}\n",
        "\n",
        "df = pd.DataFrame(my_pizzas)\n",
        "\n",
        "df"
      ],
      "execution_count": 4,
      "outputs": [
        {
          "output_type": "execute_result",
          "data": {
            "text/html": [
              "<div>\n",
              "<style scoped>\n",
              "    .dataframe tbody tr th:only-of-type {\n",
              "        vertical-align: middle;\n",
              "    }\n",
              "\n",
              "    .dataframe tbody tr th {\n",
              "        vertical-align: top;\n",
              "    }\n",
              "\n",
              "    .dataframe thead th {\n",
              "        text-align: right;\n",
              "    }\n",
              "</style>\n",
              "<table border=\"1\" class=\"dataframe\">\n",
              "  <thead>\n",
              "    <tr style=\"text-align: right;\">\n",
              "      <th></th>\n",
              "      <th>Diameter (cm)</th>\n",
              "      <th>Price (R$)</th>\n",
              "    </tr>\n",
              "  </thead>\n",
              "  <tbody>\n",
              "    <tr>\n",
              "      <th>0</th>\n",
              "      <td>7</td>\n",
              "      <td>8.0</td>\n",
              "    </tr>\n",
              "    <tr>\n",
              "      <th>1</th>\n",
              "      <td>10</td>\n",
              "      <td>11.0</td>\n",
              "    </tr>\n",
              "    <tr>\n",
              "      <th>2</th>\n",
              "      <td>15</td>\n",
              "      <td>16.0</td>\n",
              "    </tr>\n",
              "    <tr>\n",
              "      <th>3</th>\n",
              "      <td>30</td>\n",
              "      <td>38.5</td>\n",
              "    </tr>\n",
              "    <tr>\n",
              "      <th>4</th>\n",
              "      <td>45</td>\n",
              "      <td>52.0</td>\n",
              "    </tr>\n",
              "  </tbody>\n",
              "</table>\n",
              "</div>"
            ],
            "text/plain": [
              "   Diameter (cm)  Price (R$)\n",
              "0              7         8.0\n",
              "1             10        11.0\n",
              "2             15        16.0\n",
              "3             30        38.5\n",
              "4             45        52.0"
            ]
          },
          "metadata": {
            "tags": []
          },
          "execution_count": 4
        }
      ]
    },
    {
      "cell_type": "markdown",
      "metadata": {
        "id": "cquPjDZUFZ-t",
        "colab_type": "text"
      },
      "source": [
        "## We will do a little exploratory analysis"
      ]
    },
    {
      "cell_type": "code",
      "metadata": {
        "id": "C0qjv1SHE_nF",
        "colab_type": "code",
        "colab": {
          "base_uri": "https://localhost:8080/",
          "height": 295
        },
        "outputId": "4391e095-7782-48bb-b8fe-9b0220e44363"
      },
      "source": [
        "plt.figure()\n",
        "plt.xlabel('Diameter (cm)')\n",
        "plt.ylabel('Price (R$)')\n",
        "plt.title('Diameter vs Price')\n",
        "plt.plot(df['Diameter (cm)'],df['Price (R$)'],'k.')\n",
        "plt.axis([0,60,0,60])\n",
        "plt.grid(True)\n",
        "plt.show()"
      ],
      "execution_count": 6,
      "outputs": [
        {
          "output_type": "display_data",
          "data": {
            "image/png": "[encoded data removed]",
            "text/plain": [
              "<Figure size 432x288 with 1 Axes>"
            ]
          },
          "metadata": {
            "tags": []
          }
        }
      ]
    },
    {
      "cell_type": "code",
      "metadata": {
        "id": "biBuRY33Gckp",
        "colab_type": "code",
        "colab": {}
      },
      "source": [
        ""
      ],
      "execution_count": 0,
      "outputs": []
    }
  ]
}