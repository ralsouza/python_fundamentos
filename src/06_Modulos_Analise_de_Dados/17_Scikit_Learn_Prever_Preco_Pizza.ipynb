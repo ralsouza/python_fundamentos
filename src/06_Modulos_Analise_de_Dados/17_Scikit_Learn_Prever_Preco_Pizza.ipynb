{
  "nbformat": 4,
  "nbformat_minor": 0,
  "metadata": {
    "colab": {
      "name": "17_Scikit-Learn_Prever_Preco_Pizza.ipynb",
      "provenance": [],
      "collapsed_sections": [],
      "authorship_tag": "ABX9TyMHlyapNY7q8z+AONhDEzWS",
      "include_colab_link": true
    },
    "kernelspec": {
      "name": "python3",
      "display_name": "Python 3"
    }
  },
  "cells": [
    {
      "cell_type": "markdown",
      "metadata": {
        "id": "view-in-github",
        "colab_type": "text"
      },
      "source": [
        "<a href=\"https://colab.research.google.com/github/ralsouza/python_fundamentos/blob/master/src/06_Modulos_Analise_de_Dados/17_Scikit_Learn_Prever_Preco_Pizza.ipynb\" target=\"_parent\"><img src=\"https://colab.research.google.com/assets/colab-badge.svg\" alt=\"Open In Colab\"/></a>"
      ]
    },
    {
      "cell_type": "markdown",
      "metadata": {
        "id": "gDXnh5TJ3rZn",
        "colab_type": "text"
      },
      "source": [
        "## Prevendo o Preço da Pizza\n",
        "**Suponha que você queira prever o preço da pizza. Para isso, vamos criar um modelo de regressão linear para prever o preço da pizza, baseado em um atributo da pizza que podemos observar. Vamos modelar a relação entre o tamanho (diâmetro) de uma pizza e seu preço. Escreveremos então um programa com sckit-learn, que prevê o preço da pizza dado seu tamanho.\n",
        "Como queremos prever um valor numérico, a regressão é o indicado para este tipo de problema**\n",
        "\n",
        "---\n",
        "Obs 1: O conjunto de técnicas de regressão é muito provavelmente um dos modelos mais simples utilizados em análises de dados que procuram entender a relação do comportamento em determinado fenômeno e comportamento de uma ou mais variáveis potencialmente preditoras, sem que haja, entretanto uma obrigatória relação de causa e efeito.\n",
        "\n",
        "---\n",
        "Obs 2: É fundamental que o pesquisador seja muito cuidadoso e criterioso ao interpretar os resultados de uma modelagem de regressão.\n",
        "A existência de um modelo de regressão não significa que ocorra, obrigatóriamente, relação de causa e efeito entre variáveis consideradas/"
      ]
    },
    {
      "cell_type": "code",
      "metadata": {
        "id": "mlH6g5id2ayo",
        "colab_type": "code",
        "colab": {}
      },
      "source": [
        "# Import Matplotlib and Numpy\n",
        "import matplotlib.pyplot as plt\n",
        "import numpy as np\n",
        "import pandas as pd\n",
        "%matplotlib inline"
      ],
      "execution_count": 0,
      "outputs": []
    },
    {
      "cell_type": "markdown",
      "metadata": {
        "id": "325AQLfADPW5",
        "colab_type": "text"
      },
      "source": [
        "## Let's assume that you registered the price of the pizzas that you have in last months with your family."
      ]
    },
    {
      "cell_type": "code",
      "metadata": {
        "id": "ctotNJcpC32K",
        "colab_type": "code",
        "outputId": "18c891bb-6146-4f97-c6da-87723f43fef0",
        "colab": {
          "base_uri": "https://localhost:8080/",
          "height": 204
        }
      },
      "source": [
        "my_pizzas = {\n",
        "    'Diameter (cm)': [7,10,15,30,45],\n",
        "    'Price (R$)': [8,11,16,38.5,52]\n",
        "}\n",
        "\n",
        "df = pd.DataFrame(my_pizzas)\n",
        "\n",
        "df"
      ],
      "execution_count": 2,
      "outputs": [
        {
          "output_type": "execute_result",
          "data": {
            "text/html": [
              "<div>\n",
              "<style scoped>\n",
              "    .dataframe tbody tr th:only-of-type {\n",
              "        vertical-align: middle;\n",
              "    }\n",
              "\n",
              "    .dataframe tbody tr th {\n",
              "        vertical-align: top;\n",
              "    }\n",
              "\n",
              "    .dataframe thead th {\n",
              "        text-align: right;\n",
              "    }\n",
              "</style>\n",
              "<table border=\"1\" class=\"dataframe\">\n",
              "  <thead>\n",
              "    <tr style=\"text-align: right;\">\n",
              "      <th></th>\n",
              "      <th>Diameter (cm)</th>\n",
              "      <th>Price (R$)</th>\n",
              "    </tr>\n",
              "  </thead>\n",
              "  <tbody>\n",
              "    <tr>\n",
              "      <th>0</th>\n",
              "      <td>7</td>\n",
              "      <td>8.0</td>\n",
              "    </tr>\n",
              "    <tr>\n",
              "      <th>1</th>\n",
              "      <td>10</td>\n",
              "      <td>11.0</td>\n",
              "    </tr>\n",
              "    <tr>\n",
              "      <th>2</th>\n",
              "      <td>15</td>\n",
              "      <td>16.0</td>\n",
              "    </tr>\n",
              "    <tr>\n",
              "      <th>3</th>\n",
              "      <td>30</td>\n",
              "      <td>38.5</td>\n",
              "    </tr>\n",
              "    <tr>\n",
              "      <th>4</th>\n",
              "      <td>45</td>\n",
              "      <td>52.0</td>\n",
              "    </tr>\n",
              "  </tbody>\n",
              "</table>\n",
              "</div>"
            ],
            "text/plain": [
              "   Diameter (cm)  Price (R$)\n",
              "0              7         8.0\n",
              "1             10        11.0\n",
              "2             15        16.0\n",
              "3             30        38.5\n",
              "4             45        52.0"
            ]
          },
          "metadata": {
            "tags": []
          },
          "execution_count": 2
        }
      ]
    },
    {
      "cell_type": "markdown",
      "metadata": {
        "id": "cquPjDZUFZ-t",
        "colab_type": "text"
      },
      "source": [
        "## We will do a little exploratory analysis"
      ]
    },
    {
      "cell_type": "code",
      "metadata": {
        "id": "C0qjv1SHE_nF",
        "colab_type": "code",
        "outputId": "cf9b413b-60a0-45f2-8487-92c20283fd1d",
        "colab": {
          "base_uri": "https://localhost:8080/",
          "height": 295
        }
      },
      "source": [
        "plt.figure()\n",
        "plt.xlabel('Diameter (cm)')\n",
        "plt.ylabel('Price (R$)')\n",
        "plt.title('Diameter vs Price')\n",
        "plt.plot(df['Diameter (cm)'],df['Price (R$)'],'k.')\n",
        "plt.axis([0,60,0,60])\n",
        "plt.grid(True)\n",
        "plt.show()"
      ],
      "execution_count": 3,
      "outputs": [
        {
          "output_type": "display_data",
          "data": {
            "image/png": "[encoded data removed]",
            "text/plain": [
              "<Figure size 432x288 with 1 Axes>"
            ]
          },
          "metadata": {
            "tags": []
          }
        }
      ]
    },
    {
      "cell_type": "markdown",
      "metadata": {
        "id": "06AhGXA28q2T",
        "colab_type": "text"
      },
      "source": [
        "According to the chart, we can see a positive relation between the diameter and price, what is confirmed by the experience to have a pizza with your family. As the diameter increases, the price increases too.\n",
        "\n",
        "It does not mean necessarily a relation of cause and effect, the price could increase due to other factors."
      ]
    },
    {
      "cell_type": "markdown",
      "metadata": {
        "id": "GRH23kOZ-_nQ",
        "colab_type": "text"
      },
      "source": [
        "### Now let's model the relation using linear regression and create a model to predict the price's pizza.\n",
        "\n",
        "### The class sklearn.linear_model.LinearRegression is a estimator. The estimator predicts a value based on the observed data. In Scikit-Learn, all estimators implements the methods ```fit()``` and ```predict()```. The method ```fit()``` is used to learn about the model's parameters and the method ```predict()``` is used do predict a value's of a dependent variable in relation to another explanatory variable using the learned parameters.\n",
        "\n"
      ]
    },
    {
      "cell_type": "code",
      "metadata": {
        "id": "biBuRY33Gckp",
        "colab_type": "code",
        "colab": {}
      },
      "source": [
        "# Import the Regression Linear module from Scikit-Learn\n",
        "from sklearn.linear_model import LinearRegression"
      ],
      "execution_count": 0,
      "outputs": []
    },
    {
      "cell_type": "code",
      "metadata": {
        "id": "fQPtWv3hBwwM",
        "colab_type": "code",
        "colab": {}
      },
      "source": [
        "# Prepare the data to train\n",
        "\n",
        "# Let's call X the diameter data\n",
        "x = [[7],[10],[15],[30],[45]]\n",
        "\n",
        "# And let's call Y the price data\n",
        "y = [[8],[11],[16],[38.5],[52]]"
      ],
      "execution_count": 0,
      "outputs": []
    },
    {
      "cell_type": "code",
      "metadata": {
        "id": "olBqJ7OZFBTM",
        "colab_type": "code",
        "colab": {}
      },
      "source": [
        "# Create the model\n",
        "model = LinearRegression()"
      ],
      "execution_count": 0,
      "outputs": []
    },
    {
      "cell_type": "code",
      "metadata": {
        "id": "7_A72-NrFG_3",
        "colab_type": "code",
        "outputId": "fb195b32-d9e7-42da-c290-7f8c946f8f55",
        "colab": {
          "base_uri": "https://localhost:8080/",
          "height": 34
        }
      },
      "source": [
        "type(model)"
      ],
      "execution_count": 7,
      "outputs": [
        {
          "output_type": "execute_result",
          "data": {
            "text/plain": [
              "sklearn.linear_model._base.LinearRegression"
            ]
          },
          "metadata": {
            "tags": []
          },
          "execution_count": 7
        }
      ]
    },
    {
      "cell_type": "code",
      "metadata": {
        "id": "F9YF1yX0FJQZ",
        "colab_type": "code",
        "outputId": "e31449e2-990c-40ad-8e10-ad535f1c4f0b",
        "colab": {
          "base_uri": "https://localhost:8080/",
          "height": 34
        }
      },
      "source": [
        "# Train model\n",
        "model.fit(x,y)"
      ],
      "execution_count": 8,
      "outputs": [
        {
          "output_type": "execute_result",
          "data": {
            "text/plain": [
              "LinearRegression(copy_X=True, fit_intercept=True, n_jobs=None, normalize=False)"
            ]
          },
          "metadata": {
            "tags": []
          },
          "execution_count": 8
        }
      ]
    },
    {
      "cell_type": "code",
      "metadata": {
        "id": "eX3g_hzuFhd6",
        "colab_type": "code",
        "outputId": "f8ec6d03-cc03-4cf2-934c-168dd459ba95",
        "colab": {
          "base_uri": "https://localhost:8080/",
          "height": 34
        }
      },
      "source": [
        "# Predict the price of a pizza with 20cm in diameter\n",
        "# The model never calculates a pizza with 20cm\n",
        "# The predict will be based on trained data\n",
        "print('The pizza with 20cm in diameter should cost: R$ %.2f' % model.predict([[20]]))"
      ],
      "execution_count": 9,
      "outputs": [
        {
          "output_type": "stream",
          "text": [
            "The pizza with 20cm in diameter should cost: R$ 23.41\n"
          ],
          "name": "stdout"
        }
      ]
    },
    {
      "cell_type": "markdown",
      "metadata": {
        "id": "4kEbtE2HJJlx",
        "colab_type": "text"
      },
      "source": [
        "This happen because the model calculates the mathematical relation between diameter and price.\n",
        "\n",
        "It's the simple regression formula, the model only replace the the parameters in the formula bellow.\n",
        "\n",
        "$y=\\alpha+\\beta x$\n",
        "\n",
        "Y - Is a predict value of the dependent variable (In our example, is pizza's value)\n",
        "X - Is a explanatory variable (In our example, is pizza's diameter)\n",
        "\n",
        "**Alpha** is the interception or linear coefficient.\n",
        "\n",
        "**Beta** is the coefficient from each variable or angular coefficient.\n",
        "\n",
        "Alpha and Beta are parameters that are calculated by the model.\n"
      ]
    },
    {
      "cell_type": "markdown",
      "metadata": {
        "id": "yrSfB4LzYxMG",
        "colab_type": "text"
      },
      "source": [
        "## Create a Scatter Plot"
      ]
    },
    {
      "cell_type": "code",
      "metadata": {
        "id": "bmB8dqMdHJbA",
        "colab_type": "code",
        "colab": {
          "base_uri": "https://localhost:8080/",
          "height": 85
        },
        "outputId": "5c8ce08d-47a5-47c0-90cc-a78339ff3b80"
      },
      "source": [
        "# Coefficients\n",
        "print('Coefficient: \\n', model.coef_)\n",
        "\n",
        "# MSE (Mean Square Error)\n",
        "print('MSE: %.2f' % np.mean((model.predict(x) - y) ** 2))\n",
        "\n",
        "# Score of the variation: 1 means the perfect prediction\n",
        "print('Score of variation: %.2f' % model.score(x,y))"
      ],
      "execution_count": 12,
      "outputs": [
        {
          "output_type": "stream",
          "text": [
            "Coefficient: \n",
            " [[1.20422117]]\n",
            "MSE: 2.74\n",
            "Score of variation: 0.99\n"
          ],
          "name": "stdout"
        }
      ]
    },
    {
      "cell_type": "code",
      "metadata": {
        "id": "Tg_IdAJNbjxA",
        "colab_type": "code",
        "colab": {
          "base_uri": "https://localhost:8080/",
          "height": 262
        },
        "outputId": "36c6b2f9-0a0c-4380-d6b4-b09de3806b67"
      },
      "source": [
        "# Scatter plot showing the linear regression\n",
        "plt.scatter(x,y, color='black')\n",
        "plt.plot(x, model.predict(x), color='blue',linewidth=3)\n",
        "plt.xlabel('X')\n",
        "plt.ylabel('Y')\n",
        "plt.xticks(())\n",
        "plt.yticks(())\n",
        "\n",
        "plt.show()"
      ],
      "execution_count": 15,
      "outputs": [
        {
          "output_type": "display_data",
          "data": {
            "image/png": "[encoded data removed]",
            "text/plain": [
              "<Figure size 432x288 with 1 Axes>"
            ]
          },
          "metadata": {
            "tags": []
          }
        }
      ]
    },
    {
      "cell_type": "markdown",
      "metadata": {
        "id": "nZgLl_-7cZMR",
        "colab_type": "text"
      },
      "source": [
        "The blue line represents the predict values."
      ]
    }
  ]
}