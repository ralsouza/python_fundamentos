{
  "nbformat": 4,
  "nbformat_minor": 0,
  "metadata": {
    "colab": {
      "name": "19_StatsModel.ipynb",
      "provenance": [],
      "collapsed_sections": [],
      "authorship_tag": "ABX9TyNb32FEBEcfYUnQrAjfviOL",
      "include_colab_link": true
    },
    "kernelspec": {
      "name": "python3",
      "display_name": "Python 3"
    }
  },
  "cells": [
    {
      "cell_type": "markdown",
      "metadata": {
        "id": "view-in-github",
        "colab_type": "text"
      },
      "source": [
        "<a href=\"https://colab.research.google.com/github/ralsouza/python_fundamentos/blob/master/src/06_Modulos_Analise_de_Dados/19_StatsModel.ipynb\" target=\"_parent\"><img src=\"https://colab.research.google.com/assets/colab-badge.svg\" alt=\"Open In Colab\"/></a>"
      ]
    },
    {
      "cell_type": "markdown",
      "metadata": {
        "id": "0L5eVOrXASKn",
        "colab_type": "text"
      },
      "source": [
        "## StatisModel \n",
        "Is a Python module that provides classes and functions for the estimation of many different statistical models, as well as for conducting statistical tests, and statistical data exploration\n",
        "\n",
        "[www.statsmodels.org](http://www.statsmodels.org)"
      ]
    },
    {
      "cell_type": "markdown",
      "metadata": {
        "id": "oOrxRTwRINzx",
        "colab_type": "text"
      },
      "source": [
        "## Linear Regression Models"
      ]
    },
    {
      "cell_type": "code",
      "metadata": {
        "id": "jnAFxjiNDxu7",
        "colab_type": "code",
        "colab": {}
      },
      "source": [
        "# To data visualization \n",
        "from pylab import *\n",
        "%matplotlib inline"
      ],
      "execution_count": 0,
      "outputs": []
    },
    {
      "cell_type": "code",
      "metadata": {
        "id": "m1uqdlP9IYYh",
        "colab_type": "code",
        "colab": {}
      },
      "source": [
        "import numpy as np\n",
        "import pandas as pd\n",
        "import statsmodels.api as sm\n",
        "from statsmodels.sandbox.regression.predstd import wls_prediction_std\n",
        "np.random.seed(9876789)"
      ],
      "execution_count": 0,
      "outputs": []
    },
    {
      "cell_type": "code",
      "metadata": {
        "id": "GeKPO-eIIy78",
        "colab_type": "code",
        "colab": {}
      },
      "source": [
        "# Create artificial data\n",
        "nsample = 100\n",
        "x = np.linspace(0,10,100)\n",
        "X = np.column_stack((x,x**2))\n",
        "beta = np.array([1, 0.1, 10])\n",
        "e = np.random.normal(size=nsample)"
      ],
      "execution_count": 0,
      "outputs": []
    },
    {
      "cell_type": "code",
      "metadata": {
        "id": "qcGjPloGJddW",
        "colab_type": "code",
        "colab": {}
      },
      "source": [
        "X = sm.add_constant(X)\n",
        "y = np.dot(X, beta) + e"
      ],
      "execution_count": 0,
      "outputs": []
    },
    {
      "cell_type": "code",
      "metadata": {
        "id": "gTeS36tjJtvX",
        "colab_type": "code",
        "colab": {
          "base_uri": "https://localhost:8080/",
          "height": 449
        },
        "outputId": "c625a7a8-1822-4cc3-9edf-fd73a1a1af09"
      },
      "source": [
        "model = sm.OLS(y,x)\n",
        "results = model.fit()\n",
        "print(results.summary())"
      ],
      "execution_count": 16,
      "outputs": [
        {
          "output_type": "stream",
          "text": [
            "                                 OLS Regression Results                                \n",
            "=======================================================================================\n",
            "Dep. Variable:                      y   R-squared (uncentered):                   0.938\n",
            "Model:                            OLS   Adj. R-squared (uncentered):              0.938\n",
            "Method:                 Least Squares   F-statistic:                              1505.\n",
            "Date:                Thu, 06 Feb 2020   Prob (F-statistic):                    1.12e-61\n",
            "Time:                        01:40:42   Log-Likelihood:                         -613.98\n",
            "No. Observations:                 100   AIC:                                      1230.\n",
            "Df Residuals:                      99   BIC:                                      1233.\n",
            "Df Model:                           1                                                  \n",
            "Covariance Type:            nonrobust                                                  \n",
            "==============================================================================\n",
            "                 coef    std err          t      P>|t|      [0.025      0.975]\n",
            "------------------------------------------------------------------------------\n",
            "x1            75.6143      1.949     38.790      0.000      71.746      79.482\n",
            "==============================================================================\n",
            "Omnibus:                       18.608   Durbin-Watson:                   0.003\n",
            "Prob(Omnibus):                  0.000   Jarque-Bera (JB):               22.939\n",
            "Skew:                           1.161   Prob(JB):                     1.04e-05\n",
            "Kurtosis:                       3.336   Cond. No.                         1.00\n",
            "==============================================================================\n",
            "\n",
            "Warnings:\n",
            "[1] Standard Errors assume that the covariance matrix of the errors is correctly specified.\n"
          ],
          "name": "stdout"
        }
      ]
    },
    {
      "cell_type": "code",
      "metadata": {
        "id": "6-FQWn0aKAvW",
        "colab_type": "code",
        "colab": {
          "base_uri": "https://localhost:8080/",
          "height": 503
        },
        "outputId": "265294ba-df74-4d34-a543-7953ef8e13d9"
      },
      "source": [
        "nsample = 50\n",
        "sig = 0.5\n",
        "x = np.linspace(0, 20, nsample)\n",
        "X = np.column_stack((x, np.sin(x), (x-5)**2, np.ones(nsample)))\n",
        "beta = [0.5, 0.5, -0.02, 5.]\n",
        "\n",
        "y_true = np.dot(X, beta)\n",
        "y = y_true + sig * np.random.normal(size=nsample)\n",
        "\n",
        "res = sm.OLS(y, X).fit()\n",
        "print(res.summary())"
      ],
      "execution_count": 18,
      "outputs": [
        {
          "output_type": "stream",
          "text": [
            "                            OLS Regression Results                            \n",
            "==============================================================================\n",
            "Dep. Variable:                      y   R-squared:                       0.933\n",
            "Model:                            OLS   Adj. R-squared:                  0.928\n",
            "Method:                 Least Squares   F-statistic:                     211.8\n",
            "Date:                Thu, 06 Feb 2020   Prob (F-statistic):           6.30e-27\n",
            "Time:                        01:43:41   Log-Likelihood:                -34.438\n",
            "No. Observations:                  50   AIC:                             76.88\n",
            "Df Residuals:                      46   BIC:                             84.52\n",
            "Df Model:                           3                                         \n",
            "Covariance Type:            nonrobust                                         \n",
            "==============================================================================\n",
            "                 coef    std err          t      P>|t|      [0.025      0.975]\n",
            "------------------------------------------------------------------------------\n",
            "x1             0.4687      0.026     17.751      0.000       0.416       0.522\n",
            "x2             0.4836      0.104      4.659      0.000       0.275       0.693\n",
            "x3            -0.0174      0.002     -7.507      0.000      -0.022      -0.013\n",
            "const          5.2058      0.171     30.405      0.000       4.861       5.550\n",
            "==============================================================================\n",
            "Omnibus:                        0.655   Durbin-Watson:                   2.896\n",
            "Prob(Omnibus):                  0.721   Jarque-Bera (JB):                0.360\n",
            "Skew:                           0.207   Prob(JB):                        0.835\n",
            "Kurtosis:                       3.026   Cond. No.                         221.\n",
            "==============================================================================\n",
            "\n",
            "Warnings:\n",
            "[1] Standard Errors assume that the covariance matrix of the errors is correctly specified.\n"
          ],
          "name": "stdout"
        }
      ]
    },
    {
      "cell_type": "code",
      "metadata": {
        "id": "a3V_a9XvKeYZ",
        "colab_type": "code",
        "colab": {
          "base_uri": "https://localhost:8080/",
          "height": 215
        },
        "outputId": "04271501-af82-41fc-f056-c81c681f60f6"
      },
      "source": [
        "print('Parameters: ', res.params)\n",
        "print('Standard errors: ', res.bse)\n",
        "print('Predicted values: ', res.predict())"
      ],
      "execution_count": 19,
      "outputs": [
        {
          "output_type": "stream",
          "text": [
            "Parameters:  [ 0.46872448  0.48360119 -0.01740479  5.20584496]\n",
            "Standard errors:  [0.02640602 0.10380518 0.00231847 0.17121765]\n",
            "Predicted values:  [ 4.77072516  5.22213464  5.63620761  5.98658823  6.25643234  6.44117491\n",
            "  6.54928009  6.60085051  6.62432454  6.6518039   6.71377946  6.83412169\n",
            "  7.02615877  7.29048685  7.61487206  7.97626054  8.34456611  8.68761335\n",
            "  8.97642389  9.18997755  9.31866582  9.36587056  9.34740836  9.28893189\n",
            "  9.22171529  9.17751587  9.1833565   9.25708583  9.40444579  9.61812821\n",
            "  9.87897556 10.15912843 10.42660281 10.65054491 10.8063004  10.87946503\n",
            " 10.86825119 10.78378163 10.64826203 10.49133265 10.34519853 10.23933827\n",
            " 10.19566084 10.22490593 10.32487947 10.48081414 10.66779556 10.85485568\n",
            " 11.01006072 11.10575781]\n"
          ],
          "name": "stdout"
        }
      ]
    },
    {
      "cell_type": "code",
      "metadata": {
        "id": "CyJ35mB4KvVv",
        "colab_type": "code",
        "colab": {
          "base_uri": "https://localhost:8080/",
          "height": 392
        },
        "outputId": "f5619aba-3e08-424d-e38b-e6b7a423b4a7"
      },
      "source": [
        "prstd, iv_l, iv_u = wls_prediction_std(res)\n",
        "\n",
        "fig, ax = plt.subplots(figsize=(8,6))\n",
        "\n",
        "ax.plot(x, y, 'o', label=\"data\")\n",
        "ax.plot(x, y_true, 'b-', label=\"True\")\n",
        "ax.plot(x, res.fittedvalues, 'r--.', label=\"OLS\")\n",
        "ax.plot(x, iv_u, 'r--')\n",
        "ax.plot(x, iv_l, 'r--')\n",
        "ax.legend(loc='best')"
      ],
      "execution_count": 20,
      "outputs": [
        {
          "output_type": "execute_result",
          "data": {
            "text/plain": [
              "<matplotlib.legend.Legend at 0x7f2a58cad7f0>"
            ]
          },
          "metadata": {
            "tags": []
          },
          "execution_count": 20
        },
        {
          "output_type": "display_data",
          "data": {
            "image/png": "[encoded data removed]",
            "text/plain": [
              "<Figure size 576x432 with 1 Axes>"
            ]
          },
          "metadata": {
            "tags": []
          }
        }
      ]
    }
  ]
}